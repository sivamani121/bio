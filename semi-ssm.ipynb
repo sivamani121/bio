{
 "cells": [
  {
   "cell_type": "code",
   "execution_count": 1,
   "id": "25504b9d",
   "metadata": {
    "execution": {
     "iopub.execute_input": "2024-02-28T18:30:55.610737Z",
     "iopub.status.busy": "2024-02-28T18:30:55.610309Z",
     "iopub.status.idle": "2024-02-28T18:30:55.614865Z",
     "shell.execute_reply": "2024-02-28T18:30:55.614093Z"
    },
    "papermill": {
     "duration": 0.018432,
     "end_time": "2024-02-28T18:30:55.616726",
     "exception": false,
     "start_time": "2024-02-28T18:30:55.598294",
     "status": "completed"
    },
    "tags": []
   },
   "outputs": [],
   "source": [
    "# !pip install torch"
   ]
  },
  {
   "cell_type": "code",
   "execution_count": 2,
   "id": "47165334",
   "metadata": {
    "_cell_guid": "b1076dfc-b9ad-4769-8c92-a6c4dae69d19",
    "_uuid": "8f2839f25d086af736a60e9eeb907d3b93b6e0e5",
    "execution": {
     "iopub.execute_input": "2024-02-28T18:30:55.636740Z",
     "iopub.status.busy": "2024-02-28T18:30:55.636490Z",
     "iopub.status.idle": "2024-02-28T18:30:59.198826Z",
     "shell.execute_reply": "2024-02-28T18:30:59.197987Z"
    },
    "papermill": {
     "duration": 3.574826,
     "end_time": "2024-02-28T18:30:59.201112",
     "exception": false,
     "start_time": "2024-02-28T18:30:55.626286",
     "status": "completed"
    },
    "tags": []
   },
   "outputs": [],
   "source": [
    "# Regular imports\n",
    "import matplotlib.pyplot as plt\n",
    "import torch\n",
    "\n",
    "from torch import nn"
   ]
  },
  {
   "cell_type": "code",
   "execution_count": 3,
   "id": "5295bab5",
   "metadata": {
    "execution": {
     "iopub.execute_input": "2024-02-28T18:30:59.221790Z",
     "iopub.status.busy": "2024-02-28T18:30:59.221163Z",
     "iopub.status.idle": "2024-02-28T18:30:59.277745Z",
     "shell.execute_reply": "2024-02-28T18:30:59.276843Z"
    },
    "papermill": {
     "duration": 0.068862,
     "end_time": "2024-02-28T18:30:59.279718",
     "exception": false,
     "start_time": "2024-02-28T18:30:59.210856",
     "status": "completed"
    },
    "tags": []
   },
   "outputs": [
    {
     "data": {
      "text/plain": [
       "'cuda'"
      ]
     },
     "execution_count": 3,
     "metadata": {},
     "output_type": "execute_result"
    }
   ],
   "source": [
    "device = \"cuda\" if torch.cuda.is_available() else \"cpu\"\n",
    "device"
   ]
  },
  {
   "cell_type": "code",
   "execution_count": 4,
   "id": "e43f4030",
   "metadata": {
    "execution": {
     "iopub.execute_input": "2024-02-28T18:30:59.300174Z",
     "iopub.status.busy": "2024-02-28T18:30:59.299858Z",
     "iopub.status.idle": "2024-02-28T18:30:59.303944Z",
     "shell.execute_reply": "2024-02-28T18:30:59.303085Z"
    },
    "papermill": {
     "duration": 0.016439,
     "end_time": "2024-02-28T18:30:59.305944",
     "exception": false,
     "start_time": "2024-02-28T18:30:59.289505",
     "status": "completed"
    },
    "tags": []
   },
   "outputs": [],
   "source": [
    "data_path = \"/kaggle/input/majortry6/labeled_data.csv\""
   ]
  },
  {
   "cell_type": "code",
   "execution_count": 5,
   "id": "c573c442",
   "metadata": {
    "execution": {
     "iopub.execute_input": "2024-02-28T18:30:59.326493Z",
     "iopub.status.busy": "2024-02-28T18:30:59.325789Z",
     "iopub.status.idle": "2024-02-28T18:31:00.133827Z",
     "shell.execute_reply": "2024-02-28T18:31:00.132910Z"
    },
    "papermill": {
     "duration": 0.820585,
     "end_time": "2024-02-28T18:31:00.136079",
     "exception": false,
     "start_time": "2024-02-28T18:30:59.315494",
     "status": "completed"
    },
    "tags": []
   },
   "outputs": [
    {
     "name": "stdout",
     "output_type": "stream",
     "text": [
      "Index(['Unnamed: 0', 'count', 'hate_speech', 'offensive_language', 'neither',\n",
      "       'class', 'tweet'],\n",
      "      dtype='object')\n"
     ]
    }
   ],
   "source": [
    "import numpy as np\n",
    "import pickle\n",
    "import pandas as pd\n",
    "pd.options.mode.copy_on_write = True\n",
    "\n",
    "data = pd.read_csv(data_path)\n",
    "df = pd.DataFrame(data)\n",
    "print(df.columns)\n",
    "df.columns = ['Unnamed: 0', 'count', 'hate_speech', 'offensive_language', 'neither',\n",
    "       'classk', 'tweet']"
   ]
  },
  {
   "cell_type": "code",
   "execution_count": 6,
   "id": "6ea513d9",
   "metadata": {
    "execution": {
     "iopub.execute_input": "2024-02-28T18:31:00.157094Z",
     "iopub.status.busy": "2024-02-28T18:31:00.156803Z",
     "iopub.status.idle": "2024-02-28T18:31:00.168124Z",
     "shell.execute_reply": "2024-02-28T18:31:00.167448Z"
    },
    "papermill": {
     "duration": 0.023867,
     "end_time": "2024-02-28T18:31:00.170034",
     "exception": false,
     "start_time": "2024-02-28T18:31:00.146167",
     "status": "completed"
    },
    "tags": []
   },
   "outputs": [],
   "source": [
    "df[\"classk\"] = df[\"classk\"].map({2:1, 1:0, 0:0}) \n",
    "# label = 0 = hate\n",
    "# label = 1 = not_hate"
   ]
  },
  {
   "cell_type": "code",
   "execution_count": 7,
   "id": "fbf03a5a",
   "metadata": {
    "execution": {
     "iopub.execute_input": "2024-02-28T18:31:00.191286Z",
     "iopub.status.busy": "2024-02-28T18:31:00.191010Z",
     "iopub.status.idle": "2024-02-28T18:31:00.333001Z",
     "shell.execute_reply": "2024-02-28T18:31:00.332038Z"
    },
    "papermill": {
     "duration": 0.154463,
     "end_time": "2024-02-28T18:31:00.335113",
     "exception": false,
     "start_time": "2024-02-28T18:31:00.180650",
     "status": "completed"
    },
    "tags": []
   },
   "outputs": [],
   "source": [
    "tweets = df.tweet\n",
    "res = []\n",
    "\n",
    "for i in range(len(tweets)):\n",
    "    splitt = tweets[i].split(\":\")\n",
    "    if len(splitt) == 1:\n",
    "        res.append(splitt[0])\n",
    "    else:\n",
    "        res.append(splitt[-1])\n",
    "        \n",
    "tweets = res\n",
    "\n",
    "# print(tweets)"
   ]
  },
  {
   "cell_type": "code",
   "execution_count": 8,
   "id": "4d3c4965",
   "metadata": {
    "execution": {
     "iopub.execute_input": "2024-02-28T18:31:00.355884Z",
     "iopub.status.busy": "2024-02-28T18:31:00.355521Z",
     "iopub.status.idle": "2024-02-28T18:31:00.361568Z",
     "shell.execute_reply": "2024-02-28T18:31:00.360183Z"
    },
    "papermill": {
     "duration": 0.019329,
     "end_time": "2024-02-28T18:31:00.364304",
     "exception": false,
     "start_time": "2024-02-28T18:31:00.344975",
     "status": "completed"
    },
    "tags": []
   },
   "outputs": [],
   "source": [
    "hate_words = ['Moist', 'Cunt', 'Panties', 'Fuck', 'Hate', 'Nigger', 'Pussy', 'Ass', 'Motherfucker', 'Bitch', 'Damn']\n",
    "not_hate_words = ['Love', 'Peace', 'Kindness', 'Happiness', 'Respect', 'Friendship',\n",
    "'Appreciation', 'Hope', 'Encouragement', 'Support', 'Caring']"
   ]
  },
  {
   "cell_type": "code",
   "execution_count": 9,
   "id": "7e6585bb",
   "metadata": {
    "execution": {
     "iopub.execute_input": "2024-02-28T18:31:00.389691Z",
     "iopub.status.busy": "2024-02-28T18:31:00.389363Z",
     "iopub.status.idle": "2024-02-28T18:31:05.244846Z",
     "shell.execute_reply": "2024-02-28T18:31:05.243831Z"
    },
    "papermill": {
     "duration": 4.869553,
     "end_time": "2024-02-28T18:31:05.247004",
     "exception": false,
     "start_time": "2024-02-28T18:31:00.377451",
     "status": "completed"
    },
    "tags": []
   },
   "outputs": [
    {
     "data": {
      "application/vnd.jupyter.widget-view+json": {
       "model_id": "6914da2ccf2c452b99188606949f0d5e",
       "version_major": 2,
       "version_minor": 0
      },
      "text/plain": [
       "tokenizer_config.json:   0%|          | 0.00/48.0 [00:00<?, ?B/s]"
      ]
     },
     "metadata": {},
     "output_type": "display_data"
    },
    {
     "data": {
      "application/vnd.jupyter.widget-view+json": {
       "model_id": "f311aa59e3d6413ba8fbcb5f85f3c417",
       "version_major": 2,
       "version_minor": 0
      },
      "text/plain": [
       "config.json:   0%|          | 0.00/570 [00:00<?, ?B/s]"
      ]
     },
     "metadata": {},
     "output_type": "display_data"
    },
    {
     "data": {
      "application/vnd.jupyter.widget-view+json": {
       "model_id": "f7cf190284bd4bf7a8890d8af5e4608c",
       "version_major": 2,
       "version_minor": 0
      },
      "text/plain": [
       "vocab.txt:   0%|          | 0.00/232k [00:00<?, ?B/s]"
      ]
     },
     "metadata": {},
     "output_type": "display_data"
    },
    {
     "data": {
      "application/vnd.jupyter.widget-view+json": {
       "model_id": "43a83319f279466aae03f63290ebd10d",
       "version_major": 2,
       "version_minor": 0
      },
      "text/plain": [
       "tokenizer.json:   0%|          | 0.00/466k [00:00<?, ?B/s]"
      ]
     },
     "metadata": {},
     "output_type": "display_data"
    },
    {
     "data": {
      "text/plain": [
       "{'input_ids': [101, 1045, 2293, 20421, 102], 'token_type_ids': [0, 0, 0, 0, 0], 'attention_mask': [1, 1, 1, 1, 1]}"
      ]
     },
     "execution_count": 9,
     "metadata": {},
     "output_type": "execute_result"
    }
   ],
   "source": [
    "\n",
    "from transformers import AutoTokenizer\n",
    "from transformers import BertModel\n",
    "\n",
    "tokenizer = AutoTokenizer.from_pretrained(\"bert-base-uncased\")\n",
    "\n",
    "tokenizer(\"I love Pokemon\")\n",
    "# # tokenizer.decode(tokenizer(\"I love Pokemon\")['input_ids'])\n",
    "# from transformers import BertTokenizer, BertForSequenceClassification\n",
    "# import torch\n",
    "# from torch.utils.data import DataLoader, TensorDataset\n",
    "\n",
    "# # Load pre-trained model and tokenizer\n",
    "# model = BertForSequenceClassification.from_pretrained('bert-base-uncased', num_labels=num_classes)\n",
    "# tokenizer = BertTokenizer.from_pretrained('bert-base-uncased')\n",
    "\n",
    "# # Tokenize and prepare data\n",
    "# input_texts = [\"your input sentences\"]\n",
    "# labels = [0, 1, ...]  # corresponding labels\n",
    "\n",
    "# tokenized_inputs = tokenizer(input_texts, truncation=True, padding=True, return_tensors=\"pt\")\n",
    "\n",
    "# # Create DataLoader\n",
    "# dataset = TensorDataset(tokenized_inputs['input_ids'], tokenized_inputs['attention_mask'], torch.tensor(labels))\n",
    "# dataloader = DataLoader(dataset, batch_size=batch_size, shuffle=True)\n",
    "\n",
    "# # Set up optimizer and loss function\n",
    "# optimizer = torch.optim.AdamW(model.parameters(), lr=learning_rate)\n",
    "# loss_fn = torch.nn.CrossEntropyLoss()\n",
    "\n",
    "# # Fine-tuning loop\n",
    "# for epoch in range(num_epochs):\n",
    "#     for batch in dataloader:\n",
    "#         inputs, attention_mask, target = batch\n",
    "#         outputs = model(inputs, attention_mask=attention_mask)\n",
    "#         loss = loss_fn(outputs.logits, target)\n",
    "        \n",
    "#         optimizer.zero_grad()\n",
    "#         loss.backward()\n",
    "#         optimizer.step()\n",
    "\n",
    "# # Evaluate on a test set\n",
    "# # (Prepare the test set similarly and use model.eval() before inference)\n"
   ]
  },
  {
   "cell_type": "code",
   "execution_count": 10,
   "id": "0ce4af24",
   "metadata": {
    "execution": {
     "iopub.execute_input": "2024-02-28T18:31:05.270842Z",
     "iopub.status.busy": "2024-02-28T18:31:05.270379Z",
     "iopub.status.idle": "2024-02-28T18:31:07.674912Z",
     "shell.execute_reply": "2024-02-28T18:31:07.673589Z"
    },
    "papermill": {
     "duration": 2.418776,
     "end_time": "2024-02-28T18:31:07.676936",
     "exception": false,
     "start_time": "2024-02-28T18:31:05.258160",
     "status": "completed"
    },
    "tags": []
   },
   "outputs": [
    {
     "data": {
      "application/vnd.jupyter.widget-view+json": {
       "model_id": "c48888d5f034446c8ed164b1fdf91cb6",
       "version_major": 2,
       "version_minor": 0
      },
      "text/plain": [
       "model.safetensors:   0%|          | 0.00/440M [00:00<?, ?B/s]"
      ]
     },
     "metadata": {},
     "output_type": "display_data"
    },
    {
     "name": "stdout",
     "output_type": "stream",
     "text": [
      "{'input_ids': tensor([[  101,  7592,  2026,  3899,  2003, 10140,   102]]), 'token_type_ids': tensor([[0, 0, 0, 0, 0, 0, 0]]), 'attention_mask': tensor([[1, 1, 1, 1, 1, 1, 1]])}\n",
      "7\n",
      "768\n",
      "768\n"
     ]
    }
   ],
   "source": [
    "model = BertModel.from_pretrained(\"bert-base-uncased\")\n",
    "\n",
    "inputs = tokenizer(\"Hello my dog is cute\", return_tensors=\"pt\")\n",
    "print(inputs)\n",
    "\n",
    "outputs = model(**inputs)\n",
    "\n",
    "print(len(outputs.last_hidden_state[0])) # => no. of tokens + [CLS] + [SEP]\n",
    "print(len(outputs.last_hidden_state[0][1])) # => hidden dim size\n",
    "print(len(outputs.last_hidden_state[0][2])) # => hidden dim size"
   ]
  },
  {
   "cell_type": "code",
   "execution_count": 11,
   "id": "ad732653",
   "metadata": {
    "execution": {
     "iopub.execute_input": "2024-02-28T18:31:07.699655Z",
     "iopub.status.busy": "2024-02-28T18:31:07.699323Z",
     "iopub.status.idle": "2024-02-28T18:31:08.673894Z",
     "shell.execute_reply": "2024-02-28T18:31:08.672910Z"
    },
    "papermill": {
     "duration": 0.988177,
     "end_time": "2024-02-28T18:31:08.676005",
     "exception": false,
     "start_time": "2024-02-28T18:31:07.687828",
     "status": "completed"
    },
    "tags": []
   },
   "outputs": [
    {
     "data": {
      "text/plain": [
       "True"
      ]
     },
     "execution_count": 11,
     "metadata": {},
     "output_type": "execute_result"
    }
   ],
   "source": [
    "temp = []\n",
    "model = BertModel.from_pretrained(\"bert-base-uncased\")\n",
    "\n",
    "for word in hate_words:\n",
    "    inputs = tokenizer(word, return_tensors=\"pt\")\n",
    "#     print(inputs)\n",
    "    outputs = model(**inputs)\n",
    "    outputs = torch.mean(outputs.last_hidden_state[0][1:len(outputs.last_hidden_state[0])], dim=0)\n",
    "    temp.append(outputs.tolist())\n",
    "\n",
    "# temp = temp[1:]\n",
    "# print(hate_space)\n",
    "# print(len(temp)) # => no. of words = no. of rows\n",
    "# print(len(temp[0])) # => no. of columns in each row = embedding vector size\n",
    "\n",
    "# hate_space = temp.clone().detach().requires_grad_(True)\n",
    "hate_space =torch.tensor(temp).to(device).requires_grad_()\n",
    "\n",
    "hate_space.is_leaf\n",
    "# hate_space\n",
    "# hate_space.requires_grad"
   ]
  },
  {
   "cell_type": "code",
   "execution_count": 12,
   "id": "1c60e124",
   "metadata": {
    "execution": {
     "iopub.execute_input": "2024-02-28T18:31:08.699114Z",
     "iopub.status.busy": "2024-02-28T18:31:08.698816Z",
     "iopub.status.idle": "2024-02-28T18:31:09.444960Z",
     "shell.execute_reply": "2024-02-28T18:31:09.443652Z"
    },
    "papermill": {
     "duration": 0.759885,
     "end_time": "2024-02-28T18:31:09.447049",
     "exception": false,
     "start_time": "2024-02-28T18:31:08.687164",
     "status": "completed"
    },
    "tags": []
   },
   "outputs": [
    {
     "name": "stdout",
     "output_type": "stream",
     "text": [
      "True\n"
     ]
    }
   ],
   "source": [
    "temp = []\n",
    "model = BertModel.from_pretrained(\"bert-base-uncased\")\n",
    "\n",
    "# with torch.no_grad():\n",
    "for word in not_hate_words:\n",
    "    inputs = tokenizer(word, return_tensors=\"pt\")\n",
    "#     print(inputs)\n",
    "    outputs = model(**inputs)\n",
    "    outputs = torch.mean(outputs.last_hidden_state[0][1:len(outputs.last_hidden_state[0])], dim=0)\n",
    "    temp.append(outputs.tolist())\n",
    "\n",
    "# temp = temp[1:]\n",
    "# print(hate_space)\n",
    "# print(len(temp)) # => no. of words = no. of rows\n",
    "# print(len(temp[0])) # => no. of columns in each row = embedding vector size\n",
    "\n",
    "\n",
    "not_hate_space = torch.tensor(temp).to(device).requires_grad_()\n",
    "\n",
    "print(not_hate_space.is_leaf)\n",
    "\n",
    "# not_hate_space\n",
    "# not_hate_space.requires_grad"
   ]
  },
  {
   "cell_type": "code",
   "execution_count": 13,
   "id": "2a16cd03",
   "metadata": {
    "execution": {
     "iopub.execute_input": "2024-02-28T18:31:09.470890Z",
     "iopub.status.busy": "2024-02-28T18:31:09.470584Z",
     "iopub.status.idle": "2024-02-28T18:31:09.482509Z",
     "shell.execute_reply": "2024-02-28T18:31:09.481642Z"
    },
    "papermill": {
     "duration": 0.02539,
     "end_time": "2024-02-28T18:31:09.484251",
     "exception": false,
     "start_time": "2024-02-28T18:31:09.458861",
     "status": "completed"
    },
    "tags": []
   },
   "outputs": [
    {
     "name": "stdout",
     "output_type": "stream",
     "text": [
      "torch.Size([4, 768, 23])\n"
     ]
    },
    {
     "data": {
      "text/plain": [
       "torch.Size([4, 11, 23])"
      ]
     },
     "execution_count": 13,
     "metadata": {},
     "output_type": "execute_result"
    }
   ],
   "source": [
    "# Trial matmul\n",
    "\n",
    "t1 = torch.randn(11, 768)\n",
    "t2 = torch.randn(4, 23, 768)\n",
    "\n",
    "print(torch.transpose(t2, 1, 2).shape)\n",
    "\n",
    "torch.matmul(t1, torch.transpose(t2, 1, 2)).shape"
   ]
  },
  {
   "cell_type": "code",
   "execution_count": 14,
   "id": "2484e345",
   "metadata": {
    "execution": {
     "iopub.execute_input": "2024-02-28T18:31:09.507230Z",
     "iopub.status.busy": "2024-02-28T18:31:09.506971Z",
     "iopub.status.idle": "2024-02-28T18:31:09.512659Z",
     "shell.execute_reply": "2024-02-28T18:31:09.511807Z"
    },
    "papermill": {
     "duration": 0.019091,
     "end_time": "2024-02-28T18:31:09.514499",
     "exception": false,
     "start_time": "2024-02-28T18:31:09.495408",
     "status": "completed"
    },
    "tags": []
   },
   "outputs": [],
   "source": [
    "class Custom_Dataset(torch.utils.data.Dataset):\n",
    "    \n",
    "    def __init__(self, data, labels):\n",
    "        self.data = data\n",
    "        self.labels = labels\n",
    "        \n",
    "    def __getitem__(self, index: int) -> (torch.Tensor, int): # => (X, y)\n",
    "        \n",
    "        X = self.data[index]\n",
    "        y = self.labels[index]\n",
    "\n",
    "        return (X, y)\n",
    "    \n",
    "    \n",
    "    def __len__(self) -> int:\n",
    "        \n",
    "        return len(self.data)"
   ]
  },
  {
   "cell_type": "code",
   "execution_count": 15,
   "id": "1a96e399",
   "metadata": {
    "execution": {
     "iopub.execute_input": "2024-02-28T18:31:09.537744Z",
     "iopub.status.busy": "2024-02-28T18:31:09.537072Z",
     "iopub.status.idle": "2024-02-28T18:31:10.627657Z",
     "shell.execute_reply": "2024-02-28T18:31:10.626699Z"
    },
    "papermill": {
     "duration": 1.104439,
     "end_time": "2024-02-28T18:31:10.629862",
     "exception": false,
     "start_time": "2024-02-28T18:31:09.525423",
     "status": "completed"
    },
    "tags": []
   },
   "outputs": [
    {
     "name": "stdout",
     "output_type": "stream",
     "text": [
      "19826 19826\n",
      "4957 4957\n"
     ]
    }
   ],
   "source": [
    "from sklearn.model_selection import train_test_split\n",
    "\n",
    "X_train, X_test, y_train, y_test = train_test_split(tweets, list(df.classk), test_size=0.2, shuffle=True)\n",
    "\n",
    "print(len(X_train), len(y_train))\n",
    "print(len(X_test), len(y_test))"
   ]
  },
  {
   "cell_type": "code",
   "execution_count": 16,
   "id": "2d922151",
   "metadata": {
    "execution": {
     "iopub.execute_input": "2024-02-28T18:31:10.655043Z",
     "iopub.status.busy": "2024-02-28T18:31:10.654530Z",
     "iopub.status.idle": "2024-02-28T18:31:10.660142Z",
     "shell.execute_reply": "2024-02-28T18:31:10.659308Z"
    },
    "papermill": {
     "duration": 0.020341,
     "end_time": "2024-02-28T18:31:10.662010",
     "exception": false,
     "start_time": "2024-02-28T18:31:10.641669",
     "status": "completed"
    },
    "tags": []
   },
   "outputs": [],
   "source": [
    "train_data = Custom_Dataset(data=X_train, labels=y_train)\n",
    "test_data = Custom_Dataset(data=X_test, labels=y_test)\n",
    "\n",
    "train_loader = torch.utils.data.DataLoader(dataset=train_data, batch_size=5, shuffle=True)\n",
    "test_loader = torch.utils.data.DataLoader(dataset=test_data, batch_size=1, shuffle=False)"
   ]
  },
  {
   "cell_type": "code",
   "execution_count": 17,
   "id": "3d258bc6",
   "metadata": {
    "execution": {
     "iopub.execute_input": "2024-02-28T18:31:10.685789Z",
     "iopub.status.busy": "2024-02-28T18:31:10.685216Z",
     "iopub.status.idle": "2024-02-28T18:31:10.691885Z",
     "shell.execute_reply": "2024-02-28T18:31:10.691012Z"
    },
    "papermill": {
     "duration": 0.020796,
     "end_time": "2024-02-28T18:31:10.693909",
     "exception": false,
     "start_time": "2024-02-28T18:31:10.673113",
     "status": "completed"
    },
    "tags": []
   },
   "outputs": [
    {
     "data": {
      "text/plain": [
       "[[-0.5802978135671393],\n",
       " [-0.111940953049384],\n",
       " [3.120319963212381e-05],\n",
       " [-0.4309275228783529],\n",
       " [0.35625580850130145],\n",
       " [0.0699453614819543],\n",
       " [0.42173486468192656],\n",
       " [0.692872812317141],\n",
       " [0.17590740660716953],\n",
       " [0.41641280748276666],\n",
       " [-0.5909710878445542]]"
      ]
     },
     "execution_count": 17,
     "metadata": {},
     "output_type": "execute_result"
    }
   ],
   "source": [
    "import random\n",
    "l=[[random.uniform(-1,1)] for i in range(11)]\n",
    "l"
   ]
  },
  {
   "cell_type": "code",
   "execution_count": 18,
   "id": "c05fa762",
   "metadata": {
    "execution": {
     "iopub.execute_input": "2024-02-28T18:31:10.717905Z",
     "iopub.status.busy": "2024-02-28T18:31:10.717653Z",
     "iopub.status.idle": "2024-02-28T18:31:10.723373Z",
     "shell.execute_reply": "2024-02-28T18:31:10.722437Z"
    },
    "papermill": {
     "duration": 0.019907,
     "end_time": "2024-02-28T18:31:10.725269",
     "exception": false,
     "start_time": "2024-02-28T18:31:10.705362",
     "status": "completed"
    },
    "tags": []
   },
   "outputs": [
    {
     "name": "stdout",
     "output_type": "stream",
     "text": [
      "cuda:0 True\n"
     ]
    }
   ],
   "source": [
    "# next(iter(test_loader)) \n",
    "tensor_shape = (11,1)\n",
    "hate_space_weights = torch.tensor(l).to(device).requires_grad_()\n",
    "not_hate_space_weights = torch.tensor(l).to(device).requires_grad_()\n",
    "\n",
    "print(hate_space_weights.device,not_hate_space_weights.is_leaf)"
   ]
  },
  {
   "cell_type": "code",
   "execution_count": 19,
   "id": "a18f1a7f",
   "metadata": {
    "execution": {
     "iopub.execute_input": "2024-02-28T18:31:10.749702Z",
     "iopub.status.busy": "2024-02-28T18:31:10.749434Z",
     "iopub.status.idle": "2024-02-28T18:31:10.755234Z",
     "shell.execute_reply": "2024-02-28T18:31:10.754320Z"
    },
    "papermill": {
     "duration": 0.020153,
     "end_time": "2024-02-28T18:31:10.757178",
     "exception": false,
     "start_time": "2024-02-28T18:31:10.737025",
     "status": "completed"
    },
    "tags": []
   },
   "outputs": [
    {
     "data": {
      "text/plain": [
       "True"
      ]
     },
     "execution_count": 19,
     "metadata": {},
     "output_type": "execute_result"
    }
   ],
   "source": [
    "hate_space_weights.is_leaf"
   ]
  },
  {
   "cell_type": "code",
   "execution_count": 20,
   "id": "29ffec4f",
   "metadata": {
    "execution": {
     "iopub.execute_input": "2024-02-28T18:31:10.781748Z",
     "iopub.status.busy": "2024-02-28T18:31:10.781460Z",
     "iopub.status.idle": "2024-02-28T18:31:10.791817Z",
     "shell.execute_reply": "2024-02-28T18:31:10.790811Z"
    },
    "papermill": {
     "duration": 0.024701,
     "end_time": "2024-02-28T18:31:10.793754",
     "exception": false,
     "start_time": "2024-02-28T18:31:10.769053",
     "status": "completed"
    },
    "tags": []
   },
   "outputs": [],
   "source": [
    "import torch.nn.functional as F\n",
    "\n",
    "class Model0(nn.Module):\n",
    "    \n",
    "    def __init__(self, model, tokenizer):\n",
    "        super().__init__()\n",
    "        self.tokenizer = tokenizer\n",
    "        self.model = model\n",
    "    \n",
    "    def forward(self, X):\n",
    "        inputs = tokenizer(X, return_tensors=\"pt\")\n",
    "        inputs.to(device)\n",
    "        outputs = self.model(**inputs)\n",
    "        outputs = outputs.last_hidden_state.mean(1).transpose(0,1)\n",
    "        col_norms = torch.norm(outputs, p=2, dim=0, keepdim=True)\n",
    "\n",
    "        outputs = outputs / col_norms\n",
    "        norm_hate_space = hate_space / torch.norm(hate_space, p=2, dim=1, keepdim=True)\n",
    "        norm_not_hate_space = not_hate_space / torch.norm(not_hate_space, p=2, dim=1, keepdim=True)\n",
    "        Psk_hate = torch.matmul(torch.matmul(norm_hate_space, outputs).transpose(0, 1), hate_space_weights)#.requires_grad_()\n",
    "        Psk_not_hate = torch.matmul(torch.matmul(norm_not_hate_space, outputs).transpose(0, 1), not_hate_space_weights)#.requires_grad_()\n",
    "\n",
    "        # Construct the output tensor with requires_grad=True\n",
    "        output_tensor = torch.tensor([Psk_hate, Psk_not_hate]).requires_grad_()\n",
    "        print(output_tensor.shape)\n",
    "        return output_tensor\n"
   ]
  },
  {
   "cell_type": "code",
   "execution_count": 21,
   "id": "deaaf67e",
   "metadata": {
    "execution": {
     "iopub.execute_input": "2024-02-28T18:31:10.818006Z",
     "iopub.status.busy": "2024-02-28T18:31:10.817692Z",
     "iopub.status.idle": "2024-02-28T18:31:10.821713Z",
     "shell.execute_reply": "2024-02-28T18:31:10.820936Z"
    },
    "papermill": {
     "duration": 0.01847,
     "end_time": "2024-02-28T18:31:10.823878",
     "exception": false,
     "start_time": "2024-02-28T18:31:10.805408",
     "status": "completed"
    },
    "tags": []
   },
   "outputs": [],
   "source": [
    "model0 = Model0(model, tokenizer)\n",
    "\n",
    "# X, y = next(iter(train_loader))\n",
    "# Psk_hate, Psk_not_hate = model0(X)"
   ]
  },
  {
   "cell_type": "markdown",
   "id": "52c3745a",
   "metadata": {
    "papermill": {
     "duration": 0.011151,
     "end_time": "2024-02-28T18:31:10.846630",
     "exception": false,
     "start_time": "2024-02-28T18:31:10.835479",
     "status": "completed"
    },
    "tags": []
   },
   "source": [
    "# Semi-SSM"
   ]
  },
  {
   "cell_type": "code",
   "execution_count": 22,
   "id": "dcb05068",
   "metadata": {
    "execution": {
     "iopub.execute_input": "2024-02-28T18:31:10.870833Z",
     "iopub.status.busy": "2024-02-28T18:31:10.870563Z",
     "iopub.status.idle": "2024-02-28T18:31:10.878199Z",
     "shell.execute_reply": "2024-02-28T18:31:10.877489Z"
    },
    "papermill": {
     "duration": 0.021815,
     "end_time": "2024-02-28T18:31:10.880016",
     "exception": false,
     "start_time": "2024-02-28T18:31:10.858201",
     "status": "completed"
    },
    "tags": []
   },
   "outputs": [],
   "source": [
    "def L_inter(spaces):\n",
    "    \n",
    "    means = [torch.mean(spaces[i]) for i in range(spaces.shape[0])]\n",
    "    \n",
    "    loss = torch.tensor(0.0, requires_grad=True)\n",
    "    \n",
    "    for k in range(len(means)):\n",
    "        cur = torch.tensor(0.0, requires_grad=True)\n",
    "        for l in range(len(means)):\n",
    "            if l == k:\n",
    "                continue\n",
    "            cur = cur + (1 / (1 - ((means[k] * means[l]))))\n",
    "        \n",
    "        loss = loss + cur\n",
    "    \n",
    "    return loss\n",
    "            \n",
    "            \n",
    "\n",
    "def L_intra(spaces):\n",
    "    loss=torch.tensor(0.0, requires_grad=True)\n",
    "    for k in range(len(spaces)):\n",
    "        loss=loss+1/torch.var(spaces[k], dim=0)\n",
    "    \n",
    "    return torch.sum(loss)/loss.shape[0]\n",
    "\n",
    "\n"
   ]
  },
  {
   "cell_type": "code",
   "execution_count": 23,
   "id": "36c8347b",
   "metadata": {
    "execution": {
     "iopub.execute_input": "2024-02-28T18:31:10.903681Z",
     "iopub.status.busy": "2024-02-28T18:31:10.903417Z",
     "iopub.status.idle": "2024-02-28T18:31:10.925400Z",
     "shell.execute_reply": "2024-02-28T18:31:10.924473Z"
    },
    "papermill": {
     "duration": 0.036048,
     "end_time": "2024-02-28T18:31:10.927487",
     "exception": false,
     "start_time": "2024-02-28T18:31:10.891439",
     "status": "completed"
    },
    "tags": []
   },
   "outputs": [
    {
     "data": {
      "text/plain": [
       "tensor(33.6994, grad_fn=<AddBackward0>)"
      ]
     },
     "execution_count": 23,
     "metadata": {},
     "output_type": "execute_result"
    }
   ],
   "source": [
    "L_inter(torch.concat((torch.tensor([[0.33, 0.54, 0.37], [0.72, 0.74, 0.31], [0.61, 0.26, 0.56]], dtype=torch.float32), \n",
    "       torch.tensor([[0.22, 0.32, 0.15], [0.12, -0.08, 0.45], [0.14, 0.28, -0.11]], dtype=torch.float32))))"
   ]
  },
  {
   "cell_type": "code",
   "execution_count": 24,
   "id": "1221bde3",
   "metadata": {
    "execution": {
     "iopub.execute_input": "2024-02-28T18:31:10.952688Z",
     "iopub.status.busy": "2024-02-28T18:31:10.952417Z",
     "iopub.status.idle": "2024-02-28T18:31:10.955903Z",
     "shell.execute_reply": "2024-02-28T18:31:10.955035Z"
    },
    "papermill": {
     "duration": 0.017998,
     "end_time": "2024-02-28T18:31:10.958070",
     "exception": false,
     "start_time": "2024-02-28T18:31:10.940072",
     "status": "completed"
    },
    "tags": []
   },
   "outputs": [],
   "source": [
    "# temp = torch.tensor(10.3, requires_grad=True)\n",
    "\n",
    "# temp"
   ]
  },
  {
   "cell_type": "code",
   "execution_count": 25,
   "id": "9747a0bc",
   "metadata": {
    "_kg_hide-input": true,
    "execution": {
     "iopub.execute_input": "2024-02-28T18:31:10.982879Z",
     "iopub.status.busy": "2024-02-28T18:31:10.982161Z",
     "iopub.status.idle": "2024-02-28T18:31:10.985924Z",
     "shell.execute_reply": "2024-02-28T18:31:10.985023Z"
    },
    "papermill": {
     "duration": 0.017981,
     "end_time": "2024-02-28T18:31:10.987791",
     "exception": false,
     "start_time": "2024-02-28T18:31:10.969810",
     "status": "completed"
    },
    "tags": []
   },
   "outputs": [],
   "source": [
    "# res = [temp, temp]\n",
    "\n",
    "# loss = 0\n",
    "\n",
    "# loss += res[0] * res[1]\n",
    "\n",
    "# loss"
   ]
  },
  {
   "cell_type": "markdown",
   "id": "5e462308",
   "metadata": {
    "papermill": {
     "duration": 0.011148,
     "end_time": "2024-02-28T18:31:11.010527",
     "exception": false,
     "start_time": "2024-02-28T18:31:10.999379",
     "status": "completed"
    },
    "tags": []
   },
   "source": [
    "input1 = torch.randn(100, 1)\n",
    "input2 = torch.randn(100, 1)\n",
    "cos = nn.CosineSimilarity(dim=1, eps=1e-6)\n",
    "output = cos(input1, input2)\n",
    "output"
   ]
  },
  {
   "cell_type": "code",
   "execution_count": null,
   "id": "5aedd92e",
   "metadata": {
    "papermill": {
     "duration": 0.011224,
     "end_time": "2024-02-28T18:31:11.033230",
     "exception": false,
     "start_time": "2024-02-28T18:31:11.022006",
     "status": "completed"
    },
    "tags": []
   },
   "outputs": [],
   "source": []
  },
  {
   "cell_type": "code",
   "execution_count": 26,
   "id": "4718c8b5",
   "metadata": {
    "execution": {
     "iopub.execute_input": "2024-02-28T18:31:11.057984Z",
     "iopub.status.busy": "2024-02-28T18:31:11.057674Z",
     "iopub.status.idle": "2024-02-28T18:31:11.305299Z",
     "shell.execute_reply": "2024-02-28T18:31:11.304344Z"
    },
    "papermill": {
     "duration": 0.262497,
     "end_time": "2024-02-28T18:31:11.307415",
     "exception": false,
     "start_time": "2024-02-28T18:31:11.044918",
     "status": "completed"
    },
    "tags": []
   },
   "outputs": [
    {
     "name": "stdout",
     "output_type": "stream",
     "text": [
      "tensor([[ 0.8009,  0.2601,  0.2316,  ...,  0.0455,  0.0118, -0.0370],\n",
      "        [ 0.1845, -0.0866,  0.1542,  ..., -0.2302, -0.3558, -0.2348],\n",
      "        [ 0.6341,  0.0180, -0.3330,  ...,  0.1851, -0.3067, -0.4023],\n",
      "        ...,\n",
      "        [ 0.8014,  0.2637,  0.2895,  ...,  0.1221,  0.1728, -0.4732],\n",
      "        [ 0.5409,  0.4092, -0.2325,  ...,  0.1790, -0.2709, -0.0346],\n",
      "        [ 0.5508,  0.1983,  0.0521,  ...,  0.3905, -0.0753, -0.5880]],\n",
      "       device='cuda:0', requires_grad=True) tensor([[ 0.5933,  0.2685, -0.0267,  ..., -0.4845, -0.4192, -0.3698],\n",
      "        [ 0.2493,  0.1343, -0.1606,  ..., -0.1305, -0.3765, -0.3898],\n",
      "        [ 0.0551, -0.1996, -0.1785,  ..., -0.0520, -0.1908, -0.2057],\n",
      "        ...,\n",
      "        [ 0.2502, -0.2729, -0.2597,  ...,  0.1696, -0.5105, -0.0785],\n",
      "        [ 0.2900, -0.2058, -0.1541,  ..., -0.0185, -0.5686,  0.0864],\n",
      "        [ 0.2823, -0.0846, -0.1393,  ...,  0.1534, -0.2074, -0.2804]],\n",
      "       device='cuda:0', requires_grad=True)\n"
     ]
    }
   ],
   "source": [
    "print(hate_space,not_hate_space)"
   ]
  },
  {
   "cell_type": "code",
   "execution_count": 27,
   "id": "5c31ce3b",
   "metadata": {
    "execution": {
     "iopub.execute_input": "2024-02-28T18:31:11.332602Z",
     "iopub.status.busy": "2024-02-28T18:31:11.331965Z",
     "iopub.status.idle": "2024-02-28T18:31:11.339196Z",
     "shell.execute_reply": "2024-02-28T18:31:11.338244Z"
    },
    "papermill": {
     "duration": 0.021884,
     "end_time": "2024-02-28T18:31:11.341138",
     "exception": false,
     "start_time": "2024-02-28T18:31:11.319254",
     "status": "completed"
    },
    "tags": []
   },
   "outputs": [
    {
     "name": "stdout",
     "output_type": "stream",
     "text": [
      "tensor([[-5.8030e-01],\n",
      "        [-1.1194e-01],\n",
      "        [ 3.1203e-05],\n",
      "        [-4.3093e-01],\n",
      "        [ 3.5626e-01],\n",
      "        [ 6.9945e-02],\n",
      "        [ 4.2173e-01],\n",
      "        [ 6.9287e-01],\n",
      "        [ 1.7591e-01],\n",
      "        [ 4.1641e-01],\n",
      "        [-5.9097e-01]], device='cuda:0', requires_grad=True) tensor([[-5.8030e-01],\n",
      "        [-1.1194e-01],\n",
      "        [ 3.1203e-05],\n",
      "        [-4.3093e-01],\n",
      "        [ 3.5626e-01],\n",
      "        [ 6.9945e-02],\n",
      "        [ 4.2173e-01],\n",
      "        [ 6.9287e-01],\n",
      "        [ 1.7591e-01],\n",
      "        [ 4.1641e-01],\n",
      "        [-5.9097e-01]], device='cuda:0', requires_grad=True)\n"
     ]
    }
   ],
   "source": [
    "print(hate_space_weights,not_hate_space_weights)"
   ]
  },
  {
   "cell_type": "code",
   "execution_count": 28,
   "id": "ca545a1e",
   "metadata": {
    "execution": {
     "iopub.execute_input": "2024-02-28T18:31:11.366590Z",
     "iopub.status.busy": "2024-02-28T18:31:11.366279Z",
     "iopub.status.idle": "2024-02-28T18:31:12.547901Z",
     "shell.execute_reply": "2024-02-28T18:31:12.546971Z"
    },
    "papermill": {
     "duration": 1.196688,
     "end_time": "2024-02-28T18:31:12.549990",
     "exception": false,
     "start_time": "2024-02-28T18:31:11.353302",
     "status": "completed"
    },
    "tags": []
   },
   "outputs": [
    {
     "name": "stdout",
     "output_type": "stream",
     "text": [
      "True\n",
      "0\n",
      "torch.Size([2])\n",
      "torch.Size([2])\n",
      "torch.Size([2])\n",
      "torch.Size([2])\n",
      "torch.Size([2])\n",
      "None tensor([[-2.0692e-02, -6.1839e-03, -1.8119e-02,  ...,  1.2480e-03,\n",
      "         -1.1703e-02, -2.0455e-02],\n",
      "        [ 2.8541e-02,  1.1966e-02, -1.3492e-02,  ...,  3.7211e-02,\n",
      "          6.1739e-03, -6.8660e-03],\n",
      "        [-7.3706e-03,  6.4916e-03,  1.5660e-02,  ..., -1.6960e-02,\n",
      "          3.7917e-03,  4.6497e-03],\n",
      "        ...,\n",
      "        [-2.0725e-02, -6.3600e-03, -2.1569e-02,  ..., -8.7267e-03,\n",
      "         -1.9520e-02,  9.5350e-03],\n",
      "        [ 7.4797e-05, -1.3994e-02,  9.6476e-03,  ..., -1.6170e-02,\n",
      "          2.0494e-03, -2.0622e-02],\n",
      "        [-7.1412e-04, -2.9447e-03, -7.3754e-03,  ..., -4.3758e-02,\n",
      "         -7.4649e-03,  1.7418e-02]], device='cuda:0') 548.548095703125\n",
      "torch.Size([2])\n",
      "torch.Size([2])\n",
      "torch.Size([2])\n",
      "torch.Size([2])\n",
      "torch.Size([2])\n",
      "None tensor([[-0.0189, -0.0058, -0.0163,  ...,  0.0024, -0.0110, -0.0184],\n",
      "        [ 0.0258,  0.0110, -0.0123,  ...,  0.0335,  0.0058, -0.0066],\n",
      "        [-0.0072,  0.0062,  0.0141,  ..., -0.0155,  0.0037,  0.0046],\n",
      "        ...,\n",
      "        [-0.0189, -0.0060, -0.0193,  ..., -0.0084, -0.0180,  0.0089],\n",
      "        [ 0.0008, -0.0127,  0.0089,  ..., -0.0149,  0.0022, -0.0186],\n",
      "        [-0.0013, -0.0030, -0.0070,  ..., -0.0387, -0.0072,  0.0157]],\n",
      "       device='cuda:0') 537.7531127929688\n"
     ]
    }
   ],
   "source": [
    "model0.to(device)\n",
    "# hate_space = hate_space.to(device)\n",
    "# not_hate_space = not_hate_space.to(device)\n",
    "# hate_space_weights = hate_space_weights.to(device)\n",
    "# not_hate_space_weights = not_hate_space_weights.to(device)\n",
    "print(hate_space.is_leaf)\n",
    "optimizer = torch.optim.Adam(params=[hate_space, not_hate_space, hate_space_weights, not_hate_space_weights], lr=0.01)\n",
    "model0.train()\n",
    "criterion = nn.CrossEntropyLoss()\n",
    "model0.train()\n",
    "# with torch.inference_mode():\n",
    "for _ in range(1):\n",
    "    for i, batch in enumerate(train_loader):\n",
    "        if i == 2:\n",
    "            break\n",
    "        if i % 1000 == 0:\n",
    "            print(i)\n",
    "\n",
    "        x, Y = batch\n",
    "        loss = 0\n",
    "\n",
    "        for X, y in zip(x, Y):\n",
    "            y_preds = model0(X)\n",
    "\n",
    "            # Use long instead of float for target labels\n",
    "            loss += F.cross_entropy(y_preds.to(device), torch.tensor([1-y, y]).to(device).float())\n",
    "\n",
    "        loss /= len(x)\n",
    "        loss += L_inter(torch.cat((hate_space, not_hate_space))) + L_intra(torch.stack([hate_space, not_hate_space]))\n",
    "\n",
    "        optimizer.zero_grad()\n",
    "        loss.backward()\n",
    "        optimizer.step()\n",
    "\n",
    "        print(not_hate_space_weights.grad, hate_space.grad, loss.item())\n",
    "\n",
    "\n"
   ]
  },
  {
   "cell_type": "code",
   "execution_count": 29,
   "id": "f9e4381a",
   "metadata": {
    "execution": {
     "iopub.execute_input": "2024-02-28T18:31:12.575902Z",
     "iopub.status.busy": "2024-02-28T18:31:12.575587Z",
     "iopub.status.idle": "2024-02-28T18:31:12.582853Z",
     "shell.execute_reply": "2024-02-28T18:31:12.581839Z"
    },
    "papermill": {
     "duration": 0.022548,
     "end_time": "2024-02-28T18:31:12.584800",
     "exception": false,
     "start_time": "2024-02-28T18:31:12.562252",
     "status": "completed"
    },
    "tags": []
   },
   "outputs": [
    {
     "name": "stdout",
     "output_type": "stream",
     "text": [
      "tensor([[-5.8030e-01],\n",
      "        [-1.1194e-01],\n",
      "        [ 3.1203e-05],\n",
      "        [-4.3093e-01],\n",
      "        [ 3.5626e-01],\n",
      "        [ 6.9945e-02],\n",
      "        [ 4.2173e-01],\n",
      "        [ 6.9287e-01],\n",
      "        [ 1.7591e-01],\n",
      "        [ 4.1641e-01],\n",
      "        [-5.9097e-01]], device='cuda:0', requires_grad=True) tensor([[-5.8030e-01],\n",
      "        [-1.1194e-01],\n",
      "        [ 3.1203e-05],\n",
      "        [-4.3093e-01],\n",
      "        [ 3.5626e-01],\n",
      "        [ 6.9945e-02],\n",
      "        [ 4.2173e-01],\n",
      "        [ 6.9287e-01],\n",
      "        [ 1.7591e-01],\n",
      "        [ 4.1641e-01],\n",
      "        [-5.9097e-01]], device='cuda:0', requires_grad=True)\n"
     ]
    }
   ],
   "source": [
    "print(hate_space_weights,not_hate_space_weights)"
   ]
  },
  {
   "cell_type": "code",
   "execution_count": 30,
   "id": "e4222bfd",
   "metadata": {
    "execution": {
     "iopub.execute_input": "2024-02-28T18:31:12.611078Z",
     "iopub.status.busy": "2024-02-28T18:31:12.610541Z",
     "iopub.status.idle": "2024-02-28T18:31:12.619990Z",
     "shell.execute_reply": "2024-02-28T18:31:12.618995Z"
    },
    "papermill": {
     "duration": 0.024818,
     "end_time": "2024-02-28T18:31:12.621757",
     "exception": false,
     "start_time": "2024-02-28T18:31:12.596939",
     "status": "completed"
    },
    "tags": []
   },
   "outputs": [
    {
     "name": "stdout",
     "output_type": "stream",
     "text": [
      "tensor([[ 0.8208,  0.2801,  0.2516,  ...,  0.0258,  0.0318, -0.0170],\n",
      "        [ 0.1645, -0.1066,  0.1741,  ..., -0.2501, -0.3758, -0.2148],\n",
      "        [ 0.6541, -0.0020, -0.3529,  ...,  0.2051, -0.3267, -0.4223],\n",
      "        ...,\n",
      "        [ 0.8214,  0.2837,  0.3094,  ...,  0.1421,  0.1927, -0.4931],\n",
      "        [ 0.5228,  0.4292, -0.2525,  ...,  0.1990, -0.2909, -0.0146],\n",
      "        [ 0.5705,  0.2183,  0.0720,  ...,  0.4105, -0.0553, -0.6080]],\n",
      "       device='cuda:0', requires_grad=True) tensor([[ 0.6133,  0.2884, -0.0069,  ..., -0.5044, -0.4391, -0.3897],\n",
      "        [ 0.2293,  0.1542, -0.1407,  ..., -0.1505, -0.3964, -0.4098],\n",
      "        [ 0.0352, -0.2196, -0.1585,  ..., -0.0325, -0.1709, -0.1871],\n",
      "        ...,\n",
      "        [ 0.2302, -0.2928, -0.2797,  ...,  0.1896, -0.5305, -0.0585],\n",
      "        [ 0.2700, -0.2257, -0.1342,  ...,  0.0015, -0.5885,  0.1063],\n",
      "        [ 0.2623, -0.1046, -0.1195,  ...,  0.1734, -0.1875, -0.3003]],\n",
      "       device='cuda:0', requires_grad=True)\n"
     ]
    }
   ],
   "source": [
    "print(hate_space,not_hate_space)"
   ]
  },
  {
   "cell_type": "code",
   "execution_count": 31,
   "id": "09f1d40c",
   "metadata": {
    "execution": {
     "iopub.execute_input": "2024-02-28T18:31:12.647596Z",
     "iopub.status.busy": "2024-02-28T18:31:12.646915Z",
     "iopub.status.idle": "2024-02-28T18:31:12.652579Z",
     "shell.execute_reply": "2024-02-28T18:31:12.651757Z"
    },
    "papermill": {
     "duration": 0.020493,
     "end_time": "2024-02-28T18:31:12.654440",
     "exception": false,
     "start_time": "2024-02-28T18:31:12.633947",
     "status": "completed"
    },
    "tags": []
   },
   "outputs": [
    {
     "data": {
      "text/plain": [
       "torch.Size([22, 768])"
      ]
     },
     "execution_count": 31,
     "metadata": {},
     "output_type": "execute_result"
    }
   ],
   "source": [
    "torch.concat((hate_space, not_hate_space)).shape"
   ]
  },
  {
   "cell_type": "code",
   "execution_count": 32,
   "id": "059a6a20",
   "metadata": {
    "execution": {
     "iopub.execute_input": "2024-02-28T18:31:12.680237Z",
     "iopub.status.busy": "2024-02-28T18:31:12.679970Z",
     "iopub.status.idle": "2024-02-28T18:31:12.684150Z",
     "shell.execute_reply": "2024-02-28T18:31:12.683317Z"
    },
    "papermill": {
     "duration": 0.019193,
     "end_time": "2024-02-28T18:31:12.686091",
     "exception": false,
     "start_time": "2024-02-28T18:31:12.666898",
     "status": "completed"
    },
    "tags": []
   },
   "outputs": [],
   "source": [
    "# correct = 0\n",
    "# total = len(y_test)\n",
    "\n",
    "# true = []\n",
    "# preds = []\n",
    "\n",
    "# with torch.inference_mode():\n",
    "#     for i, batch in enumerate(test_loader):\n",
    "#         if i % 1000 == 0:\n",
    "#             print(i)\n",
    "#         X, y = batch\n",
    "#         Psk_hate, Psk_not_hate = model0(X)\n",
    "\n",
    "#         y_predict = torch.argmax(torch.tensor([Psk_hate.mean().item(), Psk_not_hate.mean().item()]))\n",
    "\n",
    "#         true.extend(y)\n",
    "#         preds.append(y_predict)\n",
    "\n",
    "#         cur = torch.eq(y_predict, y)\n",
    "\n",
    "#         correct += torch.sum(cur)\n",
    "\n",
    "# print(f\"Test Accuracy: {correct/total}\")\n",
    "# print(f\"Test Accuracy: {torch.sum(torch.eq(torch.tensor(true), torch.tensor(preds))) / total}\")       "
   ]
  },
  {
   "cell_type": "code",
   "execution_count": 33,
   "id": "3c91fbce",
   "metadata": {
    "execution": {
     "iopub.execute_input": "2024-02-28T18:31:12.711807Z",
     "iopub.status.busy": "2024-02-28T18:31:12.711246Z",
     "iopub.status.idle": "2024-02-28T18:31:12.714989Z",
     "shell.execute_reply": "2024-02-28T18:31:12.714150Z"
    },
    "papermill": {
     "duration": 0.018781,
     "end_time": "2024-02-28T18:31:12.716941",
     "exception": false,
     "start_time": "2024-02-28T18:31:12.698160",
     "status": "completed"
    },
    "tags": []
   },
   "outputs": [],
   "source": [
    "# from sklearn.metrics import precision_score, recall_score\n",
    "\n",
    "# print(precision_score(y_test, preds, average='macro'))\n",
    "# print(recall_score(y_test, preds, average='macro'))"
   ]
  }
 ],
 "metadata": {
  "kaggle": {
   "accelerator": "gpu",
   "dataSources": [
    {
     "datasetId": 4384787,
     "sourceId": 7528128,
     "sourceType": "datasetVersion"
    }
   ],
   "dockerImageVersionId": 30648,
   "isGpuEnabled": true,
   "isInternetEnabled": true,
   "language": "python",
   "sourceType": "notebook"
  },
  "kernelspec": {
   "display_name": "Python 3",
   "language": "python",
   "name": "python3"
  },
  "language_info": {
   "codemirror_mode": {
    "name": "ipython",
    "version": 3
   },
   "file_extension": ".py",
   "mimetype": "text/x-python",
   "name": "python",
   "nbconvert_exporter": "python",
   "pygments_lexer": "ipython3",
   "version": "3.10.13"
  },
  "papermill": {
   "default_parameters": {},
   "duration": 22.20076,
   "end_time": "2024-02-28T18:31:14.984164",
   "environment_variables": {},
   "exception": null,
   "input_path": "__notebook__.ipynb",
   "output_path": "__notebook__.ipynb",
   "parameters": {},
   "start_time": "2024-02-28T18:30:52.783404",
   "version": "2.5.0"
  },
  "widgets": {
   "application/vnd.jupyter.widget-state+json": {
    "state": {
     "0ff9b4a10f5d41919869859de3537efa": {
      "model_module": "@jupyter-widgets/controls",
      "model_module_version": "1.5.0",
      "model_name": "ProgressStyleModel",
      "state": {
       "_model_module": "@jupyter-widgets/controls",
       "_model_module_version": "1.5.0",
       "_model_name": "ProgressStyleModel",
       "_view_count": null,
       "_view_module": "@jupyter-widgets/base",
       "_view_module_version": "1.2.0",
       "_view_name": "StyleView",
       "bar_color": null,
       "description_width": ""
      }
     },
     "1099583f6a304d349c55a73ff7625ae9": {
      "model_module": "@jupyter-widgets/controls",
      "model_module_version": "1.5.0",
      "model_name": "HTMLModel",
      "state": {
       "_dom_classes": [],
       "_model_module": "@jupyter-widgets/controls",
       "_model_module_version": "1.5.0",
       "_model_name": "HTMLModel",
       "_view_count": null,
       "_view_module": "@jupyter-widgets/controls",
       "_view_module_version": "1.5.0",
       "_view_name": "HTMLView",
       "description": "",
       "description_tooltip": null,
       "layout": "IPY_MODEL_27021e237bd74a6990dfc3d50147b0fb",
       "placeholder": "​",
       "style": "IPY_MODEL_4b018bc3cb4448cf8c8450b04e648057",
       "value": " 570/570 [00:00&lt;00:00, 48.7kB/s]"
      }
     },
     "16889e8807594721b8bf08f9d95ccd45": {
      "model_module": "@jupyter-widgets/controls",
      "model_module_version": "1.5.0",
      "model_name": "ProgressStyleModel",
      "state": {
       "_model_module": "@jupyter-widgets/controls",
       "_model_module_version": "1.5.0",
       "_model_name": "ProgressStyleModel",
       "_view_count": null,
       "_view_module": "@jupyter-widgets/base",
       "_view_module_version": "1.2.0",
       "_view_name": "StyleView",
       "bar_color": null,
       "description_width": ""
      }
     },
     "1f4b2c37244840de9ea3b8879e5311fd": {
      "model_module": "@jupyter-widgets/base",
      "model_module_version": "1.2.0",
      "model_name": "LayoutModel",
      "state": {
       "_model_module": "@jupyter-widgets/base",
       "_model_module_version": "1.2.0",
       "_model_name": "LayoutModel",
       "_view_count": null,
       "_view_module": "@jupyter-widgets/base",
       "_view_module_version": "1.2.0",
       "_view_name": "LayoutView",
       "align_content": null,
       "align_items": null,
       "align_self": null,
       "border": null,
       "bottom": null,
       "display": null,
       "flex": null,
       "flex_flow": null,
       "grid_area": null,
       "grid_auto_columns": null,
       "grid_auto_flow": null,
       "grid_auto_rows": null,
       "grid_column": null,
       "grid_gap": null,
       "grid_row": null,
       "grid_template_areas": null,
       "grid_template_columns": null,
       "grid_template_rows": null,
       "height": null,
       "justify_content": null,
       "justify_items": null,
       "left": null,
       "margin": null,
       "max_height": null,
       "max_width": null,
       "min_height": null,
       "min_width": null,
       "object_fit": null,
       "object_position": null,
       "order": null,
       "overflow": null,
       "overflow_x": null,
       "overflow_y": null,
       "padding": null,
       "right": null,
       "top": null,
       "visibility": null,
       "width": null
      }
     },
     "2000b18e56de4784a21302fcd379cbcf": {
      "model_module": "@jupyter-widgets/controls",
      "model_module_version": "1.5.0",
      "model_name": "DescriptionStyleModel",
      "state": {
       "_model_module": "@jupyter-widgets/controls",
       "_model_module_version": "1.5.0",
       "_model_name": "DescriptionStyleModel",
       "_view_count": null,
       "_view_module": "@jupyter-widgets/base",
       "_view_module_version": "1.2.0",
       "_view_name": "StyleView",
       "description_width": ""
      }
     },
     "2667baac8f5e492082da18dbce08dc24": {
      "model_module": "@jupyter-widgets/controls",
      "model_module_version": "1.5.0",
      "model_name": "HTMLModel",
      "state": {
       "_dom_classes": [],
       "_model_module": "@jupyter-widgets/controls",
       "_model_module_version": "1.5.0",
       "_model_name": "HTMLModel",
       "_view_count": null,
       "_view_module": "@jupyter-widgets/controls",
       "_view_module_version": "1.5.0",
       "_view_name": "HTMLView",
       "description": "",
       "description_tooltip": null,
       "layout": "IPY_MODEL_e1ccf2fd0c254c9792b8a33223faea4e",
       "placeholder": "​",
       "style": "IPY_MODEL_7fb02e0875c64674a47433dabf4c66cd",
       "value": "model.safetensors: 100%"
      }
     },
     "27021e237bd74a6990dfc3d50147b0fb": {
      "model_module": "@jupyter-widgets/base",
      "model_module_version": "1.2.0",
      "model_name": "LayoutModel",
      "state": {
       "_model_module": "@jupyter-widgets/base",
       "_model_module_version": "1.2.0",
       "_model_name": "LayoutModel",
       "_view_count": null,
       "_view_module": "@jupyter-widgets/base",
       "_view_module_version": "1.2.0",
       "_view_name": "LayoutView",
       "align_content": null,
       "align_items": null,
       "align_self": null,
       "border": null,
       "bottom": null,
       "display": null,
       "flex": null,
       "flex_flow": null,
       "grid_area": null,
       "grid_auto_columns": null,
       "grid_auto_flow": null,
       "grid_auto_rows": null,
       "grid_column": null,
       "grid_gap": null,
       "grid_row": null,
       "grid_template_areas": null,
       "grid_template_columns": null,
       "grid_template_rows": null,
       "height": null,
       "justify_content": null,
       "justify_items": null,
       "left": null,
       "margin": null,
       "max_height": null,
       "max_width": null,
       "min_height": null,
       "min_width": null,
       "object_fit": null,
       "object_position": null,
       "order": null,
       "overflow": null,
       "overflow_x": null,
       "overflow_y": null,
       "padding": null,
       "right": null,
       "top": null,
       "visibility": null,
       "width": null
      }
     },
     "2ac137458d134e4aa97a3a4ee370c4a8": {
      "model_module": "@jupyter-widgets/controls",
      "model_module_version": "1.5.0",
      "model_name": "FloatProgressModel",
      "state": {
       "_dom_classes": [],
       "_model_module": "@jupyter-widgets/controls",
       "_model_module_version": "1.5.0",
       "_model_name": "FloatProgressModel",
       "_view_count": null,
       "_view_module": "@jupyter-widgets/controls",
       "_view_module_version": "1.5.0",
       "_view_name": "ProgressView",
       "bar_style": "success",
       "description": "",
       "description_tooltip": null,
       "layout": "IPY_MODEL_d2335b89661542eb97f42e4d3f121d03",
       "max": 466062.0,
       "min": 0.0,
       "orientation": "horizontal",
       "style": "IPY_MODEL_38e01aaa29c646a9b04a78564f665e95",
       "value": 466062.0
      }
     },
     "38e01aaa29c646a9b04a78564f665e95": {
      "model_module": "@jupyter-widgets/controls",
      "model_module_version": "1.5.0",
      "model_name": "ProgressStyleModel",
      "state": {
       "_model_module": "@jupyter-widgets/controls",
       "_model_module_version": "1.5.0",
       "_model_name": "ProgressStyleModel",
       "_view_count": null,
       "_view_module": "@jupyter-widgets/base",
       "_view_module_version": "1.2.0",
       "_view_name": "StyleView",
       "bar_color": null,
       "description_width": ""
      }
     },
     "4127aa099a074920b782e213895ee5ff": {
      "model_module": "@jupyter-widgets/base",
      "model_module_version": "1.2.0",
      "model_name": "LayoutModel",
      "state": {
       "_model_module": "@jupyter-widgets/base",
       "_model_module_version": "1.2.0",
       "_model_name": "LayoutModel",
       "_view_count": null,
       "_view_module": "@jupyter-widgets/base",
       "_view_module_version": "1.2.0",
       "_view_name": "LayoutView",
       "align_content": null,
       "align_items": null,
       "align_self": null,
       "border": null,
       "bottom": null,
       "display": null,
       "flex": null,
       "flex_flow": null,
       "grid_area": null,
       "grid_auto_columns": null,
       "grid_auto_flow": null,
       "grid_auto_rows": null,
       "grid_column": null,
       "grid_gap": null,
       "grid_row": null,
       "grid_template_areas": null,
       "grid_template_columns": null,
       "grid_template_rows": null,
       "height": null,
       "justify_content": null,
       "justify_items": null,
       "left": null,
       "margin": null,
       "max_height": null,
       "max_width": null,
       "min_height": null,
       "min_width": null,
       "object_fit": null,
       "object_position": null,
       "order": null,
       "overflow": null,
       "overflow_x": null,
       "overflow_y": null,
       "padding": null,
       "right": null,
       "top": null,
       "visibility": null,
       "width": null
      }
     },
     "43a83319f279466aae03f63290ebd10d": {
      "model_module": "@jupyter-widgets/controls",
      "model_module_version": "1.5.0",
      "model_name": "HBoxModel",
      "state": {
       "_dom_classes": [],
       "_model_module": "@jupyter-widgets/controls",
       "_model_module_version": "1.5.0",
       "_model_name": "HBoxModel",
       "_view_count": null,
       "_view_module": "@jupyter-widgets/controls",
       "_view_module_version": "1.5.0",
       "_view_name": "HBoxView",
       "box_style": "",
       "children": [
        "IPY_MODEL_8d49ecb599c849e08fd374d90241b393",
        "IPY_MODEL_2ac137458d134e4aa97a3a4ee370c4a8",
        "IPY_MODEL_8364fca6209046db9aa849019081a8a3"
       ],
       "layout": "IPY_MODEL_95333ec4cc4449cb848215a2604e35a6"
      }
     },
     "4b018bc3cb4448cf8c8450b04e648057": {
      "model_module": "@jupyter-widgets/controls",
      "model_module_version": "1.5.0",
      "model_name": "DescriptionStyleModel",
      "state": {
       "_model_module": "@jupyter-widgets/controls",
       "_model_module_version": "1.5.0",
       "_model_name": "DescriptionStyleModel",
       "_view_count": null,
       "_view_module": "@jupyter-widgets/base",
       "_view_module_version": "1.2.0",
       "_view_name": "StyleView",
       "description_width": ""
      }
     },
     "4b5047ecdc2a4ec49b79a2395eb92fc8": {
      "model_module": "@jupyter-widgets/controls",
      "model_module_version": "1.5.0",
      "model_name": "HTMLModel",
      "state": {
       "_dom_classes": [],
       "_model_module": "@jupyter-widgets/controls",
       "_model_module_version": "1.5.0",
       "_model_name": "HTMLModel",
       "_view_count": null,
       "_view_module": "@jupyter-widgets/controls",
       "_view_module_version": "1.5.0",
       "_view_name": "HTMLView",
       "description": "",
       "description_tooltip": null,
       "layout": "IPY_MODEL_81f2d643d89f40d9a2ce0e3e9e71c2ad",
       "placeholder": "​",
       "style": "IPY_MODEL_5c0d8d2302b641e189cecde4c684c59e",
       "value": "tokenizer_config.json: 100%"
      }
     },
     "4dc3fa44a2bc4905ae8714402e083fc3": {
      "model_module": "@jupyter-widgets/base",
      "model_module_version": "1.2.0",
      "model_name": "LayoutModel",
      "state": {
       "_model_module": "@jupyter-widgets/base",
       "_model_module_version": "1.2.0",
       "_model_name": "LayoutModel",
       "_view_count": null,
       "_view_module": "@jupyter-widgets/base",
       "_view_module_version": "1.2.0",
       "_view_name": "LayoutView",
       "align_content": null,
       "align_items": null,
       "align_self": null,
       "border": null,
       "bottom": null,
       "display": null,
       "flex": null,
       "flex_flow": null,
       "grid_area": null,
       "grid_auto_columns": null,
       "grid_auto_flow": null,
       "grid_auto_rows": null,
       "grid_column": null,
       "grid_gap": null,
       "grid_row": null,
       "grid_template_areas": null,
       "grid_template_columns": null,
       "grid_template_rows": null,
       "height": null,
       "justify_content": null,
       "justify_items": null,
       "left": null,
       "margin": null,
       "max_height": null,
       "max_width": null,
       "min_height": null,
       "min_width": null,
       "object_fit": null,
       "object_position": null,
       "order": null,
       "overflow": null,
       "overflow_x": null,
       "overflow_y": null,
       "padding": null,
       "right": null,
       "top": null,
       "visibility": null,
       "width": null
      }
     },
     "50411be4035e4bef90cb0ff8af27418e": {
      "model_module": "@jupyter-widgets/controls",
      "model_module_version": "1.5.0",
      "model_name": "ProgressStyleModel",
      "state": {
       "_model_module": "@jupyter-widgets/controls",
       "_model_module_version": "1.5.0",
       "_model_name": "ProgressStyleModel",
       "_view_count": null,
       "_view_module": "@jupyter-widgets/base",
       "_view_module_version": "1.2.0",
       "_view_name": "StyleView",
       "bar_color": null,
       "description_width": ""
      }
     },
     "505ec64541cc4711baf725faad19a926": {
      "model_module": "@jupyter-widgets/controls",
      "model_module_version": "1.5.0",
      "model_name": "ProgressStyleModel",
      "state": {
       "_model_module": "@jupyter-widgets/controls",
       "_model_module_version": "1.5.0",
       "_model_name": "ProgressStyleModel",
       "_view_count": null,
       "_view_module": "@jupyter-widgets/base",
       "_view_module_version": "1.2.0",
       "_view_name": "StyleView",
       "bar_color": null,
       "description_width": ""
      }
     },
     "598d8af00b004cf48e826cd00c9ba593": {
      "model_module": "@jupyter-widgets/base",
      "model_module_version": "1.2.0",
      "model_name": "LayoutModel",
      "state": {
       "_model_module": "@jupyter-widgets/base",
       "_model_module_version": "1.2.0",
       "_model_name": "LayoutModel",
       "_view_count": null,
       "_view_module": "@jupyter-widgets/base",
       "_view_module_version": "1.2.0",
       "_view_name": "LayoutView",
       "align_content": null,
       "align_items": null,
       "align_self": null,
       "border": null,
       "bottom": null,
       "display": null,
       "flex": null,
       "flex_flow": null,
       "grid_area": null,
       "grid_auto_columns": null,
       "grid_auto_flow": null,
       "grid_auto_rows": null,
       "grid_column": null,
       "grid_gap": null,
       "grid_row": null,
       "grid_template_areas": null,
       "grid_template_columns": null,
       "grid_template_rows": null,
       "height": null,
       "justify_content": null,
       "justify_items": null,
       "left": null,
       "margin": null,
       "max_height": null,
       "max_width": null,
       "min_height": null,
       "min_width": null,
       "object_fit": null,
       "object_position": null,
       "order": null,
       "overflow": null,
       "overflow_x": null,
       "overflow_y": null,
       "padding": null,
       "right": null,
       "top": null,
       "visibility": null,
       "width": null
      }
     },
     "5ae75895f7444ba491414481078c9b3d": {
      "model_module": "@jupyter-widgets/base",
      "model_module_version": "1.2.0",
      "model_name": "LayoutModel",
      "state": {
       "_model_module": "@jupyter-widgets/base",
       "_model_module_version": "1.2.0",
       "_model_name": "LayoutModel",
       "_view_count": null,
       "_view_module": "@jupyter-widgets/base",
       "_view_module_version": "1.2.0",
       "_view_name": "LayoutView",
       "align_content": null,
       "align_items": null,
       "align_self": null,
       "border": null,
       "bottom": null,
       "display": null,
       "flex": null,
       "flex_flow": null,
       "grid_area": null,
       "grid_auto_columns": null,
       "grid_auto_flow": null,
       "grid_auto_rows": null,
       "grid_column": null,
       "grid_gap": null,
       "grid_row": null,
       "grid_template_areas": null,
       "grid_template_columns": null,
       "grid_template_rows": null,
       "height": null,
       "justify_content": null,
       "justify_items": null,
       "left": null,
       "margin": null,
       "max_height": null,
       "max_width": null,
       "min_height": null,
       "min_width": null,
       "object_fit": null,
       "object_position": null,
       "order": null,
       "overflow": null,
       "overflow_x": null,
       "overflow_y": null,
       "padding": null,
       "right": null,
       "top": null,
       "visibility": null,
       "width": null
      }
     },
     "5c0d8d2302b641e189cecde4c684c59e": {
      "model_module": "@jupyter-widgets/controls",
      "model_module_version": "1.5.0",
      "model_name": "DescriptionStyleModel",
      "state": {
       "_model_module": "@jupyter-widgets/controls",
       "_model_module_version": "1.5.0",
       "_model_name": "DescriptionStyleModel",
       "_view_count": null,
       "_view_module": "@jupyter-widgets/base",
       "_view_module_version": "1.2.0",
       "_view_name": "StyleView",
       "description_width": ""
      }
     },
     "5c91290a34b94e74a3056aec763bfa55": {
      "model_module": "@jupyter-widgets/controls",
      "model_module_version": "1.5.0",
      "model_name": "FloatProgressModel",
      "state": {
       "_dom_classes": [],
       "_model_module": "@jupyter-widgets/controls",
       "_model_module_version": "1.5.0",
       "_model_name": "FloatProgressModel",
       "_view_count": null,
       "_view_module": "@jupyter-widgets/controls",
       "_view_module_version": "1.5.0",
       "_view_name": "ProgressView",
       "bar_style": "success",
       "description": "",
       "description_tooltip": null,
       "layout": "IPY_MODEL_ab44a823dbc3464096a6521c16d79602",
       "max": 231508.0,
       "min": 0.0,
       "orientation": "horizontal",
       "style": "IPY_MODEL_16889e8807594721b8bf08f9d95ccd45",
       "value": 231508.0
      }
     },
     "5e758d0afd73427bb4471c5938da38b3": {
      "model_module": "@jupyter-widgets/base",
      "model_module_version": "1.2.0",
      "model_name": "LayoutModel",
      "state": {
       "_model_module": "@jupyter-widgets/base",
       "_model_module_version": "1.2.0",
       "_model_name": "LayoutModel",
       "_view_count": null,
       "_view_module": "@jupyter-widgets/base",
       "_view_module_version": "1.2.0",
       "_view_name": "LayoutView",
       "align_content": null,
       "align_items": null,
       "align_self": null,
       "border": null,
       "bottom": null,
       "display": null,
       "flex": null,
       "flex_flow": null,
       "grid_area": null,
       "grid_auto_columns": null,
       "grid_auto_flow": null,
       "grid_auto_rows": null,
       "grid_column": null,
       "grid_gap": null,
       "grid_row": null,
       "grid_template_areas": null,
       "grid_template_columns": null,
       "grid_template_rows": null,
       "height": null,
       "justify_content": null,
       "justify_items": null,
       "left": null,
       "margin": null,
       "max_height": null,
       "max_width": null,
       "min_height": null,
       "min_width": null,
       "object_fit": null,
       "object_position": null,
       "order": null,
       "overflow": null,
       "overflow_x": null,
       "overflow_y": null,
       "padding": null,
       "right": null,
       "top": null,
       "visibility": null,
       "width": null
      }
     },
     "673e072e9c4e4688b75f4af180d52abc": {
      "model_module": "@jupyter-widgets/controls",
      "model_module_version": "1.5.0",
      "model_name": "HTMLModel",
      "state": {
       "_dom_classes": [],
       "_model_module": "@jupyter-widgets/controls",
       "_model_module_version": "1.5.0",
       "_model_name": "HTMLModel",
       "_view_count": null,
       "_view_module": "@jupyter-widgets/controls",
       "_view_module_version": "1.5.0",
       "_view_name": "HTMLView",
       "description": "",
       "description_tooltip": null,
       "layout": "IPY_MODEL_5e758d0afd73427bb4471c5938da38b3",
       "placeholder": "​",
       "style": "IPY_MODEL_9fa1725e715644e2a8755b4130a3af29",
       "value": "config.json: 100%"
      }
     },
     "6914da2ccf2c452b99188606949f0d5e": {
      "model_module": "@jupyter-widgets/controls",
      "model_module_version": "1.5.0",
      "model_name": "HBoxModel",
      "state": {
       "_dom_classes": [],
       "_model_module": "@jupyter-widgets/controls",
       "_model_module_version": "1.5.0",
       "_model_name": "HBoxModel",
       "_view_count": null,
       "_view_module": "@jupyter-widgets/controls",
       "_view_module_version": "1.5.0",
       "_view_name": "HBoxView",
       "box_style": "",
       "children": [
        "IPY_MODEL_4b5047ecdc2a4ec49b79a2395eb92fc8",
        "IPY_MODEL_c2ada1cf3a2e49f5934203c67df72334",
        "IPY_MODEL_8afda530c13a4369b7d8326bd94b982d"
       ],
       "layout": "IPY_MODEL_c7b174250f084180866c16c5a9f0fa81"
      }
     },
     "6db204557c7e4f38b84aca6404a2cbad": {
      "model_module": "@jupyter-widgets/controls",
      "model_module_version": "1.5.0",
      "model_name": "DescriptionStyleModel",
      "state": {
       "_model_module": "@jupyter-widgets/controls",
       "_model_module_version": "1.5.0",
       "_model_name": "DescriptionStyleModel",
       "_view_count": null,
       "_view_module": "@jupyter-widgets/base",
       "_view_module_version": "1.2.0",
       "_view_name": "StyleView",
       "description_width": ""
      }
     },
     "773698d509f94465aa236b9144b3b1a7": {
      "model_module": "@jupyter-widgets/controls",
      "model_module_version": "1.5.0",
      "model_name": "DescriptionStyleModel",
      "state": {
       "_model_module": "@jupyter-widgets/controls",
       "_model_module_version": "1.5.0",
       "_model_name": "DescriptionStyleModel",
       "_view_count": null,
       "_view_module": "@jupyter-widgets/base",
       "_view_module_version": "1.2.0",
       "_view_name": "StyleView",
       "description_width": ""
      }
     },
     "77570d44ca3645e9bf216af38208c89b": {
      "model_module": "@jupyter-widgets/base",
      "model_module_version": "1.2.0",
      "model_name": "LayoutModel",
      "state": {
       "_model_module": "@jupyter-widgets/base",
       "_model_module_version": "1.2.0",
       "_model_name": "LayoutModel",
       "_view_count": null,
       "_view_module": "@jupyter-widgets/base",
       "_view_module_version": "1.2.0",
       "_view_name": "LayoutView",
       "align_content": null,
       "align_items": null,
       "align_self": null,
       "border": null,
       "bottom": null,
       "display": null,
       "flex": null,
       "flex_flow": null,
       "grid_area": null,
       "grid_auto_columns": null,
       "grid_auto_flow": null,
       "grid_auto_rows": null,
       "grid_column": null,
       "grid_gap": null,
       "grid_row": null,
       "grid_template_areas": null,
       "grid_template_columns": null,
       "grid_template_rows": null,
       "height": null,
       "justify_content": null,
       "justify_items": null,
       "left": null,
       "margin": null,
       "max_height": null,
       "max_width": null,
       "min_height": null,
       "min_width": null,
       "object_fit": null,
       "object_position": null,
       "order": null,
       "overflow": null,
       "overflow_x": null,
       "overflow_y": null,
       "padding": null,
       "right": null,
       "top": null,
       "visibility": null,
       "width": null
      }
     },
     "78e202273786404fb15e8f4914525d08": {
      "model_module": "@jupyter-widgets/base",
      "model_module_version": "1.2.0",
      "model_name": "LayoutModel",
      "state": {
       "_model_module": "@jupyter-widgets/base",
       "_model_module_version": "1.2.0",
       "_model_name": "LayoutModel",
       "_view_count": null,
       "_view_module": "@jupyter-widgets/base",
       "_view_module_version": "1.2.0",
       "_view_name": "LayoutView",
       "align_content": null,
       "align_items": null,
       "align_self": null,
       "border": null,
       "bottom": null,
       "display": null,
       "flex": null,
       "flex_flow": null,
       "grid_area": null,
       "grid_auto_columns": null,
       "grid_auto_flow": null,
       "grid_auto_rows": null,
       "grid_column": null,
       "grid_gap": null,
       "grid_row": null,
       "grid_template_areas": null,
       "grid_template_columns": null,
       "grid_template_rows": null,
       "height": null,
       "justify_content": null,
       "justify_items": null,
       "left": null,
       "margin": null,
       "max_height": null,
       "max_width": null,
       "min_height": null,
       "min_width": null,
       "object_fit": null,
       "object_position": null,
       "order": null,
       "overflow": null,
       "overflow_x": null,
       "overflow_y": null,
       "padding": null,
       "right": null,
       "top": null,
       "visibility": null,
       "width": null
      }
     },
     "7fb02e0875c64674a47433dabf4c66cd": {
      "model_module": "@jupyter-widgets/controls",
      "model_module_version": "1.5.0",
      "model_name": "DescriptionStyleModel",
      "state": {
       "_model_module": "@jupyter-widgets/controls",
       "_model_module_version": "1.5.0",
       "_model_name": "DescriptionStyleModel",
       "_view_count": null,
       "_view_module": "@jupyter-widgets/base",
       "_view_module_version": "1.2.0",
       "_view_name": "StyleView",
       "description_width": ""
      }
     },
     "81f2d643d89f40d9a2ce0e3e9e71c2ad": {
      "model_module": "@jupyter-widgets/base",
      "model_module_version": "1.2.0",
      "model_name": "LayoutModel",
      "state": {
       "_model_module": "@jupyter-widgets/base",
       "_model_module_version": "1.2.0",
       "_model_name": "LayoutModel",
       "_view_count": null,
       "_view_module": "@jupyter-widgets/base",
       "_view_module_version": "1.2.0",
       "_view_name": "LayoutView",
       "align_content": null,
       "align_items": null,
       "align_self": null,
       "border": null,
       "bottom": null,
       "display": null,
       "flex": null,
       "flex_flow": null,
       "grid_area": null,
       "grid_auto_columns": null,
       "grid_auto_flow": null,
       "grid_auto_rows": null,
       "grid_column": null,
       "grid_gap": null,
       "grid_row": null,
       "grid_template_areas": null,
       "grid_template_columns": null,
       "grid_template_rows": null,
       "height": null,
       "justify_content": null,
       "justify_items": null,
       "left": null,
       "margin": null,
       "max_height": null,
       "max_width": null,
       "min_height": null,
       "min_width": null,
       "object_fit": null,
       "object_position": null,
       "order": null,
       "overflow": null,
       "overflow_x": null,
       "overflow_y": null,
       "padding": null,
       "right": null,
       "top": null,
       "visibility": null,
       "width": null
      }
     },
     "8364fca6209046db9aa849019081a8a3": {
      "model_module": "@jupyter-widgets/controls",
      "model_module_version": "1.5.0",
      "model_name": "HTMLModel",
      "state": {
       "_dom_classes": [],
       "_model_module": "@jupyter-widgets/controls",
       "_model_module_version": "1.5.0",
       "_model_name": "HTMLModel",
       "_view_count": null,
       "_view_module": "@jupyter-widgets/controls",
       "_view_module_version": "1.5.0",
       "_view_name": "HTMLView",
       "description": "",
       "description_tooltip": null,
       "layout": "IPY_MODEL_598d8af00b004cf48e826cd00c9ba593",
       "placeholder": "​",
       "style": "IPY_MODEL_773698d509f94465aa236b9144b3b1a7",
       "value": " 466k/466k [00:00&lt;00:00, 3.62MB/s]"
      }
     },
     "8afda530c13a4369b7d8326bd94b982d": {
      "model_module": "@jupyter-widgets/controls",
      "model_module_version": "1.5.0",
      "model_name": "HTMLModel",
      "state": {
       "_dom_classes": [],
       "_model_module": "@jupyter-widgets/controls",
       "_model_module_version": "1.5.0",
       "_model_name": "HTMLModel",
       "_view_count": null,
       "_view_module": "@jupyter-widgets/controls",
       "_view_module_version": "1.5.0",
       "_view_name": "HTMLView",
       "description": "",
       "description_tooltip": null,
       "layout": "IPY_MODEL_a7863d7086c84677b3d7b36de4b07b61",
       "placeholder": "​",
       "style": "IPY_MODEL_8bf698a60f0b4cb58705de596aca9064",
       "value": " 48.0/48.0 [00:00&lt;00:00, 3.75kB/s]"
      }
     },
     "8bf698a60f0b4cb58705de596aca9064": {
      "model_module": "@jupyter-widgets/controls",
      "model_module_version": "1.5.0",
      "model_name": "DescriptionStyleModel",
      "state": {
       "_model_module": "@jupyter-widgets/controls",
       "_model_module_version": "1.5.0",
       "_model_name": "DescriptionStyleModel",
       "_view_count": null,
       "_view_module": "@jupyter-widgets/base",
       "_view_module_version": "1.2.0",
       "_view_name": "StyleView",
       "description_width": ""
      }
     },
     "8d49ecb599c849e08fd374d90241b393": {
      "model_module": "@jupyter-widgets/controls",
      "model_module_version": "1.5.0",
      "model_name": "HTMLModel",
      "state": {
       "_dom_classes": [],
       "_model_module": "@jupyter-widgets/controls",
       "_model_module_version": "1.5.0",
       "_model_name": "HTMLModel",
       "_view_count": null,
       "_view_module": "@jupyter-widgets/controls",
       "_view_module_version": "1.5.0",
       "_view_name": "HTMLView",
       "description": "",
       "description_tooltip": null,
       "layout": "IPY_MODEL_4127aa099a074920b782e213895ee5ff",
       "placeholder": "​",
       "style": "IPY_MODEL_b3dc210183664c1f8c3315c08256f723",
       "value": "tokenizer.json: 100%"
      }
     },
     "95333ec4cc4449cb848215a2604e35a6": {
      "model_module": "@jupyter-widgets/base",
      "model_module_version": "1.2.0",
      "model_name": "LayoutModel",
      "state": {
       "_model_module": "@jupyter-widgets/base",
       "_model_module_version": "1.2.0",
       "_model_name": "LayoutModel",
       "_view_count": null,
       "_view_module": "@jupyter-widgets/base",
       "_view_module_version": "1.2.0",
       "_view_name": "LayoutView",
       "align_content": null,
       "align_items": null,
       "align_self": null,
       "border": null,
       "bottom": null,
       "display": null,
       "flex": null,
       "flex_flow": null,
       "grid_area": null,
       "grid_auto_columns": null,
       "grid_auto_flow": null,
       "grid_auto_rows": null,
       "grid_column": null,
       "grid_gap": null,
       "grid_row": null,
       "grid_template_areas": null,
       "grid_template_columns": null,
       "grid_template_rows": null,
       "height": null,
       "justify_content": null,
       "justify_items": null,
       "left": null,
       "margin": null,
       "max_height": null,
       "max_width": null,
       "min_height": null,
       "min_width": null,
       "object_fit": null,
       "object_position": null,
       "order": null,
       "overflow": null,
       "overflow_x": null,
       "overflow_y": null,
       "padding": null,
       "right": null,
       "top": null,
       "visibility": null,
       "width": null
      }
     },
     "9fa1725e715644e2a8755b4130a3af29": {
      "model_module": "@jupyter-widgets/controls",
      "model_module_version": "1.5.0",
      "model_name": "DescriptionStyleModel",
      "state": {
       "_model_module": "@jupyter-widgets/controls",
       "_model_module_version": "1.5.0",
       "_model_name": "DescriptionStyleModel",
       "_view_count": null,
       "_view_module": "@jupyter-widgets/base",
       "_view_module_version": "1.2.0",
       "_view_name": "StyleView",
       "description_width": ""
      }
     },
     "a7863d7086c84677b3d7b36de4b07b61": {
      "model_module": "@jupyter-widgets/base",
      "model_module_version": "1.2.0",
      "model_name": "LayoutModel",
      "state": {
       "_model_module": "@jupyter-widgets/base",
       "_model_module_version": "1.2.0",
       "_model_name": "LayoutModel",
       "_view_count": null,
       "_view_module": "@jupyter-widgets/base",
       "_view_module_version": "1.2.0",
       "_view_name": "LayoutView",
       "align_content": null,
       "align_items": null,
       "align_self": null,
       "border": null,
       "bottom": null,
       "display": null,
       "flex": null,
       "flex_flow": null,
       "grid_area": null,
       "grid_auto_columns": null,
       "grid_auto_flow": null,
       "grid_auto_rows": null,
       "grid_column": null,
       "grid_gap": null,
       "grid_row": null,
       "grid_template_areas": null,
       "grid_template_columns": null,
       "grid_template_rows": null,
       "height": null,
       "justify_content": null,
       "justify_items": null,
       "left": null,
       "margin": null,
       "max_height": null,
       "max_width": null,
       "min_height": null,
       "min_width": null,
       "object_fit": null,
       "object_position": null,
       "order": null,
       "overflow": null,
       "overflow_x": null,
       "overflow_y": null,
       "padding": null,
       "right": null,
       "top": null,
       "visibility": null,
       "width": null
      }
     },
     "ab44a823dbc3464096a6521c16d79602": {
      "model_module": "@jupyter-widgets/base",
      "model_module_version": "1.2.0",
      "model_name": "LayoutModel",
      "state": {
       "_model_module": "@jupyter-widgets/base",
       "_model_module_version": "1.2.0",
       "_model_name": "LayoutModel",
       "_view_count": null,
       "_view_module": "@jupyter-widgets/base",
       "_view_module_version": "1.2.0",
       "_view_name": "LayoutView",
       "align_content": null,
       "align_items": null,
       "align_self": null,
       "border": null,
       "bottom": null,
       "display": null,
       "flex": null,
       "flex_flow": null,
       "grid_area": null,
       "grid_auto_columns": null,
       "grid_auto_flow": null,
       "grid_auto_rows": null,
       "grid_column": null,
       "grid_gap": null,
       "grid_row": null,
       "grid_template_areas": null,
       "grid_template_columns": null,
       "grid_template_rows": null,
       "height": null,
       "justify_content": null,
       "justify_items": null,
       "left": null,
       "margin": null,
       "max_height": null,
       "max_width": null,
       "min_height": null,
       "min_width": null,
       "object_fit": null,
       "object_position": null,
       "order": null,
       "overflow": null,
       "overflow_x": null,
       "overflow_y": null,
       "padding": null,
       "right": null,
       "top": null,
       "visibility": null,
       "width": null
      }
     },
     "b3dc210183664c1f8c3315c08256f723": {
      "model_module": "@jupyter-widgets/controls",
      "model_module_version": "1.5.0",
      "model_name": "DescriptionStyleModel",
      "state": {
       "_model_module": "@jupyter-widgets/controls",
       "_model_module_version": "1.5.0",
       "_model_name": "DescriptionStyleModel",
       "_view_count": null,
       "_view_module": "@jupyter-widgets/base",
       "_view_module_version": "1.2.0",
       "_view_name": "StyleView",
       "description_width": ""
      }
     },
     "bc34d077d05349649d187847f6537dcd": {
      "model_module": "@jupyter-widgets/controls",
      "model_module_version": "1.5.0",
      "model_name": "FloatProgressModel",
      "state": {
       "_dom_classes": [],
       "_model_module": "@jupyter-widgets/controls",
       "_model_module_version": "1.5.0",
       "_model_name": "FloatProgressModel",
       "_view_count": null,
       "_view_module": "@jupyter-widgets/controls",
       "_view_module_version": "1.5.0",
       "_view_name": "ProgressView",
       "bar_style": "success",
       "description": "",
       "description_tooltip": null,
       "layout": "IPY_MODEL_4dc3fa44a2bc4905ae8714402e083fc3",
       "max": 570.0,
       "min": 0.0,
       "orientation": "horizontal",
       "style": "IPY_MODEL_505ec64541cc4711baf725faad19a926",
       "value": 570.0
      }
     },
     "bdc34b0ed3cd4b069bfb1881400944c8": {
      "model_module": "@jupyter-widgets/controls",
      "model_module_version": "1.5.0",
      "model_name": "HTMLModel",
      "state": {
       "_dom_classes": [],
       "_model_module": "@jupyter-widgets/controls",
       "_model_module_version": "1.5.0",
       "_model_name": "HTMLModel",
       "_view_count": null,
       "_view_module": "@jupyter-widgets/controls",
       "_view_module_version": "1.5.0",
       "_view_name": "HTMLView",
       "description": "",
       "description_tooltip": null,
       "layout": "IPY_MODEL_5ae75895f7444ba491414481078c9b3d",
       "placeholder": "​",
       "style": "IPY_MODEL_2000b18e56de4784a21302fcd379cbcf",
       "value": "vocab.txt: 100%"
      }
     },
     "c2ada1cf3a2e49f5934203c67df72334": {
      "model_module": "@jupyter-widgets/controls",
      "model_module_version": "1.5.0",
      "model_name": "FloatProgressModel",
      "state": {
       "_dom_classes": [],
       "_model_module": "@jupyter-widgets/controls",
       "_model_module_version": "1.5.0",
       "_model_name": "FloatProgressModel",
       "_view_count": null,
       "_view_module": "@jupyter-widgets/controls",
       "_view_module_version": "1.5.0",
       "_view_name": "ProgressView",
       "bar_style": "success",
       "description": "",
       "description_tooltip": null,
       "layout": "IPY_MODEL_ee5c4b4d011a4a1ebc74523f5d3d9a92",
       "max": 48.0,
       "min": 0.0,
       "orientation": "horizontal",
       "style": "IPY_MODEL_0ff9b4a10f5d41919869859de3537efa",
       "value": 48.0
      }
     },
     "c48888d5f034446c8ed164b1fdf91cb6": {
      "model_module": "@jupyter-widgets/controls",
      "model_module_version": "1.5.0",
      "model_name": "HBoxModel",
      "state": {
       "_dom_classes": [],
       "_model_module": "@jupyter-widgets/controls",
       "_model_module_version": "1.5.0",
       "_model_name": "HBoxModel",
       "_view_count": null,
       "_view_module": "@jupyter-widgets/controls",
       "_view_module_version": "1.5.0",
       "_view_name": "HBoxView",
       "box_style": "",
       "children": [
        "IPY_MODEL_2667baac8f5e492082da18dbce08dc24",
        "IPY_MODEL_fae830e7cd7843079d805c36c7f98b68",
        "IPY_MODEL_ea7d5bf3031648cd9f7ec8bf3fe22ee1"
       ],
       "layout": "IPY_MODEL_e14965751a4d41169495df42b1113b5f"
      }
     },
     "c7b174250f084180866c16c5a9f0fa81": {
      "model_module": "@jupyter-widgets/base",
      "model_module_version": "1.2.0",
      "model_name": "LayoutModel",
      "state": {
       "_model_module": "@jupyter-widgets/base",
       "_model_module_version": "1.2.0",
       "_model_name": "LayoutModel",
       "_view_count": null,
       "_view_module": "@jupyter-widgets/base",
       "_view_module_version": "1.2.0",
       "_view_name": "LayoutView",
       "align_content": null,
       "align_items": null,
       "align_self": null,
       "border": null,
       "bottom": null,
       "display": null,
       "flex": null,
       "flex_flow": null,
       "grid_area": null,
       "grid_auto_columns": null,
       "grid_auto_flow": null,
       "grid_auto_rows": null,
       "grid_column": null,
       "grid_gap": null,
       "grid_row": null,
       "grid_template_areas": null,
       "grid_template_columns": null,
       "grid_template_rows": null,
       "height": null,
       "justify_content": null,
       "justify_items": null,
       "left": null,
       "margin": null,
       "max_height": null,
       "max_width": null,
       "min_height": null,
       "min_width": null,
       "object_fit": null,
       "object_position": null,
       "order": null,
       "overflow": null,
       "overflow_x": null,
       "overflow_y": null,
       "padding": null,
       "right": null,
       "top": null,
       "visibility": null,
       "width": null
      }
     },
     "d2335b89661542eb97f42e4d3f121d03": {
      "model_module": "@jupyter-widgets/base",
      "model_module_version": "1.2.0",
      "model_name": "LayoutModel",
      "state": {
       "_model_module": "@jupyter-widgets/base",
       "_model_module_version": "1.2.0",
       "_model_name": "LayoutModel",
       "_view_count": null,
       "_view_module": "@jupyter-widgets/base",
       "_view_module_version": "1.2.0",
       "_view_name": "LayoutView",
       "align_content": null,
       "align_items": null,
       "align_self": null,
       "border": null,
       "bottom": null,
       "display": null,
       "flex": null,
       "flex_flow": null,
       "grid_area": null,
       "grid_auto_columns": null,
       "grid_auto_flow": null,
       "grid_auto_rows": null,
       "grid_column": null,
       "grid_gap": null,
       "grid_row": null,
       "grid_template_areas": null,
       "grid_template_columns": null,
       "grid_template_rows": null,
       "height": null,
       "justify_content": null,
       "justify_items": null,
       "left": null,
       "margin": null,
       "max_height": null,
       "max_width": null,
       "min_height": null,
       "min_width": null,
       "object_fit": null,
       "object_position": null,
       "order": null,
       "overflow": null,
       "overflow_x": null,
       "overflow_y": null,
       "padding": null,
       "right": null,
       "top": null,
       "visibility": null,
       "width": null
      }
     },
     "d809aee7156240d4a7e9f3372e1f41c1": {
      "model_module": "@jupyter-widgets/base",
      "model_module_version": "1.2.0",
      "model_name": "LayoutModel",
      "state": {
       "_model_module": "@jupyter-widgets/base",
       "_model_module_version": "1.2.0",
       "_model_name": "LayoutModel",
       "_view_count": null,
       "_view_module": "@jupyter-widgets/base",
       "_view_module_version": "1.2.0",
       "_view_name": "LayoutView",
       "align_content": null,
       "align_items": null,
       "align_self": null,
       "border": null,
       "bottom": null,
       "display": null,
       "flex": null,
       "flex_flow": null,
       "grid_area": null,
       "grid_auto_columns": null,
       "grid_auto_flow": null,
       "grid_auto_rows": null,
       "grid_column": null,
       "grid_gap": null,
       "grid_row": null,
       "grid_template_areas": null,
       "grid_template_columns": null,
       "grid_template_rows": null,
       "height": null,
       "justify_content": null,
       "justify_items": null,
       "left": null,
       "margin": null,
       "max_height": null,
       "max_width": null,
       "min_height": null,
       "min_width": null,
       "object_fit": null,
       "object_position": null,
       "order": null,
       "overflow": null,
       "overflow_x": null,
       "overflow_y": null,
       "padding": null,
       "right": null,
       "top": null,
       "visibility": null,
       "width": null
      }
     },
     "e14965751a4d41169495df42b1113b5f": {
      "model_module": "@jupyter-widgets/base",
      "model_module_version": "1.2.0",
      "model_name": "LayoutModel",
      "state": {
       "_model_module": "@jupyter-widgets/base",
       "_model_module_version": "1.2.0",
       "_model_name": "LayoutModel",
       "_view_count": null,
       "_view_module": "@jupyter-widgets/base",
       "_view_module_version": "1.2.0",
       "_view_name": "LayoutView",
       "align_content": null,
       "align_items": null,
       "align_self": null,
       "border": null,
       "bottom": null,
       "display": null,
       "flex": null,
       "flex_flow": null,
       "grid_area": null,
       "grid_auto_columns": null,
       "grid_auto_flow": null,
       "grid_auto_rows": null,
       "grid_column": null,
       "grid_gap": null,
       "grid_row": null,
       "grid_template_areas": null,
       "grid_template_columns": null,
       "grid_template_rows": null,
       "height": null,
       "justify_content": null,
       "justify_items": null,
       "left": null,
       "margin": null,
       "max_height": null,
       "max_width": null,
       "min_height": null,
       "min_width": null,
       "object_fit": null,
       "object_position": null,
       "order": null,
       "overflow": null,
       "overflow_x": null,
       "overflow_y": null,
       "padding": null,
       "right": null,
       "top": null,
       "visibility": null,
       "width": null
      }
     },
     "e1ccf2fd0c254c9792b8a33223faea4e": {
      "model_module": "@jupyter-widgets/base",
      "model_module_version": "1.2.0",
      "model_name": "LayoutModel",
      "state": {
       "_model_module": "@jupyter-widgets/base",
       "_model_module_version": "1.2.0",
       "_model_name": "LayoutModel",
       "_view_count": null,
       "_view_module": "@jupyter-widgets/base",
       "_view_module_version": "1.2.0",
       "_view_name": "LayoutView",
       "align_content": null,
       "align_items": null,
       "align_self": null,
       "border": null,
       "bottom": null,
       "display": null,
       "flex": null,
       "flex_flow": null,
       "grid_area": null,
       "grid_auto_columns": null,
       "grid_auto_flow": null,
       "grid_auto_rows": null,
       "grid_column": null,
       "grid_gap": null,
       "grid_row": null,
       "grid_template_areas": null,
       "grid_template_columns": null,
       "grid_template_rows": null,
       "height": null,
       "justify_content": null,
       "justify_items": null,
       "left": null,
       "margin": null,
       "max_height": null,
       "max_width": null,
       "min_height": null,
       "min_width": null,
       "object_fit": null,
       "object_position": null,
       "order": null,
       "overflow": null,
       "overflow_x": null,
       "overflow_y": null,
       "padding": null,
       "right": null,
       "top": null,
       "visibility": null,
       "width": null
      }
     },
     "ea7d5bf3031648cd9f7ec8bf3fe22ee1": {
      "model_module": "@jupyter-widgets/controls",
      "model_module_version": "1.5.0",
      "model_name": "HTMLModel",
      "state": {
       "_dom_classes": [],
       "_model_module": "@jupyter-widgets/controls",
       "_model_module_version": "1.5.0",
       "_model_name": "HTMLModel",
       "_view_count": null,
       "_view_module": "@jupyter-widgets/controls",
       "_view_module_version": "1.5.0",
       "_view_name": "HTMLView",
       "description": "",
       "description_tooltip": null,
       "layout": "IPY_MODEL_1f4b2c37244840de9ea3b8879e5311fd",
       "placeholder": "​",
       "style": "IPY_MODEL_6db204557c7e4f38b84aca6404a2cbad",
       "value": " 440M/440M [00:01&lt;00:00, 281MB/s]"
      }
     },
     "ee5c4b4d011a4a1ebc74523f5d3d9a92": {
      "model_module": "@jupyter-widgets/base",
      "model_module_version": "1.2.0",
      "model_name": "LayoutModel",
      "state": {
       "_model_module": "@jupyter-widgets/base",
       "_model_module_version": "1.2.0",
       "_model_name": "LayoutModel",
       "_view_count": null,
       "_view_module": "@jupyter-widgets/base",
       "_view_module_version": "1.2.0",
       "_view_name": "LayoutView",
       "align_content": null,
       "align_items": null,
       "align_self": null,
       "border": null,
       "bottom": null,
       "display": null,
       "flex": null,
       "flex_flow": null,
       "grid_area": null,
       "grid_auto_columns": null,
       "grid_auto_flow": null,
       "grid_auto_rows": null,
       "grid_column": null,
       "grid_gap": null,
       "grid_row": null,
       "grid_template_areas": null,
       "grid_template_columns": null,
       "grid_template_rows": null,
       "height": null,
       "justify_content": null,
       "justify_items": null,
       "left": null,
       "margin": null,
       "max_height": null,
       "max_width": null,
       "min_height": null,
       "min_width": null,
       "object_fit": null,
       "object_position": null,
       "order": null,
       "overflow": null,
       "overflow_x": null,
       "overflow_y": null,
       "padding": null,
       "right": null,
       "top": null,
       "visibility": null,
       "width": null
      }
     },
     "f311aa59e3d6413ba8fbcb5f85f3c417": {
      "model_module": "@jupyter-widgets/controls",
      "model_module_version": "1.5.0",
      "model_name": "HBoxModel",
      "state": {
       "_dom_classes": [],
       "_model_module": "@jupyter-widgets/controls",
       "_model_module_version": "1.5.0",
       "_model_name": "HBoxModel",
       "_view_count": null,
       "_view_module": "@jupyter-widgets/controls",
       "_view_module_version": "1.5.0",
       "_view_name": "HBoxView",
       "box_style": "",
       "children": [
        "IPY_MODEL_673e072e9c4e4688b75f4af180d52abc",
        "IPY_MODEL_bc34d077d05349649d187847f6537dcd",
        "IPY_MODEL_1099583f6a304d349c55a73ff7625ae9"
       ],
       "layout": "IPY_MODEL_77570d44ca3645e9bf216af38208c89b"
      }
     },
     "f4bca59684c24332b661889891857ca3": {
      "model_module": "@jupyter-widgets/controls",
      "model_module_version": "1.5.0",
      "model_name": "HTMLModel",
      "state": {
       "_dom_classes": [],
       "_model_module": "@jupyter-widgets/controls",
       "_model_module_version": "1.5.0",
       "_model_name": "HTMLModel",
       "_view_count": null,
       "_view_module": "@jupyter-widgets/controls",
       "_view_module_version": "1.5.0",
       "_view_name": "HTMLView",
       "description": "",
       "description_tooltip": null,
       "layout": "IPY_MODEL_d809aee7156240d4a7e9f3372e1f41c1",
       "placeholder": "​",
       "style": "IPY_MODEL_f6723099cb1e43b09afe60e66092a09d",
       "value": " 232k/232k [00:00&lt;00:00, 1.82MB/s]"
      }
     },
     "f6723099cb1e43b09afe60e66092a09d": {
      "model_module": "@jupyter-widgets/controls",
      "model_module_version": "1.5.0",
      "model_name": "DescriptionStyleModel",
      "state": {
       "_model_module": "@jupyter-widgets/controls",
       "_model_module_version": "1.5.0",
       "_model_name": "DescriptionStyleModel",
       "_view_count": null,
       "_view_module": "@jupyter-widgets/base",
       "_view_module_version": "1.2.0",
       "_view_name": "StyleView",
       "description_width": ""
      }
     },
     "f7cf190284bd4bf7a8890d8af5e4608c": {
      "model_module": "@jupyter-widgets/controls",
      "model_module_version": "1.5.0",
      "model_name": "HBoxModel",
      "state": {
       "_dom_classes": [],
       "_model_module": "@jupyter-widgets/controls",
       "_model_module_version": "1.5.0",
       "_model_name": "HBoxModel",
       "_view_count": null,
       "_view_module": "@jupyter-widgets/controls",
       "_view_module_version": "1.5.0",
       "_view_name": "HBoxView",
       "box_style": "",
       "children": [
        "IPY_MODEL_bdc34b0ed3cd4b069bfb1881400944c8",
        "IPY_MODEL_5c91290a34b94e74a3056aec763bfa55",
        "IPY_MODEL_f4bca59684c24332b661889891857ca3"
       ],
       "layout": "IPY_MODEL_f8741aaf20cd42ae91f380206add3583"
      }
     },
     "f8741aaf20cd42ae91f380206add3583": {
      "model_module": "@jupyter-widgets/base",
      "model_module_version": "1.2.0",
      "model_name": "LayoutModel",
      "state": {
       "_model_module": "@jupyter-widgets/base",
       "_model_module_version": "1.2.0",
       "_model_name": "LayoutModel",
       "_view_count": null,
       "_view_module": "@jupyter-widgets/base",
       "_view_module_version": "1.2.0",
       "_view_name": "LayoutView",
       "align_content": null,
       "align_items": null,
       "align_self": null,
       "border": null,
       "bottom": null,
       "display": null,
       "flex": null,
       "flex_flow": null,
       "grid_area": null,
       "grid_auto_columns": null,
       "grid_auto_flow": null,
       "grid_auto_rows": null,
       "grid_column": null,
       "grid_gap": null,
       "grid_row": null,
       "grid_template_areas": null,
       "grid_template_columns": null,
       "grid_template_rows": null,
       "height": null,
       "justify_content": null,
       "justify_items": null,
       "left": null,
       "margin": null,
       "max_height": null,
       "max_width": null,
       "min_height": null,
       "min_width": null,
       "object_fit": null,
       "object_position": null,
       "order": null,
       "overflow": null,
       "overflow_x": null,
       "overflow_y": null,
       "padding": null,
       "right": null,
       "top": null,
       "visibility": null,
       "width": null
      }
     },
     "fae830e7cd7843079d805c36c7f98b68": {
      "model_module": "@jupyter-widgets/controls",
      "model_module_version": "1.5.0",
      "model_name": "FloatProgressModel",
      "state": {
       "_dom_classes": [],
       "_model_module": "@jupyter-widgets/controls",
       "_model_module_version": "1.5.0",
       "_model_name": "FloatProgressModel",
       "_view_count": null,
       "_view_module": "@jupyter-widgets/controls",
       "_view_module_version": "1.5.0",
       "_view_name": "ProgressView",
       "bar_style": "success",
       "description": "",
       "description_tooltip": null,
       "layout": "IPY_MODEL_78e202273786404fb15e8f4914525d08",
       "max": 440449768.0,
       "min": 0.0,
       "orientation": "horizontal",
       "style": "IPY_MODEL_50411be4035e4bef90cb0ff8af27418e",
       "value": 440449768.0
      }
     }
    },
    "version_major": 2,
    "version_minor": 0
   }
  }
 },
 "nbformat": 4,
 "nbformat_minor": 5
}
