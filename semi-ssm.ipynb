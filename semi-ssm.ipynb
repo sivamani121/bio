{
 "cells": [
  {
   "cell_type": "code",
   "execution_count": 1,
   "id": "ad56d09d",
   "metadata": {
    "execution": {
     "iopub.execute_input": "2024-03-03T09:09:19.418316Z",
     "iopub.status.busy": "2024-03-03T09:09:19.417919Z",
     "iopub.status.idle": "2024-03-03T09:09:19.422742Z",
     "shell.execute_reply": "2024-03-03T09:09:19.421953Z"
    },
    "papermill": {
     "duration": 0.019595,
     "end_time": "2024-03-03T09:09:19.424859",
     "exception": false,
     "start_time": "2024-03-03T09:09:19.405264",
     "status": "completed"
    },
    "tags": []
   },
   "outputs": [],
   "source": [
    "# !pip install torch"
   ]
  },
  {
   "cell_type": "code",
   "execution_count": 2,
   "id": "76b5ebc9",
   "metadata": {
    "_cell_guid": "b1076dfc-b9ad-4769-8c92-a6c4dae69d19",
    "_uuid": "8f2839f25d086af736a60e9eeb907d3b93b6e0e5",
    "execution": {
     "iopub.execute_input": "2024-03-03T09:09:19.447125Z",
     "iopub.status.busy": "2024-03-03T09:09:19.446821Z",
     "iopub.status.idle": "2024-03-03T09:09:23.098288Z",
     "shell.execute_reply": "2024-03-03T09:09:23.097254Z"
    },
    "papermill": {
     "duration": 3.665223,
     "end_time": "2024-03-03T09:09:23.100712",
     "exception": false,
     "start_time": "2024-03-03T09:09:19.435489",
     "status": "completed"
    },
    "tags": []
   },
   "outputs": [],
   "source": [
    "# Regular imports\n",
    "import matplotlib.pyplot as plt\n",
    "import torch\n",
    "\n",
    "from torch import nn\n",
    "import numpy as np \n"
   ]
  },
  {
   "cell_type": "code",
   "execution_count": 3,
   "id": "e9b65b14",
   "metadata": {
    "execution": {
     "iopub.execute_input": "2024-03-03T09:09:23.121092Z",
     "iopub.status.busy": "2024-03-03T09:09:23.120678Z",
     "iopub.status.idle": "2024-03-03T09:09:23.173853Z",
     "shell.execute_reply": "2024-03-03T09:09:23.173033Z"
    },
    "papermill": {
     "duration": 0.065454,
     "end_time": "2024-03-03T09:09:23.175838",
     "exception": false,
     "start_time": "2024-03-03T09:09:23.110384",
     "status": "completed"
    },
    "tags": []
   },
   "outputs": [
    {
     "data": {
      "text/plain": [
       "'cuda'"
      ]
     },
     "execution_count": 3,
     "metadata": {},
     "output_type": "execute_result"
    }
   ],
   "source": [
    "device = \"cuda\" if torch.cuda.is_available() else \"cpu\"\n",
    "device\n",
    "\n",
    "#os.environ['CUDA_LAUNCH_BLOCKING'] = '1'\n"
   ]
  },
  {
   "cell_type": "code",
   "execution_count": 4,
   "id": "a5f5ab00",
   "metadata": {
    "execution": {
     "iopub.execute_input": "2024-03-03T09:09:23.196002Z",
     "iopub.status.busy": "2024-03-03T09:09:23.195699Z",
     "iopub.status.idle": "2024-03-03T09:09:23.199635Z",
     "shell.execute_reply": "2024-03-03T09:09:23.198822Z"
    },
    "papermill": {
     "duration": 0.01613,
     "end_time": "2024-03-03T09:09:23.201490",
     "exception": false,
     "start_time": "2024-03-03T09:09:23.185360",
     "status": "completed"
    },
    "tags": []
   },
   "outputs": [],
   "source": [
    "import os\n",
    "os.environ[\"TORCH_USE_CUDA_DSA\"] = \"1\"\n",
    "\n",
    "# Import PyTorch and other libraries\n",
    "\n",
    "\n"
   ]
  },
  {
   "cell_type": "code",
   "execution_count": 5,
   "id": "8f75f3b6",
   "metadata": {
    "execution": {
     "iopub.execute_input": "2024-03-03T09:09:23.221594Z",
     "iopub.status.busy": "2024-03-03T09:09:23.221316Z",
     "iopub.status.idle": "2024-03-03T09:09:23.225037Z",
     "shell.execute_reply": "2024-03-03T09:09:23.224161Z"
    },
    "papermill": {
     "duration": 0.016018,
     "end_time": "2024-03-03T09:09:23.226900",
     "exception": false,
     "start_time": "2024-03-03T09:09:23.210882",
     "status": "completed"
    },
    "tags": []
   },
   "outputs": [],
   "source": [
    "data_path = \"/kaggle/input/majortry6/labeled_data.csv\""
   ]
  },
  {
   "cell_type": "code",
   "execution_count": 6,
   "id": "bd8b3999",
   "metadata": {
    "execution": {
     "iopub.execute_input": "2024-03-03T09:09:23.246858Z",
     "iopub.status.busy": "2024-03-03T09:09:23.246593Z",
     "iopub.status.idle": "2024-03-03T09:09:24.155498Z",
     "shell.execute_reply": "2024-03-03T09:09:24.154344Z"
    },
    "papermill": {
     "duration": 0.92149,
     "end_time": "2024-03-03T09:09:24.157915",
     "exception": false,
     "start_time": "2024-03-03T09:09:23.236425",
     "status": "completed"
    },
    "tags": []
   },
   "outputs": [
    {
     "name": "stdout",
     "output_type": "stream",
     "text": [
      "Index(['Unnamed: 0', 'count', 'hate_speech', 'offensive_language', 'neither',\n",
      "       'class', 'tweet'],\n",
      "      dtype='object')\n"
     ]
    }
   ],
   "source": [
    "import numpy as np\n",
    "import pickle\n",
    "import pandas as pd\n",
    "pd.options.mode.copy_on_write = True\n",
    "\n",
    "data = pd.read_csv(data_path)\n",
    "df = pd.DataFrame(data)\n",
    "print(df.columns)\n",
    "df.columns = ['Unnamed: 0', 'count', 'hate_speech', 'offensive_language', 'neither',\n",
    "       'classk', 'tweet']"
   ]
  },
  {
   "cell_type": "code",
   "execution_count": 7,
   "id": "cffb9378",
   "metadata": {
    "execution": {
     "iopub.execute_input": "2024-03-03T09:09:24.180765Z",
     "iopub.status.busy": "2024-03-03T09:09:24.180235Z",
     "iopub.status.idle": "2024-03-03T09:09:24.193571Z",
     "shell.execute_reply": "2024-03-03T09:09:24.192829Z"
    },
    "papermill": {
     "duration": 0.026124,
     "end_time": "2024-03-03T09:09:24.195589",
     "exception": false,
     "start_time": "2024-03-03T09:09:24.169465",
     "status": "completed"
    },
    "tags": []
   },
   "outputs": [],
   "source": [
    "df[\"classk\"] = df[\"classk\"].map({2:1, 1:0, 0:0}) \n",
    "# label = 0 = hate\n",
    "# label = 1 = not_hate"
   ]
  },
  {
   "cell_type": "code",
   "execution_count": 8,
   "id": "575117bb",
   "metadata": {
    "execution": {
     "iopub.execute_input": "2024-03-03T09:09:24.216082Z",
     "iopub.status.busy": "2024-03-03T09:09:24.215454Z",
     "iopub.status.idle": "2024-03-03T09:09:24.350711Z",
     "shell.execute_reply": "2024-03-03T09:09:24.350016Z"
    },
    "papermill": {
     "duration": 0.147383,
     "end_time": "2024-03-03T09:09:24.352501",
     "exception": false,
     "start_time": "2024-03-03T09:09:24.205118",
     "status": "completed"
    },
    "tags": []
   },
   "outputs": [],
   "source": [
    "tweets = df.tweet\n",
    "res = []\n",
    "\n",
    "for i in range(len(tweets)):\n",
    "    splitt = tweets[i].split(\":\")\n",
    "    if len(splitt) == 1:\n",
    "        res.append(splitt[0])\n",
    "    else:\n",
    "        res.append(splitt[-1])\n",
    "        \n",
    "tweets = res\n",
    "\n",
    "# print(tweets)"
   ]
  },
  {
   "cell_type": "code",
   "execution_count": 9,
   "id": "554a1f00",
   "metadata": {
    "execution": {
     "iopub.execute_input": "2024-03-03T09:09:24.373082Z",
     "iopub.status.busy": "2024-03-03T09:09:24.372478Z",
     "iopub.status.idle": "2024-03-03T09:09:24.377150Z",
     "shell.execute_reply": "2024-03-03T09:09:24.376316Z"
    },
    "papermill": {
     "duration": 0.017114,
     "end_time": "2024-03-03T09:09:24.379049",
     "exception": false,
     "start_time": "2024-03-03T09:09:24.361935",
     "status": "completed"
    },
    "tags": []
   },
   "outputs": [],
   "source": [
    "hate_words = ['Moist', 'Cunt', 'Panties', 'Fuck', 'Hate', 'Nigger', 'Pussy', 'Ass', 'Motherfucker', 'Bitch', 'Damn']\n",
    "not_hate_words = ['Love', 'Peace', 'Kindness', 'Happiness', 'Respect', 'Friendship',\n",
    "'Appreciation', 'Hope', 'Encouragement', 'Support', 'Caring']"
   ]
  },
  {
   "cell_type": "code",
   "execution_count": 10,
   "id": "e0810540",
   "metadata": {
    "execution": {
     "iopub.execute_input": "2024-03-03T09:09:24.399013Z",
     "iopub.status.busy": "2024-03-03T09:09:24.398743Z",
     "iopub.status.idle": "2024-03-03T09:09:29.255937Z",
     "shell.execute_reply": "2024-03-03T09:09:29.254989Z"
    },
    "papermill": {
     "duration": 4.869631,
     "end_time": "2024-03-03T09:09:29.258079",
     "exception": false,
     "start_time": "2024-03-03T09:09:24.388448",
     "status": "completed"
    },
    "tags": []
   },
   "outputs": [
    {
     "data": {
      "application/vnd.jupyter.widget-view+json": {
       "model_id": "c04f4e3b474b456697f8eade23df735b",
       "version_major": 2,
       "version_minor": 0
      },
      "text/plain": [
       "tokenizer_config.json:   0%|          | 0.00/48.0 [00:00<?, ?B/s]"
      ]
     },
     "metadata": {},
     "output_type": "display_data"
    },
    {
     "data": {
      "application/vnd.jupyter.widget-view+json": {
       "model_id": "226bc9fd338a40e9821be8931d50e8c5",
       "version_major": 2,
       "version_minor": 0
      },
      "text/plain": [
       "config.json:   0%|          | 0.00/570 [00:00<?, ?B/s]"
      ]
     },
     "metadata": {},
     "output_type": "display_data"
    },
    {
     "data": {
      "application/vnd.jupyter.widget-view+json": {
       "model_id": "ef79aa02171a42df8e993034a28377ce",
       "version_major": 2,
       "version_minor": 0
      },
      "text/plain": [
       "vocab.txt:   0%|          | 0.00/232k [00:00<?, ?B/s]"
      ]
     },
     "metadata": {},
     "output_type": "display_data"
    },
    {
     "data": {
      "application/vnd.jupyter.widget-view+json": {
       "model_id": "3436e9379a924769b3e9d2f8d0ce4bb4",
       "version_major": 2,
       "version_minor": 0
      },
      "text/plain": [
       "tokenizer.json:   0%|          | 0.00/466k [00:00<?, ?B/s]"
      ]
     },
     "metadata": {},
     "output_type": "display_data"
    },
    {
     "data": {
      "text/plain": [
       "{'input_ids': [101, 1045, 2293, 20421, 102], 'token_type_ids': [0, 0, 0, 0, 0], 'attention_mask': [1, 1, 1, 1, 1]}"
      ]
     },
     "execution_count": 10,
     "metadata": {},
     "output_type": "execute_result"
    }
   ],
   "source": [
    "\n",
    "from transformers import AutoTokenizer\n",
    "from transformers import BertModel\n",
    "\n",
    "tokenizer = AutoTokenizer.from_pretrained(\"bert-base-uncased\")\n",
    "\n",
    "tokenizer(\"I love Pokemon\")\n",
    "# # tokenizer.decode(tokenizer(\"I love Pokemon\")['input_ids'])\n",
    "# from transformers import BertTokenizer, BertForSequenceClassification\n",
    "# import torch\n",
    "# from torch.utils.data import DataLoader, TensorDataset\n",
    "\n",
    "# # Load pre-trained model and tokenizer\n",
    "# model = BertForSequenceClassification.from_pretrained('bert-base-uncased', num_labels=num_classes)\n",
    "# tokenizer = BertTokenizer.from_pretrained('bert-base-uncased')\n",
    "\n",
    "# # Tokenize and prepare data\n",
    "# input_texts = [\"your input sentences\"]\n",
    "# labels = [0, 1, ...]  # corresponding labels\n",
    "\n",
    "# tokenized_inputs = tokenizer(input_texts, truncation=True, padding=True, return_tensors=\"pt\")\n",
    "\n",
    "# # Create DataLoader\n",
    "# dataset = TensorDataset(tokenized_inputs['input_ids'], tokenized_inputs['attention_mask'], torch.tensor(labels))\n",
    "# dataloader = DataLoader(dataset, batch_size=batch_size, shuffle=True)\n",
    "\n",
    "# # Set up optimizer and loss function\n",
    "# optimizer = torch.optim.AdamW(model.parameters(), lr=learning_rate)\n",
    "# loss_fn = torch.nn.CrossEntropyLoss()\n",
    "\n",
    "# # Fine-tuning loop\n",
    "# for epoch in range(num_epochs):\n",
    "#     for batch in dataloader:\n",
    "#         inputs, attention_mask, target = batch\n",
    "#         outputs = model(inputs, attention_mask=attention_mask)\n",
    "#         loss = loss_fn(outputs.logits, target)\n",
    "        \n",
    "#         optimizer.zero_grad()\n",
    "#         loss.backward()\n",
    "#         optimizer.step()\n",
    "\n",
    "# # Evaluate on a test set\n",
    "# # (Prepare the test set similarly and use model.eval() before inference)\n"
   ]
  },
  {
   "cell_type": "code",
   "execution_count": 11,
   "id": "52016598",
   "metadata": {
    "execution": {
     "iopub.execute_input": "2024-03-03T09:09:29.280346Z",
     "iopub.status.busy": "2024-03-03T09:09:29.279895Z",
     "iopub.status.idle": "2024-03-03T09:09:31.805186Z",
     "shell.execute_reply": "2024-03-03T09:09:31.804199Z"
    },
    "papermill": {
     "duration": 2.538961,
     "end_time": "2024-03-03T09:09:31.807582",
     "exception": false,
     "start_time": "2024-03-03T09:09:29.268621",
     "status": "completed"
    },
    "tags": []
   },
   "outputs": [
    {
     "data": {
      "application/vnd.jupyter.widget-view+json": {
       "model_id": "3a6f58e03fd44eb39253950bd0e50681",
       "version_major": 2,
       "version_minor": 0
      },
      "text/plain": [
       "model.safetensors:   0%|          | 0.00/440M [00:00<?, ?B/s]"
      ]
     },
     "metadata": {},
     "output_type": "display_data"
    },
    {
     "name": "stdout",
     "output_type": "stream",
     "text": [
      "{'input_ids': tensor([[  101,  7592,  2026,  3899,  2003, 10140,   102]]), 'token_type_ids': tensor([[0, 0, 0, 0, 0, 0, 0]]), 'attention_mask': tensor([[1, 1, 1, 1, 1, 1, 1]])}\n",
      "7\n",
      "768\n",
      "768\n"
     ]
    }
   ],
   "source": [
    "model = BertModel.from_pretrained(\"bert-base-uncased\")\n",
    "\n",
    "inputs = tokenizer(\"Hello my dog is cute\", return_tensors=\"pt\")\n",
    "print(inputs)\n",
    "\n",
    "outputs = model(**inputs)\n",
    "\n",
    "print(len(outputs.last_hidden_state[0])) # => no. of tokens + [CLS] + [SEP]\n",
    "print(len(outputs.last_hidden_state[0][1])) # => hidden dim size\n",
    "print(len(outputs.last_hidden_state[0][2])) # => hidden dim size"
   ]
  },
  {
   "cell_type": "code",
   "execution_count": 12,
   "id": "f30b3808",
   "metadata": {
    "execution": {
     "iopub.execute_input": "2024-03-03T09:09:31.830291Z",
     "iopub.status.busy": "2024-03-03T09:09:31.830008Z",
     "iopub.status.idle": "2024-03-03T09:09:32.887955Z",
     "shell.execute_reply": "2024-03-03T09:09:32.887050Z"
    },
    "papermill": {
     "duration": 1.071556,
     "end_time": "2024-03-03T09:09:32.890196",
     "exception": false,
     "start_time": "2024-03-03T09:09:31.818640",
     "status": "completed"
    },
    "tags": []
   },
   "outputs": [
    {
     "data": {
      "text/plain": [
       "torch.float32"
      ]
     },
     "execution_count": 12,
     "metadata": {},
     "output_type": "execute_result"
    }
   ],
   "source": [
    "temp = []\n",
    "model = BertModel.from_pretrained(\"bert-base-uncased\")\n",
    "\n",
    "for word in hate_words:\n",
    "    inputs = tokenizer(word, return_tensors=\"pt\")\n",
    "#     print(inputs)\n",
    "    outputs = model(**inputs)\n",
    "    outputs = torch.mean(outputs.last_hidden_state[0][1:len(outputs.last_hidden_state[0])], dim=0)\n",
    "    temp.append(outputs.tolist())\n",
    "\n",
    "# temp = temp[1:]\n",
    "# print(hate_space)\n",
    "# print(len(temp)) # => no. of words = no. of rows\n",
    "# print(len(temp[0])) # => no. of columns in each row = embedding vector size\n",
    "\n",
    "# hate_space = temp.clone().detach().requires_grad_(True)\n",
    "hate_space =torch.tensor(temp).to(device).requires_grad_()\n",
    "\n",
    "hate_space.is_leaf\n",
    "hate_space.dtype\n",
    "# hate_space\n",
    "# hate_space.requires_grad"
   ]
  },
  {
   "cell_type": "code",
   "execution_count": 13,
   "id": "c165bb0c",
   "metadata": {
    "execution": {
     "iopub.execute_input": "2024-03-03T09:09:32.913493Z",
     "iopub.status.busy": "2024-03-03T09:09:32.913164Z",
     "iopub.status.idle": "2024-03-03T09:09:33.648203Z",
     "shell.execute_reply": "2024-03-03T09:09:33.647043Z"
    },
    "papermill": {
     "duration": 0.748985,
     "end_time": "2024-03-03T09:09:33.650366",
     "exception": false,
     "start_time": "2024-03-03T09:09:32.901381",
     "status": "completed"
    },
    "tags": []
   },
   "outputs": [
    {
     "name": "stdout",
     "output_type": "stream",
     "text": [
      "True\n"
     ]
    }
   ],
   "source": [
    "temp = []\n",
    "model = BertModel.from_pretrained(\"bert-base-uncased\")\n",
    "\n",
    "# with torch.no_grad():\n",
    "for word in not_hate_words:\n",
    "    inputs = tokenizer(word, return_tensors=\"pt\")\n",
    "#     print(inputs)\n",
    "    outputs = model(**inputs)\n",
    "    outputs = torch.mean(outputs.last_hidden_state[0][1:len(outputs.last_hidden_state[0])], dim=0)\n",
    "    temp.append(outputs.tolist())\n",
    "\n",
    "# temp = temp[1:]\n",
    "# print(hate_space)\n",
    "# print(len(temp)) # => no. of words = no. of rows\n",
    "# print(len(temp[0])) # => no. of columns in each row = embedding vector size\n",
    "\n",
    "\n",
    "not_hate_space = torch.tensor(temp).to(device).requires_grad_()\n",
    "\n",
    "print(not_hate_space.is_leaf)\n",
    "\n",
    "# not_hate_space\n",
    "# not_hate_space.requires_grad"
   ]
  },
  {
   "cell_type": "code",
   "execution_count": 14,
   "id": "b3e29d71",
   "metadata": {
    "execution": {
     "iopub.execute_input": "2024-03-03T09:09:33.676421Z",
     "iopub.status.busy": "2024-03-03T09:09:33.675865Z",
     "iopub.status.idle": "2024-03-03T09:09:33.690415Z",
     "shell.execute_reply": "2024-03-03T09:09:33.689531Z"
    },
    "papermill": {
     "duration": 0.030436,
     "end_time": "2024-03-03T09:09:33.692503",
     "exception": false,
     "start_time": "2024-03-03T09:09:33.662067",
     "status": "completed"
    },
    "tags": []
   },
   "outputs": [
    {
     "name": "stdout",
     "output_type": "stream",
     "text": [
      "torch.Size([4, 768, 23])\n"
     ]
    },
    {
     "data": {
      "text/plain": [
       "torch.Size([4, 11, 23])"
      ]
     },
     "execution_count": 14,
     "metadata": {},
     "output_type": "execute_result"
    }
   ],
   "source": [
    "# Trial matmul\n",
    "\n",
    "t1 = torch.randn(11, 768)\n",
    "t2 = torch.randn(4, 23, 768)\n",
    "\n",
    "print(torch.transpose(t2, 1, 2).shape)\n",
    "\n",
    "torch.matmul(t1, torch.transpose(t2, 1, 2)).shape"
   ]
  },
  {
   "cell_type": "code",
   "execution_count": 15,
   "id": "e6b037a4",
   "metadata": {
    "execution": {
     "iopub.execute_input": "2024-03-03T09:09:33.723039Z",
     "iopub.status.busy": "2024-03-03T09:09:33.722635Z",
     "iopub.status.idle": "2024-03-03T09:09:33.728501Z",
     "shell.execute_reply": "2024-03-03T09:09:33.727472Z"
    },
    "papermill": {
     "duration": 0.021955,
     "end_time": "2024-03-03T09:09:33.731074",
     "exception": false,
     "start_time": "2024-03-03T09:09:33.709119",
     "status": "completed"
    },
    "tags": []
   },
   "outputs": [
    {
     "name": "stdout",
     "output_type": "stream",
     "text": [
      "hate_space.grad: None\n",
      "not_hate_space.grad: None\n"
     ]
    }
   ],
   "source": [
    "print(\"hate_space.grad:\", hate_space.grad)\n",
    "print(\"not_hate_space.grad:\", not_hate_space.grad)"
   ]
  },
  {
   "cell_type": "code",
   "execution_count": 16,
   "id": "f901d815",
   "metadata": {
    "execution": {
     "iopub.execute_input": "2024-03-03T09:09:33.759310Z",
     "iopub.status.busy": "2024-03-03T09:09:33.759050Z",
     "iopub.status.idle": "2024-03-03T09:09:33.764607Z",
     "shell.execute_reply": "2024-03-03T09:09:33.763764Z"
    },
    "papermill": {
     "duration": 0.01926,
     "end_time": "2024-03-03T09:09:33.766530",
     "exception": false,
     "start_time": "2024-03-03T09:09:33.747270",
     "status": "completed"
    },
    "tags": []
   },
   "outputs": [],
   "source": [
    "class Custom_Dataset(torch.utils.data.Dataset):\n",
    "    \n",
    "    def __init__(self, data, labels):\n",
    "        self.data = data\n",
    "        self.labels = labels\n",
    "        \n",
    "    def __getitem__(self, index: int) -> (torch.Tensor, int): # => (X, y)\n",
    "        \n",
    "        X = self.data[index]\n",
    "        y = self.labels[index]\n",
    "\n",
    "        return (X, y)\n",
    "    \n",
    "    \n",
    "    def __len__(self) -> int:\n",
    "        \n",
    "        return len(self.data)"
   ]
  },
  {
   "cell_type": "code",
   "execution_count": 17,
   "id": "989f05cc",
   "metadata": {
    "execution": {
     "iopub.execute_input": "2024-03-03T09:09:33.789065Z",
     "iopub.status.busy": "2024-03-03T09:09:33.788785Z",
     "iopub.status.idle": "2024-03-03T09:09:34.919906Z",
     "shell.execute_reply": "2024-03-03T09:09:34.918463Z"
    },
    "papermill": {
     "duration": 1.145139,
     "end_time": "2024-03-03T09:09:34.922439",
     "exception": false,
     "start_time": "2024-03-03T09:09:33.777300",
     "status": "completed"
    },
    "tags": []
   },
   "outputs": [
    {
     "name": "stdout",
     "output_type": "stream",
     "text": [
      "19826 19826\n",
      "4957 4957\n"
     ]
    }
   ],
   "source": [
    "from sklearn.model_selection import train_test_split\n",
    "\n",
    "X_train, X_test, y_train, y_test = train_test_split(tweets, list(df.classk), test_size=0.2, shuffle=True)\n",
    "\n",
    "print(len(X_train), len(y_train))\n",
    "print(len(X_test), len(y_test))"
   ]
  },
  {
   "cell_type": "code",
   "execution_count": 18,
   "id": "a8bf7079",
   "metadata": {
    "execution": {
     "iopub.execute_input": "2024-03-03T09:09:34.953211Z",
     "iopub.status.busy": "2024-03-03T09:09:34.952264Z",
     "iopub.status.idle": "2024-03-03T09:09:34.959163Z",
     "shell.execute_reply": "2024-03-03T09:09:34.958252Z"
    },
    "papermill": {
     "duration": 0.022814,
     "end_time": "2024-03-03T09:09:34.961457",
     "exception": false,
     "start_time": "2024-03-03T09:09:34.938643",
     "status": "completed"
    },
    "tags": []
   },
   "outputs": [],
   "source": [
    "train_data = Custom_Dataset(data=X_train, labels=y_train)\n",
    "test_data = Custom_Dataset(data=X_test, labels=y_test)\n",
    "\n",
    "train_loader = torch.utils.data.DataLoader(dataset=train_data, batch_size=3, shuffle=True)\n",
    "test_loader = torch.utils.data.DataLoader(dataset=test_data, batch_size=1, shuffle=False)\n"
   ]
  },
  {
   "cell_type": "code",
   "execution_count": 19,
   "id": "68bc0373",
   "metadata": {
    "execution": {
     "iopub.execute_input": "2024-03-03T09:09:34.990541Z",
     "iopub.status.busy": "2024-03-03T09:09:34.989726Z",
     "iopub.status.idle": "2024-03-03T09:09:34.997455Z",
     "shell.execute_reply": "2024-03-03T09:09:34.996462Z"
    },
    "papermill": {
     "duration": 0.022558,
     "end_time": "2024-03-03T09:09:34.999430",
     "exception": false,
     "start_time": "2024-03-03T09:09:34.976872",
     "status": "completed"
    },
    "tags": []
   },
   "outputs": [
    {
     "data": {
      "text/plain": [
       "[[-0.03185543292705262],\n",
       " [0.2549098417341584],\n",
       " [0.8781712336045231],\n",
       " [0.9097782105079526],\n",
       " [-0.8423763629311583],\n",
       " [-0.4880432216794295],\n",
       " [0.7692144720172831],\n",
       " [-0.4323174405687671],\n",
       " [0.20717706024465277],\n",
       " [-0.06089193629838463],\n",
       " [-0.7691256619337787]]"
      ]
     },
     "execution_count": 19,
     "metadata": {},
     "output_type": "execute_result"
    }
   ],
   "source": [
    "import random\n",
    "l=[[random.uniform(-1,1)] for i in range(11)]\n",
    "l"
   ]
  },
  {
   "cell_type": "code",
   "execution_count": 20,
   "id": "27363898",
   "metadata": {
    "execution": {
     "iopub.execute_input": "2024-03-03T09:09:35.024414Z",
     "iopub.status.busy": "2024-03-03T09:09:35.023661Z",
     "iopub.status.idle": "2024-03-03T09:09:35.030928Z",
     "shell.execute_reply": "2024-03-03T09:09:35.029957Z"
    },
    "papermill": {
     "duration": 0.022023,
     "end_time": "2024-03-03T09:09:35.032814",
     "exception": false,
     "start_time": "2024-03-03T09:09:35.010791",
     "status": "completed"
    },
    "tags": []
   },
   "outputs": [
    {
     "name": "stdout",
     "output_type": "stream",
     "text": [
      "cuda:0 True\n"
     ]
    }
   ],
   "source": [
    "# next(iter(test_loader)) \n",
    "tensor_shape = (11,1)\n",
    "hate_space_weights = torch.tensor(l).to(device).requires_grad_()\n",
    "not_hate_space_weights = torch.tensor(l).to(device).requires_grad_()\n",
    "\n",
    "print(hate_space_weights.device,not_hate_space_weights.is_leaf)"
   ]
  },
  {
   "cell_type": "code",
   "execution_count": 21,
   "id": "117e6578",
   "metadata": {
    "execution": {
     "iopub.execute_input": "2024-03-03T09:09:35.057356Z",
     "iopub.status.busy": "2024-03-03T09:09:35.057005Z",
     "iopub.status.idle": "2024-03-03T09:09:35.063340Z",
     "shell.execute_reply": "2024-03-03T09:09:35.062296Z"
    },
    "papermill": {
     "duration": 0.021066,
     "end_time": "2024-03-03T09:09:35.065385",
     "exception": false,
     "start_time": "2024-03-03T09:09:35.044319",
     "status": "completed"
    },
    "tags": []
   },
   "outputs": [
    {
     "data": {
      "text/plain": [
       "True"
      ]
     },
     "execution_count": 21,
     "metadata": {},
     "output_type": "execute_result"
    }
   ],
   "source": [
    "hate_space_weights.is_leaf"
   ]
  },
  {
   "cell_type": "code",
   "execution_count": 22,
   "id": "b889c4b2",
   "metadata": {
    "execution": {
     "iopub.execute_input": "2024-03-03T09:09:35.090465Z",
     "iopub.status.busy": "2024-03-03T09:09:35.089785Z",
     "iopub.status.idle": "2024-03-03T09:09:35.102791Z",
     "shell.execute_reply": "2024-03-03T09:09:35.101877Z"
    },
    "papermill": {
     "duration": 0.027914,
     "end_time": "2024-03-03T09:09:35.104787",
     "exception": false,
     "start_time": "2024-03-03T09:09:35.076873",
     "status": "completed"
    },
    "tags": []
   },
   "outputs": [],
   "source": [
    "import torch.nn.functional as F\n",
    "\n",
    "class Model0(nn.Module):\n",
    "\n",
    "    def __init__(self, model, tokenizer):\n",
    "        super().__init__()\n",
    "        self.tokenizer = tokenizer\n",
    "        self.model = model\n",
    "\n",
    "    def forward(self, X):\n",
    "        inputs = self.tokenizer(X, return_tensors=\"pt\").to(device)\n",
    "        outputs = self.model(**inputs)\n",
    "        outputs = outputs.last_hidden_state.mean(1).transpose(0, 1)\n",
    "\n",
    "        col_norms = torch.norm(outputs, p=2, dim=0, keepdim=True)\n",
    "        outputs = outputs / col_norms\n",
    "        \n",
    "        Psk_hate = torch.matmul(torch.matmul(hate_space/torch.norm(hate_space,p=2, dim=0, keepdim=True),outputs).transpose(0, 1), hate_space_weights)\n",
    "        Psk_not_hate = torch.matmul(torch.matmul(not_hate_space/torch.norm(not_hate_space,p=2, dim=0, keepdim=True),outputs).transpose(0, 1), not_hate_space_weights)\n",
    "\n",
    "        # Construct the output tensor with requires_grad=True (assuming Psk_hate and Psk_not_hate have gradients)\n",
    "        output_tensor = torch.cat((Psk_hate, Psk_not_hate), dim=0).requires_grad_()\n",
    "\n",
    "        return output_tensor\n"
   ]
  },
  {
   "cell_type": "code",
   "execution_count": 23,
   "id": "93eb7c51",
   "metadata": {
    "execution": {
     "iopub.execute_input": "2024-03-03T09:09:35.132733Z",
     "iopub.status.busy": "2024-03-03T09:09:35.132460Z",
     "iopub.status.idle": "2024-03-03T09:09:35.136304Z",
     "shell.execute_reply": "2024-03-03T09:09:35.135514Z"
    },
    "papermill": {
     "duration": 0.019259,
     "end_time": "2024-03-03T09:09:35.138636",
     "exception": false,
     "start_time": "2024-03-03T09:09:35.119377",
     "status": "completed"
    },
    "tags": []
   },
   "outputs": [],
   "source": [
    "model0 = Model0(model, tokenizer)\n",
    "\n",
    "# X, y = next(iter(train_loader))\n",
    "# Psk_hate, Psk_not_hate = model0(X)"
   ]
  },
  {
   "cell_type": "markdown",
   "id": "b30062bc",
   "metadata": {
    "papermill": {
     "duration": 0.012991,
     "end_time": "2024-03-03T09:09:35.167485",
     "exception": false,
     "start_time": "2024-03-03T09:09:35.154494",
     "status": "completed"
    },
    "tags": []
   },
   "source": [
    "# Semi-SSM"
   ]
  },
  {
   "cell_type": "code",
   "execution_count": 24,
   "id": "3c6005d0",
   "metadata": {
    "execution": {
     "iopub.execute_input": "2024-03-03T09:09:35.192809Z",
     "iopub.status.busy": "2024-03-03T09:09:35.191973Z",
     "iopub.status.idle": "2024-03-03T09:09:35.201396Z",
     "shell.execute_reply": "2024-03-03T09:09:35.200549Z"
    },
    "papermill": {
     "duration": 0.023944,
     "end_time": "2024-03-03T09:09:35.203353",
     "exception": false,
     "start_time": "2024-03-03T09:09:35.179409",
     "status": "completed"
    },
    "tags": []
   },
   "outputs": [],
   "source": [
    "def L_inter(spaces):\n",
    "    \n",
    "    means = [torch.mean(spaces[i]) for i in range(spaces.shape[0])]\n",
    "    \n",
    "    loss = torch.tensor(0.0, requires_grad=True)\n",
    "    \n",
    "    for k in range(len(means)):\n",
    "        cur = torch.tensor(0.0, requires_grad=True)\n",
    "        for l in range(len(means)):\n",
    "            if l == k:\n",
    "                continue\n",
    "            cur = cur + (1 / (1 - ((means[k] * means[l]))))\n",
    "        \n",
    "        loss = loss + cur\n",
    "    \n",
    "    return loss\n",
    "            \n",
    "            \n",
    "\n",
    "def L_intra(spaces):\n",
    "    loss=torch.tensor(0.0, requires_grad=True)\n",
    "    for k in range(len(spaces)):\n",
    "        loss=loss+1/torch.var(spaces[k], dim=0)\n",
    "    \n",
    "    return torch.sum(loss)/loss.shape[0]\n",
    "\n",
    "\n"
   ]
  },
  {
   "cell_type": "code",
   "execution_count": 25,
   "id": "01aeae27",
   "metadata": {
    "execution": {
     "iopub.execute_input": "2024-03-03T09:09:35.228064Z",
     "iopub.status.busy": "2024-03-03T09:09:35.227415Z",
     "iopub.status.idle": "2024-03-03T09:09:35.249378Z",
     "shell.execute_reply": "2024-03-03T09:09:35.248448Z"
    },
    "papermill": {
     "duration": 0.036204,
     "end_time": "2024-03-03T09:09:35.251285",
     "exception": false,
     "start_time": "2024-03-03T09:09:35.215081",
     "status": "completed"
    },
    "tags": []
   },
   "outputs": [
    {
     "data": {
      "text/plain": [
       "tensor(33.6994, grad_fn=<AddBackward0>)"
      ]
     },
     "execution_count": 25,
     "metadata": {},
     "output_type": "execute_result"
    }
   ],
   "source": [
    "L_inter(torch.concat((torch.tensor([[0.33, 0.54, 0.37], [0.72, 0.74, 0.31], [0.61, 0.26, 0.56]], dtype=torch.float32), \n",
    "       torch.tensor([[0.22, 0.32, 0.15], [0.12, -0.08, 0.45], [0.14, 0.28, -0.11]], dtype=torch.float32))))"
   ]
  },
  {
   "cell_type": "code",
   "execution_count": 26,
   "id": "9c25ba32",
   "metadata": {
    "execution": {
     "iopub.execute_input": "2024-03-03T09:09:35.275921Z",
     "iopub.status.busy": "2024-03-03T09:09:35.275331Z",
     "iopub.status.idle": "2024-03-03T09:09:35.279310Z",
     "shell.execute_reply": "2024-03-03T09:09:35.278466Z"
    },
    "papermill": {
     "duration": 0.018644,
     "end_time": "2024-03-03T09:09:35.281688",
     "exception": false,
     "start_time": "2024-03-03T09:09:35.263044",
     "status": "completed"
    },
    "tags": []
   },
   "outputs": [],
   "source": [
    "# temp = torch.tensor(10.3, requires_grad=True)\n",
    "\n",
    "# temp"
   ]
  },
  {
   "cell_type": "code",
   "execution_count": 27,
   "id": "4a815b97",
   "metadata": {
    "_kg_hide-input": true,
    "execution": {
     "iopub.execute_input": "2024-03-03T09:09:35.311599Z",
     "iopub.status.busy": "2024-03-03T09:09:35.311030Z",
     "iopub.status.idle": "2024-03-03T09:09:35.315113Z",
     "shell.execute_reply": "2024-03-03T09:09:35.314246Z"
    },
    "papermill": {
     "duration": 0.018891,
     "end_time": "2024-03-03T09:09:35.316951",
     "exception": false,
     "start_time": "2024-03-03T09:09:35.298060",
     "status": "completed"
    },
    "tags": []
   },
   "outputs": [],
   "source": [
    "# res = [temp, temp]\n",
    "\n",
    "# loss = 0\n",
    "\n",
    "# loss += res[0] * res[1]\n",
    "\n",
    "# loss"
   ]
  },
  {
   "cell_type": "code",
   "execution_count": 28,
   "id": "760ff5c7",
   "metadata": {
    "execution": {
     "iopub.execute_input": "2024-03-03T09:09:35.341911Z",
     "iopub.status.busy": "2024-03-03T09:09:35.341206Z",
     "iopub.status.idle": "2024-03-03T09:09:35.612657Z",
     "shell.execute_reply": "2024-03-03T09:09:35.611681Z"
    },
    "papermill": {
     "duration": 0.286327,
     "end_time": "2024-03-03T09:09:35.615211",
     "exception": false,
     "start_time": "2024-03-03T09:09:35.328884",
     "status": "completed"
    },
    "tags": []
   },
   "outputs": [
    {
     "name": "stdout",
     "output_type": "stream",
     "text": [
      "tensor([[ 0.8009,  0.2601,  0.2316,  ...,  0.0455,  0.0118, -0.0370],\n",
      "        [ 0.1845, -0.0866,  0.1542,  ..., -0.2302, -0.3558, -0.2348],\n",
      "        [ 0.6341,  0.0180, -0.3330,  ...,  0.1851, -0.3067, -0.4023],\n",
      "        ...,\n",
      "        [ 0.8014,  0.2637,  0.2895,  ...,  0.1221,  0.1728, -0.4732],\n",
      "        [ 0.5409,  0.4092, -0.2325,  ...,  0.1790, -0.2709, -0.0346],\n",
      "        [ 0.5508,  0.1983,  0.0521,  ...,  0.3905, -0.0753, -0.5880]],\n",
      "       device='cuda:0', requires_grad=True) tensor([[ 0.5933,  0.2685, -0.0267,  ..., -0.4845, -0.4192, -0.3698],\n",
      "        [ 0.2493,  0.1343, -0.1606,  ..., -0.1305, -0.3765, -0.3898],\n",
      "        [ 0.0551, -0.1996, -0.1785,  ..., -0.0520, -0.1908, -0.2057],\n",
      "        ...,\n",
      "        [ 0.2502, -0.2729, -0.2597,  ...,  0.1696, -0.5105, -0.0785],\n",
      "        [ 0.2900, -0.2058, -0.1541,  ..., -0.0185, -0.5686,  0.0864],\n",
      "        [ 0.2823, -0.0846, -0.1393,  ...,  0.1534, -0.2074, -0.2804]],\n",
      "       device='cuda:0', requires_grad=True)\n"
     ]
    }
   ],
   "source": [
    "print(hate_space,not_hate_space)"
   ]
  },
  {
   "cell_type": "code",
   "execution_count": 29,
   "id": "0772d769",
   "metadata": {
    "execution": {
     "iopub.execute_input": "2024-03-03T09:09:35.648926Z",
     "iopub.status.busy": "2024-03-03T09:09:35.648621Z",
     "iopub.status.idle": "2024-03-03T09:09:35.657551Z",
     "shell.execute_reply": "2024-03-03T09:09:35.656186Z"
    },
    "papermill": {
     "duration": 0.026746,
     "end_time": "2024-03-03T09:09:35.659674",
     "exception": false,
     "start_time": "2024-03-03T09:09:35.632928",
     "status": "completed"
    },
    "tags": []
   },
   "outputs": [
    {
     "name": "stdout",
     "output_type": "stream",
     "text": [
      "tensor([[-0.0319],\n",
      "        [ 0.2549],\n",
      "        [ 0.8782],\n",
      "        [ 0.9098],\n",
      "        [-0.8424],\n",
      "        [-0.4880],\n",
      "        [ 0.7692],\n",
      "        [-0.4323],\n",
      "        [ 0.2072],\n",
      "        [-0.0609],\n",
      "        [-0.7691]], device='cuda:0', requires_grad=True) tensor([[-0.0319],\n",
      "        [ 0.2549],\n",
      "        [ 0.8782],\n",
      "        [ 0.9098],\n",
      "        [-0.8424],\n",
      "        [-0.4880],\n",
      "        [ 0.7692],\n",
      "        [-0.4323],\n",
      "        [ 0.2072],\n",
      "        [-0.0609],\n",
      "        [-0.7691]], device='cuda:0', requires_grad=True)\n"
     ]
    }
   ],
   "source": [
    "print(hate_space_weights,not_hate_space_weights)"
   ]
  },
  {
   "cell_type": "code",
   "execution_count": 30,
   "id": "f85e24da",
   "metadata": {
    "execution": {
     "iopub.execute_input": "2024-03-03T09:09:35.685474Z",
     "iopub.status.busy": "2024-03-03T09:09:35.684675Z",
     "iopub.status.idle": "2024-03-03T10:17:09.714208Z",
     "shell.execute_reply": "2024-03-03T10:17:09.713100Z"
    },
    "papermill": {
     "duration": 4054.058215,
     "end_time": "2024-03-03T10:17:09.730142",
     "exception": false,
     "start_time": "2024-03-03T09:09:35.671927",
     "status": "completed"
    },
    "tags": []
   },
   "outputs": [
    {
     "name": "stdout",
     "output_type": "stream",
     "text": [
      "True\n",
      "0\n",
      "2000\n",
      "4000\n",
      "6000\n",
      "Test Accuracy: 0.8679999709129333\n",
      "Test Accuracy: 0.8679999709129333\n",
      "0\n",
      "2000\n",
      "4000\n",
      "6000\n",
      "Test Accuracy: 0.8679999709129333\n",
      "Test Accuracy: 0.8679999709129333\n",
      "0\n",
      "2000\n",
      "4000\n",
      "6000\n",
      "Test Accuracy: 0.8769999742507935\n",
      "Test Accuracy: 0.8769999742507935\n",
      "0\n",
      "2000\n",
      "4000\n",
      "6000\n",
      "Test Accuracy: 0.8669999837875366\n",
      "Test Accuracy: 0.8669999837875366\n"
     ]
    }
   ],
   "source": [
    "model0.to(device)\n",
    "# hate_space = hate_space.to(device)\n",
    "# not_hate_space = not_hate_space.to(device)\n",
    "# hate_space_weights = hate_space_weights.to(device)\n",
    "# not_hate_space_weights = not_hate_space_weights.to(device)\n",
    "print(hate_space.is_leaf)\n",
    "optimizer = torch.optim.Adam(params=[hate_space, not_hate_space, hate_space_weights, not_hate_space_weights], lr=0.01)\n",
    "model0.train()\n",
    "#criterion = nn.CrossEntropyLoss()\n",
    "model0.train()\n",
    "# with torch.inference_mode():\n",
    "cur=0.1\n",
    "prev=0\n",
    "pprev=0\n",
    "while cur>=prev :\n",
    "    for i, batch in enumerate(train_loader):\n",
    "#         if i == 1:\n",
    "#             break\n",
    "        if i % 2000 == 0:\n",
    "            print(i)\n",
    "\n",
    "        x, Y = batch\n",
    "        loss = 0\n",
    "\n",
    "        for X, y in zip(x, Y):\n",
    "            y_preds = model0(X)\n",
    "#             print(y_preds)\n",
    "\n",
    "            # Use long instead of float for target labels\n",
    "            #print(hate_space.requires_grad)\n",
    "#             print(y)\n",
    "#             target = torch.tensor([y,1-y]).long().to(device)\n",
    "# #             print(target)\n",
    "#             loss += F.binary_cross_entropy_with_logits(y_preds.squeeze(), target.float())\n",
    "            loss+=F.cross_entropy(y_preds.view(1, -1).to(device), torch.tensor([y]).to(device))\n",
    "            #loss=torch.sum(y_preds)\n",
    "#             print(loss)\n",
    "        loss /= len(x)\n",
    "        loss += 0.7*L_inter(torch.cat((hate_space, not_hate_space))) + 0.5*L_intra(torch.stack([hate_space, not_hate_space]))\n",
    "            \n",
    "        optimizer.zero_grad()\n",
    "#         print(\"Before backward pass:\")\n",
    "#         print(\"hate_space.grad:\", hate_space.grad)\n",
    "#         print(\"not_hate_space.grad:\", not_hate_space.grad)\n",
    "        loss.backward()\n",
    "        optimizer.step()\n",
    "#         print(\"\\nAfter backward pass:\")\n",
    "#         print(\"hate_space.grad:\", hate_space.grad)\n",
    "#         print(\"not_hate_space.grad:\", not_hate_space.grad)\n",
    "#         print(not_hate_space_weights.grad)\n",
    "    correct = 0\n",
    "    total = 1000\n",
    "\n",
    "    true = []\n",
    "    preds = []\n",
    "\n",
    "    with torch.inference_mode():\n",
    "        for i, batch in enumerate(test_loader):\n",
    "            if i // 1000 == 1:\n",
    "                break\n",
    "            X, y = batch\n",
    "            Psk_hate, Psk_not_hate = model0(X)\n",
    "\n",
    "            y_predict = torch.argmax(torch.tensor([Psk_hate.mean().item(), Psk_not_hate.mean().item()]))\n",
    "\n",
    "            true.extend(y)\n",
    "            preds.append(y_predict)\n",
    "\n",
    "            curr = torch.eq(y_predict, y)\n",
    "\n",
    "            correct += torch.sum(curr)\n",
    "\n",
    "    print(f\"Test Accuracy: {correct/total}\")\n",
    "    pprev=prev\n",
    "    prev=cur\n",
    "    cur=correct/total\n",
    "    print(f\"Test Accuracy: {torch.sum(torch.eq(torch.tensor(true), torch.tensor(preds))) / total}\")  \n",
    "\n",
    "\n"
   ]
  },
  {
   "cell_type": "code",
   "execution_count": 31,
   "id": "2b9074c7",
   "metadata": {
    "execution": {
     "iopub.execute_input": "2024-03-03T10:17:09.759508Z",
     "iopub.status.busy": "2024-03-03T10:17:09.758671Z",
     "iopub.status.idle": "2024-03-03T10:17:09.767242Z",
     "shell.execute_reply": "2024-03-03T10:17:09.766300Z"
    },
    "papermill": {
     "duration": 0.025456,
     "end_time": "2024-03-03T10:17:09.769131",
     "exception": false,
     "start_time": "2024-03-03T10:17:09.743675",
     "status": "completed"
    },
    "tags": []
   },
   "outputs": [
    {
     "name": "stdout",
     "output_type": "stream",
     "text": [
      "tensor([[-0.2325],\n",
      "        [ 0.7255],\n",
      "        [ 0.6512],\n",
      "        [ 1.4662],\n",
      "        [-1.4096],\n",
      "        [-0.0539],\n",
      "        [ 0.6778],\n",
      "        [-0.4525],\n",
      "        [ 0.1022],\n",
      "        [ 0.0849],\n",
      "        [-0.7968]], device='cuda:0', requires_grad=True) tensor([[ 0.2038],\n",
      "        [-0.3572],\n",
      "        [ 2.0697],\n",
      "        [ 1.8241],\n",
      "        [-2.2332],\n",
      "        [-0.3709],\n",
      "        [ 2.0626],\n",
      "        [-0.4570],\n",
      "        [ 0.4490],\n",
      "        [ 0.0653],\n",
      "        [-1.9005]], device='cuda:0', requires_grad=True)\n"
     ]
    }
   ],
   "source": [
    "print(hate_space_weights,not_hate_space_weights)"
   ]
  },
  {
   "cell_type": "code",
   "execution_count": 32,
   "id": "4d33ff28",
   "metadata": {
    "execution": {
     "iopub.execute_input": "2024-03-03T10:17:09.797103Z",
     "iopub.status.busy": "2024-03-03T10:17:09.796797Z",
     "iopub.status.idle": "2024-03-03T10:17:09.806332Z",
     "shell.execute_reply": "2024-03-03T10:17:09.805271Z"
    },
    "papermill": {
     "duration": 0.025604,
     "end_time": "2024-03-03T10:17:09.808215",
     "exception": false,
     "start_time": "2024-03-03T10:17:09.782611",
     "status": "completed"
    },
    "tags": []
   },
   "outputs": [
    {
     "name": "stdout",
     "output_type": "stream",
     "text": [
      "tensor([[ 1.7737e+00,  1.6270e+00,  2.8799e-01,  ..., -1.6751e-01,\n",
      "          3.0901e+00,  1.5273e+00],\n",
      "        [-1.5363e+00, -1.7926e+00,  2.6574e+00,  ..., -2.5552e+00,\n",
      "         -4.0098e+00,  3.3239e-01],\n",
      "        [ 2.8009e-01, -3.3914e-01,  6.9624e-01,  ..., -1.6372e+00,\n",
      "         -2.6206e+00, -1.1122e+00],\n",
      "        ...,\n",
      "        [ 8.8706e-01,  1.1258e+00,  2.8705e+00,  ..., -6.9330e-01,\n",
      "         -3.7318e-01, -2.6501e+00],\n",
      "        [ 2.1385e+02,  2.1083e+02,  1.9989e+02,  ...,  2.0644e+02,\n",
      "          2.0748e+02,  2.0888e+02],\n",
      "        [ 9.2260e-01, -4.9516e-02, -1.7599e+00,  ...,  3.2704e+00,\n",
      "          2.3074e+00, -9.0920e-01]], device='cuda:0', requires_grad=True) tensor([[  6.1486,   3.6705,  -3.4336,  ...,  -0.3282,  -3.0664, -17.8318],\n",
      "        [ -5.5573,   5.1142,   7.3275,  ...,  -3.2293, -12.3766,  -9.3267],\n",
      "        [ -0.0680,  -2.7354,  -1.8301,  ...,   5.8723,   3.8377,  -0.6735],\n",
      "        ...,\n",
      "        [ -9.8603, -12.1654,  -7.5631,  ...,   2.5180,   6.8370,   5.4842],\n",
      "        [-21.9771,  -8.8741,   3.3037,  ...,   4.0605,   3.2831,   6.5242],\n",
      "        [ -0.7428,  -1.7524,   2.8386,  ...,  -2.3038,  -1.1174,  -1.3925]],\n",
      "       device='cuda:0', requires_grad=True)\n"
     ]
    }
   ],
   "source": [
    "print(hate_space,not_hate_space)"
   ]
  },
  {
   "cell_type": "code",
   "execution_count": 33,
   "id": "2e7c6a85",
   "metadata": {
    "execution": {
     "iopub.execute_input": "2024-03-03T10:17:09.837332Z",
     "iopub.status.busy": "2024-03-03T10:17:09.837046Z",
     "iopub.status.idle": "2024-03-03T10:17:09.843045Z",
     "shell.execute_reply": "2024-03-03T10:17:09.842247Z"
    },
    "papermill": {
     "duration": 0.022313,
     "end_time": "2024-03-03T10:17:09.844890",
     "exception": false,
     "start_time": "2024-03-03T10:17:09.822577",
     "status": "completed"
    },
    "tags": []
   },
   "outputs": [
    {
     "data": {
      "text/plain": [
       "torch.Size([22, 768])"
      ]
     },
     "execution_count": 33,
     "metadata": {},
     "output_type": "execute_result"
    }
   ],
   "source": [
    "torch.concat((hate_space, not_hate_space)).shape"
   ]
  },
  {
   "cell_type": "code",
   "execution_count": 34,
   "id": "9afabc0e",
   "metadata": {
    "execution": {
     "iopub.execute_input": "2024-03-03T10:17:09.872577Z",
     "iopub.status.busy": "2024-03-03T10:17:09.872335Z",
     "iopub.status.idle": "2024-03-03T10:17:58.226735Z",
     "shell.execute_reply": "2024-03-03T10:17:58.225813Z"
    },
    "papermill": {
     "duration": 48.384385,
     "end_time": "2024-03-03T10:17:58.242632",
     "exception": false,
     "start_time": "2024-03-03T10:17:09.858247",
     "status": "completed"
    },
    "tags": []
   },
   "outputs": [
    {
     "name": "stdout",
     "output_type": "stream",
     "text": [
      "Test Accuracy: 0.8858180642127991\n",
      "Test Accuracy: 0.8858180642127991\n"
     ]
    }
   ],
   "source": [
    "correct = 0\n",
    "total = len(y_test)\n",
    "\n",
    "true = []\n",
    "preds = []\n",
    "\n",
    "with torch.inference_mode():\n",
    "    for i, batch in enumerate(test_loader):\n",
    "        if i < 1000 == 0:\n",
    "            pass\n",
    "        X, y = batch\n",
    "        Psk_hate, Psk_not_hate = model0(X)\n",
    "\n",
    "        y_predict = torch.argmax(torch.tensor([Psk_hate.mean().item(), Psk_not_hate.mean().item()]))\n",
    "\n",
    "        true.extend(y)\n",
    "        preds.append(y_predict)\n",
    "\n",
    "        cur = torch.eq(y_predict, y)\n",
    "\n",
    "        correct += torch.sum(cur)\n",
    "\n",
    "print(f\"Test Accuracy: {correct/total}\")\n",
    "print(f\"Test Accuracy: {torch.sum(torch.eq(torch.tensor(true), torch.tensor(preds))) / total}\")       "
   ]
  },
  {
   "cell_type": "code",
   "execution_count": 35,
   "id": "83b34fe6",
   "metadata": {
    "execution": {
     "iopub.execute_input": "2024-03-03T10:17:58.271972Z",
     "iopub.status.busy": "2024-03-03T10:17:58.271690Z",
     "iopub.status.idle": "2024-03-03T10:17:58.770063Z",
     "shell.execute_reply": "2024-03-03T10:17:58.768991Z"
    },
    "papermill": {
     "duration": 0.515112,
     "end_time": "2024-03-03T10:17:58.771965",
     "exception": false,
     "start_time": "2024-03-03T10:17:58.256853",
     "status": "completed"
    },
    "tags": []
   },
   "outputs": [
    {
     "name": "stdout",
     "output_type": "stream",
     "text": [
      "0.8296029048003281\n",
      "0.7182306643584272\n"
     ]
    }
   ],
   "source": [
    "from sklearn.metrics import precision_score, recall_score\n",
    "\n",
    "print(precision_score(y_test, preds, average='macro'))\n",
    "print(recall_score(y_test, preds, average='macro'))"
   ]
  }
 ],
 "metadata": {
  "kaggle": {
   "accelerator": "gpu",
   "dataSources": [
    {
     "datasetId": 4384787,
     "sourceId": 7528128,
     "sourceType": "datasetVersion"
    }
   ],
   "dockerImageVersionId": 30648,
   "isGpuEnabled": true,
   "isInternetEnabled": true,
   "language": "python",
   "sourceType": "notebook"
  },
  "kernelspec": {
   "display_name": "Python 3",
   "language": "python",
   "name": "python3"
  },
  "language_info": {
   "codemirror_mode": {
    "name": "ipython",
    "version": 3
   },
   "file_extension": ".py",
   "mimetype": "text/x-python",
   "name": "python",
   "nbconvert_exporter": "python",
   "pygments_lexer": "ipython3",
   "version": "3.10.13"
  },
  "papermill": {
   "default_parameters": {},
   "duration": 4123.919149,
   "end_time": "2024-03-03T10:18:00.517819",
   "environment_variables": {},
   "exception": null,
   "input_path": "__notebook__.ipynb",
   "output_path": "__notebook__.ipynb",
   "parameters": {},
   "start_time": "2024-03-03T09:09:16.598670",
   "version": "2.5.0"
  },
  "widgets": {
   "application/vnd.jupyter.widget-state+json": {
    "state": {
     "0435c819b8cf47cf8389694ed1036781": {
      "model_module": "@jupyter-widgets/controls",
      "model_module_version": "1.5.0",
      "model_name": "HTMLModel",
      "state": {
       "_dom_classes": [],
       "_model_module": "@jupyter-widgets/controls",
       "_model_module_version": "1.5.0",
       "_model_name": "HTMLModel",
       "_view_count": null,
       "_view_module": "@jupyter-widgets/controls",
       "_view_module_version": "1.5.0",
       "_view_name": "HTMLView",
       "description": "",
       "description_tooltip": null,
       "layout": "IPY_MODEL_473ad93c4caa4959b81eac579fc7bd75",
       "placeholder": "​",
       "style": "IPY_MODEL_fbeae561919741c0b3914ba3a9d1aafa",
       "value": "config.json: 100%"
      }
     },
     "0451c1eabb964776b7adb4c1bedd3451": {
      "model_module": "@jupyter-widgets/base",
      "model_module_version": "1.2.0",
      "model_name": "LayoutModel",
      "state": {
       "_model_module": "@jupyter-widgets/base",
       "_model_module_version": "1.2.0",
       "_model_name": "LayoutModel",
       "_view_count": null,
       "_view_module": "@jupyter-widgets/base",
       "_view_module_version": "1.2.0",
       "_view_name": "LayoutView",
       "align_content": null,
       "align_items": null,
       "align_self": null,
       "border": null,
       "bottom": null,
       "display": null,
       "flex": null,
       "flex_flow": null,
       "grid_area": null,
       "grid_auto_columns": null,
       "grid_auto_flow": null,
       "grid_auto_rows": null,
       "grid_column": null,
       "grid_gap": null,
       "grid_row": null,
       "grid_template_areas": null,
       "grid_template_columns": null,
       "grid_template_rows": null,
       "height": null,
       "justify_content": null,
       "justify_items": null,
       "left": null,
       "margin": null,
       "max_height": null,
       "max_width": null,
       "min_height": null,
       "min_width": null,
       "object_fit": null,
       "object_position": null,
       "order": null,
       "overflow": null,
       "overflow_x": null,
       "overflow_y": null,
       "padding": null,
       "right": null,
       "top": null,
       "visibility": null,
       "width": null
      }
     },
     "0c74b367b5154a888ba6a5101653bff2": {
      "model_module": "@jupyter-widgets/base",
      "model_module_version": "1.2.0",
      "model_name": "LayoutModel",
      "state": {
       "_model_module": "@jupyter-widgets/base",
       "_model_module_version": "1.2.0",
       "_model_name": "LayoutModel",
       "_view_count": null,
       "_view_module": "@jupyter-widgets/base",
       "_view_module_version": "1.2.0",
       "_view_name": "LayoutView",
       "align_content": null,
       "align_items": null,
       "align_self": null,
       "border": null,
       "bottom": null,
       "display": null,
       "flex": null,
       "flex_flow": null,
       "grid_area": null,
       "grid_auto_columns": null,
       "grid_auto_flow": null,
       "grid_auto_rows": null,
       "grid_column": null,
       "grid_gap": null,
       "grid_row": null,
       "grid_template_areas": null,
       "grid_template_columns": null,
       "grid_template_rows": null,
       "height": null,
       "justify_content": null,
       "justify_items": null,
       "left": null,
       "margin": null,
       "max_height": null,
       "max_width": null,
       "min_height": null,
       "min_width": null,
       "object_fit": null,
       "object_position": null,
       "order": null,
       "overflow": null,
       "overflow_x": null,
       "overflow_y": null,
       "padding": null,
       "right": null,
       "top": null,
       "visibility": null,
       "width": null
      }
     },
     "11d003eb3b1c44c3a5c1ff0271224265": {
      "model_module": "@jupyter-widgets/controls",
      "model_module_version": "1.5.0",
      "model_name": "DescriptionStyleModel",
      "state": {
       "_model_module": "@jupyter-widgets/controls",
       "_model_module_version": "1.5.0",
       "_model_name": "DescriptionStyleModel",
       "_view_count": null,
       "_view_module": "@jupyter-widgets/base",
       "_view_module_version": "1.2.0",
       "_view_name": "StyleView",
       "description_width": ""
      }
     },
     "16f5f5a9a2664f7eaee2aa5d05f1f2b5": {
      "model_module": "@jupyter-widgets/controls",
      "model_module_version": "1.5.0",
      "model_name": "ProgressStyleModel",
      "state": {
       "_model_module": "@jupyter-widgets/controls",
       "_model_module_version": "1.5.0",
       "_model_name": "ProgressStyleModel",
       "_view_count": null,
       "_view_module": "@jupyter-widgets/base",
       "_view_module_version": "1.2.0",
       "_view_name": "StyleView",
       "bar_color": null,
       "description_width": ""
      }
     },
     "17a29aa7cf9c4e0daed288d17b3d5cb4": {
      "model_module": "@jupyter-widgets/base",
      "model_module_version": "1.2.0",
      "model_name": "LayoutModel",
      "state": {
       "_model_module": "@jupyter-widgets/base",
       "_model_module_version": "1.2.0",
       "_model_name": "LayoutModel",
       "_view_count": null,
       "_view_module": "@jupyter-widgets/base",
       "_view_module_version": "1.2.0",
       "_view_name": "LayoutView",
       "align_content": null,
       "align_items": null,
       "align_self": null,
       "border": null,
       "bottom": null,
       "display": null,
       "flex": null,
       "flex_flow": null,
       "grid_area": null,
       "grid_auto_columns": null,
       "grid_auto_flow": null,
       "grid_auto_rows": null,
       "grid_column": null,
       "grid_gap": null,
       "grid_row": null,
       "grid_template_areas": null,
       "grid_template_columns": null,
       "grid_template_rows": null,
       "height": null,
       "justify_content": null,
       "justify_items": null,
       "left": null,
       "margin": null,
       "max_height": null,
       "max_width": null,
       "min_height": null,
       "min_width": null,
       "object_fit": null,
       "object_position": null,
       "order": null,
       "overflow": null,
       "overflow_x": null,
       "overflow_y": null,
       "padding": null,
       "right": null,
       "top": null,
       "visibility": null,
       "width": null
      }
     },
     "2123b15e8d8a497c8b068a5d384c01d0": {
      "model_module": "@jupyter-widgets/controls",
      "model_module_version": "1.5.0",
      "model_name": "FloatProgressModel",
      "state": {
       "_dom_classes": [],
       "_model_module": "@jupyter-widgets/controls",
       "_model_module_version": "1.5.0",
       "_model_name": "FloatProgressModel",
       "_view_count": null,
       "_view_module": "@jupyter-widgets/controls",
       "_view_module_version": "1.5.0",
       "_view_name": "ProgressView",
       "bar_style": "success",
       "description": "",
       "description_tooltip": null,
       "layout": "IPY_MODEL_0c74b367b5154a888ba6a5101653bff2",
       "max": 231508.0,
       "min": 0.0,
       "orientation": "horizontal",
       "style": "IPY_MODEL_8d2c08d202d04af9bcdc7c0ff3dd5034",
       "value": 231508.0
      }
     },
     "226bc9fd338a40e9821be8931d50e8c5": {
      "model_module": "@jupyter-widgets/controls",
      "model_module_version": "1.5.0",
      "model_name": "HBoxModel",
      "state": {
       "_dom_classes": [],
       "_model_module": "@jupyter-widgets/controls",
       "_model_module_version": "1.5.0",
       "_model_name": "HBoxModel",
       "_view_count": null,
       "_view_module": "@jupyter-widgets/controls",
       "_view_module_version": "1.5.0",
       "_view_name": "HBoxView",
       "box_style": "",
       "children": [
        "IPY_MODEL_0435c819b8cf47cf8389694ed1036781",
        "IPY_MODEL_bb9c23a8b665440a90bee349a057f321",
        "IPY_MODEL_55facc8a062c42c6a3328f201d36ac92"
       ],
       "layout": "IPY_MODEL_52d9713d68f5485a89bb2bcef3c47f22"
      }
     },
     "33c4f410fb4e41a18b3d810eaa1ff129": {
      "model_module": "@jupyter-widgets/controls",
      "model_module_version": "1.5.0",
      "model_name": "HTMLModel",
      "state": {
       "_dom_classes": [],
       "_model_module": "@jupyter-widgets/controls",
       "_model_module_version": "1.5.0",
       "_model_name": "HTMLModel",
       "_view_count": null,
       "_view_module": "@jupyter-widgets/controls",
       "_view_module_version": "1.5.0",
       "_view_name": "HTMLView",
       "description": "",
       "description_tooltip": null,
       "layout": "IPY_MODEL_c54fc02d303f4ad6bdbf6aaa21326167",
       "placeholder": "​",
       "style": "IPY_MODEL_45dbb3e6b6214feb9093d874ec645396",
       "value": "model.safetensors: 100%"
      }
     },
     "3436e9379a924769b3e9d2f8d0ce4bb4": {
      "model_module": "@jupyter-widgets/controls",
      "model_module_version": "1.5.0",
      "model_name": "HBoxModel",
      "state": {
       "_dom_classes": [],
       "_model_module": "@jupyter-widgets/controls",
       "_model_module_version": "1.5.0",
       "_model_name": "HBoxModel",
       "_view_count": null,
       "_view_module": "@jupyter-widgets/controls",
       "_view_module_version": "1.5.0",
       "_view_name": "HBoxView",
       "box_style": "",
       "children": [
        "IPY_MODEL_d66476722c884b0ea5f7f5c21dbcf589",
        "IPY_MODEL_b4b721afaee640b28d31f7386e3f1640",
        "IPY_MODEL_aa2fd0690fb34f09b7b6b1f853e2349a"
       ],
       "layout": "IPY_MODEL_cbf456306a5b4158b829cd32d8ac0253"
      }
     },
     "35db65e5129c460fa12cbffb6a1373a7": {
      "model_module": "@jupyter-widgets/base",
      "model_module_version": "1.2.0",
      "model_name": "LayoutModel",
      "state": {
       "_model_module": "@jupyter-widgets/base",
       "_model_module_version": "1.2.0",
       "_model_name": "LayoutModel",
       "_view_count": null,
       "_view_module": "@jupyter-widgets/base",
       "_view_module_version": "1.2.0",
       "_view_name": "LayoutView",
       "align_content": null,
       "align_items": null,
       "align_self": null,
       "border": null,
       "bottom": null,
       "display": null,
       "flex": null,
       "flex_flow": null,
       "grid_area": null,
       "grid_auto_columns": null,
       "grid_auto_flow": null,
       "grid_auto_rows": null,
       "grid_column": null,
       "grid_gap": null,
       "grid_row": null,
       "grid_template_areas": null,
       "grid_template_columns": null,
       "grid_template_rows": null,
       "height": null,
       "justify_content": null,
       "justify_items": null,
       "left": null,
       "margin": null,
       "max_height": null,
       "max_width": null,
       "min_height": null,
       "min_width": null,
       "object_fit": null,
       "object_position": null,
       "order": null,
       "overflow": null,
       "overflow_x": null,
       "overflow_y": null,
       "padding": null,
       "right": null,
       "top": null,
       "visibility": null,
       "width": null
      }
     },
     "3a6f58e03fd44eb39253950bd0e50681": {
      "model_module": "@jupyter-widgets/controls",
      "model_module_version": "1.5.0",
      "model_name": "HBoxModel",
      "state": {
       "_dom_classes": [],
       "_model_module": "@jupyter-widgets/controls",
       "_model_module_version": "1.5.0",
       "_model_name": "HBoxModel",
       "_view_count": null,
       "_view_module": "@jupyter-widgets/controls",
       "_view_module_version": "1.5.0",
       "_view_name": "HBoxView",
       "box_style": "",
       "children": [
        "IPY_MODEL_33c4f410fb4e41a18b3d810eaa1ff129",
        "IPY_MODEL_5d59f23eea164acc9f51492cd8e6f775",
        "IPY_MODEL_759c328a92c04cedb3e18a2c85f5ac41"
       ],
       "layout": "IPY_MODEL_17a29aa7cf9c4e0daed288d17b3d5cb4"
      }
     },
     "43ddb57dcddd4c6b91c4be948d5633d0": {
      "model_module": "@jupyter-widgets/controls",
      "model_module_version": "1.5.0",
      "model_name": "FloatProgressModel",
      "state": {
       "_dom_classes": [],
       "_model_module": "@jupyter-widgets/controls",
       "_model_module_version": "1.5.0",
       "_model_name": "FloatProgressModel",
       "_view_count": null,
       "_view_module": "@jupyter-widgets/controls",
       "_view_module_version": "1.5.0",
       "_view_name": "ProgressView",
       "bar_style": "success",
       "description": "",
       "description_tooltip": null,
       "layout": "IPY_MODEL_cb6c21363e59432b97cefeee4716ea62",
       "max": 48.0,
       "min": 0.0,
       "orientation": "horizontal",
       "style": "IPY_MODEL_9c3c8808a846443aa78b0950dc8e723d",
       "value": 48.0
      }
     },
     "4436cbc1fc684e6496cadc6e04cb90b7": {
      "model_module": "@jupyter-widgets/base",
      "model_module_version": "1.2.0",
      "model_name": "LayoutModel",
      "state": {
       "_model_module": "@jupyter-widgets/base",
       "_model_module_version": "1.2.0",
       "_model_name": "LayoutModel",
       "_view_count": null,
       "_view_module": "@jupyter-widgets/base",
       "_view_module_version": "1.2.0",
       "_view_name": "LayoutView",
       "align_content": null,
       "align_items": null,
       "align_self": null,
       "border": null,
       "bottom": null,
       "display": null,
       "flex": null,
       "flex_flow": null,
       "grid_area": null,
       "grid_auto_columns": null,
       "grid_auto_flow": null,
       "grid_auto_rows": null,
       "grid_column": null,
       "grid_gap": null,
       "grid_row": null,
       "grid_template_areas": null,
       "grid_template_columns": null,
       "grid_template_rows": null,
       "height": null,
       "justify_content": null,
       "justify_items": null,
       "left": null,
       "margin": null,
       "max_height": null,
       "max_width": null,
       "min_height": null,
       "min_width": null,
       "object_fit": null,
       "object_position": null,
       "order": null,
       "overflow": null,
       "overflow_x": null,
       "overflow_y": null,
       "padding": null,
       "right": null,
       "top": null,
       "visibility": null,
       "width": null
      }
     },
     "45dbb3e6b6214feb9093d874ec645396": {
      "model_module": "@jupyter-widgets/controls",
      "model_module_version": "1.5.0",
      "model_name": "DescriptionStyleModel",
      "state": {
       "_model_module": "@jupyter-widgets/controls",
       "_model_module_version": "1.5.0",
       "_model_name": "DescriptionStyleModel",
       "_view_count": null,
       "_view_module": "@jupyter-widgets/base",
       "_view_module_version": "1.2.0",
       "_view_name": "StyleView",
       "description_width": ""
      }
     },
     "473ad93c4caa4959b81eac579fc7bd75": {
      "model_module": "@jupyter-widgets/base",
      "model_module_version": "1.2.0",
      "model_name": "LayoutModel",
      "state": {
       "_model_module": "@jupyter-widgets/base",
       "_model_module_version": "1.2.0",
       "_model_name": "LayoutModel",
       "_view_count": null,
       "_view_module": "@jupyter-widgets/base",
       "_view_module_version": "1.2.0",
       "_view_name": "LayoutView",
       "align_content": null,
       "align_items": null,
       "align_self": null,
       "border": null,
       "bottom": null,
       "display": null,
       "flex": null,
       "flex_flow": null,
       "grid_area": null,
       "grid_auto_columns": null,
       "grid_auto_flow": null,
       "grid_auto_rows": null,
       "grid_column": null,
       "grid_gap": null,
       "grid_row": null,
       "grid_template_areas": null,
       "grid_template_columns": null,
       "grid_template_rows": null,
       "height": null,
       "justify_content": null,
       "justify_items": null,
       "left": null,
       "margin": null,
       "max_height": null,
       "max_width": null,
       "min_height": null,
       "min_width": null,
       "object_fit": null,
       "object_position": null,
       "order": null,
       "overflow": null,
       "overflow_x": null,
       "overflow_y": null,
       "padding": null,
       "right": null,
       "top": null,
       "visibility": null,
       "width": null
      }
     },
     "51f44f304dfd441796d1d8f9f3ff7bb8": {
      "model_module": "@jupyter-widgets/controls",
      "model_module_version": "1.5.0",
      "model_name": "DescriptionStyleModel",
      "state": {
       "_model_module": "@jupyter-widgets/controls",
       "_model_module_version": "1.5.0",
       "_model_name": "DescriptionStyleModel",
       "_view_count": null,
       "_view_module": "@jupyter-widgets/base",
       "_view_module_version": "1.2.0",
       "_view_name": "StyleView",
       "description_width": ""
      }
     },
     "52d9713d68f5485a89bb2bcef3c47f22": {
      "model_module": "@jupyter-widgets/base",
      "model_module_version": "1.2.0",
      "model_name": "LayoutModel",
      "state": {
       "_model_module": "@jupyter-widgets/base",
       "_model_module_version": "1.2.0",
       "_model_name": "LayoutModel",
       "_view_count": null,
       "_view_module": "@jupyter-widgets/base",
       "_view_module_version": "1.2.0",
       "_view_name": "LayoutView",
       "align_content": null,
       "align_items": null,
       "align_self": null,
       "border": null,
       "bottom": null,
       "display": null,
       "flex": null,
       "flex_flow": null,
       "grid_area": null,
       "grid_auto_columns": null,
       "grid_auto_flow": null,
       "grid_auto_rows": null,
       "grid_column": null,
       "grid_gap": null,
       "grid_row": null,
       "grid_template_areas": null,
       "grid_template_columns": null,
       "grid_template_rows": null,
       "height": null,
       "justify_content": null,
       "justify_items": null,
       "left": null,
       "margin": null,
       "max_height": null,
       "max_width": null,
       "min_height": null,
       "min_width": null,
       "object_fit": null,
       "object_position": null,
       "order": null,
       "overflow": null,
       "overflow_x": null,
       "overflow_y": null,
       "padding": null,
       "right": null,
       "top": null,
       "visibility": null,
       "width": null
      }
     },
     "55facc8a062c42c6a3328f201d36ac92": {
      "model_module": "@jupyter-widgets/controls",
      "model_module_version": "1.5.0",
      "model_name": "HTMLModel",
      "state": {
       "_dom_classes": [],
       "_model_module": "@jupyter-widgets/controls",
       "_model_module_version": "1.5.0",
       "_model_name": "HTMLModel",
       "_view_count": null,
       "_view_module": "@jupyter-widgets/controls",
       "_view_module_version": "1.5.0",
       "_view_name": "HTMLView",
       "description": "",
       "description_tooltip": null,
       "layout": "IPY_MODEL_9854f3058ad54aa08f4b88b5248b23c5",
       "placeholder": "​",
       "style": "IPY_MODEL_a849660ab81e4f939d47f68643f4b9f4",
       "value": " 570/570 [00:00&lt;00:00, 52.6kB/s]"
      }
     },
     "5d59f23eea164acc9f51492cd8e6f775": {
      "model_module": "@jupyter-widgets/controls",
      "model_module_version": "1.5.0",
      "model_name": "FloatProgressModel",
      "state": {
       "_dom_classes": [],
       "_model_module": "@jupyter-widgets/controls",
       "_model_module_version": "1.5.0",
       "_model_name": "FloatProgressModel",
       "_view_count": null,
       "_view_module": "@jupyter-widgets/controls",
       "_view_module_version": "1.5.0",
       "_view_name": "ProgressView",
       "bar_style": "success",
       "description": "",
       "description_tooltip": null,
       "layout": "IPY_MODEL_d16b0d5082dd4a7db721283655427320",
       "max": 440449768.0,
       "min": 0.0,
       "orientation": "horizontal",
       "style": "IPY_MODEL_98846f1c939e429bab76f5f7c88d429f",
       "value": 440449768.0
      }
     },
     "6139c3e2dc9f4ae081102c54723a7fb8": {
      "model_module": "@jupyter-widgets/controls",
      "model_module_version": "1.5.0",
      "model_name": "DescriptionStyleModel",
      "state": {
       "_model_module": "@jupyter-widgets/controls",
       "_model_module_version": "1.5.0",
       "_model_name": "DescriptionStyleModel",
       "_view_count": null,
       "_view_module": "@jupyter-widgets/base",
       "_view_module_version": "1.2.0",
       "_view_name": "StyleView",
       "description_width": ""
      }
     },
     "670120913d494cf18785919c02ff8e62": {
      "model_module": "@jupyter-widgets/controls",
      "model_module_version": "1.5.0",
      "model_name": "HTMLModel",
      "state": {
       "_dom_classes": [],
       "_model_module": "@jupyter-widgets/controls",
       "_model_module_version": "1.5.0",
       "_model_name": "HTMLModel",
       "_view_count": null,
       "_view_module": "@jupyter-widgets/controls",
       "_view_module_version": "1.5.0",
       "_view_name": "HTMLView",
       "description": "",
       "description_tooltip": null,
       "layout": "IPY_MODEL_35db65e5129c460fa12cbffb6a1373a7",
       "placeholder": "​",
       "style": "IPY_MODEL_51f44f304dfd441796d1d8f9f3ff7bb8",
       "value": "vocab.txt: 100%"
      }
     },
     "679ddb92357c4961b472519d7050e49a": {
      "model_module": "@jupyter-widgets/controls",
      "model_module_version": "1.5.0",
      "model_name": "HTMLModel",
      "state": {
       "_dom_classes": [],
       "_model_module": "@jupyter-widgets/controls",
       "_model_module_version": "1.5.0",
       "_model_name": "HTMLModel",
       "_view_count": null,
       "_view_module": "@jupyter-widgets/controls",
       "_view_module_version": "1.5.0",
       "_view_name": "HTMLView",
       "description": "",
       "description_tooltip": null,
       "layout": "IPY_MODEL_be7462268d3d4c468882c18c28577b00",
       "placeholder": "​",
       "style": "IPY_MODEL_7070fd4874e540978ae7c81790847969",
       "value": "tokenizer_config.json: 100%"
      }
     },
     "6e260972cf4a43d4b460644bf8fe8538": {
      "model_module": "@jupyter-widgets/controls",
      "model_module_version": "1.5.0",
      "model_name": "ProgressStyleModel",
      "state": {
       "_model_module": "@jupyter-widgets/controls",
       "_model_module_version": "1.5.0",
       "_model_name": "ProgressStyleModel",
       "_view_count": null,
       "_view_module": "@jupyter-widgets/base",
       "_view_module_version": "1.2.0",
       "_view_name": "StyleView",
       "bar_color": null,
       "description_width": ""
      }
     },
     "7070fd4874e540978ae7c81790847969": {
      "model_module": "@jupyter-widgets/controls",
      "model_module_version": "1.5.0",
      "model_name": "DescriptionStyleModel",
      "state": {
       "_model_module": "@jupyter-widgets/controls",
       "_model_module_version": "1.5.0",
       "_model_name": "DescriptionStyleModel",
       "_view_count": null,
       "_view_module": "@jupyter-widgets/base",
       "_view_module_version": "1.2.0",
       "_view_name": "StyleView",
       "description_width": ""
      }
     },
     "759c328a92c04cedb3e18a2c85f5ac41": {
      "model_module": "@jupyter-widgets/controls",
      "model_module_version": "1.5.0",
      "model_name": "HTMLModel",
      "state": {
       "_dom_classes": [],
       "_model_module": "@jupyter-widgets/controls",
       "_model_module_version": "1.5.0",
       "_model_name": "HTMLModel",
       "_view_count": null,
       "_view_module": "@jupyter-widgets/controls",
       "_view_module_version": "1.5.0",
       "_view_name": "HTMLView",
       "description": "",
       "description_tooltip": null,
       "layout": "IPY_MODEL_bb6bcccc409c468d9772db517180ba29",
       "placeholder": "​",
       "style": "IPY_MODEL_c97c3f8dd1cb40f89514b685a5895929",
       "value": " 440M/440M [00:01&lt;00:00, 315MB/s]"
      }
     },
     "802cdfd0a0a54d4b99f1fc47570dfb6a": {
      "model_module": "@jupyter-widgets/base",
      "model_module_version": "1.2.0",
      "model_name": "LayoutModel",
      "state": {
       "_model_module": "@jupyter-widgets/base",
       "_model_module_version": "1.2.0",
       "_model_name": "LayoutModel",
       "_view_count": null,
       "_view_module": "@jupyter-widgets/base",
       "_view_module_version": "1.2.0",
       "_view_name": "LayoutView",
       "align_content": null,
       "align_items": null,
       "align_self": null,
       "border": null,
       "bottom": null,
       "display": null,
       "flex": null,
       "flex_flow": null,
       "grid_area": null,
       "grid_auto_columns": null,
       "grid_auto_flow": null,
       "grid_auto_rows": null,
       "grid_column": null,
       "grid_gap": null,
       "grid_row": null,
       "grid_template_areas": null,
       "grid_template_columns": null,
       "grid_template_rows": null,
       "height": null,
       "justify_content": null,
       "justify_items": null,
       "left": null,
       "margin": null,
       "max_height": null,
       "max_width": null,
       "min_height": null,
       "min_width": null,
       "object_fit": null,
       "object_position": null,
       "order": null,
       "overflow": null,
       "overflow_x": null,
       "overflow_y": null,
       "padding": null,
       "right": null,
       "top": null,
       "visibility": null,
       "width": null
      }
     },
     "8d2c08d202d04af9bcdc7c0ff3dd5034": {
      "model_module": "@jupyter-widgets/controls",
      "model_module_version": "1.5.0",
      "model_name": "ProgressStyleModel",
      "state": {
       "_model_module": "@jupyter-widgets/controls",
       "_model_module_version": "1.5.0",
       "_model_name": "ProgressStyleModel",
       "_view_count": null,
       "_view_module": "@jupyter-widgets/base",
       "_view_module_version": "1.2.0",
       "_view_name": "StyleView",
       "bar_color": null,
       "description_width": ""
      }
     },
     "9854f3058ad54aa08f4b88b5248b23c5": {
      "model_module": "@jupyter-widgets/base",
      "model_module_version": "1.2.0",
      "model_name": "LayoutModel",
      "state": {
       "_model_module": "@jupyter-widgets/base",
       "_model_module_version": "1.2.0",
       "_model_name": "LayoutModel",
       "_view_count": null,
       "_view_module": "@jupyter-widgets/base",
       "_view_module_version": "1.2.0",
       "_view_name": "LayoutView",
       "align_content": null,
       "align_items": null,
       "align_self": null,
       "border": null,
       "bottom": null,
       "display": null,
       "flex": null,
       "flex_flow": null,
       "grid_area": null,
       "grid_auto_columns": null,
       "grid_auto_flow": null,
       "grid_auto_rows": null,
       "grid_column": null,
       "grid_gap": null,
       "grid_row": null,
       "grid_template_areas": null,
       "grid_template_columns": null,
       "grid_template_rows": null,
       "height": null,
       "justify_content": null,
       "justify_items": null,
       "left": null,
       "margin": null,
       "max_height": null,
       "max_width": null,
       "min_height": null,
       "min_width": null,
       "object_fit": null,
       "object_position": null,
       "order": null,
       "overflow": null,
       "overflow_x": null,
       "overflow_y": null,
       "padding": null,
       "right": null,
       "top": null,
       "visibility": null,
       "width": null
      }
     },
     "98846f1c939e429bab76f5f7c88d429f": {
      "model_module": "@jupyter-widgets/controls",
      "model_module_version": "1.5.0",
      "model_name": "ProgressStyleModel",
      "state": {
       "_model_module": "@jupyter-widgets/controls",
       "_model_module_version": "1.5.0",
       "_model_name": "ProgressStyleModel",
       "_view_count": null,
       "_view_module": "@jupyter-widgets/base",
       "_view_module_version": "1.2.0",
       "_view_name": "StyleView",
       "bar_color": null,
       "description_width": ""
      }
     },
     "996da53d381d44188b31ce74dd845a01": {
      "model_module": "@jupyter-widgets/controls",
      "model_module_version": "1.5.0",
      "model_name": "DescriptionStyleModel",
      "state": {
       "_model_module": "@jupyter-widgets/controls",
       "_model_module_version": "1.5.0",
       "_model_name": "DescriptionStyleModel",
       "_view_count": null,
       "_view_module": "@jupyter-widgets/base",
       "_view_module_version": "1.2.0",
       "_view_name": "StyleView",
       "description_width": ""
      }
     },
     "9c3c8808a846443aa78b0950dc8e723d": {
      "model_module": "@jupyter-widgets/controls",
      "model_module_version": "1.5.0",
      "model_name": "ProgressStyleModel",
      "state": {
       "_model_module": "@jupyter-widgets/controls",
       "_model_module_version": "1.5.0",
       "_model_name": "ProgressStyleModel",
       "_view_count": null,
       "_view_module": "@jupyter-widgets/base",
       "_view_module_version": "1.2.0",
       "_view_name": "StyleView",
       "bar_color": null,
       "description_width": ""
      }
     },
     "9f81a32cf93940ffaac656792428121d": {
      "model_module": "@jupyter-widgets/base",
      "model_module_version": "1.2.0",
      "model_name": "LayoutModel",
      "state": {
       "_model_module": "@jupyter-widgets/base",
       "_model_module_version": "1.2.0",
       "_model_name": "LayoutModel",
       "_view_count": null,
       "_view_module": "@jupyter-widgets/base",
       "_view_module_version": "1.2.0",
       "_view_name": "LayoutView",
       "align_content": null,
       "align_items": null,
       "align_self": null,
       "border": null,
       "bottom": null,
       "display": null,
       "flex": null,
       "flex_flow": null,
       "grid_area": null,
       "grid_auto_columns": null,
       "grid_auto_flow": null,
       "grid_auto_rows": null,
       "grid_column": null,
       "grid_gap": null,
       "grid_row": null,
       "grid_template_areas": null,
       "grid_template_columns": null,
       "grid_template_rows": null,
       "height": null,
       "justify_content": null,
       "justify_items": null,
       "left": null,
       "margin": null,
       "max_height": null,
       "max_width": null,
       "min_height": null,
       "min_width": null,
       "object_fit": null,
       "object_position": null,
       "order": null,
       "overflow": null,
       "overflow_x": null,
       "overflow_y": null,
       "padding": null,
       "right": null,
       "top": null,
       "visibility": null,
       "width": null
      }
     },
     "a37655d663b04dcba467718deaf9c083": {
      "model_module": "@jupyter-widgets/base",
      "model_module_version": "1.2.0",
      "model_name": "LayoutModel",
      "state": {
       "_model_module": "@jupyter-widgets/base",
       "_model_module_version": "1.2.0",
       "_model_name": "LayoutModel",
       "_view_count": null,
       "_view_module": "@jupyter-widgets/base",
       "_view_module_version": "1.2.0",
       "_view_name": "LayoutView",
       "align_content": null,
       "align_items": null,
       "align_self": null,
       "border": null,
       "bottom": null,
       "display": null,
       "flex": null,
       "flex_flow": null,
       "grid_area": null,
       "grid_auto_columns": null,
       "grid_auto_flow": null,
       "grid_auto_rows": null,
       "grid_column": null,
       "grid_gap": null,
       "grid_row": null,
       "grid_template_areas": null,
       "grid_template_columns": null,
       "grid_template_rows": null,
       "height": null,
       "justify_content": null,
       "justify_items": null,
       "left": null,
       "margin": null,
       "max_height": null,
       "max_width": null,
       "min_height": null,
       "min_width": null,
       "object_fit": null,
       "object_position": null,
       "order": null,
       "overflow": null,
       "overflow_x": null,
       "overflow_y": null,
       "padding": null,
       "right": null,
       "top": null,
       "visibility": null,
       "width": null
      }
     },
     "a64e1187822644d39fdc1353910a31b6": {
      "model_module": "@jupyter-widgets/base",
      "model_module_version": "1.2.0",
      "model_name": "LayoutModel",
      "state": {
       "_model_module": "@jupyter-widgets/base",
       "_model_module_version": "1.2.0",
       "_model_name": "LayoutModel",
       "_view_count": null,
       "_view_module": "@jupyter-widgets/base",
       "_view_module_version": "1.2.0",
       "_view_name": "LayoutView",
       "align_content": null,
       "align_items": null,
       "align_self": null,
       "border": null,
       "bottom": null,
       "display": null,
       "flex": null,
       "flex_flow": null,
       "grid_area": null,
       "grid_auto_columns": null,
       "grid_auto_flow": null,
       "grid_auto_rows": null,
       "grid_column": null,
       "grid_gap": null,
       "grid_row": null,
       "grid_template_areas": null,
       "grid_template_columns": null,
       "grid_template_rows": null,
       "height": null,
       "justify_content": null,
       "justify_items": null,
       "left": null,
       "margin": null,
       "max_height": null,
       "max_width": null,
       "min_height": null,
       "min_width": null,
       "object_fit": null,
       "object_position": null,
       "order": null,
       "overflow": null,
       "overflow_x": null,
       "overflow_y": null,
       "padding": null,
       "right": null,
       "top": null,
       "visibility": null,
       "width": null
      }
     },
     "a849660ab81e4f939d47f68643f4b9f4": {
      "model_module": "@jupyter-widgets/controls",
      "model_module_version": "1.5.0",
      "model_name": "DescriptionStyleModel",
      "state": {
       "_model_module": "@jupyter-widgets/controls",
       "_model_module_version": "1.5.0",
       "_model_name": "DescriptionStyleModel",
       "_view_count": null,
       "_view_module": "@jupyter-widgets/base",
       "_view_module_version": "1.2.0",
       "_view_name": "StyleView",
       "description_width": ""
      }
     },
     "aa2fd0690fb34f09b7b6b1f853e2349a": {
      "model_module": "@jupyter-widgets/controls",
      "model_module_version": "1.5.0",
      "model_name": "HTMLModel",
      "state": {
       "_dom_classes": [],
       "_model_module": "@jupyter-widgets/controls",
       "_model_module_version": "1.5.0",
       "_model_name": "HTMLModel",
       "_view_count": null,
       "_view_module": "@jupyter-widgets/controls",
       "_view_module_version": "1.5.0",
       "_view_name": "HTMLView",
       "description": "",
       "description_tooltip": null,
       "layout": "IPY_MODEL_a37655d663b04dcba467718deaf9c083",
       "placeholder": "​",
       "style": "IPY_MODEL_aa865ab950cb438e86b37b75d5a1e7b4",
       "value": " 466k/466k [00:00&lt;00:00, 32.9MB/s]"
      }
     },
     "aa865ab950cb438e86b37b75d5a1e7b4": {
      "model_module": "@jupyter-widgets/controls",
      "model_module_version": "1.5.0",
      "model_name": "DescriptionStyleModel",
      "state": {
       "_model_module": "@jupyter-widgets/controls",
       "_model_module_version": "1.5.0",
       "_model_name": "DescriptionStyleModel",
       "_view_count": null,
       "_view_module": "@jupyter-widgets/base",
       "_view_module_version": "1.2.0",
       "_view_name": "StyleView",
       "description_width": ""
      }
     },
     "b4b721afaee640b28d31f7386e3f1640": {
      "model_module": "@jupyter-widgets/controls",
      "model_module_version": "1.5.0",
      "model_name": "FloatProgressModel",
      "state": {
       "_dom_classes": [],
       "_model_module": "@jupyter-widgets/controls",
       "_model_module_version": "1.5.0",
       "_model_name": "FloatProgressModel",
       "_view_count": null,
       "_view_module": "@jupyter-widgets/controls",
       "_view_module_version": "1.5.0",
       "_view_name": "ProgressView",
       "bar_style": "success",
       "description": "",
       "description_tooltip": null,
       "layout": "IPY_MODEL_802cdfd0a0a54d4b99f1fc47570dfb6a",
       "max": 466062.0,
       "min": 0.0,
       "orientation": "horizontal",
       "style": "IPY_MODEL_16f5f5a9a2664f7eaee2aa5d05f1f2b5",
       "value": 466062.0
      }
     },
     "bae4bda651a5418e86545dad50ce475a": {
      "model_module": "@jupyter-widgets/controls",
      "model_module_version": "1.5.0",
      "model_name": "HTMLModel",
      "state": {
       "_dom_classes": [],
       "_model_module": "@jupyter-widgets/controls",
       "_model_module_version": "1.5.0",
       "_model_name": "HTMLModel",
       "_view_count": null,
       "_view_module": "@jupyter-widgets/controls",
       "_view_module_version": "1.5.0",
       "_view_name": "HTMLView",
       "description": "",
       "description_tooltip": null,
       "layout": "IPY_MODEL_4436cbc1fc684e6496cadc6e04cb90b7",
       "placeholder": "​",
       "style": "IPY_MODEL_6139c3e2dc9f4ae081102c54723a7fb8",
       "value": " 48.0/48.0 [00:00&lt;00:00, 4.26kB/s]"
      }
     },
     "bb6bcccc409c468d9772db517180ba29": {
      "model_module": "@jupyter-widgets/base",
      "model_module_version": "1.2.0",
      "model_name": "LayoutModel",
      "state": {
       "_model_module": "@jupyter-widgets/base",
       "_model_module_version": "1.2.0",
       "_model_name": "LayoutModel",
       "_view_count": null,
       "_view_module": "@jupyter-widgets/base",
       "_view_module_version": "1.2.0",
       "_view_name": "LayoutView",
       "align_content": null,
       "align_items": null,
       "align_self": null,
       "border": null,
       "bottom": null,
       "display": null,
       "flex": null,
       "flex_flow": null,
       "grid_area": null,
       "grid_auto_columns": null,
       "grid_auto_flow": null,
       "grid_auto_rows": null,
       "grid_column": null,
       "grid_gap": null,
       "grid_row": null,
       "grid_template_areas": null,
       "grid_template_columns": null,
       "grid_template_rows": null,
       "height": null,
       "justify_content": null,
       "justify_items": null,
       "left": null,
       "margin": null,
       "max_height": null,
       "max_width": null,
       "min_height": null,
       "min_width": null,
       "object_fit": null,
       "object_position": null,
       "order": null,
       "overflow": null,
       "overflow_x": null,
       "overflow_y": null,
       "padding": null,
       "right": null,
       "top": null,
       "visibility": null,
       "width": null
      }
     },
     "bb9c23a8b665440a90bee349a057f321": {
      "model_module": "@jupyter-widgets/controls",
      "model_module_version": "1.5.0",
      "model_name": "FloatProgressModel",
      "state": {
       "_dom_classes": [],
       "_model_module": "@jupyter-widgets/controls",
       "_model_module_version": "1.5.0",
       "_model_name": "FloatProgressModel",
       "_view_count": null,
       "_view_module": "@jupyter-widgets/controls",
       "_view_module_version": "1.5.0",
       "_view_name": "ProgressView",
       "bar_style": "success",
       "description": "",
       "description_tooltip": null,
       "layout": "IPY_MODEL_0451c1eabb964776b7adb4c1bedd3451",
       "max": 570.0,
       "min": 0.0,
       "orientation": "horizontal",
       "style": "IPY_MODEL_6e260972cf4a43d4b460644bf8fe8538",
       "value": 570.0
      }
     },
     "be7462268d3d4c468882c18c28577b00": {
      "model_module": "@jupyter-widgets/base",
      "model_module_version": "1.2.0",
      "model_name": "LayoutModel",
      "state": {
       "_model_module": "@jupyter-widgets/base",
       "_model_module_version": "1.2.0",
       "_model_name": "LayoutModel",
       "_view_count": null,
       "_view_module": "@jupyter-widgets/base",
       "_view_module_version": "1.2.0",
       "_view_name": "LayoutView",
       "align_content": null,
       "align_items": null,
       "align_self": null,
       "border": null,
       "bottom": null,
       "display": null,
       "flex": null,
       "flex_flow": null,
       "grid_area": null,
       "grid_auto_columns": null,
       "grid_auto_flow": null,
       "grid_auto_rows": null,
       "grid_column": null,
       "grid_gap": null,
       "grid_row": null,
       "grid_template_areas": null,
       "grid_template_columns": null,
       "grid_template_rows": null,
       "height": null,
       "justify_content": null,
       "justify_items": null,
       "left": null,
       "margin": null,
       "max_height": null,
       "max_width": null,
       "min_height": null,
       "min_width": null,
       "object_fit": null,
       "object_position": null,
       "order": null,
       "overflow": null,
       "overflow_x": null,
       "overflow_y": null,
       "padding": null,
       "right": null,
       "top": null,
       "visibility": null,
       "width": null
      }
     },
     "c04f4e3b474b456697f8eade23df735b": {
      "model_module": "@jupyter-widgets/controls",
      "model_module_version": "1.5.0",
      "model_name": "HBoxModel",
      "state": {
       "_dom_classes": [],
       "_model_module": "@jupyter-widgets/controls",
       "_model_module_version": "1.5.0",
       "_model_name": "HBoxModel",
       "_view_count": null,
       "_view_module": "@jupyter-widgets/controls",
       "_view_module_version": "1.5.0",
       "_view_name": "HBoxView",
       "box_style": "",
       "children": [
        "IPY_MODEL_679ddb92357c4961b472519d7050e49a",
        "IPY_MODEL_43ddb57dcddd4c6b91c4be948d5633d0",
        "IPY_MODEL_bae4bda651a5418e86545dad50ce475a"
       ],
       "layout": "IPY_MODEL_a64e1187822644d39fdc1353910a31b6"
      }
     },
     "c1387aebcb5b4357b01da6aa1a8c3e4f": {
      "model_module": "@jupyter-widgets/base",
      "model_module_version": "1.2.0",
      "model_name": "LayoutModel",
      "state": {
       "_model_module": "@jupyter-widgets/base",
       "_model_module_version": "1.2.0",
       "_model_name": "LayoutModel",
       "_view_count": null,
       "_view_module": "@jupyter-widgets/base",
       "_view_module_version": "1.2.0",
       "_view_name": "LayoutView",
       "align_content": null,
       "align_items": null,
       "align_self": null,
       "border": null,
       "bottom": null,
       "display": null,
       "flex": null,
       "flex_flow": null,
       "grid_area": null,
       "grid_auto_columns": null,
       "grid_auto_flow": null,
       "grid_auto_rows": null,
       "grid_column": null,
       "grid_gap": null,
       "grid_row": null,
       "grid_template_areas": null,
       "grid_template_columns": null,
       "grid_template_rows": null,
       "height": null,
       "justify_content": null,
       "justify_items": null,
       "left": null,
       "margin": null,
       "max_height": null,
       "max_width": null,
       "min_height": null,
       "min_width": null,
       "object_fit": null,
       "object_position": null,
       "order": null,
       "overflow": null,
       "overflow_x": null,
       "overflow_y": null,
       "padding": null,
       "right": null,
       "top": null,
       "visibility": null,
       "width": null
      }
     },
     "c54fc02d303f4ad6bdbf6aaa21326167": {
      "model_module": "@jupyter-widgets/base",
      "model_module_version": "1.2.0",
      "model_name": "LayoutModel",
      "state": {
       "_model_module": "@jupyter-widgets/base",
       "_model_module_version": "1.2.0",
       "_model_name": "LayoutModel",
       "_view_count": null,
       "_view_module": "@jupyter-widgets/base",
       "_view_module_version": "1.2.0",
       "_view_name": "LayoutView",
       "align_content": null,
       "align_items": null,
       "align_self": null,
       "border": null,
       "bottom": null,
       "display": null,
       "flex": null,
       "flex_flow": null,
       "grid_area": null,
       "grid_auto_columns": null,
       "grid_auto_flow": null,
       "grid_auto_rows": null,
       "grid_column": null,
       "grid_gap": null,
       "grid_row": null,
       "grid_template_areas": null,
       "grid_template_columns": null,
       "grid_template_rows": null,
       "height": null,
       "justify_content": null,
       "justify_items": null,
       "left": null,
       "margin": null,
       "max_height": null,
       "max_width": null,
       "min_height": null,
       "min_width": null,
       "object_fit": null,
       "object_position": null,
       "order": null,
       "overflow": null,
       "overflow_x": null,
       "overflow_y": null,
       "padding": null,
       "right": null,
       "top": null,
       "visibility": null,
       "width": null
      }
     },
     "c97c3f8dd1cb40f89514b685a5895929": {
      "model_module": "@jupyter-widgets/controls",
      "model_module_version": "1.5.0",
      "model_name": "DescriptionStyleModel",
      "state": {
       "_model_module": "@jupyter-widgets/controls",
       "_model_module_version": "1.5.0",
       "_model_name": "DescriptionStyleModel",
       "_view_count": null,
       "_view_module": "@jupyter-widgets/base",
       "_view_module_version": "1.2.0",
       "_view_name": "StyleView",
       "description_width": ""
      }
     },
     "cb6c21363e59432b97cefeee4716ea62": {
      "model_module": "@jupyter-widgets/base",
      "model_module_version": "1.2.0",
      "model_name": "LayoutModel",
      "state": {
       "_model_module": "@jupyter-widgets/base",
       "_model_module_version": "1.2.0",
       "_model_name": "LayoutModel",
       "_view_count": null,
       "_view_module": "@jupyter-widgets/base",
       "_view_module_version": "1.2.0",
       "_view_name": "LayoutView",
       "align_content": null,
       "align_items": null,
       "align_self": null,
       "border": null,
       "bottom": null,
       "display": null,
       "flex": null,
       "flex_flow": null,
       "grid_area": null,
       "grid_auto_columns": null,
       "grid_auto_flow": null,
       "grid_auto_rows": null,
       "grid_column": null,
       "grid_gap": null,
       "grid_row": null,
       "grid_template_areas": null,
       "grid_template_columns": null,
       "grid_template_rows": null,
       "height": null,
       "justify_content": null,
       "justify_items": null,
       "left": null,
       "margin": null,
       "max_height": null,
       "max_width": null,
       "min_height": null,
       "min_width": null,
       "object_fit": null,
       "object_position": null,
       "order": null,
       "overflow": null,
       "overflow_x": null,
       "overflow_y": null,
       "padding": null,
       "right": null,
       "top": null,
       "visibility": null,
       "width": null
      }
     },
     "cbf456306a5b4158b829cd32d8ac0253": {
      "model_module": "@jupyter-widgets/base",
      "model_module_version": "1.2.0",
      "model_name": "LayoutModel",
      "state": {
       "_model_module": "@jupyter-widgets/base",
       "_model_module_version": "1.2.0",
       "_model_name": "LayoutModel",
       "_view_count": null,
       "_view_module": "@jupyter-widgets/base",
       "_view_module_version": "1.2.0",
       "_view_name": "LayoutView",
       "align_content": null,
       "align_items": null,
       "align_self": null,
       "border": null,
       "bottom": null,
       "display": null,
       "flex": null,
       "flex_flow": null,
       "grid_area": null,
       "grid_auto_columns": null,
       "grid_auto_flow": null,
       "grid_auto_rows": null,
       "grid_column": null,
       "grid_gap": null,
       "grid_row": null,
       "grid_template_areas": null,
       "grid_template_columns": null,
       "grid_template_rows": null,
       "height": null,
       "justify_content": null,
       "justify_items": null,
       "left": null,
       "margin": null,
       "max_height": null,
       "max_width": null,
       "min_height": null,
       "min_width": null,
       "object_fit": null,
       "object_position": null,
       "order": null,
       "overflow": null,
       "overflow_x": null,
       "overflow_y": null,
       "padding": null,
       "right": null,
       "top": null,
       "visibility": null,
       "width": null
      }
     },
     "d16b0d5082dd4a7db721283655427320": {
      "model_module": "@jupyter-widgets/base",
      "model_module_version": "1.2.0",
      "model_name": "LayoutModel",
      "state": {
       "_model_module": "@jupyter-widgets/base",
       "_model_module_version": "1.2.0",
       "_model_name": "LayoutModel",
       "_view_count": null,
       "_view_module": "@jupyter-widgets/base",
       "_view_module_version": "1.2.0",
       "_view_name": "LayoutView",
       "align_content": null,
       "align_items": null,
       "align_self": null,
       "border": null,
       "bottom": null,
       "display": null,
       "flex": null,
       "flex_flow": null,
       "grid_area": null,
       "grid_auto_columns": null,
       "grid_auto_flow": null,
       "grid_auto_rows": null,
       "grid_column": null,
       "grid_gap": null,
       "grid_row": null,
       "grid_template_areas": null,
       "grid_template_columns": null,
       "grid_template_rows": null,
       "height": null,
       "justify_content": null,
       "justify_items": null,
       "left": null,
       "margin": null,
       "max_height": null,
       "max_width": null,
       "min_height": null,
       "min_width": null,
       "object_fit": null,
       "object_position": null,
       "order": null,
       "overflow": null,
       "overflow_x": null,
       "overflow_y": null,
       "padding": null,
       "right": null,
       "top": null,
       "visibility": null,
       "width": null
      }
     },
     "d4de9d0ea2044b28a6443da8818254cc": {
      "model_module": "@jupyter-widgets/base",
      "model_module_version": "1.2.0",
      "model_name": "LayoutModel",
      "state": {
       "_model_module": "@jupyter-widgets/base",
       "_model_module_version": "1.2.0",
       "_model_name": "LayoutModel",
       "_view_count": null,
       "_view_module": "@jupyter-widgets/base",
       "_view_module_version": "1.2.0",
       "_view_name": "LayoutView",
       "align_content": null,
       "align_items": null,
       "align_self": null,
       "border": null,
       "bottom": null,
       "display": null,
       "flex": null,
       "flex_flow": null,
       "grid_area": null,
       "grid_auto_columns": null,
       "grid_auto_flow": null,
       "grid_auto_rows": null,
       "grid_column": null,
       "grid_gap": null,
       "grid_row": null,
       "grid_template_areas": null,
       "grid_template_columns": null,
       "grid_template_rows": null,
       "height": null,
       "justify_content": null,
       "justify_items": null,
       "left": null,
       "margin": null,
       "max_height": null,
       "max_width": null,
       "min_height": null,
       "min_width": null,
       "object_fit": null,
       "object_position": null,
       "order": null,
       "overflow": null,
       "overflow_x": null,
       "overflow_y": null,
       "padding": null,
       "right": null,
       "top": null,
       "visibility": null,
       "width": null
      }
     },
     "d66476722c884b0ea5f7f5c21dbcf589": {
      "model_module": "@jupyter-widgets/controls",
      "model_module_version": "1.5.0",
      "model_name": "HTMLModel",
      "state": {
       "_dom_classes": [],
       "_model_module": "@jupyter-widgets/controls",
       "_model_module_version": "1.5.0",
       "_model_name": "HTMLModel",
       "_view_count": null,
       "_view_module": "@jupyter-widgets/controls",
       "_view_module_version": "1.5.0",
       "_view_name": "HTMLView",
       "description": "",
       "description_tooltip": null,
       "layout": "IPY_MODEL_9f81a32cf93940ffaac656792428121d",
       "placeholder": "​",
       "style": "IPY_MODEL_11d003eb3b1c44c3a5c1ff0271224265",
       "value": "tokenizer.json: 100%"
      }
     },
     "eb5bf750d3fc403a83219dbaf025d59e": {
      "model_module": "@jupyter-widgets/controls",
      "model_module_version": "1.5.0",
      "model_name": "HTMLModel",
      "state": {
       "_dom_classes": [],
       "_model_module": "@jupyter-widgets/controls",
       "_model_module_version": "1.5.0",
       "_model_name": "HTMLModel",
       "_view_count": null,
       "_view_module": "@jupyter-widgets/controls",
       "_view_module_version": "1.5.0",
       "_view_name": "HTMLView",
       "description": "",
       "description_tooltip": null,
       "layout": "IPY_MODEL_c1387aebcb5b4357b01da6aa1a8c3e4f",
       "placeholder": "​",
       "style": "IPY_MODEL_996da53d381d44188b31ce74dd845a01",
       "value": " 232k/232k [00:00&lt;00:00, 8.24MB/s]"
      }
     },
     "ef79aa02171a42df8e993034a28377ce": {
      "model_module": "@jupyter-widgets/controls",
      "model_module_version": "1.5.0",
      "model_name": "HBoxModel",
      "state": {
       "_dom_classes": [],
       "_model_module": "@jupyter-widgets/controls",
       "_model_module_version": "1.5.0",
       "_model_name": "HBoxModel",
       "_view_count": null,
       "_view_module": "@jupyter-widgets/controls",
       "_view_module_version": "1.5.0",
       "_view_name": "HBoxView",
       "box_style": "",
       "children": [
        "IPY_MODEL_670120913d494cf18785919c02ff8e62",
        "IPY_MODEL_2123b15e8d8a497c8b068a5d384c01d0",
        "IPY_MODEL_eb5bf750d3fc403a83219dbaf025d59e"
       ],
       "layout": "IPY_MODEL_d4de9d0ea2044b28a6443da8818254cc"
      }
     },
     "fbeae561919741c0b3914ba3a9d1aafa": {
      "model_module": "@jupyter-widgets/controls",
      "model_module_version": "1.5.0",
      "model_name": "DescriptionStyleModel",
      "state": {
       "_model_module": "@jupyter-widgets/controls",
       "_model_module_version": "1.5.0",
       "_model_name": "DescriptionStyleModel",
       "_view_count": null,
       "_view_module": "@jupyter-widgets/base",
       "_view_module_version": "1.2.0",
       "_view_name": "StyleView",
       "description_width": ""
      }
     }
    },
    "version_major": 2,
    "version_minor": 0
   }
  }
 },
 "nbformat": 4,
 "nbformat_minor": 5
}
