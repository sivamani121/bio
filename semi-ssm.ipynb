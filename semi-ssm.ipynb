{
 "cells": [
  {
   "cell_type": "code",
   "execution_count": 1,
   "id": "8fe867ee",
   "metadata": {
    "execution": {
     "iopub.execute_input": "2024-03-03T06:52:43.674935Z",
     "iopub.status.busy": "2024-03-03T06:52:43.674583Z",
     "iopub.status.idle": "2024-03-03T06:52:43.679165Z",
     "shell.execute_reply": "2024-03-03T06:52:43.678450Z"
    },
    "papermill": {
     "duration": 0.017631,
     "end_time": "2024-03-03T06:52:43.681053",
     "exception": false,
     "start_time": "2024-03-03T06:52:43.663422",
     "status": "completed"
    },
    "tags": []
   },
   "outputs": [],
   "source": [
    "# !pip install torch"
   ]
  },
  {
   "cell_type": "code",
   "execution_count": 2,
   "id": "442350ea",
   "metadata": {
    "_cell_guid": "b1076dfc-b9ad-4769-8c92-a6c4dae69d19",
    "_uuid": "8f2839f25d086af736a60e9eeb907d3b93b6e0e5",
    "execution": {
     "iopub.execute_input": "2024-03-03T06:52:43.700822Z",
     "iopub.status.busy": "2024-03-03T06:52:43.700332Z",
     "iopub.status.idle": "2024-03-03T06:52:47.334763Z",
     "shell.execute_reply": "2024-03-03T06:52:47.333958Z"
    },
    "papermill": {
     "duration": 3.646818,
     "end_time": "2024-03-03T06:52:47.337322",
     "exception": false,
     "start_time": "2024-03-03T06:52:43.690504",
     "status": "completed"
    },
    "tags": []
   },
   "outputs": [],
   "source": [
    "# Regular imports\n",
    "import matplotlib.pyplot as plt\n",
    "import torch\n",
    "\n",
    "from torch import nn\n",
    "import numpy as np \n"
   ]
  },
  {
   "cell_type": "code",
   "execution_count": 3,
   "id": "f3bf1b90",
   "metadata": {
    "execution": {
     "iopub.execute_input": "2024-03-03T06:52:47.358264Z",
     "iopub.status.busy": "2024-03-03T06:52:47.357500Z",
     "iopub.status.idle": "2024-03-03T06:52:47.412734Z",
     "shell.execute_reply": "2024-03-03T06:52:47.411902Z"
    },
    "papermill": {
     "duration": 0.067808,
     "end_time": "2024-03-03T06:52:47.414814",
     "exception": false,
     "start_time": "2024-03-03T06:52:47.347006",
     "status": "completed"
    },
    "tags": []
   },
   "outputs": [
    {
     "data": {
      "text/plain": [
       "'cuda'"
      ]
     },
     "execution_count": 3,
     "metadata": {},
     "output_type": "execute_result"
    }
   ],
   "source": [
    "device = \"cuda\" if torch.cuda.is_available() else \"cpu\"\n",
    "device\n",
    "\n",
    "#os.environ['CUDA_LAUNCH_BLOCKING'] = '1'\n"
   ]
  },
  {
   "cell_type": "code",
   "execution_count": 4,
   "id": "561d29ed",
   "metadata": {
    "execution": {
     "iopub.execute_input": "2024-03-03T06:52:47.434861Z",
     "iopub.status.busy": "2024-03-03T06:52:47.434569Z",
     "iopub.status.idle": "2024-03-03T06:52:47.438622Z",
     "shell.execute_reply": "2024-03-03T06:52:47.437817Z"
    },
    "papermill": {
     "duration": 0.016101,
     "end_time": "2024-03-03T06:52:47.440519",
     "exception": false,
     "start_time": "2024-03-03T06:52:47.424418",
     "status": "completed"
    },
    "tags": []
   },
   "outputs": [],
   "source": [
    "import os\n",
    "os.environ[\"TORCH_USE_CUDA_DSA\"] = \"1\"\n",
    "\n",
    "# Import PyTorch and other libraries\n",
    "\n",
    "\n"
   ]
  },
  {
   "cell_type": "code",
   "execution_count": 5,
   "id": "3566fc29",
   "metadata": {
    "execution": {
     "iopub.execute_input": "2024-03-03T06:52:47.460336Z",
     "iopub.status.busy": "2024-03-03T06:52:47.459835Z",
     "iopub.status.idle": "2024-03-03T06:52:47.463568Z",
     "shell.execute_reply": "2024-03-03T06:52:47.462791Z"
    },
    "papermill": {
     "duration": 0.015628,
     "end_time": "2024-03-03T06:52:47.465494",
     "exception": false,
     "start_time": "2024-03-03T06:52:47.449866",
     "status": "completed"
    },
    "tags": []
   },
   "outputs": [],
   "source": [
    "data_path = \"/kaggle/input/majortry6/labeled_data.csv\""
   ]
  },
  {
   "cell_type": "code",
   "execution_count": 6,
   "id": "5a07c6fe",
   "metadata": {
    "execution": {
     "iopub.execute_input": "2024-03-03T06:52:47.485472Z",
     "iopub.status.busy": "2024-03-03T06:52:47.484992Z",
     "iopub.status.idle": "2024-03-03T06:52:48.363374Z",
     "shell.execute_reply": "2024-03-03T06:52:48.362279Z"
    },
    "papermill": {
     "duration": 0.890498,
     "end_time": "2024-03-03T06:52:48.365423",
     "exception": false,
     "start_time": "2024-03-03T06:52:47.474925",
     "status": "completed"
    },
    "tags": []
   },
   "outputs": [
    {
     "name": "stdout",
     "output_type": "stream",
     "text": [
      "Index(['Unnamed: 0', 'count', 'hate_speech', 'offensive_language', 'neither',\n",
      "       'class', 'tweet'],\n",
      "      dtype='object')\n"
     ]
    }
   ],
   "source": [
    "import numpy as np\n",
    "import pickle\n",
    "import pandas as pd\n",
    "pd.options.mode.copy_on_write = True\n",
    "\n",
    "data = pd.read_csv(data_path)\n",
    "df = pd.DataFrame(data)\n",
    "print(df.columns)\n",
    "df.columns = ['Unnamed: 0', 'count', 'hate_speech', 'offensive_language', 'neither',\n",
    "       'classk', 'tweet']"
   ]
  },
  {
   "cell_type": "code",
   "execution_count": 7,
   "id": "54135e5e",
   "metadata": {
    "execution": {
     "iopub.execute_input": "2024-03-03T06:52:48.391521Z",
     "iopub.status.busy": "2024-03-03T06:52:48.390483Z",
     "iopub.status.idle": "2024-03-03T06:52:48.404658Z",
     "shell.execute_reply": "2024-03-03T06:52:48.403810Z"
    },
    "papermill": {
     "duration": 0.029197,
     "end_time": "2024-03-03T06:52:48.407212",
     "exception": false,
     "start_time": "2024-03-03T06:52:48.378015",
     "status": "completed"
    },
    "tags": []
   },
   "outputs": [],
   "source": [
    "df[\"classk\"] = df[\"classk\"].map({2:1, 1:0, 0:0}) \n",
    "# label = 0 = hate\n",
    "# label = 1 = not_hate"
   ]
  },
  {
   "cell_type": "code",
   "execution_count": 8,
   "id": "7aab6271",
   "metadata": {
    "execution": {
     "iopub.execute_input": "2024-03-03T06:52:48.433554Z",
     "iopub.status.busy": "2024-03-03T06:52:48.433025Z",
     "iopub.status.idle": "2024-03-03T06:52:48.570524Z",
     "shell.execute_reply": "2024-03-03T06:52:48.569837Z"
    },
    "papermill": {
     "duration": 0.151335,
     "end_time": "2024-03-03T06:52:48.572485",
     "exception": false,
     "start_time": "2024-03-03T06:52:48.421150",
     "status": "completed"
    },
    "tags": []
   },
   "outputs": [],
   "source": [
    "tweets = df.tweet\n",
    "res = []\n",
    "\n",
    "for i in range(len(tweets)):\n",
    "    splitt = tweets[i].split(\":\")\n",
    "    if len(splitt) == 1:\n",
    "        res.append(splitt[0])\n",
    "    else:\n",
    "        res.append(splitt[-1])\n",
    "        \n",
    "tweets = res\n",
    "\n",
    "# print(tweets)"
   ]
  },
  {
   "cell_type": "code",
   "execution_count": 9,
   "id": "0d21259b",
   "metadata": {
    "execution": {
     "iopub.execute_input": "2024-03-03T06:52:48.592654Z",
     "iopub.status.busy": "2024-03-03T06:52:48.592360Z",
     "iopub.status.idle": "2024-03-03T06:52:48.596889Z",
     "shell.execute_reply": "2024-03-03T06:52:48.596057Z"
    },
    "papermill": {
     "duration": 0.016619,
     "end_time": "2024-03-03T06:52:48.598674",
     "exception": false,
     "start_time": "2024-03-03T06:52:48.582055",
     "status": "completed"
    },
    "tags": []
   },
   "outputs": [],
   "source": [
    "hate_words = ['Moist', 'Cunt', 'Panties', 'Fuck', 'Hate', 'Nigger', 'Pussy', 'Ass', 'Motherfucker', 'Bitch', 'Damn']\n",
    "not_hate_words = ['Love', 'Peace', 'Kindness', 'Happiness', 'Respect', 'Friendship',\n",
    "'Appreciation', 'Hope', 'Encouragement', 'Support', 'Caring']"
   ]
  },
  {
   "cell_type": "code",
   "execution_count": 10,
   "id": "8e06a3e8",
   "metadata": {
    "execution": {
     "iopub.execute_input": "2024-03-03T06:52:48.618975Z",
     "iopub.status.busy": "2024-03-03T06:52:48.618723Z",
     "iopub.status.idle": "2024-03-03T06:52:54.339554Z",
     "shell.execute_reply": "2024-03-03T06:52:54.338581Z"
    },
    "papermill": {
     "duration": 5.733242,
     "end_time": "2024-03-03T06:52:54.341649",
     "exception": false,
     "start_time": "2024-03-03T06:52:48.608407",
     "status": "completed"
    },
    "tags": []
   },
   "outputs": [
    {
     "data": {
      "application/vnd.jupyter.widget-view+json": {
       "model_id": "e7fda732cd24456281ddd4b3eba4dc3a",
       "version_major": 2,
       "version_minor": 0
      },
      "text/plain": [
       "tokenizer_config.json:   0%|          | 0.00/48.0 [00:00<?, ?B/s]"
      ]
     },
     "metadata": {},
     "output_type": "display_data"
    },
    {
     "data": {
      "application/vnd.jupyter.widget-view+json": {
       "model_id": "058fadff53ce48e3874e16c5c3888b6f",
       "version_major": 2,
       "version_minor": 0
      },
      "text/plain": [
       "config.json:   0%|          | 0.00/570 [00:00<?, ?B/s]"
      ]
     },
     "metadata": {},
     "output_type": "display_data"
    },
    {
     "data": {
      "application/vnd.jupyter.widget-view+json": {
       "model_id": "33effc4e6ee944c39b39b2bcfbda8fe2",
       "version_major": 2,
       "version_minor": 0
      },
      "text/plain": [
       "vocab.txt:   0%|          | 0.00/232k [00:00<?, ?B/s]"
      ]
     },
     "metadata": {},
     "output_type": "display_data"
    },
    {
     "data": {
      "application/vnd.jupyter.widget-view+json": {
       "model_id": "c98a7bd273284318a1549051aeed8551",
       "version_major": 2,
       "version_minor": 0
      },
      "text/plain": [
       "tokenizer.json:   0%|          | 0.00/466k [00:00<?, ?B/s]"
      ]
     },
     "metadata": {},
     "output_type": "display_data"
    },
    {
     "data": {
      "text/plain": [
       "{'input_ids': [101, 1045, 2293, 20421, 102], 'token_type_ids': [0, 0, 0, 0, 0], 'attention_mask': [1, 1, 1, 1, 1]}"
      ]
     },
     "execution_count": 10,
     "metadata": {},
     "output_type": "execute_result"
    }
   ],
   "source": [
    "\n",
    "from transformers import AutoTokenizer\n",
    "from transformers import BertModel\n",
    "\n",
    "tokenizer = AutoTokenizer.from_pretrained(\"bert-base-uncased\")\n",
    "\n",
    "tokenizer(\"I love Pokemon\")\n",
    "# # tokenizer.decode(tokenizer(\"I love Pokemon\")['input_ids'])\n",
    "# from transformers import BertTokenizer, BertForSequenceClassification\n",
    "# import torch\n",
    "# from torch.utils.data import DataLoader, TensorDataset\n",
    "\n",
    "# # Load pre-trained model and tokenizer\n",
    "# model = BertForSequenceClassification.from_pretrained('bert-base-uncased', num_labels=num_classes)\n",
    "# tokenizer = BertTokenizer.from_pretrained('bert-base-uncased')\n",
    "\n",
    "# # Tokenize and prepare data\n",
    "# input_texts = [\"your input sentences\"]\n",
    "# labels = [0, 1, ...]  # corresponding labels\n",
    "\n",
    "# tokenized_inputs = tokenizer(input_texts, truncation=True, padding=True, return_tensors=\"pt\")\n",
    "\n",
    "# # Create DataLoader\n",
    "# dataset = TensorDataset(tokenized_inputs['input_ids'], tokenized_inputs['attention_mask'], torch.tensor(labels))\n",
    "# dataloader = DataLoader(dataset, batch_size=batch_size, shuffle=True)\n",
    "\n",
    "# # Set up optimizer and loss function\n",
    "# optimizer = torch.optim.AdamW(model.parameters(), lr=learning_rate)\n",
    "# loss_fn = torch.nn.CrossEntropyLoss()\n",
    "\n",
    "# # Fine-tuning loop\n",
    "# for epoch in range(num_epochs):\n",
    "#     for batch in dataloader:\n",
    "#         inputs, attention_mask, target = batch\n",
    "#         outputs = model(inputs, attention_mask=attention_mask)\n",
    "#         loss = loss_fn(outputs.logits, target)\n",
    "        \n",
    "#         optimizer.zero_grad()\n",
    "#         loss.backward()\n",
    "#         optimizer.step()\n",
    "\n",
    "# # Evaluate on a test set\n",
    "# # (Prepare the test set similarly and use model.eval() before inference)\n"
   ]
  },
  {
   "cell_type": "code",
   "execution_count": 11,
   "id": "6d75bf85",
   "metadata": {
    "execution": {
     "iopub.execute_input": "2024-03-03T06:52:54.364218Z",
     "iopub.status.busy": "2024-03-03T06:52:54.363787Z",
     "iopub.status.idle": "2024-03-03T06:52:57.271607Z",
     "shell.execute_reply": "2024-03-03T06:52:57.270655Z"
    },
    "papermill": {
     "duration": 2.921359,
     "end_time": "2024-03-03T06:52:57.273868",
     "exception": false,
     "start_time": "2024-03-03T06:52:54.352509",
     "status": "completed"
    },
    "tags": []
   },
   "outputs": [
    {
     "data": {
      "application/vnd.jupyter.widget-view+json": {
       "model_id": "d942110ebf7145aebaf444818e6f4a47",
       "version_major": 2,
       "version_minor": 0
      },
      "text/plain": [
       "model.safetensors:   0%|          | 0.00/440M [00:00<?, ?B/s]"
      ]
     },
     "metadata": {},
     "output_type": "display_data"
    },
    {
     "name": "stdout",
     "output_type": "stream",
     "text": [
      "{'input_ids': tensor([[  101,  7592,  2026,  3899,  2003, 10140,   102]]), 'token_type_ids': tensor([[0, 0, 0, 0, 0, 0, 0]]), 'attention_mask': tensor([[1, 1, 1, 1, 1, 1, 1]])}\n",
      "7\n",
      "768\n",
      "768\n"
     ]
    }
   ],
   "source": [
    "model = BertModel.from_pretrained(\"bert-base-uncased\")\n",
    "\n",
    "inputs = tokenizer(\"Hello my dog is cute\", return_tensors=\"pt\")\n",
    "print(inputs)\n",
    "\n",
    "outputs = model(**inputs)\n",
    "\n",
    "print(len(outputs.last_hidden_state[0])) # => no. of tokens + [CLS] + [SEP]\n",
    "print(len(outputs.last_hidden_state[0][1])) # => hidden dim size\n",
    "print(len(outputs.last_hidden_state[0][2])) # => hidden dim size"
   ]
  },
  {
   "cell_type": "code",
   "execution_count": 12,
   "id": "a50a3ed6",
   "metadata": {
    "execution": {
     "iopub.execute_input": "2024-03-03T06:52:57.297591Z",
     "iopub.status.busy": "2024-03-03T06:52:57.296575Z",
     "iopub.status.idle": "2024-03-03T06:52:58.353721Z",
     "shell.execute_reply": "2024-03-03T06:52:58.352841Z"
    },
    "papermill": {
     "duration": 1.071126,
     "end_time": "2024-03-03T06:52:58.355851",
     "exception": false,
     "start_time": "2024-03-03T06:52:57.284725",
     "status": "completed"
    },
    "tags": []
   },
   "outputs": [
    {
     "data": {
      "text/plain": [
       "torch.float32"
      ]
     },
     "execution_count": 12,
     "metadata": {},
     "output_type": "execute_result"
    }
   ],
   "source": [
    "temp = []\n",
    "model = BertModel.from_pretrained(\"bert-base-uncased\")\n",
    "\n",
    "for word in hate_words:\n",
    "    inputs = tokenizer(word, return_tensors=\"pt\")\n",
    "#     print(inputs)\n",
    "    outputs = model(**inputs)\n",
    "    outputs = torch.mean(outputs.last_hidden_state[0][1:len(outputs.last_hidden_state[0])], dim=0)\n",
    "    temp.append(outputs.tolist())\n",
    "\n",
    "# temp = temp[1:]\n",
    "# print(hate_space)\n",
    "# print(len(temp)) # => no. of words = no. of rows\n",
    "# print(len(temp[0])) # => no. of columns in each row = embedding vector size\n",
    "\n",
    "# hate_space = temp.clone().detach().requires_grad_(True)\n",
    "hate_space =torch.tensor(temp).to(device).requires_grad_()\n",
    "\n",
    "hate_space.is_leaf\n",
    "hate_space.dtype\n",
    "# hate_space\n",
    "# hate_space.requires_grad"
   ]
  },
  {
   "cell_type": "code",
   "execution_count": 13,
   "id": "1d83951e",
   "metadata": {
    "execution": {
     "iopub.execute_input": "2024-03-03T06:52:58.378763Z",
     "iopub.status.busy": "2024-03-03T06:52:58.378446Z",
     "iopub.status.idle": "2024-03-03T06:52:59.175966Z",
     "shell.execute_reply": "2024-03-03T06:52:59.174941Z"
    },
    "papermill": {
     "duration": 0.811348,
     "end_time": "2024-03-03T06:52:59.178321",
     "exception": false,
     "start_time": "2024-03-03T06:52:58.366973",
     "status": "completed"
    },
    "tags": []
   },
   "outputs": [
    {
     "name": "stdout",
     "output_type": "stream",
     "text": [
      "True\n"
     ]
    }
   ],
   "source": [
    "temp = []\n",
    "model = BertModel.from_pretrained(\"bert-base-uncased\")\n",
    "\n",
    "# with torch.no_grad():\n",
    "for word in not_hate_words:\n",
    "    inputs = tokenizer(word, return_tensors=\"pt\")\n",
    "#     print(inputs)\n",
    "    outputs = model(**inputs)\n",
    "    outputs = torch.mean(outputs.last_hidden_state[0][1:len(outputs.last_hidden_state[0])], dim=0)\n",
    "    temp.append(outputs.tolist())\n",
    "\n",
    "# temp = temp[1:]\n",
    "# print(hate_space)\n",
    "# print(len(temp)) # => no. of words = no. of rows\n",
    "# print(len(temp[0])) # => no. of columns in each row = embedding vector size\n",
    "\n",
    "\n",
    "not_hate_space = torch.tensor(temp).to(device).requires_grad_()\n",
    "\n",
    "print(not_hate_space.is_leaf)\n",
    "\n",
    "# not_hate_space\n",
    "# not_hate_space.requires_grad"
   ]
  },
  {
   "cell_type": "code",
   "execution_count": 14,
   "id": "199eb12c",
   "metadata": {
    "execution": {
     "iopub.execute_input": "2024-03-03T06:52:59.203536Z",
     "iopub.status.busy": "2024-03-03T06:52:59.203212Z",
     "iopub.status.idle": "2024-03-03T06:52:59.215206Z",
     "shell.execute_reply": "2024-03-03T06:52:59.214278Z"
    },
    "papermill": {
     "duration": 0.026876,
     "end_time": "2024-03-03T06:52:59.217318",
     "exception": false,
     "start_time": "2024-03-03T06:52:59.190442",
     "status": "completed"
    },
    "tags": []
   },
   "outputs": [
    {
     "name": "stdout",
     "output_type": "stream",
     "text": [
      "torch.Size([4, 768, 23])\n"
     ]
    },
    {
     "data": {
      "text/plain": [
       "torch.Size([4, 11, 23])"
      ]
     },
     "execution_count": 14,
     "metadata": {},
     "output_type": "execute_result"
    }
   ],
   "source": [
    "# Trial matmul\n",
    "\n",
    "t1 = torch.randn(11, 768)\n",
    "t2 = torch.randn(4, 23, 768)\n",
    "\n",
    "print(torch.transpose(t2, 1, 2).shape)\n",
    "\n",
    "torch.matmul(t1, torch.transpose(t2, 1, 2)).shape"
   ]
  },
  {
   "cell_type": "code",
   "execution_count": 15,
   "id": "bcd73840",
   "metadata": {
    "execution": {
     "iopub.execute_input": "2024-03-03T06:52:59.241417Z",
     "iopub.status.busy": "2024-03-03T06:52:59.241126Z",
     "iopub.status.idle": "2024-03-03T06:52:59.245588Z",
     "shell.execute_reply": "2024-03-03T06:52:59.244761Z"
    },
    "papermill": {
     "duration": 0.018907,
     "end_time": "2024-03-03T06:52:59.247834",
     "exception": false,
     "start_time": "2024-03-03T06:52:59.228927",
     "status": "completed"
    },
    "tags": []
   },
   "outputs": [
    {
     "name": "stdout",
     "output_type": "stream",
     "text": [
      "hate_space.grad: None\n",
      "not_hate_space.grad: None\n"
     ]
    }
   ],
   "source": [
    "print(\"hate_space.grad:\", hate_space.grad)\n",
    "print(\"not_hate_space.grad:\", not_hate_space.grad)"
   ]
  },
  {
   "cell_type": "code",
   "execution_count": 16,
   "id": "3e29fff1",
   "metadata": {
    "execution": {
     "iopub.execute_input": "2024-03-03T06:52:59.271363Z",
     "iopub.status.busy": "2024-03-03T06:52:59.271109Z",
     "iopub.status.idle": "2024-03-03T06:52:59.276571Z",
     "shell.execute_reply": "2024-03-03T06:52:59.275767Z"
    },
    "papermill": {
     "duration": 0.019459,
     "end_time": "2024-03-03T06:52:59.278574",
     "exception": false,
     "start_time": "2024-03-03T06:52:59.259115",
     "status": "completed"
    },
    "tags": []
   },
   "outputs": [],
   "source": [
    "class Custom_Dataset(torch.utils.data.Dataset):\n",
    "    \n",
    "    def __init__(self, data, labels):\n",
    "        self.data = data\n",
    "        self.labels = labels\n",
    "        \n",
    "    def __getitem__(self, index: int) -> (torch.Tensor, int): # => (X, y)\n",
    "        \n",
    "        X = self.data[index]\n",
    "        y = self.labels[index]\n",
    "\n",
    "        return (X, y)\n",
    "    \n",
    "    \n",
    "    def __len__(self) -> int:\n",
    "        \n",
    "        return len(self.data)"
   ]
  },
  {
   "cell_type": "code",
   "execution_count": 17,
   "id": "0dcb6ad0",
   "metadata": {
    "execution": {
     "iopub.execute_input": "2024-03-03T06:52:59.302072Z",
     "iopub.status.busy": "2024-03-03T06:52:59.301784Z",
     "iopub.status.idle": "2024-03-03T06:53:00.345869Z",
     "shell.execute_reply": "2024-03-03T06:53:00.344903Z"
    },
    "papermill": {
     "duration": 1.058198,
     "end_time": "2024-03-03T06:53:00.348066",
     "exception": false,
     "start_time": "2024-03-03T06:52:59.289868",
     "status": "completed"
    },
    "tags": []
   },
   "outputs": [
    {
     "name": "stdout",
     "output_type": "stream",
     "text": [
      "19826 19826\n",
      "4957 4957\n"
     ]
    }
   ],
   "source": [
    "from sklearn.model_selection import train_test_split\n",
    "\n",
    "X_train, X_test, y_train, y_test = train_test_split(tweets, list(df.classk), test_size=0.2, shuffle=True)\n",
    "\n",
    "print(len(X_train), len(y_train))\n",
    "print(len(X_test), len(y_test))"
   ]
  },
  {
   "cell_type": "code",
   "execution_count": 18,
   "id": "ec57822f",
   "metadata": {
    "execution": {
     "iopub.execute_input": "2024-03-03T06:53:00.372105Z",
     "iopub.status.busy": "2024-03-03T06:53:00.371624Z",
     "iopub.status.idle": "2024-03-03T06:53:00.377234Z",
     "shell.execute_reply": "2024-03-03T06:53:00.376363Z"
    },
    "papermill": {
     "duration": 0.019396,
     "end_time": "2024-03-03T06:53:00.379170",
     "exception": false,
     "start_time": "2024-03-03T06:53:00.359774",
     "status": "completed"
    },
    "tags": []
   },
   "outputs": [],
   "source": [
    "train_data = Custom_Dataset(data=X_train, labels=y_train)\n",
    "test_data = Custom_Dataset(data=X_test, labels=y_test)\n",
    "\n",
    "train_loader = torch.utils.data.DataLoader(dataset=train_data, batch_size=3, shuffle=True)\n",
    "test_loader = torch.utils.data.DataLoader(dataset=test_data, batch_size=1, shuffle=False)\n"
   ]
  },
  {
   "cell_type": "code",
   "execution_count": 19,
   "id": "11949ad6",
   "metadata": {
    "execution": {
     "iopub.execute_input": "2024-03-03T06:53:00.402403Z",
     "iopub.status.busy": "2024-03-03T06:53:00.402151Z",
     "iopub.status.idle": "2024-03-03T06:53:00.408247Z",
     "shell.execute_reply": "2024-03-03T06:53:00.407356Z"
    },
    "papermill": {
     "duration": 0.019892,
     "end_time": "2024-03-03T06:53:00.410220",
     "exception": false,
     "start_time": "2024-03-03T06:53:00.390328",
     "status": "completed"
    },
    "tags": []
   },
   "outputs": [
    {
     "data": {
      "text/plain": [
       "[[-0.4200690885295639],\n",
       " [0.9599980995742812],\n",
       " [0.78229095060106],\n",
       " [-0.07209728507047886],\n",
       " [0.2802380311652659],\n",
       " [0.30965304982208575],\n",
       " [0.9912632766277514],\n",
       " [-0.25027590889815365],\n",
       " [-0.4946809351545076],\n",
       " [0.8898345071452962],\n",
       " [-0.809356586369129]]"
      ]
     },
     "execution_count": 19,
     "metadata": {},
     "output_type": "execute_result"
    }
   ],
   "source": [
    "import random\n",
    "l=[[random.uniform(-1,1)] for i in range(11)]\n",
    "l"
   ]
  },
  {
   "cell_type": "code",
   "execution_count": 20,
   "id": "544bacce",
   "metadata": {
    "execution": {
     "iopub.execute_input": "2024-03-03T06:53:00.433345Z",
     "iopub.status.busy": "2024-03-03T06:53:00.433107Z",
     "iopub.status.idle": "2024-03-03T06:53:00.438411Z",
     "shell.execute_reply": "2024-03-03T06:53:00.437552Z"
    },
    "papermill": {
     "duration": 0.019059,
     "end_time": "2024-03-03T06:53:00.440404",
     "exception": false,
     "start_time": "2024-03-03T06:53:00.421345",
     "status": "completed"
    },
    "tags": []
   },
   "outputs": [
    {
     "name": "stdout",
     "output_type": "stream",
     "text": [
      "cuda:0 True\n"
     ]
    }
   ],
   "source": [
    "# next(iter(test_loader)) \n",
    "tensor_shape = (11,1)\n",
    "hate_space_weights = torch.tensor(l).to(device).requires_grad_()\n",
    "not_hate_space_weights = torch.tensor(l).to(device).requires_grad_()\n",
    "\n",
    "print(hate_space_weights.device,not_hate_space_weights.is_leaf)"
   ]
  },
  {
   "cell_type": "code",
   "execution_count": 21,
   "id": "270cdf11",
   "metadata": {
    "execution": {
     "iopub.execute_input": "2024-03-03T06:53:00.464001Z",
     "iopub.status.busy": "2024-03-03T06:53:00.463335Z",
     "iopub.status.idle": "2024-03-03T06:53:00.468490Z",
     "shell.execute_reply": "2024-03-03T06:53:00.467699Z"
    },
    "papermill": {
     "duration": 0.0188,
     "end_time": "2024-03-03T06:53:00.470441",
     "exception": false,
     "start_time": "2024-03-03T06:53:00.451641",
     "status": "completed"
    },
    "tags": []
   },
   "outputs": [
    {
     "data": {
      "text/plain": [
       "True"
      ]
     },
     "execution_count": 21,
     "metadata": {},
     "output_type": "execute_result"
    }
   ],
   "source": [
    "hate_space_weights.is_leaf"
   ]
  },
  {
   "cell_type": "code",
   "execution_count": 22,
   "id": "6c63ab7a",
   "metadata": {
    "execution": {
     "iopub.execute_input": "2024-03-03T06:53:00.494136Z",
     "iopub.status.busy": "2024-03-03T06:53:00.493881Z",
     "iopub.status.idle": "2024-03-03T06:53:00.503141Z",
     "shell.execute_reply": "2024-03-03T06:53:00.502391Z"
    },
    "papermill": {
     "duration": 0.023129,
     "end_time": "2024-03-03T06:53:00.504956",
     "exception": false,
     "start_time": "2024-03-03T06:53:00.481827",
     "status": "completed"
    },
    "tags": []
   },
   "outputs": [],
   "source": [
    "import torch.nn.functional as F\n",
    "\n",
    "class Model0(nn.Module):\n",
    "\n",
    "    def __init__(self, model, tokenizer):\n",
    "        super().__init__()\n",
    "        self.tokenizer = tokenizer\n",
    "        self.model = model\n",
    "\n",
    "    def forward(self, X):\n",
    "        inputs = self.tokenizer(X, return_tensors=\"pt\").to(device)\n",
    "        outputs = self.model(**inputs)\n",
    "        outputs = outputs.last_hidden_state.mean(1).transpose(0, 1)\n",
    "\n",
    "        col_norms = torch.norm(outputs, p=2, dim=0, keepdim=True)\n",
    "        outputs = outputs / col_norms\n",
    "        \n",
    "        Psk_hate = torch.matmul(torch.matmul(hate_space/torch.norm(hate_space,p=2, dim=0, keepdim=True),outputs).transpose(0, 1), hate_space_weights)\n",
    "        Psk_not_hate = torch.matmul(torch.matmul(not_hate_space/torch.norm(not_hate_space,p=2, dim=0, keepdim=True),outputs).transpose(0, 1), not_hate_space_weights)\n",
    "\n",
    "        # Construct the output tensor with requires_grad=True (assuming Psk_hate and Psk_not_hate have gradients)\n",
    "        output_tensor = torch.cat((Psk_hate, Psk_not_hate), dim=0).requires_grad_()\n",
    "\n",
    "        return output_tensor\n"
   ]
  },
  {
   "cell_type": "code",
   "execution_count": 23,
   "id": "7896f96f",
   "metadata": {
    "execution": {
     "iopub.execute_input": "2024-03-03T06:53:00.529208Z",
     "iopub.status.busy": "2024-03-03T06:53:00.528949Z",
     "iopub.status.idle": "2024-03-03T06:53:00.532774Z",
     "shell.execute_reply": "2024-03-03T06:53:00.531912Z"
    },
    "papermill": {
     "duration": 0.01831,
     "end_time": "2024-03-03T06:53:00.534688",
     "exception": false,
     "start_time": "2024-03-03T06:53:00.516378",
     "status": "completed"
    },
    "tags": []
   },
   "outputs": [],
   "source": [
    "model0 = Model0(model, tokenizer)\n",
    "\n",
    "# X, y = next(iter(train_loader))\n",
    "# Psk_hate, Psk_not_hate = model0(X)"
   ]
  },
  {
   "cell_type": "markdown",
   "id": "ddffa9d5",
   "metadata": {
    "papermill": {
     "duration": 0.01123,
     "end_time": "2024-03-03T06:53:00.557816",
     "exception": false,
     "start_time": "2024-03-03T06:53:00.546586",
     "status": "completed"
    },
    "tags": []
   },
   "source": [
    "# Semi-SSM"
   ]
  },
  {
   "cell_type": "code",
   "execution_count": 24,
   "id": "77f5882c",
   "metadata": {
    "execution": {
     "iopub.execute_input": "2024-03-03T06:53:00.582091Z",
     "iopub.status.busy": "2024-03-03T06:53:00.581542Z",
     "iopub.status.idle": "2024-03-03T06:53:00.589157Z",
     "shell.execute_reply": "2024-03-03T06:53:00.588385Z"
    },
    "papermill": {
     "duration": 0.021568,
     "end_time": "2024-03-03T06:53:00.590991",
     "exception": false,
     "start_time": "2024-03-03T06:53:00.569423",
     "status": "completed"
    },
    "tags": []
   },
   "outputs": [],
   "source": [
    "def L_inter(spaces):\n",
    "    \n",
    "    means = [torch.mean(spaces[i]) for i in range(spaces.shape[0])]\n",
    "    \n",
    "    loss = torch.tensor(0.0, requires_grad=True)\n",
    "    \n",
    "    for k in range(len(means)):\n",
    "        cur = torch.tensor(0.0, requires_grad=True)\n",
    "        for l in range(len(means)):\n",
    "            if l == k:\n",
    "                continue\n",
    "            cur = cur + (1 / (1 - ((means[k] * means[l]))))\n",
    "        \n",
    "        loss = loss + cur\n",
    "    \n",
    "    return loss\n",
    "            \n",
    "            \n",
    "\n",
    "def L_intra(spaces):\n",
    "    loss=torch.tensor(0.0, requires_grad=True)\n",
    "    for k in range(len(spaces)):\n",
    "        loss=loss+1/torch.var(spaces[k], dim=0)\n",
    "    \n",
    "    return torch.sum(loss)/loss.shape[0]\n",
    "\n",
    "\n"
   ]
  },
  {
   "cell_type": "code",
   "execution_count": 25,
   "id": "5ee37eea",
   "metadata": {
    "execution": {
     "iopub.execute_input": "2024-03-03T06:53:00.614834Z",
     "iopub.status.busy": "2024-03-03T06:53:00.614572Z",
     "iopub.status.idle": "2024-03-03T06:53:00.633951Z",
     "shell.execute_reply": "2024-03-03T06:53:00.633115Z"
    },
    "papermill": {
     "duration": 0.033119,
     "end_time": "2024-03-03T06:53:00.635827",
     "exception": false,
     "start_time": "2024-03-03T06:53:00.602708",
     "status": "completed"
    },
    "tags": []
   },
   "outputs": [
    {
     "data": {
      "text/plain": [
       "tensor(33.6994, grad_fn=<AddBackward0>)"
      ]
     },
     "execution_count": 25,
     "metadata": {},
     "output_type": "execute_result"
    }
   ],
   "source": [
    "L_inter(torch.concat((torch.tensor([[0.33, 0.54, 0.37], [0.72, 0.74, 0.31], [0.61, 0.26, 0.56]], dtype=torch.float32), \n",
    "       torch.tensor([[0.22, 0.32, 0.15], [0.12, -0.08, 0.45], [0.14, 0.28, -0.11]], dtype=torch.float32))))"
   ]
  },
  {
   "cell_type": "code",
   "execution_count": 26,
   "id": "d79582fc",
   "metadata": {
    "execution": {
     "iopub.execute_input": "2024-03-03T06:53:00.659924Z",
     "iopub.status.busy": "2024-03-03T06:53:00.659677Z",
     "iopub.status.idle": "2024-03-03T06:53:00.663284Z",
     "shell.execute_reply": "2024-03-03T06:53:00.662385Z"
    },
    "papermill": {
     "duration": 0.017673,
     "end_time": "2024-03-03T06:53:00.665097",
     "exception": false,
     "start_time": "2024-03-03T06:53:00.647424",
     "status": "completed"
    },
    "tags": []
   },
   "outputs": [],
   "source": [
    "# temp = torch.tensor(10.3, requires_grad=True)\n",
    "\n",
    "# temp"
   ]
  },
  {
   "cell_type": "code",
   "execution_count": 27,
   "id": "10826314",
   "metadata": {
    "_kg_hide-input": true,
    "execution": {
     "iopub.execute_input": "2024-03-03T06:53:00.689178Z",
     "iopub.status.busy": "2024-03-03T06:53:00.688903Z",
     "iopub.status.idle": "2024-03-03T06:53:00.692247Z",
     "shell.execute_reply": "2024-03-03T06:53:00.691491Z"
    },
    "papermill": {
     "duration": 0.01756,
     "end_time": "2024-03-03T06:53:00.694174",
     "exception": false,
     "start_time": "2024-03-03T06:53:00.676614",
     "status": "completed"
    },
    "tags": []
   },
   "outputs": [],
   "source": [
    "# res = [temp, temp]\n",
    "\n",
    "# loss = 0\n",
    "\n",
    "# loss += res[0] * res[1]\n",
    "\n",
    "# loss"
   ]
  },
  {
   "cell_type": "code",
   "execution_count": 28,
   "id": "10d75795",
   "metadata": {
    "execution": {
     "iopub.execute_input": "2024-03-03T06:53:00.718332Z",
     "iopub.status.busy": "2024-03-03T06:53:00.718068Z",
     "iopub.status.idle": "2024-03-03T06:53:00.971412Z",
     "shell.execute_reply": "2024-03-03T06:53:00.970654Z"
    },
    "papermill": {
     "duration": 0.267678,
     "end_time": "2024-03-03T06:53:00.973537",
     "exception": false,
     "start_time": "2024-03-03T06:53:00.705859",
     "status": "completed"
    },
    "tags": []
   },
   "outputs": [
    {
     "name": "stdout",
     "output_type": "stream",
     "text": [
      "tensor([[ 0.8009,  0.2601,  0.2316,  ...,  0.0455,  0.0118, -0.0370],\n",
      "        [ 0.1845, -0.0866,  0.1542,  ..., -0.2302, -0.3558, -0.2348],\n",
      "        [ 0.6341,  0.0180, -0.3330,  ...,  0.1851, -0.3067, -0.4023],\n",
      "        ...,\n",
      "        [ 0.8014,  0.2637,  0.2895,  ...,  0.1221,  0.1728, -0.4732],\n",
      "        [ 0.5409,  0.4092, -0.2325,  ...,  0.1790, -0.2709, -0.0346],\n",
      "        [ 0.5508,  0.1983,  0.0521,  ...,  0.3905, -0.0753, -0.5880]],\n",
      "       device='cuda:0', requires_grad=True) tensor([[ 0.5933,  0.2685, -0.0267,  ..., -0.4845, -0.4192, -0.3698],\n",
      "        [ 0.2493,  0.1343, -0.1606,  ..., -0.1305, -0.3765, -0.3898],\n",
      "        [ 0.0551, -0.1996, -0.1785,  ..., -0.0520, -0.1908, -0.2057],\n",
      "        ...,\n",
      "        [ 0.2502, -0.2729, -0.2597,  ...,  0.1696, -0.5105, -0.0785],\n",
      "        [ 0.2900, -0.2058, -0.1541,  ..., -0.0185, -0.5686,  0.0864],\n",
      "        [ 0.2823, -0.0846, -0.1393,  ...,  0.1534, -0.2074, -0.2804]],\n",
      "       device='cuda:0', requires_grad=True)\n"
     ]
    }
   ],
   "source": [
    "print(hate_space,not_hate_space)"
   ]
  },
  {
   "cell_type": "code",
   "execution_count": 29,
   "id": "b8009697",
   "metadata": {
    "execution": {
     "iopub.execute_input": "2024-03-03T06:53:00.998070Z",
     "iopub.status.busy": "2024-03-03T06:53:00.997764Z",
     "iopub.status.idle": "2024-03-03T06:53:01.005247Z",
     "shell.execute_reply": "2024-03-03T06:53:01.004296Z"
    },
    "papermill": {
     "duration": 0.021771,
     "end_time": "2024-03-03T06:53:01.007145",
     "exception": false,
     "start_time": "2024-03-03T06:53:00.985374",
     "status": "completed"
    },
    "tags": []
   },
   "outputs": [
    {
     "name": "stdout",
     "output_type": "stream",
     "text": [
      "tensor([[-0.4201],\n",
      "        [ 0.9600],\n",
      "        [ 0.7823],\n",
      "        [-0.0721],\n",
      "        [ 0.2802],\n",
      "        [ 0.3097],\n",
      "        [ 0.9913],\n",
      "        [-0.2503],\n",
      "        [-0.4947],\n",
      "        [ 0.8898],\n",
      "        [-0.8094]], device='cuda:0', requires_grad=True) tensor([[-0.4201],\n",
      "        [ 0.9600],\n",
      "        [ 0.7823],\n",
      "        [-0.0721],\n",
      "        [ 0.2802],\n",
      "        [ 0.3097],\n",
      "        [ 0.9913],\n",
      "        [-0.2503],\n",
      "        [-0.4947],\n",
      "        [ 0.8898],\n",
      "        [-0.8094]], device='cuda:0', requires_grad=True)\n"
     ]
    }
   ],
   "source": [
    "print(hate_space_weights,not_hate_space_weights)"
   ]
  },
  {
   "cell_type": "code",
   "execution_count": 30,
   "id": "03d4cb13",
   "metadata": {
    "execution": {
     "iopub.execute_input": "2024-03-03T06:53:01.032050Z",
     "iopub.status.busy": "2024-03-03T06:53:01.031801Z",
     "iopub.status.idle": "2024-03-03T08:20:43.834117Z",
     "shell.execute_reply": "2024-03-03T08:20:43.833074Z"
    },
    "papermill": {
     "duration": 5262.830329,
     "end_time": "2024-03-03T08:20:43.849357",
     "exception": false,
     "start_time": "2024-03-03T06:53:01.019028",
     "status": "completed"
    },
    "tags": []
   },
   "outputs": [
    {
     "name": "stdout",
     "output_type": "stream",
     "text": [
      "True\n",
      "0\n",
      "2000\n",
      "4000\n",
      "6000\n",
      "Test Accuracy: 0.8679999709129333\n",
      "Test Accuracy: 0.8679999709129333\n",
      "0\n",
      "2000\n",
      "4000\n",
      "6000\n",
      "Test Accuracy: 0.8730000257492065\n",
      "Test Accuracy: 0.8730000257492065\n",
      "0\n",
      "2000\n",
      "4000\n",
      "6000\n",
      "Test Accuracy: 0.875\n",
      "Test Accuracy: 0.875\n",
      "0\n",
      "2000\n",
      "4000\n",
      "6000\n",
      "Test Accuracy: 0.8740000128746033\n",
      "Test Accuracy: 0.8740000128746033\n",
      "0\n",
      "2000\n",
      "4000\n",
      "6000\n",
      "Test Accuracy: 0.8730000257492065\n",
      "Test Accuracy: 0.8730000257492065\n"
     ]
    }
   ],
   "source": [
    "model0.to(device)\n",
    "# hate_space = hate_space.to(device)\n",
    "# not_hate_space = not_hate_space.to(device)\n",
    "# hate_space_weights = hate_space_weights.to(device)\n",
    "# not_hate_space_weights = not_hate_space_weights.to(device)\n",
    "print(hate_space.is_leaf)\n",
    "optimizer = torch.optim.Adam(params=[hate_space, not_hate_space, hate_space_weights, not_hate_space_weights], lr=0.01)\n",
    "model0.train()\n",
    "#criterion = nn.CrossEntropyLoss()\n",
    "model0.train()\n",
    "# with torch.inference_mode():\n",
    "cur=0.1\n",
    "prev=0\n",
    "pprev=0\n",
    "while cur>=prev or prev>=pprev:\n",
    "    for i, batch in enumerate(train_loader):\n",
    "#         if i == 1:\n",
    "#             break\n",
    "        if i % 2000 == 0:\n",
    "            print(i)\n",
    "\n",
    "        x, Y = batch\n",
    "        loss = 0\n",
    "\n",
    "        for X, y in zip(x, Y):\n",
    "            y_preds = model0(X)\n",
    "#             print(y_preds)\n",
    "\n",
    "            # Use long instead of float for target labels\n",
    "            #print(hate_space.requires_grad)\n",
    "#             print(y)\n",
    "#             target = torch.tensor([y,1-y]).long().to(device)\n",
    "# #             print(target)\n",
    "#             loss += F.binary_cross_entropy_with_logits(y_preds.squeeze(), target.float())\n",
    "            loss+=F.cross_entropy(y_preds.view(1, -1).to(device), torch.tensor([y]).to(device))\n",
    "            #loss=torch.sum(y_preds)\n",
    "#             print(loss)\n",
    "        loss /= len(x)\n",
    "        loss += 0.7*L_inter(torch.cat((hate_space, not_hate_space))) + 0.5*L_intra(torch.stack([hate_space, not_hate_space]))\n",
    "            \n",
    "        optimizer.zero_grad()\n",
    "#         print(\"Before backward pass:\")\n",
    "#         print(\"hate_space.grad:\", hate_space.grad)\n",
    "#         print(\"not_hate_space.grad:\", not_hate_space.grad)\n",
    "        loss.backward()\n",
    "        optimizer.step()\n",
    "#         print(\"\\nAfter backward pass:\")\n",
    "#         print(\"hate_space.grad:\", hate_space.grad)\n",
    "#         print(\"not_hate_space.grad:\", not_hate_space.grad)\n",
    "#         print(not_hate_space_weights.grad)\n",
    "    correct = 0\n",
    "    total = 1000\n",
    "\n",
    "    true = []\n",
    "    preds = []\n",
    "\n",
    "    with torch.inference_mode():\n",
    "        for i, batch in enumerate(test_loader):\n",
    "            if i // 1000 == 1:\n",
    "                break\n",
    "            X, y = batch\n",
    "            Psk_hate, Psk_not_hate = model0(X)\n",
    "\n",
    "            y_predict = torch.argmax(torch.tensor([Psk_hate.mean().item(), Psk_not_hate.mean().item()]))\n",
    "\n",
    "            true.extend(y)\n",
    "            preds.append(y_predict)\n",
    "\n",
    "            curr = torch.eq(y_predict, y)\n",
    "\n",
    "            correct += torch.sum(curr)\n",
    "\n",
    "    print(f\"Test Accuracy: {correct/total}\")\n",
    "    pprev=prev\n",
    "    prev=cur\n",
    "    cur=correct/total\n",
    "    print(f\"Test Accuracy: {torch.sum(torch.eq(torch.tensor(true), torch.tensor(preds))) / total}\")  \n",
    "\n",
    "\n"
   ]
  },
  {
   "cell_type": "code",
   "execution_count": 31,
   "id": "54a211e6",
   "metadata": {
    "execution": {
     "iopub.execute_input": "2024-03-03T08:20:43.877269Z",
     "iopub.status.busy": "2024-03-03T08:20:43.876943Z",
     "iopub.status.idle": "2024-03-03T08:20:43.884796Z",
     "shell.execute_reply": "2024-03-03T08:20:43.883912Z"
    },
    "papermill": {
     "duration": 0.023731,
     "end_time": "2024-03-03T08:20:43.886553",
     "exception": false,
     "start_time": "2024-03-03T08:20:43.862822",
     "status": "completed"
    },
    "tags": []
   },
   "outputs": [
    {
     "name": "stdout",
     "output_type": "stream",
     "text": [
      "tensor([[-0.3932],\n",
      "        [ 1.6034],\n",
      "        [ 0.6840],\n",
      "        [-0.4178],\n",
      "        [ 0.5524],\n",
      "        [ 1.1328],\n",
      "        [ 1.1721],\n",
      "        [-0.2584],\n",
      "        [-0.7665],\n",
      "        [ 1.1482],\n",
      "        [-0.4270]], device='cuda:0', requires_grad=True) tensor([[-0.5751],\n",
      "        [ 1.1287],\n",
      "        [ 2.0686],\n",
      "        [-0.4818],\n",
      "        [ 0.0550],\n",
      "        [ 0.3962],\n",
      "        [ 2.3457],\n",
      "        [ 0.4781],\n",
      "        [-1.4669],\n",
      "        [ 1.3156],\n",
      "        [-2.3917]], device='cuda:0', requires_grad=True)\n"
     ]
    }
   ],
   "source": [
    "print(hate_space_weights,not_hate_space_weights)"
   ]
  },
  {
   "cell_type": "code",
   "execution_count": 32,
   "id": "d567a37b",
   "metadata": {
    "execution": {
     "iopub.execute_input": "2024-03-03T08:20:43.914472Z",
     "iopub.status.busy": "2024-03-03T08:20:43.914216Z",
     "iopub.status.idle": "2024-03-03T08:20:43.923728Z",
     "shell.execute_reply": "2024-03-03T08:20:43.922692Z"
    },
    "papermill": {
     "duration": 0.025666,
     "end_time": "2024-03-03T08:20:43.925608",
     "exception": false,
     "start_time": "2024-03-03T08:20:43.899942",
     "status": "completed"
    },
    "tags": []
   },
   "outputs": [
    {
     "name": "stdout",
     "output_type": "stream",
     "text": [
      "tensor([[ 2.4142,  1.4326, -0.4256,  ...,  2.7969,  3.0643,  0.6220],\n",
      "        [-2.3755, -0.8874,  1.0962,  ..., -2.6973, -4.1303,  0.0441],\n",
      "        [-0.3192, -0.5549, -0.6006,  ..., -0.6487, -4.0915, -1.2073],\n",
      "        ...,\n",
      "        [ 3.3557,  1.2017,  1.6499,  ...,  1.8440,  2.5519, -1.0369],\n",
      "        [-1.1291,  0.6412,  0.2427,  ..., -1.0383, -2.9215,  0.7024],\n",
      "        [ 1.0680, -0.3908, -1.4588,  ...,  3.2335,  2.0046, -1.4537]],\n",
      "       device='cuda:0', requires_grad=True) tensor([[ 4.2022e+00,  1.6129e+00,  5.5331e+00,  ..., -6.4460e+00,\n",
      "         -1.4904e+01, -7.8011e+00],\n",
      "        [ 1.1364e+00,  4.3393e-01, -2.1258e+00,  ...,  3.1136e+00,\n",
      "          3.4231e+00, -2.0934e+00],\n",
      "        [-1.4798e-01, -1.6479e+00, -1.7523e+00,  ...,  4.9770e+00,\n",
      "          3.6151e+00, -6.4410e-01],\n",
      "        ...,\n",
      "        [-1.6298e+00, -1.4228e+00,  1.2107e-02,  ..., -1.4507e+00,\n",
      "         -3.4262e+00,  2.7828e+00],\n",
      "        [ 1.4511e+00, -1.0864e+00, -2.3939e+00,  ...,  9.9142e+00,\n",
      "          1.9174e+00,  5.6727e-01],\n",
      "        [-8.0857e-01, -7.0468e-01,  2.5308e+00,  ..., -1.1868e+00,\n",
      "         -8.2653e-01, -1.2564e+00]], device='cuda:0', requires_grad=True)\n"
     ]
    }
   ],
   "source": [
    "print(hate_space,not_hate_space)"
   ]
  },
  {
   "cell_type": "code",
   "execution_count": 33,
   "id": "49ba9983",
   "metadata": {
    "execution": {
     "iopub.execute_input": "2024-03-03T08:20:43.955205Z",
     "iopub.status.busy": "2024-03-03T08:20:43.954184Z",
     "iopub.status.idle": "2024-03-03T08:20:43.960941Z",
     "shell.execute_reply": "2024-03-03T08:20:43.960150Z"
    },
    "papermill": {
     "duration": 0.023257,
     "end_time": "2024-03-03T08:20:43.962803",
     "exception": false,
     "start_time": "2024-03-03T08:20:43.939546",
     "status": "completed"
    },
    "tags": []
   },
   "outputs": [
    {
     "data": {
      "text/plain": [
       "torch.Size([22, 768])"
      ]
     },
     "execution_count": 33,
     "metadata": {},
     "output_type": "execute_result"
    }
   ],
   "source": [
    "torch.concat((hate_space, not_hate_space)).shape"
   ]
  },
  {
   "cell_type": "code",
   "execution_count": 34,
   "id": "c7ed3686",
   "metadata": {
    "execution": {
     "iopub.execute_input": "2024-03-03T08:20:43.991506Z",
     "iopub.status.busy": "2024-03-03T08:20:43.991249Z",
     "iopub.status.idle": "2024-03-03T08:21:32.483559Z",
     "shell.execute_reply": "2024-03-03T08:21:32.482482Z"
    },
    "papermill": {
     "duration": 48.523116,
     "end_time": "2024-03-03T08:21:32.499616",
     "exception": false,
     "start_time": "2024-03-03T08:20:43.976500",
     "status": "completed"
    },
    "tags": []
   },
   "outputs": [
    {
     "name": "stdout",
     "output_type": "stream",
     "text": [
      "Test Accuracy: 0.8811781406402588\n",
      "Test Accuracy: 0.8811781406402588\n"
     ]
    }
   ],
   "source": [
    "correct = 0\n",
    "total = len(y_test)\n",
    "\n",
    "true = []\n",
    "preds = []\n",
    "\n",
    "with torch.inference_mode():\n",
    "    for i, batch in enumerate(test_loader):\n",
    "        if i < 1000 == 0:\n",
    "            pass\n",
    "        X, y = batch\n",
    "        Psk_hate, Psk_not_hate = model0(X)\n",
    "\n",
    "        y_predict = torch.argmax(torch.tensor([Psk_hate.mean().item(), Psk_not_hate.mean().item()]))\n",
    "\n",
    "        true.extend(y)\n",
    "        preds.append(y_predict)\n",
    "\n",
    "        cur = torch.eq(y_predict, y)\n",
    "\n",
    "        correct += torch.sum(cur)\n",
    "\n",
    "print(f\"Test Accuracy: {correct/total}\")\n",
    "print(f\"Test Accuracy: {torch.sum(torch.eq(torch.tensor(true), torch.tensor(preds))) / total}\")       "
   ]
  },
  {
   "cell_type": "code",
   "execution_count": 35,
   "id": "f11f1f45",
   "metadata": {
    "execution": {
     "iopub.execute_input": "2024-03-03T08:21:32.529529Z",
     "iopub.status.busy": "2024-03-03T08:21:32.529218Z",
     "iopub.status.idle": "2024-03-03T08:21:33.050372Z",
     "shell.execute_reply": "2024-03-03T08:21:33.049256Z"
    },
    "papermill": {
     "duration": 0.538828,
     "end_time": "2024-03-03T08:21:33.052394",
     "exception": false,
     "start_time": "2024-03-03T08:21:32.513566",
     "status": "completed"
    },
    "tags": []
   },
   "outputs": [
    {
     "name": "stdout",
     "output_type": "stream",
     "text": [
      "0.8368069231270325\n",
      "0.6945417108296899\n"
     ]
    }
   ],
   "source": [
    "from sklearn.metrics import precision_score, recall_score\n",
    "\n",
    "print(precision_score(y_test, preds, average='macro'))\n",
    "print(recall_score(y_test, preds, average='macro'))"
   ]
  }
 ],
 "metadata": {
  "kaggle": {
   "accelerator": "gpu",
   "dataSources": [
    {
     "datasetId": 4384787,
     "sourceId": 7528128,
     "sourceType": "datasetVersion"
    }
   ],
   "dockerImageVersionId": 30648,
   "isGpuEnabled": true,
   "isInternetEnabled": true,
   "language": "python",
   "sourceType": "notebook"
  },
  "kernelspec": {
   "display_name": "Python 3",
   "language": "python",
   "name": "python3"
  },
  "language_info": {
   "codemirror_mode": {
    "name": "ipython",
    "version": 3
   },
   "file_extension": ".py",
   "mimetype": "text/x-python",
   "name": "python",
   "nbconvert_exporter": "python",
   "pygments_lexer": "ipython3",
   "version": "3.10.13"
  },
  "papermill": {
   "default_parameters": {},
   "duration": 5334.637065,
   "end_time": "2024-03-03T08:21:35.527925",
   "environment_variables": {},
   "exception": null,
   "input_path": "__notebook__.ipynb",
   "output_path": "__notebook__.ipynb",
   "parameters": {},
   "start_time": "2024-03-03T06:52:40.890860",
   "version": "2.5.0"
  },
  "widgets": {
   "application/vnd.jupyter.widget-state+json": {
    "state": {
     "0021522023784527baf026e309566b45": {
      "model_module": "@jupyter-widgets/controls",
      "model_module_version": "1.5.0",
      "model_name": "ProgressStyleModel",
      "state": {
       "_model_module": "@jupyter-widgets/controls",
       "_model_module_version": "1.5.0",
       "_model_name": "ProgressStyleModel",
       "_view_count": null,
       "_view_module": "@jupyter-widgets/base",
       "_view_module_version": "1.2.0",
       "_view_name": "StyleView",
       "bar_color": null,
       "description_width": ""
      }
     },
     "058fadff53ce48e3874e16c5c3888b6f": {
      "model_module": "@jupyter-widgets/controls",
      "model_module_version": "1.5.0",
      "model_name": "HBoxModel",
      "state": {
       "_dom_classes": [],
       "_model_module": "@jupyter-widgets/controls",
       "_model_module_version": "1.5.0",
       "_model_name": "HBoxModel",
       "_view_count": null,
       "_view_module": "@jupyter-widgets/controls",
       "_view_module_version": "1.5.0",
       "_view_name": "HBoxView",
       "box_style": "",
       "children": [
        "IPY_MODEL_24020779a67a4c2a95a77ddd559e1c87",
        "IPY_MODEL_0b75bd613dce4a4db65021746aa3717c",
        "IPY_MODEL_ddada5d738ef4717b36d38f1fc595bfb"
       ],
       "layout": "IPY_MODEL_dd178a1881be4d42a490a23cc2009a2b"
      }
     },
     "062c9d5285904246afa03bd5e20bedc2": {
      "model_module": "@jupyter-widgets/base",
      "model_module_version": "1.2.0",
      "model_name": "LayoutModel",
      "state": {
       "_model_module": "@jupyter-widgets/base",
       "_model_module_version": "1.2.0",
       "_model_name": "LayoutModel",
       "_view_count": null,
       "_view_module": "@jupyter-widgets/base",
       "_view_module_version": "1.2.0",
       "_view_name": "LayoutView",
       "align_content": null,
       "align_items": null,
       "align_self": null,
       "border": null,
       "bottom": null,
       "display": null,
       "flex": null,
       "flex_flow": null,
       "grid_area": null,
       "grid_auto_columns": null,
       "grid_auto_flow": null,
       "grid_auto_rows": null,
       "grid_column": null,
       "grid_gap": null,
       "grid_row": null,
       "grid_template_areas": null,
       "grid_template_columns": null,
       "grid_template_rows": null,
       "height": null,
       "justify_content": null,
       "justify_items": null,
       "left": null,
       "margin": null,
       "max_height": null,
       "max_width": null,
       "min_height": null,
       "min_width": null,
       "object_fit": null,
       "object_position": null,
       "order": null,
       "overflow": null,
       "overflow_x": null,
       "overflow_y": null,
       "padding": null,
       "right": null,
       "top": null,
       "visibility": null,
       "width": null
      }
     },
     "0b75bd613dce4a4db65021746aa3717c": {
      "model_module": "@jupyter-widgets/controls",
      "model_module_version": "1.5.0",
      "model_name": "FloatProgressModel",
      "state": {
       "_dom_classes": [],
       "_model_module": "@jupyter-widgets/controls",
       "_model_module_version": "1.5.0",
       "_model_name": "FloatProgressModel",
       "_view_count": null,
       "_view_module": "@jupyter-widgets/controls",
       "_view_module_version": "1.5.0",
       "_view_name": "ProgressView",
       "bar_style": "success",
       "description": "",
       "description_tooltip": null,
       "layout": "IPY_MODEL_0c1646ada5ee4cbcb6332b0a59abbad8",
       "max": 570.0,
       "min": 0.0,
       "orientation": "horizontal",
       "style": "IPY_MODEL_0021522023784527baf026e309566b45",
       "value": 570.0
      }
     },
     "0c1646ada5ee4cbcb6332b0a59abbad8": {
      "model_module": "@jupyter-widgets/base",
      "model_module_version": "1.2.0",
      "model_name": "LayoutModel",
      "state": {
       "_model_module": "@jupyter-widgets/base",
       "_model_module_version": "1.2.0",
       "_model_name": "LayoutModel",
       "_view_count": null,
       "_view_module": "@jupyter-widgets/base",
       "_view_module_version": "1.2.0",
       "_view_name": "LayoutView",
       "align_content": null,
       "align_items": null,
       "align_self": null,
       "border": null,
       "bottom": null,
       "display": null,
       "flex": null,
       "flex_flow": null,
       "grid_area": null,
       "grid_auto_columns": null,
       "grid_auto_flow": null,
       "grid_auto_rows": null,
       "grid_column": null,
       "grid_gap": null,
       "grid_row": null,
       "grid_template_areas": null,
       "grid_template_columns": null,
       "grid_template_rows": null,
       "height": null,
       "justify_content": null,
       "justify_items": null,
       "left": null,
       "margin": null,
       "max_height": null,
       "max_width": null,
       "min_height": null,
       "min_width": null,
       "object_fit": null,
       "object_position": null,
       "order": null,
       "overflow": null,
       "overflow_x": null,
       "overflow_y": null,
       "padding": null,
       "right": null,
       "top": null,
       "visibility": null,
       "width": null
      }
     },
     "0e459212e6bb4976b2b4a0b681305035": {
      "model_module": "@jupyter-widgets/controls",
      "model_module_version": "1.5.0",
      "model_name": "DescriptionStyleModel",
      "state": {
       "_model_module": "@jupyter-widgets/controls",
       "_model_module_version": "1.5.0",
       "_model_name": "DescriptionStyleModel",
       "_view_count": null,
       "_view_module": "@jupyter-widgets/base",
       "_view_module_version": "1.2.0",
       "_view_name": "StyleView",
       "description_width": ""
      }
     },
     "12b6b3cea7b348fca92bcbd02b8b8738": {
      "model_module": "@jupyter-widgets/base",
      "model_module_version": "1.2.0",
      "model_name": "LayoutModel",
      "state": {
       "_model_module": "@jupyter-widgets/base",
       "_model_module_version": "1.2.0",
       "_model_name": "LayoutModel",
       "_view_count": null,
       "_view_module": "@jupyter-widgets/base",
       "_view_module_version": "1.2.0",
       "_view_name": "LayoutView",
       "align_content": null,
       "align_items": null,
       "align_self": null,
       "border": null,
       "bottom": null,
       "display": null,
       "flex": null,
       "flex_flow": null,
       "grid_area": null,
       "grid_auto_columns": null,
       "grid_auto_flow": null,
       "grid_auto_rows": null,
       "grid_column": null,
       "grid_gap": null,
       "grid_row": null,
       "grid_template_areas": null,
       "grid_template_columns": null,
       "grid_template_rows": null,
       "height": null,
       "justify_content": null,
       "justify_items": null,
       "left": null,
       "margin": null,
       "max_height": null,
       "max_width": null,
       "min_height": null,
       "min_width": null,
       "object_fit": null,
       "object_position": null,
       "order": null,
       "overflow": null,
       "overflow_x": null,
       "overflow_y": null,
       "padding": null,
       "right": null,
       "top": null,
       "visibility": null,
       "width": null
      }
     },
     "12e8a25183654f778e43163d6bc6c56c": {
      "model_module": "@jupyter-widgets/base",
      "model_module_version": "1.2.0",
      "model_name": "LayoutModel",
      "state": {
       "_model_module": "@jupyter-widgets/base",
       "_model_module_version": "1.2.0",
       "_model_name": "LayoutModel",
       "_view_count": null,
       "_view_module": "@jupyter-widgets/base",
       "_view_module_version": "1.2.0",
       "_view_name": "LayoutView",
       "align_content": null,
       "align_items": null,
       "align_self": null,
       "border": null,
       "bottom": null,
       "display": null,
       "flex": null,
       "flex_flow": null,
       "grid_area": null,
       "grid_auto_columns": null,
       "grid_auto_flow": null,
       "grid_auto_rows": null,
       "grid_column": null,
       "grid_gap": null,
       "grid_row": null,
       "grid_template_areas": null,
       "grid_template_columns": null,
       "grid_template_rows": null,
       "height": null,
       "justify_content": null,
       "justify_items": null,
       "left": null,
       "margin": null,
       "max_height": null,
       "max_width": null,
       "min_height": null,
       "min_width": null,
       "object_fit": null,
       "object_position": null,
       "order": null,
       "overflow": null,
       "overflow_x": null,
       "overflow_y": null,
       "padding": null,
       "right": null,
       "top": null,
       "visibility": null,
       "width": null
      }
     },
     "1a409c85f5d54f269f6fe9e9e6b8c8c2": {
      "model_module": "@jupyter-widgets/base",
      "model_module_version": "1.2.0",
      "model_name": "LayoutModel",
      "state": {
       "_model_module": "@jupyter-widgets/base",
       "_model_module_version": "1.2.0",
       "_model_name": "LayoutModel",
       "_view_count": null,
       "_view_module": "@jupyter-widgets/base",
       "_view_module_version": "1.2.0",
       "_view_name": "LayoutView",
       "align_content": null,
       "align_items": null,
       "align_self": null,
       "border": null,
       "bottom": null,
       "display": null,
       "flex": null,
       "flex_flow": null,
       "grid_area": null,
       "grid_auto_columns": null,
       "grid_auto_flow": null,
       "grid_auto_rows": null,
       "grid_column": null,
       "grid_gap": null,
       "grid_row": null,
       "grid_template_areas": null,
       "grid_template_columns": null,
       "grid_template_rows": null,
       "height": null,
       "justify_content": null,
       "justify_items": null,
       "left": null,
       "margin": null,
       "max_height": null,
       "max_width": null,
       "min_height": null,
       "min_width": null,
       "object_fit": null,
       "object_position": null,
       "order": null,
       "overflow": null,
       "overflow_x": null,
       "overflow_y": null,
       "padding": null,
       "right": null,
       "top": null,
       "visibility": null,
       "width": null
      }
     },
     "1c9173e396d047dc8817e8be92388e7a": {
      "model_module": "@jupyter-widgets/controls",
      "model_module_version": "1.5.0",
      "model_name": "ProgressStyleModel",
      "state": {
       "_model_module": "@jupyter-widgets/controls",
       "_model_module_version": "1.5.0",
       "_model_name": "ProgressStyleModel",
       "_view_count": null,
       "_view_module": "@jupyter-widgets/base",
       "_view_module_version": "1.2.0",
       "_view_name": "StyleView",
       "bar_color": null,
       "description_width": ""
      }
     },
     "24020779a67a4c2a95a77ddd559e1c87": {
      "model_module": "@jupyter-widgets/controls",
      "model_module_version": "1.5.0",
      "model_name": "HTMLModel",
      "state": {
       "_dom_classes": [],
       "_model_module": "@jupyter-widgets/controls",
       "_model_module_version": "1.5.0",
       "_model_name": "HTMLModel",
       "_view_count": null,
       "_view_module": "@jupyter-widgets/controls",
       "_view_module_version": "1.5.0",
       "_view_name": "HTMLView",
       "description": "",
       "description_tooltip": null,
       "layout": "IPY_MODEL_3bb1237d1f80458b85aae586ab2e26c2",
       "placeholder": "​",
       "style": "IPY_MODEL_f3b1fc2082874c61b7033e72d15884df",
       "value": "config.json: 100%"
      }
     },
     "2446f523e27045798bdda17568e59ce8": {
      "model_module": "@jupyter-widgets/controls",
      "model_module_version": "1.5.0",
      "model_name": "ProgressStyleModel",
      "state": {
       "_model_module": "@jupyter-widgets/controls",
       "_model_module_version": "1.5.0",
       "_model_name": "ProgressStyleModel",
       "_view_count": null,
       "_view_module": "@jupyter-widgets/base",
       "_view_module_version": "1.2.0",
       "_view_name": "StyleView",
       "bar_color": null,
       "description_width": ""
      }
     },
     "2d2fda224daa4cfcaa199213dd594ccc": {
      "model_module": "@jupyter-widgets/base",
      "model_module_version": "1.2.0",
      "model_name": "LayoutModel",
      "state": {
       "_model_module": "@jupyter-widgets/base",
       "_model_module_version": "1.2.0",
       "_model_name": "LayoutModel",
       "_view_count": null,
       "_view_module": "@jupyter-widgets/base",
       "_view_module_version": "1.2.0",
       "_view_name": "LayoutView",
       "align_content": null,
       "align_items": null,
       "align_self": null,
       "border": null,
       "bottom": null,
       "display": null,
       "flex": null,
       "flex_flow": null,
       "grid_area": null,
       "grid_auto_columns": null,
       "grid_auto_flow": null,
       "grid_auto_rows": null,
       "grid_column": null,
       "grid_gap": null,
       "grid_row": null,
       "grid_template_areas": null,
       "grid_template_columns": null,
       "grid_template_rows": null,
       "height": null,
       "justify_content": null,
       "justify_items": null,
       "left": null,
       "margin": null,
       "max_height": null,
       "max_width": null,
       "min_height": null,
       "min_width": null,
       "object_fit": null,
       "object_position": null,
       "order": null,
       "overflow": null,
       "overflow_x": null,
       "overflow_y": null,
       "padding": null,
       "right": null,
       "top": null,
       "visibility": null,
       "width": null
      }
     },
     "2d3c958bf4f14a6bb9bac79e64491e78": {
      "model_module": "@jupyter-widgets/base",
      "model_module_version": "1.2.0",
      "model_name": "LayoutModel",
      "state": {
       "_model_module": "@jupyter-widgets/base",
       "_model_module_version": "1.2.0",
       "_model_name": "LayoutModel",
       "_view_count": null,
       "_view_module": "@jupyter-widgets/base",
       "_view_module_version": "1.2.0",
       "_view_name": "LayoutView",
       "align_content": null,
       "align_items": null,
       "align_self": null,
       "border": null,
       "bottom": null,
       "display": null,
       "flex": null,
       "flex_flow": null,
       "grid_area": null,
       "grid_auto_columns": null,
       "grid_auto_flow": null,
       "grid_auto_rows": null,
       "grid_column": null,
       "grid_gap": null,
       "grid_row": null,
       "grid_template_areas": null,
       "grid_template_columns": null,
       "grid_template_rows": null,
       "height": null,
       "justify_content": null,
       "justify_items": null,
       "left": null,
       "margin": null,
       "max_height": null,
       "max_width": null,
       "min_height": null,
       "min_width": null,
       "object_fit": null,
       "object_position": null,
       "order": null,
       "overflow": null,
       "overflow_x": null,
       "overflow_y": null,
       "padding": null,
       "right": null,
       "top": null,
       "visibility": null,
       "width": null
      }
     },
     "2d545ac7e4194bf98868241ed46cd882": {
      "model_module": "@jupyter-widgets/controls",
      "model_module_version": "1.5.0",
      "model_name": "HTMLModel",
      "state": {
       "_dom_classes": [],
       "_model_module": "@jupyter-widgets/controls",
       "_model_module_version": "1.5.0",
       "_model_name": "HTMLModel",
       "_view_count": null,
       "_view_module": "@jupyter-widgets/controls",
       "_view_module_version": "1.5.0",
       "_view_name": "HTMLView",
       "description": "",
       "description_tooltip": null,
       "layout": "IPY_MODEL_c931e196eb06433bbb69320a6a325bfc",
       "placeholder": "​",
       "style": "IPY_MODEL_c816290c9b994cabbc30fbb7dbef036f",
       "value": " 48.0/48.0 [00:00&lt;00:00, 3.98kB/s]"
      }
     },
     "330076ed0f314b31bdc69cad13a53066": {
      "model_module": "@jupyter-widgets/controls",
      "model_module_version": "1.5.0",
      "model_name": "FloatProgressModel",
      "state": {
       "_dom_classes": [],
       "_model_module": "@jupyter-widgets/controls",
       "_model_module_version": "1.5.0",
       "_model_name": "FloatProgressModel",
       "_view_count": null,
       "_view_module": "@jupyter-widgets/controls",
       "_view_module_version": "1.5.0",
       "_view_name": "ProgressView",
       "bar_style": "success",
       "description": "",
       "description_tooltip": null,
       "layout": "IPY_MODEL_c09bb795eacf4f128e06a1e4f3d87ed3",
       "max": 231508.0,
       "min": 0.0,
       "orientation": "horizontal",
       "style": "IPY_MODEL_2446f523e27045798bdda17568e59ce8",
       "value": 231508.0
      }
     },
     "33effc4e6ee944c39b39b2bcfbda8fe2": {
      "model_module": "@jupyter-widgets/controls",
      "model_module_version": "1.5.0",
      "model_name": "HBoxModel",
      "state": {
       "_dom_classes": [],
       "_model_module": "@jupyter-widgets/controls",
       "_model_module_version": "1.5.0",
       "_model_name": "HBoxModel",
       "_view_count": null,
       "_view_module": "@jupyter-widgets/controls",
       "_view_module_version": "1.5.0",
       "_view_name": "HBoxView",
       "box_style": "",
       "children": [
        "IPY_MODEL_dfd30ee065fc49969a9f6cacfa82861e",
        "IPY_MODEL_330076ed0f314b31bdc69cad13a53066",
        "IPY_MODEL_cde8538c697041e88c519ffcb078936a"
       ],
       "layout": "IPY_MODEL_12e8a25183654f778e43163d6bc6c56c"
      }
     },
     "3bb1237d1f80458b85aae586ab2e26c2": {
      "model_module": "@jupyter-widgets/base",
      "model_module_version": "1.2.0",
      "model_name": "LayoutModel",
      "state": {
       "_model_module": "@jupyter-widgets/base",
       "_model_module_version": "1.2.0",
       "_model_name": "LayoutModel",
       "_view_count": null,
       "_view_module": "@jupyter-widgets/base",
       "_view_module_version": "1.2.0",
       "_view_name": "LayoutView",
       "align_content": null,
       "align_items": null,
       "align_self": null,
       "border": null,
       "bottom": null,
       "display": null,
       "flex": null,
       "flex_flow": null,
       "grid_area": null,
       "grid_auto_columns": null,
       "grid_auto_flow": null,
       "grid_auto_rows": null,
       "grid_column": null,
       "grid_gap": null,
       "grid_row": null,
       "grid_template_areas": null,
       "grid_template_columns": null,
       "grid_template_rows": null,
       "height": null,
       "justify_content": null,
       "justify_items": null,
       "left": null,
       "margin": null,
       "max_height": null,
       "max_width": null,
       "min_height": null,
       "min_width": null,
       "object_fit": null,
       "object_position": null,
       "order": null,
       "overflow": null,
       "overflow_x": null,
       "overflow_y": null,
       "padding": null,
       "right": null,
       "top": null,
       "visibility": null,
       "width": null
      }
     },
     "3ecbcb995f9340deb5fa0386ba5b7002": {
      "model_module": "@jupyter-widgets/controls",
      "model_module_version": "1.5.0",
      "model_name": "FloatProgressModel",
      "state": {
       "_dom_classes": [],
       "_model_module": "@jupyter-widgets/controls",
       "_model_module_version": "1.5.0",
       "_model_name": "FloatProgressModel",
       "_view_count": null,
       "_view_module": "@jupyter-widgets/controls",
       "_view_module_version": "1.5.0",
       "_view_name": "ProgressView",
       "bar_style": "success",
       "description": "",
       "description_tooltip": null,
       "layout": "IPY_MODEL_e072b6410aa6490dbc0e862e08229eba",
       "max": 466062.0,
       "min": 0.0,
       "orientation": "horizontal",
       "style": "IPY_MODEL_d9fdb6c96ddd4d3abd4cd2262dde56e3",
       "value": 466062.0
      }
     },
     "4471ef32071c412fa30ecfe5f085a91b": {
      "model_module": "@jupyter-widgets/base",
      "model_module_version": "1.2.0",
      "model_name": "LayoutModel",
      "state": {
       "_model_module": "@jupyter-widgets/base",
       "_model_module_version": "1.2.0",
       "_model_name": "LayoutModel",
       "_view_count": null,
       "_view_module": "@jupyter-widgets/base",
       "_view_module_version": "1.2.0",
       "_view_name": "LayoutView",
       "align_content": null,
       "align_items": null,
       "align_self": null,
       "border": null,
       "bottom": null,
       "display": null,
       "flex": null,
       "flex_flow": null,
       "grid_area": null,
       "grid_auto_columns": null,
       "grid_auto_flow": null,
       "grid_auto_rows": null,
       "grid_column": null,
       "grid_gap": null,
       "grid_row": null,
       "grid_template_areas": null,
       "grid_template_columns": null,
       "grid_template_rows": null,
       "height": null,
       "justify_content": null,
       "justify_items": null,
       "left": null,
       "margin": null,
       "max_height": null,
       "max_width": null,
       "min_height": null,
       "min_width": null,
       "object_fit": null,
       "object_position": null,
       "order": null,
       "overflow": null,
       "overflow_x": null,
       "overflow_y": null,
       "padding": null,
       "right": null,
       "top": null,
       "visibility": null,
       "width": null
      }
     },
     "4d71eb0608d84d6cbcb9ba96c4eb63ea": {
      "model_module": "@jupyter-widgets/controls",
      "model_module_version": "1.5.0",
      "model_name": "DescriptionStyleModel",
      "state": {
       "_model_module": "@jupyter-widgets/controls",
       "_model_module_version": "1.5.0",
       "_model_name": "DescriptionStyleModel",
       "_view_count": null,
       "_view_module": "@jupyter-widgets/base",
       "_view_module_version": "1.2.0",
       "_view_name": "StyleView",
       "description_width": ""
      }
     },
     "68cef213cb084afd9baa8e23d38d4c50": {
      "model_module": "@jupyter-widgets/controls",
      "model_module_version": "1.5.0",
      "model_name": "HTMLModel",
      "state": {
       "_dom_classes": [],
       "_model_module": "@jupyter-widgets/controls",
       "_model_module_version": "1.5.0",
       "_model_name": "HTMLModel",
       "_view_count": null,
       "_view_module": "@jupyter-widgets/controls",
       "_view_module_version": "1.5.0",
       "_view_name": "HTMLView",
       "description": "",
       "description_tooltip": null,
       "layout": "IPY_MODEL_2d3c958bf4f14a6bb9bac79e64491e78",
       "placeholder": "​",
       "style": "IPY_MODEL_4d71eb0608d84d6cbcb9ba96c4eb63ea",
       "value": "model.safetensors: 100%"
      }
     },
     "7abcd924ed584b578a9ba03e0226f28c": {
      "model_module": "@jupyter-widgets/controls",
      "model_module_version": "1.5.0",
      "model_name": "HTMLModel",
      "state": {
       "_dom_classes": [],
       "_model_module": "@jupyter-widgets/controls",
       "_model_module_version": "1.5.0",
       "_model_name": "HTMLModel",
       "_view_count": null,
       "_view_module": "@jupyter-widgets/controls",
       "_view_module_version": "1.5.0",
       "_view_name": "HTMLView",
       "description": "",
       "description_tooltip": null,
       "layout": "IPY_MODEL_b846c8deb63345b09e1da9ee6f6154fc",
       "placeholder": "​",
       "style": "IPY_MODEL_b95b2aabe55149cb9f64ba0bf4a43724",
       "value": "tokenizer_config.json: 100%"
      }
     },
     "7c7c7f4ca77e4298b730603e7e7b4060": {
      "model_module": "@jupyter-widgets/controls",
      "model_module_version": "1.5.0",
      "model_name": "DescriptionStyleModel",
      "state": {
       "_model_module": "@jupyter-widgets/controls",
       "_model_module_version": "1.5.0",
       "_model_name": "DescriptionStyleModel",
       "_view_count": null,
       "_view_module": "@jupyter-widgets/base",
       "_view_module_version": "1.2.0",
       "_view_name": "StyleView",
       "description_width": ""
      }
     },
     "94538c9bee5340ee85bd83e0e17486f4": {
      "model_module": "@jupyter-widgets/controls",
      "model_module_version": "1.5.0",
      "model_name": "DescriptionStyleModel",
      "state": {
       "_model_module": "@jupyter-widgets/controls",
       "_model_module_version": "1.5.0",
       "_model_name": "DescriptionStyleModel",
       "_view_count": null,
       "_view_module": "@jupyter-widgets/base",
       "_view_module_version": "1.2.0",
       "_view_name": "StyleView",
       "description_width": ""
      }
     },
     "95fc647498b94e3dacc36f9d016f11b2": {
      "model_module": "@jupyter-widgets/base",
      "model_module_version": "1.2.0",
      "model_name": "LayoutModel",
      "state": {
       "_model_module": "@jupyter-widgets/base",
       "_model_module_version": "1.2.0",
       "_model_name": "LayoutModel",
       "_view_count": null,
       "_view_module": "@jupyter-widgets/base",
       "_view_module_version": "1.2.0",
       "_view_name": "LayoutView",
       "align_content": null,
       "align_items": null,
       "align_self": null,
       "border": null,
       "bottom": null,
       "display": null,
       "flex": null,
       "flex_flow": null,
       "grid_area": null,
       "grid_auto_columns": null,
       "grid_auto_flow": null,
       "grid_auto_rows": null,
       "grid_column": null,
       "grid_gap": null,
       "grid_row": null,
       "grid_template_areas": null,
       "grid_template_columns": null,
       "grid_template_rows": null,
       "height": null,
       "justify_content": null,
       "justify_items": null,
       "left": null,
       "margin": null,
       "max_height": null,
       "max_width": null,
       "min_height": null,
       "min_width": null,
       "object_fit": null,
       "object_position": null,
       "order": null,
       "overflow": null,
       "overflow_x": null,
       "overflow_y": null,
       "padding": null,
       "right": null,
       "top": null,
       "visibility": null,
       "width": null
      }
     },
     "9cdcbe4d7f0a4c3fb3ae8f6ff49c41a7": {
      "model_module": "@jupyter-widgets/base",
      "model_module_version": "1.2.0",
      "model_name": "LayoutModel",
      "state": {
       "_model_module": "@jupyter-widgets/base",
       "_model_module_version": "1.2.0",
       "_model_name": "LayoutModel",
       "_view_count": null,
       "_view_module": "@jupyter-widgets/base",
       "_view_module_version": "1.2.0",
       "_view_name": "LayoutView",
       "align_content": null,
       "align_items": null,
       "align_self": null,
       "border": null,
       "bottom": null,
       "display": null,
       "flex": null,
       "flex_flow": null,
       "grid_area": null,
       "grid_auto_columns": null,
       "grid_auto_flow": null,
       "grid_auto_rows": null,
       "grid_column": null,
       "grid_gap": null,
       "grid_row": null,
       "grid_template_areas": null,
       "grid_template_columns": null,
       "grid_template_rows": null,
       "height": null,
       "justify_content": null,
       "justify_items": null,
       "left": null,
       "margin": null,
       "max_height": null,
       "max_width": null,
       "min_height": null,
       "min_width": null,
       "object_fit": null,
       "object_position": null,
       "order": null,
       "overflow": null,
       "overflow_x": null,
       "overflow_y": null,
       "padding": null,
       "right": null,
       "top": null,
       "visibility": null,
       "width": null
      }
     },
     "a8e6b882840c4feb8f98aa79e40bbfac": {
      "model_module": "@jupyter-widgets/controls",
      "model_module_version": "1.5.0",
      "model_name": "HTMLModel",
      "state": {
       "_dom_classes": [],
       "_model_module": "@jupyter-widgets/controls",
       "_model_module_version": "1.5.0",
       "_model_name": "HTMLModel",
       "_view_count": null,
       "_view_module": "@jupyter-widgets/controls",
       "_view_module_version": "1.5.0",
       "_view_name": "HTMLView",
       "description": "",
       "description_tooltip": null,
       "layout": "IPY_MODEL_2d2fda224daa4cfcaa199213dd594ccc",
       "placeholder": "​",
       "style": "IPY_MODEL_e5652f8f26044c259e4a05070d7e8661",
       "value": " 466k/466k [00:00&lt;00:00, 27.3MB/s]"
      }
     },
     "af9a6985d4004bf6a4edb3bad2902b9a": {
      "model_module": "@jupyter-widgets/controls",
      "model_module_version": "1.5.0",
      "model_name": "HTMLModel",
      "state": {
       "_dom_classes": [],
       "_model_module": "@jupyter-widgets/controls",
       "_model_module_version": "1.5.0",
       "_model_name": "HTMLModel",
       "_view_count": null,
       "_view_module": "@jupyter-widgets/controls",
       "_view_module_version": "1.5.0",
       "_view_name": "HTMLView",
       "description": "",
       "description_tooltip": null,
       "layout": "IPY_MODEL_9cdcbe4d7f0a4c3fb3ae8f6ff49c41a7",
       "placeholder": "​",
       "style": "IPY_MODEL_f17c08a0ece64b8195ef5575e1f00e94",
       "value": " 440M/440M [00:02&lt;00:00, 264MB/s]"
      }
     },
     "b846c8deb63345b09e1da9ee6f6154fc": {
      "model_module": "@jupyter-widgets/base",
      "model_module_version": "1.2.0",
      "model_name": "LayoutModel",
      "state": {
       "_model_module": "@jupyter-widgets/base",
       "_model_module_version": "1.2.0",
       "_model_name": "LayoutModel",
       "_view_count": null,
       "_view_module": "@jupyter-widgets/base",
       "_view_module_version": "1.2.0",
       "_view_name": "LayoutView",
       "align_content": null,
       "align_items": null,
       "align_self": null,
       "border": null,
       "bottom": null,
       "display": null,
       "flex": null,
       "flex_flow": null,
       "grid_area": null,
       "grid_auto_columns": null,
       "grid_auto_flow": null,
       "grid_auto_rows": null,
       "grid_column": null,
       "grid_gap": null,
       "grid_row": null,
       "grid_template_areas": null,
       "grid_template_columns": null,
       "grid_template_rows": null,
       "height": null,
       "justify_content": null,
       "justify_items": null,
       "left": null,
       "margin": null,
       "max_height": null,
       "max_width": null,
       "min_height": null,
       "min_width": null,
       "object_fit": null,
       "object_position": null,
       "order": null,
       "overflow": null,
       "overflow_x": null,
       "overflow_y": null,
       "padding": null,
       "right": null,
       "top": null,
       "visibility": null,
       "width": null
      }
     },
     "b95b2aabe55149cb9f64ba0bf4a43724": {
      "model_module": "@jupyter-widgets/controls",
      "model_module_version": "1.5.0",
      "model_name": "DescriptionStyleModel",
      "state": {
       "_model_module": "@jupyter-widgets/controls",
       "_model_module_version": "1.5.0",
       "_model_name": "DescriptionStyleModel",
       "_view_count": null,
       "_view_module": "@jupyter-widgets/base",
       "_view_module_version": "1.2.0",
       "_view_name": "StyleView",
       "description_width": ""
      }
     },
     "bae4cff4f7b84f2b81cd9e7f02eb1257": {
      "model_module": "@jupyter-widgets/base",
      "model_module_version": "1.2.0",
      "model_name": "LayoutModel",
      "state": {
       "_model_module": "@jupyter-widgets/base",
       "_model_module_version": "1.2.0",
       "_model_name": "LayoutModel",
       "_view_count": null,
       "_view_module": "@jupyter-widgets/base",
       "_view_module_version": "1.2.0",
       "_view_name": "LayoutView",
       "align_content": null,
       "align_items": null,
       "align_self": null,
       "border": null,
       "bottom": null,
       "display": null,
       "flex": null,
       "flex_flow": null,
       "grid_area": null,
       "grid_auto_columns": null,
       "grid_auto_flow": null,
       "grid_auto_rows": null,
       "grid_column": null,
       "grid_gap": null,
       "grid_row": null,
       "grid_template_areas": null,
       "grid_template_columns": null,
       "grid_template_rows": null,
       "height": null,
       "justify_content": null,
       "justify_items": null,
       "left": null,
       "margin": null,
       "max_height": null,
       "max_width": null,
       "min_height": null,
       "min_width": null,
       "object_fit": null,
       "object_position": null,
       "order": null,
       "overflow": null,
       "overflow_x": null,
       "overflow_y": null,
       "padding": null,
       "right": null,
       "top": null,
       "visibility": null,
       "width": null
      }
     },
     "c09bb795eacf4f128e06a1e4f3d87ed3": {
      "model_module": "@jupyter-widgets/base",
      "model_module_version": "1.2.0",
      "model_name": "LayoutModel",
      "state": {
       "_model_module": "@jupyter-widgets/base",
       "_model_module_version": "1.2.0",
       "_model_name": "LayoutModel",
       "_view_count": null,
       "_view_module": "@jupyter-widgets/base",
       "_view_module_version": "1.2.0",
       "_view_name": "LayoutView",
       "align_content": null,
       "align_items": null,
       "align_self": null,
       "border": null,
       "bottom": null,
       "display": null,
       "flex": null,
       "flex_flow": null,
       "grid_area": null,
       "grid_auto_columns": null,
       "grid_auto_flow": null,
       "grid_auto_rows": null,
       "grid_column": null,
       "grid_gap": null,
       "grid_row": null,
       "grid_template_areas": null,
       "grid_template_columns": null,
       "grid_template_rows": null,
       "height": null,
       "justify_content": null,
       "justify_items": null,
       "left": null,
       "margin": null,
       "max_height": null,
       "max_width": null,
       "min_height": null,
       "min_width": null,
       "object_fit": null,
       "object_position": null,
       "order": null,
       "overflow": null,
       "overflow_x": null,
       "overflow_y": null,
       "padding": null,
       "right": null,
       "top": null,
       "visibility": null,
       "width": null
      }
     },
     "c2f7c96d15044f04b251c12b9634b06e": {
      "model_module": "@jupyter-widgets/base",
      "model_module_version": "1.2.0",
      "model_name": "LayoutModel",
      "state": {
       "_model_module": "@jupyter-widgets/base",
       "_model_module_version": "1.2.0",
       "_model_name": "LayoutModel",
       "_view_count": null,
       "_view_module": "@jupyter-widgets/base",
       "_view_module_version": "1.2.0",
       "_view_name": "LayoutView",
       "align_content": null,
       "align_items": null,
       "align_self": null,
       "border": null,
       "bottom": null,
       "display": null,
       "flex": null,
       "flex_flow": null,
       "grid_area": null,
       "grid_auto_columns": null,
       "grid_auto_flow": null,
       "grid_auto_rows": null,
       "grid_column": null,
       "grid_gap": null,
       "grid_row": null,
       "grid_template_areas": null,
       "grid_template_columns": null,
       "grid_template_rows": null,
       "height": null,
       "justify_content": null,
       "justify_items": null,
       "left": null,
       "margin": null,
       "max_height": null,
       "max_width": null,
       "min_height": null,
       "min_width": null,
       "object_fit": null,
       "object_position": null,
       "order": null,
       "overflow": null,
       "overflow_x": null,
       "overflow_y": null,
       "padding": null,
       "right": null,
       "top": null,
       "visibility": null,
       "width": null
      }
     },
     "c816290c9b994cabbc30fbb7dbef036f": {
      "model_module": "@jupyter-widgets/controls",
      "model_module_version": "1.5.0",
      "model_name": "DescriptionStyleModel",
      "state": {
       "_model_module": "@jupyter-widgets/controls",
       "_model_module_version": "1.5.0",
       "_model_name": "DescriptionStyleModel",
       "_view_count": null,
       "_view_module": "@jupyter-widgets/base",
       "_view_module_version": "1.2.0",
       "_view_name": "StyleView",
       "description_width": ""
      }
     },
     "c931e196eb06433bbb69320a6a325bfc": {
      "model_module": "@jupyter-widgets/base",
      "model_module_version": "1.2.0",
      "model_name": "LayoutModel",
      "state": {
       "_model_module": "@jupyter-widgets/base",
       "_model_module_version": "1.2.0",
       "_model_name": "LayoutModel",
       "_view_count": null,
       "_view_module": "@jupyter-widgets/base",
       "_view_module_version": "1.2.0",
       "_view_name": "LayoutView",
       "align_content": null,
       "align_items": null,
       "align_self": null,
       "border": null,
       "bottom": null,
       "display": null,
       "flex": null,
       "flex_flow": null,
       "grid_area": null,
       "grid_auto_columns": null,
       "grid_auto_flow": null,
       "grid_auto_rows": null,
       "grid_column": null,
       "grid_gap": null,
       "grid_row": null,
       "grid_template_areas": null,
       "grid_template_columns": null,
       "grid_template_rows": null,
       "height": null,
       "justify_content": null,
       "justify_items": null,
       "left": null,
       "margin": null,
       "max_height": null,
       "max_width": null,
       "min_height": null,
       "min_width": null,
       "object_fit": null,
       "object_position": null,
       "order": null,
       "overflow": null,
       "overflow_x": null,
       "overflow_y": null,
       "padding": null,
       "right": null,
       "top": null,
       "visibility": null,
       "width": null
      }
     },
     "c98a7bd273284318a1549051aeed8551": {
      "model_module": "@jupyter-widgets/controls",
      "model_module_version": "1.5.0",
      "model_name": "HBoxModel",
      "state": {
       "_dom_classes": [],
       "_model_module": "@jupyter-widgets/controls",
       "_model_module_version": "1.5.0",
       "_model_name": "HBoxModel",
       "_view_count": null,
       "_view_module": "@jupyter-widgets/controls",
       "_view_module_version": "1.5.0",
       "_view_name": "HBoxView",
       "box_style": "",
       "children": [
        "IPY_MODEL_e1da70bef92f44c5bbcbc99210c544cb",
        "IPY_MODEL_3ecbcb995f9340deb5fa0386ba5b7002",
        "IPY_MODEL_a8e6b882840c4feb8f98aa79e40bbfac"
       ],
       "layout": "IPY_MODEL_4471ef32071c412fa30ecfe5f085a91b"
      }
     },
     "ca83dac7f4ef4f2785587a623947fd0a": {
      "model_module": "@jupyter-widgets/controls",
      "model_module_version": "1.5.0",
      "model_name": "DescriptionStyleModel",
      "state": {
       "_model_module": "@jupyter-widgets/controls",
       "_model_module_version": "1.5.0",
       "_model_name": "DescriptionStyleModel",
       "_view_count": null,
       "_view_module": "@jupyter-widgets/base",
       "_view_module_version": "1.2.0",
       "_view_name": "StyleView",
       "description_width": ""
      }
     },
     "cbe14e44c5ce4fed9ed6a552454377c0": {
      "model_module": "@jupyter-widgets/base",
      "model_module_version": "1.2.0",
      "model_name": "LayoutModel",
      "state": {
       "_model_module": "@jupyter-widgets/base",
       "_model_module_version": "1.2.0",
       "_model_name": "LayoutModel",
       "_view_count": null,
       "_view_module": "@jupyter-widgets/base",
       "_view_module_version": "1.2.0",
       "_view_name": "LayoutView",
       "align_content": null,
       "align_items": null,
       "align_self": null,
       "border": null,
       "bottom": null,
       "display": null,
       "flex": null,
       "flex_flow": null,
       "grid_area": null,
       "grid_auto_columns": null,
       "grid_auto_flow": null,
       "grid_auto_rows": null,
       "grid_column": null,
       "grid_gap": null,
       "grid_row": null,
       "grid_template_areas": null,
       "grid_template_columns": null,
       "grid_template_rows": null,
       "height": null,
       "justify_content": null,
       "justify_items": null,
       "left": null,
       "margin": null,
       "max_height": null,
       "max_width": null,
       "min_height": null,
       "min_width": null,
       "object_fit": null,
       "object_position": null,
       "order": null,
       "overflow": null,
       "overflow_x": null,
       "overflow_y": null,
       "padding": null,
       "right": null,
       "top": null,
       "visibility": null,
       "width": null
      }
     },
     "cde8538c697041e88c519ffcb078936a": {
      "model_module": "@jupyter-widgets/controls",
      "model_module_version": "1.5.0",
      "model_name": "HTMLModel",
      "state": {
       "_dom_classes": [],
       "_model_module": "@jupyter-widgets/controls",
       "_model_module_version": "1.5.0",
       "_model_name": "HTMLModel",
       "_view_count": null,
       "_view_module": "@jupyter-widgets/controls",
       "_view_module_version": "1.5.0",
       "_view_name": "HTMLView",
       "description": "",
       "description_tooltip": null,
       "layout": "IPY_MODEL_d52514f4f97b41b6955d40a5c3f73d9b",
       "placeholder": "​",
       "style": "IPY_MODEL_0e459212e6bb4976b2b4a0b681305035",
       "value": " 232k/232k [00:00&lt;00:00, 1.77MB/s]"
      }
     },
     "d51b7f48b71c46e1b8438f8151efd799": {
      "model_module": "@jupyter-widgets/controls",
      "model_module_version": "1.5.0",
      "model_name": "FloatProgressModel",
      "state": {
       "_dom_classes": [],
       "_model_module": "@jupyter-widgets/controls",
       "_model_module_version": "1.5.0",
       "_model_name": "FloatProgressModel",
       "_view_count": null,
       "_view_module": "@jupyter-widgets/controls",
       "_view_module_version": "1.5.0",
       "_view_name": "ProgressView",
       "bar_style": "success",
       "description": "",
       "description_tooltip": null,
       "layout": "IPY_MODEL_bae4cff4f7b84f2b81cd9e7f02eb1257",
       "max": 440449768.0,
       "min": 0.0,
       "orientation": "horizontal",
       "style": "IPY_MODEL_1c9173e396d047dc8817e8be92388e7a",
       "value": 440449768.0
      }
     },
     "d52514f4f97b41b6955d40a5c3f73d9b": {
      "model_module": "@jupyter-widgets/base",
      "model_module_version": "1.2.0",
      "model_name": "LayoutModel",
      "state": {
       "_model_module": "@jupyter-widgets/base",
       "_model_module_version": "1.2.0",
       "_model_name": "LayoutModel",
       "_view_count": null,
       "_view_module": "@jupyter-widgets/base",
       "_view_module_version": "1.2.0",
       "_view_name": "LayoutView",
       "align_content": null,
       "align_items": null,
       "align_self": null,
       "border": null,
       "bottom": null,
       "display": null,
       "flex": null,
       "flex_flow": null,
       "grid_area": null,
       "grid_auto_columns": null,
       "grid_auto_flow": null,
       "grid_auto_rows": null,
       "grid_column": null,
       "grid_gap": null,
       "grid_row": null,
       "grid_template_areas": null,
       "grid_template_columns": null,
       "grid_template_rows": null,
       "height": null,
       "justify_content": null,
       "justify_items": null,
       "left": null,
       "margin": null,
       "max_height": null,
       "max_width": null,
       "min_height": null,
       "min_width": null,
       "object_fit": null,
       "object_position": null,
       "order": null,
       "overflow": null,
       "overflow_x": null,
       "overflow_y": null,
       "padding": null,
       "right": null,
       "top": null,
       "visibility": null,
       "width": null
      }
     },
     "d942110ebf7145aebaf444818e6f4a47": {
      "model_module": "@jupyter-widgets/controls",
      "model_module_version": "1.5.0",
      "model_name": "HBoxModel",
      "state": {
       "_dom_classes": [],
       "_model_module": "@jupyter-widgets/controls",
       "_model_module_version": "1.5.0",
       "_model_name": "HBoxModel",
       "_view_count": null,
       "_view_module": "@jupyter-widgets/controls",
       "_view_module_version": "1.5.0",
       "_view_name": "HBoxView",
       "box_style": "",
       "children": [
        "IPY_MODEL_68cef213cb084afd9baa8e23d38d4c50",
        "IPY_MODEL_d51b7f48b71c46e1b8438f8151efd799",
        "IPY_MODEL_af9a6985d4004bf6a4edb3bad2902b9a"
       ],
       "layout": "IPY_MODEL_12b6b3cea7b348fca92bcbd02b8b8738"
      }
     },
     "d9fdb6c96ddd4d3abd4cd2262dde56e3": {
      "model_module": "@jupyter-widgets/controls",
      "model_module_version": "1.5.0",
      "model_name": "ProgressStyleModel",
      "state": {
       "_model_module": "@jupyter-widgets/controls",
       "_model_module_version": "1.5.0",
       "_model_name": "ProgressStyleModel",
       "_view_count": null,
       "_view_module": "@jupyter-widgets/base",
       "_view_module_version": "1.2.0",
       "_view_name": "StyleView",
       "bar_color": null,
       "description_width": ""
      }
     },
     "dd178a1881be4d42a490a23cc2009a2b": {
      "model_module": "@jupyter-widgets/base",
      "model_module_version": "1.2.0",
      "model_name": "LayoutModel",
      "state": {
       "_model_module": "@jupyter-widgets/base",
       "_model_module_version": "1.2.0",
       "_model_name": "LayoutModel",
       "_view_count": null,
       "_view_module": "@jupyter-widgets/base",
       "_view_module_version": "1.2.0",
       "_view_name": "LayoutView",
       "align_content": null,
       "align_items": null,
       "align_self": null,
       "border": null,
       "bottom": null,
       "display": null,
       "flex": null,
       "flex_flow": null,
       "grid_area": null,
       "grid_auto_columns": null,
       "grid_auto_flow": null,
       "grid_auto_rows": null,
       "grid_column": null,
       "grid_gap": null,
       "grid_row": null,
       "grid_template_areas": null,
       "grid_template_columns": null,
       "grid_template_rows": null,
       "height": null,
       "justify_content": null,
       "justify_items": null,
       "left": null,
       "margin": null,
       "max_height": null,
       "max_width": null,
       "min_height": null,
       "min_width": null,
       "object_fit": null,
       "object_position": null,
       "order": null,
       "overflow": null,
       "overflow_x": null,
       "overflow_y": null,
       "padding": null,
       "right": null,
       "top": null,
       "visibility": null,
       "width": null
      }
     },
     "ddada5d738ef4717b36d38f1fc595bfb": {
      "model_module": "@jupyter-widgets/controls",
      "model_module_version": "1.5.0",
      "model_name": "HTMLModel",
      "state": {
       "_dom_classes": [],
       "_model_module": "@jupyter-widgets/controls",
       "_model_module_version": "1.5.0",
       "_model_name": "HTMLModel",
       "_view_count": null,
       "_view_module": "@jupyter-widgets/controls",
       "_view_module_version": "1.5.0",
       "_view_name": "HTMLView",
       "description": "",
       "description_tooltip": null,
       "layout": "IPY_MODEL_cbe14e44c5ce4fed9ed6a552454377c0",
       "placeholder": "​",
       "style": "IPY_MODEL_94538c9bee5340ee85bd83e0e17486f4",
       "value": " 570/570 [00:00&lt;00:00, 52.4kB/s]"
      }
     },
     "dfd30ee065fc49969a9f6cacfa82861e": {
      "model_module": "@jupyter-widgets/controls",
      "model_module_version": "1.5.0",
      "model_name": "HTMLModel",
      "state": {
       "_dom_classes": [],
       "_model_module": "@jupyter-widgets/controls",
       "_model_module_version": "1.5.0",
       "_model_name": "HTMLModel",
       "_view_count": null,
       "_view_module": "@jupyter-widgets/controls",
       "_view_module_version": "1.5.0",
       "_view_name": "HTMLView",
       "description": "",
       "description_tooltip": null,
       "layout": "IPY_MODEL_1a409c85f5d54f269f6fe9e9e6b8c8c2",
       "placeholder": "​",
       "style": "IPY_MODEL_ca83dac7f4ef4f2785587a623947fd0a",
       "value": "vocab.txt: 100%"
      }
     },
     "e072b6410aa6490dbc0e862e08229eba": {
      "model_module": "@jupyter-widgets/base",
      "model_module_version": "1.2.0",
      "model_name": "LayoutModel",
      "state": {
       "_model_module": "@jupyter-widgets/base",
       "_model_module_version": "1.2.0",
       "_model_name": "LayoutModel",
       "_view_count": null,
       "_view_module": "@jupyter-widgets/base",
       "_view_module_version": "1.2.0",
       "_view_name": "LayoutView",
       "align_content": null,
       "align_items": null,
       "align_self": null,
       "border": null,
       "bottom": null,
       "display": null,
       "flex": null,
       "flex_flow": null,
       "grid_area": null,
       "grid_auto_columns": null,
       "grid_auto_flow": null,
       "grid_auto_rows": null,
       "grid_column": null,
       "grid_gap": null,
       "grid_row": null,
       "grid_template_areas": null,
       "grid_template_columns": null,
       "grid_template_rows": null,
       "height": null,
       "justify_content": null,
       "justify_items": null,
       "left": null,
       "margin": null,
       "max_height": null,
       "max_width": null,
       "min_height": null,
       "min_width": null,
       "object_fit": null,
       "object_position": null,
       "order": null,
       "overflow": null,
       "overflow_x": null,
       "overflow_y": null,
       "padding": null,
       "right": null,
       "top": null,
       "visibility": null,
       "width": null
      }
     },
     "e1da70bef92f44c5bbcbc99210c544cb": {
      "model_module": "@jupyter-widgets/controls",
      "model_module_version": "1.5.0",
      "model_name": "HTMLModel",
      "state": {
       "_dom_classes": [],
       "_model_module": "@jupyter-widgets/controls",
       "_model_module_version": "1.5.0",
       "_model_name": "HTMLModel",
       "_view_count": null,
       "_view_module": "@jupyter-widgets/controls",
       "_view_module_version": "1.5.0",
       "_view_name": "HTMLView",
       "description": "",
       "description_tooltip": null,
       "layout": "IPY_MODEL_95fc647498b94e3dacc36f9d016f11b2",
       "placeholder": "​",
       "style": "IPY_MODEL_7c7c7f4ca77e4298b730603e7e7b4060",
       "value": "tokenizer.json: 100%"
      }
     },
     "e5652f8f26044c259e4a05070d7e8661": {
      "model_module": "@jupyter-widgets/controls",
      "model_module_version": "1.5.0",
      "model_name": "DescriptionStyleModel",
      "state": {
       "_model_module": "@jupyter-widgets/controls",
       "_model_module_version": "1.5.0",
       "_model_name": "DescriptionStyleModel",
       "_view_count": null,
       "_view_module": "@jupyter-widgets/base",
       "_view_module_version": "1.2.0",
       "_view_name": "StyleView",
       "description_width": ""
      }
     },
     "e7fda732cd24456281ddd4b3eba4dc3a": {
      "model_module": "@jupyter-widgets/controls",
      "model_module_version": "1.5.0",
      "model_name": "HBoxModel",
      "state": {
       "_dom_classes": [],
       "_model_module": "@jupyter-widgets/controls",
       "_model_module_version": "1.5.0",
       "_model_name": "HBoxModel",
       "_view_count": null,
       "_view_module": "@jupyter-widgets/controls",
       "_view_module_version": "1.5.0",
       "_view_name": "HBoxView",
       "box_style": "",
       "children": [
        "IPY_MODEL_7abcd924ed584b578a9ba03e0226f28c",
        "IPY_MODEL_f6e505ecfba84967a6066c1e36db66aa",
        "IPY_MODEL_2d545ac7e4194bf98868241ed46cd882"
       ],
       "layout": "IPY_MODEL_062c9d5285904246afa03bd5e20bedc2"
      }
     },
     "f17c08a0ece64b8195ef5575e1f00e94": {
      "model_module": "@jupyter-widgets/controls",
      "model_module_version": "1.5.0",
      "model_name": "DescriptionStyleModel",
      "state": {
       "_model_module": "@jupyter-widgets/controls",
       "_model_module_version": "1.5.0",
       "_model_name": "DescriptionStyleModel",
       "_view_count": null,
       "_view_module": "@jupyter-widgets/base",
       "_view_module_version": "1.2.0",
       "_view_name": "StyleView",
       "description_width": ""
      }
     },
     "f3b1fc2082874c61b7033e72d15884df": {
      "model_module": "@jupyter-widgets/controls",
      "model_module_version": "1.5.0",
      "model_name": "DescriptionStyleModel",
      "state": {
       "_model_module": "@jupyter-widgets/controls",
       "_model_module_version": "1.5.0",
       "_model_name": "DescriptionStyleModel",
       "_view_count": null,
       "_view_module": "@jupyter-widgets/base",
       "_view_module_version": "1.2.0",
       "_view_name": "StyleView",
       "description_width": ""
      }
     },
     "f6e505ecfba84967a6066c1e36db66aa": {
      "model_module": "@jupyter-widgets/controls",
      "model_module_version": "1.5.0",
      "model_name": "FloatProgressModel",
      "state": {
       "_dom_classes": [],
       "_model_module": "@jupyter-widgets/controls",
       "_model_module_version": "1.5.0",
       "_model_name": "FloatProgressModel",
       "_view_count": null,
       "_view_module": "@jupyter-widgets/controls",
       "_view_module_version": "1.5.0",
       "_view_name": "ProgressView",
       "bar_style": "success",
       "description": "",
       "description_tooltip": null,
       "layout": "IPY_MODEL_c2f7c96d15044f04b251c12b9634b06e",
       "max": 48.0,
       "min": 0.0,
       "orientation": "horizontal",
       "style": "IPY_MODEL_fc1c6a416ab24f108028d224ba187e60",
       "value": 48.0
      }
     },
     "fc1c6a416ab24f108028d224ba187e60": {
      "model_module": "@jupyter-widgets/controls",
      "model_module_version": "1.5.0",
      "model_name": "ProgressStyleModel",
      "state": {
       "_model_module": "@jupyter-widgets/controls",
       "_model_module_version": "1.5.0",
       "_model_name": "ProgressStyleModel",
       "_view_count": null,
       "_view_module": "@jupyter-widgets/base",
       "_view_module_version": "1.2.0",
       "_view_name": "StyleView",
       "bar_color": null,
       "description_width": ""
      }
     }
    },
    "version_major": 2,
    "version_minor": 0
   }
  }
 },
 "nbformat": 4,
 "nbformat_minor": 5
}
