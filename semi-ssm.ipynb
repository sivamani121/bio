{
 "cells": [
  {
   "cell_type": "code",
   "execution_count": 1,
   "id": "13b9a6ca",
   "metadata": {
    "execution": {
     "iopub.execute_input": "2024-03-03T10:42:58.714996Z",
     "iopub.status.busy": "2024-03-03T10:42:58.714645Z",
     "iopub.status.idle": "2024-03-03T10:42:58.719479Z",
     "shell.execute_reply": "2024-03-03T10:42:58.718737Z"
    },
    "papermill": {
     "duration": 0.017311,
     "end_time": "2024-03-03T10:42:58.721486",
     "exception": false,
     "start_time": "2024-03-03T10:42:58.704175",
     "status": "completed"
    },
    "tags": []
   },
   "outputs": [],
   "source": [
    "# !pip install torch"
   ]
  },
  {
   "cell_type": "code",
   "execution_count": 2,
   "id": "5d0a5c7a",
   "metadata": {
    "_cell_guid": "b1076dfc-b9ad-4769-8c92-a6c4dae69d19",
    "_uuid": "8f2839f25d086af736a60e9eeb907d3b93b6e0e5",
    "execution": {
     "iopub.execute_input": "2024-03-03T10:42:58.739244Z",
     "iopub.status.busy": "2024-03-03T10:42:58.738986Z",
     "iopub.status.idle": "2024-03-03T10:43:02.436327Z",
     "shell.execute_reply": "2024-03-03T10:43:02.435504Z"
    },
    "papermill": {
     "duration": 3.708774,
     "end_time": "2024-03-03T10:43:02.438661",
     "exception": false,
     "start_time": "2024-03-03T10:42:58.729887",
     "status": "completed"
    },
    "tags": []
   },
   "outputs": [],
   "source": [
    "# Regular imports\n",
    "import matplotlib.pyplot as plt\n",
    "import torch\n",
    "\n",
    "from torch import nn\n",
    "import numpy as np \n"
   ]
  },
  {
   "cell_type": "code",
   "execution_count": 3,
   "id": "62bd7432",
   "metadata": {
    "execution": {
     "iopub.execute_input": "2024-03-03T10:43:02.457561Z",
     "iopub.status.busy": "2024-03-03T10:43:02.457152Z",
     "iopub.status.idle": "2024-03-03T10:43:02.514657Z",
     "shell.execute_reply": "2024-03-03T10:43:02.513807Z"
    },
    "papermill": {
     "duration": 0.069573,
     "end_time": "2024-03-03T10:43:02.516831",
     "exception": false,
     "start_time": "2024-03-03T10:43:02.447258",
     "status": "completed"
    },
    "tags": []
   },
   "outputs": [
    {
     "data": {
      "text/plain": [
       "'cuda'"
      ]
     },
     "execution_count": 3,
     "metadata": {},
     "output_type": "execute_result"
    }
   ],
   "source": [
    "device = \"cuda\" if torch.cuda.is_available() else \"cpu\"\n",
    "device\n",
    "\n",
    "#os.environ['CUDA_LAUNCH_BLOCKING'] = '1'\n"
   ]
  },
  {
   "cell_type": "code",
   "execution_count": 4,
   "id": "38be1b4f",
   "metadata": {
    "execution": {
     "iopub.execute_input": "2024-03-03T10:43:02.534594Z",
     "iopub.status.busy": "2024-03-03T10:43:02.534323Z",
     "iopub.status.idle": "2024-03-03T10:43:02.538117Z",
     "shell.execute_reply": "2024-03-03T10:43:02.537242Z"
    },
    "papermill": {
     "duration": 0.014694,
     "end_time": "2024-03-03T10:43:02.539920",
     "exception": false,
     "start_time": "2024-03-03T10:43:02.525226",
     "status": "completed"
    },
    "tags": []
   },
   "outputs": [],
   "source": [
    "import os\n",
    "os.environ[\"TORCH_USE_CUDA_DSA\"] = \"1\"\n",
    "\n",
    "# Import PyTorch and other libraries\n",
    "\n",
    "\n"
   ]
  },
  {
   "cell_type": "code",
   "execution_count": 5,
   "id": "37a0b69d",
   "metadata": {
    "execution": {
     "iopub.execute_input": "2024-03-03T10:43:02.557474Z",
     "iopub.status.busy": "2024-03-03T10:43:02.557196Z",
     "iopub.status.idle": "2024-03-03T10:43:02.560945Z",
     "shell.execute_reply": "2024-03-03T10:43:02.560137Z"
    },
    "papermill": {
     "duration": 0.014751,
     "end_time": "2024-03-03T10:43:02.562857",
     "exception": false,
     "start_time": "2024-03-03T10:43:02.548106",
     "status": "completed"
    },
    "tags": []
   },
   "outputs": [],
   "source": [
    "data_path = \"/kaggle/input/majortry6/labeled_data.csv\""
   ]
  },
  {
   "cell_type": "code",
   "execution_count": 6,
   "id": "5aa9d122",
   "metadata": {
    "execution": {
     "iopub.execute_input": "2024-03-03T10:43:02.580479Z",
     "iopub.status.busy": "2024-03-03T10:43:02.580204Z",
     "iopub.status.idle": "2024-03-03T10:43:03.504621Z",
     "shell.execute_reply": "2024-03-03T10:43:03.503426Z"
    },
    "papermill": {
     "duration": 0.935661,
     "end_time": "2024-03-03T10:43:03.506741",
     "exception": false,
     "start_time": "2024-03-03T10:43:02.571080",
     "status": "completed"
    },
    "tags": []
   },
   "outputs": [
    {
     "name": "stdout",
     "output_type": "stream",
     "text": [
      "Index(['Unnamed: 0', 'count', 'hate_speech', 'offensive_language', 'neither',\n",
      "       'class', 'tweet'],\n",
      "      dtype='object')\n"
     ]
    }
   ],
   "source": [
    "import numpy as np\n",
    "import pickle\n",
    "import pandas as pd\n",
    "pd.options.mode.copy_on_write = True\n",
    "\n",
    "data = pd.read_csv(data_path)\n",
    "df = pd.DataFrame(data)\n",
    "print(df.columns)\n",
    "df.columns = ['Unnamed: 0', 'count', 'hate_speech', 'offensive_language', 'neither',\n",
    "       'classk', 'tweet']"
   ]
  },
  {
   "cell_type": "code",
   "execution_count": 7,
   "id": "157f210c",
   "metadata": {
    "execution": {
     "iopub.execute_input": "2024-03-03T10:43:03.527141Z",
     "iopub.status.busy": "2024-03-03T10:43:03.526365Z",
     "iopub.status.idle": "2024-03-03T10:43:03.539821Z",
     "shell.execute_reply": "2024-03-03T10:43:03.538934Z"
    },
    "papermill": {
     "duration": 0.026005,
     "end_time": "2024-03-03T10:43:03.541708",
     "exception": false,
     "start_time": "2024-03-03T10:43:03.515703",
     "status": "completed"
    },
    "tags": []
   },
   "outputs": [],
   "source": [
    "df[\"classk\"] = df[\"classk\"].map({2:1, 1:0, 0:0}) \n",
    "# label = 0 = hate\n",
    "# label = 1 = not_hate"
   ]
  },
  {
   "cell_type": "code",
   "execution_count": 8,
   "id": "497a7156",
   "metadata": {
    "execution": {
     "iopub.execute_input": "2024-03-03T10:43:03.559701Z",
     "iopub.status.busy": "2024-03-03T10:43:03.559396Z",
     "iopub.status.idle": "2024-03-03T10:43:03.693659Z",
     "shell.execute_reply": "2024-03-03T10:43:03.692657Z"
    },
    "papermill": {
     "duration": 0.145701,
     "end_time": "2024-03-03T10:43:03.695852",
     "exception": false,
     "start_time": "2024-03-03T10:43:03.550151",
     "status": "completed"
    },
    "tags": []
   },
   "outputs": [],
   "source": [
    "tweets = df.tweet\n",
    "res = []\n",
    "\n",
    "for i in range(len(tweets)):\n",
    "    splitt = tweets[i].split(\":\")\n",
    "    if len(splitt) == 1:\n",
    "        res.append(splitt[0])\n",
    "    else:\n",
    "        res.append(splitt[-1])\n",
    "        \n",
    "tweets = res\n",
    "\n",
    "# print(tweets)"
   ]
  },
  {
   "cell_type": "code",
   "execution_count": 9,
   "id": "f6c73a8b",
   "metadata": {
    "execution": {
     "iopub.execute_input": "2024-03-03T10:43:03.714606Z",
     "iopub.status.busy": "2024-03-03T10:43:03.714282Z",
     "iopub.status.idle": "2024-03-03T10:43:03.719212Z",
     "shell.execute_reply": "2024-03-03T10:43:03.718423Z"
    },
    "papermill": {
     "duration": 0.016741,
     "end_time": "2024-03-03T10:43:03.721234",
     "exception": false,
     "start_time": "2024-03-03T10:43:03.704493",
     "status": "completed"
    },
    "tags": []
   },
   "outputs": [],
   "source": [
    "hate_words = ['Moist', 'Cunt', 'Panties', 'Fuck', 'Hate', 'Nigger', 'Pussy', 'Ass', 'Motherfucker', 'Bitch', 'Damn']\n",
    "not_hate_words = ['Love', 'Peace', 'Kindness', 'Happiness', 'Respect', 'Friendship',\n",
    "'Appreciation', 'Hope', 'Encouragement', 'Support', 'Caring']"
   ]
  },
  {
   "cell_type": "code",
   "execution_count": 10,
   "id": "c50e5ef5",
   "metadata": {
    "execution": {
     "iopub.execute_input": "2024-03-03T10:43:03.739270Z",
     "iopub.status.busy": "2024-03-03T10:43:03.738996Z",
     "iopub.status.idle": "2024-03-03T10:43:09.057634Z",
     "shell.execute_reply": "2024-03-03T10:43:09.056535Z"
    },
    "papermill": {
     "duration": 5.329903,
     "end_time": "2024-03-03T10:43:09.059749",
     "exception": false,
     "start_time": "2024-03-03T10:43:03.729846",
     "status": "completed"
    },
    "tags": []
   },
   "outputs": [
    {
     "data": {
      "application/vnd.jupyter.widget-view+json": {
       "model_id": "ca881925033944e098ad91ed94bf98a4",
       "version_major": 2,
       "version_minor": 0
      },
      "text/plain": [
       "tokenizer_config.json:   0%|          | 0.00/48.0 [00:00<?, ?B/s]"
      ]
     },
     "metadata": {},
     "output_type": "display_data"
    },
    {
     "data": {
      "application/vnd.jupyter.widget-view+json": {
       "model_id": "6554082698894775840ce58660646782",
       "version_major": 2,
       "version_minor": 0
      },
      "text/plain": [
       "config.json:   0%|          | 0.00/570 [00:00<?, ?B/s]"
      ]
     },
     "metadata": {},
     "output_type": "display_data"
    },
    {
     "data": {
      "application/vnd.jupyter.widget-view+json": {
       "model_id": "f73ea1cafb4b4eec870e985cc4942c01",
       "version_major": 2,
       "version_minor": 0
      },
      "text/plain": [
       "vocab.txt:   0%|          | 0.00/232k [00:00<?, ?B/s]"
      ]
     },
     "metadata": {},
     "output_type": "display_data"
    },
    {
     "data": {
      "application/vnd.jupyter.widget-view+json": {
       "model_id": "35423bc13f7a4b0f9a379b5c8786a026",
       "version_major": 2,
       "version_minor": 0
      },
      "text/plain": [
       "tokenizer.json:   0%|          | 0.00/466k [00:00<?, ?B/s]"
      ]
     },
     "metadata": {},
     "output_type": "display_data"
    },
    {
     "data": {
      "text/plain": [
       "{'input_ids': [101, 1045, 2293, 20421, 102], 'token_type_ids': [0, 0, 0, 0, 0], 'attention_mask': [1, 1, 1, 1, 1]}"
      ]
     },
     "execution_count": 10,
     "metadata": {},
     "output_type": "execute_result"
    }
   ],
   "source": [
    "\n",
    "from transformers import AutoTokenizer\n",
    "from transformers import BertModel\n",
    "\n",
    "tokenizer = AutoTokenizer.from_pretrained(\"bert-base-uncased\")\n",
    "\n",
    "tokenizer(\"I love Pokemon\")\n",
    "# # tokenizer.decode(tokenizer(\"I love Pokemon\")['input_ids'])\n",
    "# from transformers import BertTokenizer, BertForSequenceClassification\n",
    "# import torch\n",
    "# from torch.utils.data import DataLoader, TensorDataset\n",
    "\n",
    "# # Load pre-trained model and tokenizer\n",
    "# model = BertForSequenceClassification.from_pretrained('bert-base-uncased', num_labels=num_classes)\n",
    "# tokenizer = BertTokenizer.from_pretrained('bert-base-uncased')\n",
    "\n",
    "# # Tokenize and prepare data\n",
    "# input_texts = [\"your input sentences\"]\n",
    "# labels = [0, 1, ...]  # corresponding labels\n",
    "\n",
    "# tokenized_inputs = tokenizer(input_texts, truncation=True, padding=True, return_tensors=\"pt\")\n",
    "\n",
    "# # Create DataLoader\n",
    "# dataset = TensorDataset(tokenized_inputs['input_ids'], tokenized_inputs['attention_mask'], torch.tensor(labels))\n",
    "# dataloader = DataLoader(dataset, batch_size=batch_size, shuffle=True)\n",
    "\n",
    "# # Set up optimizer and loss function\n",
    "# optimizer = torch.optim.AdamW(model.parameters(), lr=learning_rate)\n",
    "# loss_fn = torch.nn.CrossEntropyLoss()\n",
    "\n",
    "# # Fine-tuning loop\n",
    "# for epoch in range(num_epochs):\n",
    "#     for batch in dataloader:\n",
    "#         inputs, attention_mask, target = batch\n",
    "#         outputs = model(inputs, attention_mask=attention_mask)\n",
    "#         loss = loss_fn(outputs.logits, target)\n",
    "        \n",
    "#         optimizer.zero_grad()\n",
    "#         loss.backward()\n",
    "#         optimizer.step()\n",
    "\n",
    "# # Evaluate on a test set\n",
    "# # (Prepare the test set similarly and use model.eval() before inference)\n"
   ]
  },
  {
   "cell_type": "code",
   "execution_count": 11,
   "id": "89ea583b",
   "metadata": {
    "execution": {
     "iopub.execute_input": "2024-03-03T10:43:09.080385Z",
     "iopub.status.busy": "2024-03-03T10:43:09.079928Z",
     "iopub.status.idle": "2024-03-03T10:43:11.649464Z",
     "shell.execute_reply": "2024-03-03T10:43:11.648434Z"
    },
    "papermill": {
     "duration": 2.582291,
     "end_time": "2024-03-03T10:43:11.651755",
     "exception": false,
     "start_time": "2024-03-03T10:43:09.069464",
     "status": "completed"
    },
    "tags": []
   },
   "outputs": [
    {
     "data": {
      "application/vnd.jupyter.widget-view+json": {
       "model_id": "4860cb49628e451aa261431bb8db0c85",
       "version_major": 2,
       "version_minor": 0
      },
      "text/plain": [
       "model.safetensors:   0%|          | 0.00/440M [00:00<?, ?B/s]"
      ]
     },
     "metadata": {},
     "output_type": "display_data"
    },
    {
     "name": "stdout",
     "output_type": "stream",
     "text": [
      "{'input_ids': tensor([[  101,  7592,  2026,  3899,  2003, 10140,   102]]), 'token_type_ids': tensor([[0, 0, 0, 0, 0, 0, 0]]), 'attention_mask': tensor([[1, 1, 1, 1, 1, 1, 1]])}\n",
      "7\n",
      "768\n",
      "768\n"
     ]
    }
   ],
   "source": [
    "model = BertModel.from_pretrained(\"bert-base-uncased\")\n",
    "\n",
    "inputs = tokenizer(\"Hello my dog is cute\", return_tensors=\"pt\")\n",
    "print(inputs)\n",
    "\n",
    "outputs = model(**inputs)\n",
    "\n",
    "print(len(outputs.last_hidden_state[0])) # => no. of tokens + [CLS] + [SEP]\n",
    "print(len(outputs.last_hidden_state[0][1])) # => hidden dim size\n",
    "print(len(outputs.last_hidden_state[0][2])) # => hidden dim size"
   ]
  },
  {
   "cell_type": "code",
   "execution_count": 12,
   "id": "0200da06",
   "metadata": {
    "execution": {
     "iopub.execute_input": "2024-03-03T10:43:11.672158Z",
     "iopub.status.busy": "2024-03-03T10:43:11.671865Z",
     "iopub.status.idle": "2024-03-03T10:43:12.875263Z",
     "shell.execute_reply": "2024-03-03T10:43:12.874280Z"
    },
    "papermill": {
     "duration": 1.215963,
     "end_time": "2024-03-03T10:43:12.877412",
     "exception": false,
     "start_time": "2024-03-03T10:43:11.661449",
     "status": "completed"
    },
    "tags": []
   },
   "outputs": [
    {
     "data": {
      "text/plain": [
       "torch.float32"
      ]
     },
     "execution_count": 12,
     "metadata": {},
     "output_type": "execute_result"
    }
   ],
   "source": [
    "temp = []\n",
    "model = BertModel.from_pretrained(\"bert-base-uncased\")\n",
    "\n",
    "for word in hate_words:\n",
    "    inputs = tokenizer(word, return_tensors=\"pt\")\n",
    "#     print(inputs)\n",
    "    outputs = model(**inputs)\n",
    "    outputs = torch.mean(outputs.last_hidden_state[0][1:len(outputs.last_hidden_state[0])], dim=0)\n",
    "    temp.append(outputs.tolist())\n",
    "\n",
    "# temp = temp[1:]\n",
    "# print(hate_space)\n",
    "# print(len(temp)) # => no. of words = no. of rows\n",
    "# print(len(temp[0])) # => no. of columns in each row = embedding vector size\n",
    "\n",
    "# hate_space = temp.clone().detach().requires_grad_(True)\n",
    "hate_space =torch.tensor(temp).to(device).requires_grad_()\n",
    "\n",
    "hate_space.is_leaf\n",
    "hate_space.dtype\n",
    "# hate_space\n",
    "# hate_space.requires_grad"
   ]
  },
  {
   "cell_type": "code",
   "execution_count": 13,
   "id": "b3e3e421",
   "metadata": {
    "execution": {
     "iopub.execute_input": "2024-03-03T10:43:12.898357Z",
     "iopub.status.busy": "2024-03-03T10:43:12.898067Z",
     "iopub.status.idle": "2024-03-03T10:43:13.674348Z",
     "shell.execute_reply": "2024-03-03T10:43:13.673210Z"
    },
    "papermill": {
     "duration": 0.789279,
     "end_time": "2024-03-03T10:43:13.676617",
     "exception": false,
     "start_time": "2024-03-03T10:43:12.887338",
     "status": "completed"
    },
    "tags": []
   },
   "outputs": [
    {
     "name": "stdout",
     "output_type": "stream",
     "text": [
      "True\n"
     ]
    }
   ],
   "source": [
    "temp = []\n",
    "model = BertModel.from_pretrained(\"bert-base-uncased\")\n",
    "\n",
    "# with torch.no_grad():\n",
    "for word in not_hate_words:\n",
    "    inputs = tokenizer(word, return_tensors=\"pt\")\n",
    "#     print(inputs)\n",
    "    outputs = model(**inputs)\n",
    "    outputs = torch.mean(outputs.last_hidden_state[0][1:len(outputs.last_hidden_state[0])], dim=0)\n",
    "    temp.append(outputs.tolist())\n",
    "\n",
    "# temp = temp[1:]\n",
    "# print(hate_space)\n",
    "# print(len(temp)) # => no. of words = no. of rows\n",
    "# print(len(temp[0])) # => no. of columns in each row = embedding vector size\n",
    "\n",
    "\n",
    "not_hate_space = torch.tensor(temp).to(device).requires_grad_()\n",
    "\n",
    "print(not_hate_space.is_leaf)\n",
    "\n",
    "# not_hate_space\n",
    "# not_hate_space.requires_grad"
   ]
  },
  {
   "cell_type": "code",
   "execution_count": 14,
   "id": "0b4f8901",
   "metadata": {
    "execution": {
     "iopub.execute_input": "2024-03-03T10:43:13.698941Z",
     "iopub.status.busy": "2024-03-03T10:43:13.698386Z",
     "iopub.status.idle": "2024-03-03T10:43:13.711650Z",
     "shell.execute_reply": "2024-03-03T10:43:13.710735Z"
    },
    "papermill": {
     "duration": 0.026163,
     "end_time": "2024-03-03T10:43:13.713743",
     "exception": false,
     "start_time": "2024-03-03T10:43:13.687580",
     "status": "completed"
    },
    "tags": []
   },
   "outputs": [
    {
     "name": "stdout",
     "output_type": "stream",
     "text": [
      "torch.Size([4, 768, 23])\n"
     ]
    },
    {
     "data": {
      "text/plain": [
       "torch.Size([4, 11, 23])"
      ]
     },
     "execution_count": 14,
     "metadata": {},
     "output_type": "execute_result"
    }
   ],
   "source": [
    "# Trial matmul\n",
    "\n",
    "t1 = torch.randn(11, 768)\n",
    "t2 = torch.randn(4, 23, 768)\n",
    "\n",
    "print(torch.transpose(t2, 1, 2).shape)\n",
    "\n",
    "torch.matmul(t1, torch.transpose(t2, 1, 2)).shape"
   ]
  },
  {
   "cell_type": "code",
   "execution_count": 15,
   "id": "a42b7323",
   "metadata": {
    "execution": {
     "iopub.execute_input": "2024-03-03T10:43:13.735287Z",
     "iopub.status.busy": "2024-03-03T10:43:13.735000Z",
     "iopub.status.idle": "2024-03-03T10:43:13.739536Z",
     "shell.execute_reply": "2024-03-03T10:43:13.738693Z"
    },
    "papermill": {
     "duration": 0.017291,
     "end_time": "2024-03-03T10:43:13.741619",
     "exception": false,
     "start_time": "2024-03-03T10:43:13.724328",
     "status": "completed"
    },
    "tags": []
   },
   "outputs": [
    {
     "name": "stdout",
     "output_type": "stream",
     "text": [
      "hate_space.grad: None\n",
      "not_hate_space.grad: None\n"
     ]
    }
   ],
   "source": [
    "print(\"hate_space.grad:\", hate_space.grad)\n",
    "print(\"not_hate_space.grad:\", not_hate_space.grad)"
   ]
  },
  {
   "cell_type": "code",
   "execution_count": 16,
   "id": "b56583ab",
   "metadata": {
    "execution": {
     "iopub.execute_input": "2024-03-03T10:43:13.762637Z",
     "iopub.status.busy": "2024-03-03T10:43:13.762347Z",
     "iopub.status.idle": "2024-03-03T10:43:13.768080Z",
     "shell.execute_reply": "2024-03-03T10:43:13.767214Z"
    },
    "papermill": {
     "duration": 0.018262,
     "end_time": "2024-03-03T10:43:13.769913",
     "exception": false,
     "start_time": "2024-03-03T10:43:13.751651",
     "status": "completed"
    },
    "tags": []
   },
   "outputs": [],
   "source": [
    "class Custom_Dataset(torch.utils.data.Dataset):\n",
    "    \n",
    "    def __init__(self, data, labels):\n",
    "        self.data = data\n",
    "        self.labels = labels\n",
    "        \n",
    "    def __getitem__(self, index: int) -> (torch.Tensor, int): # => (X, y)\n",
    "        \n",
    "        X = self.data[index]\n",
    "        y = self.labels[index]\n",
    "\n",
    "        return (X, y)\n",
    "    \n",
    "    \n",
    "    def __len__(self) -> int:\n",
    "        \n",
    "        return len(self.data)"
   ]
  },
  {
   "cell_type": "code",
   "execution_count": 17,
   "id": "ab978a0c",
   "metadata": {
    "execution": {
     "iopub.execute_input": "2024-03-03T10:43:13.791823Z",
     "iopub.status.busy": "2024-03-03T10:43:13.791470Z",
     "iopub.status.idle": "2024-03-03T10:43:14.867774Z",
     "shell.execute_reply": "2024-03-03T10:43:14.866510Z"
    },
    "papermill": {
     "duration": 1.089826,
     "end_time": "2024-03-03T10:43:14.869917",
     "exception": false,
     "start_time": "2024-03-03T10:43:13.780091",
     "status": "completed"
    },
    "tags": []
   },
   "outputs": [
    {
     "name": "stdout",
     "output_type": "stream",
     "text": [
      "19826 19826\n",
      "4957 4957\n"
     ]
    }
   ],
   "source": [
    "from sklearn.model_selection import train_test_split\n",
    "\n",
    "X_train, X_test, y_train, y_test = train_test_split(tweets, list(df.classk), test_size=0.2, shuffle=True)\n",
    "\n",
    "print(len(X_train), len(y_train))\n",
    "print(len(X_test), len(y_test))"
   ]
  },
  {
   "cell_type": "code",
   "execution_count": 18,
   "id": "44bf7e32",
   "metadata": {
    "execution": {
     "iopub.execute_input": "2024-03-03T10:43:14.892325Z",
     "iopub.status.busy": "2024-03-03T10:43:14.891497Z",
     "iopub.status.idle": "2024-03-03T10:43:14.897208Z",
     "shell.execute_reply": "2024-03-03T10:43:14.896334Z"
    },
    "papermill": {
     "duration": 0.018596,
     "end_time": "2024-03-03T10:43:14.899046",
     "exception": false,
     "start_time": "2024-03-03T10:43:14.880450",
     "status": "completed"
    },
    "tags": []
   },
   "outputs": [],
   "source": [
    "train_data = Custom_Dataset(data=X_train, labels=y_train)\n",
    "test_data = Custom_Dataset(data=X_test, labels=y_test)\n",
    "\n",
    "train_loader = torch.utils.data.DataLoader(dataset=train_data, batch_size=3, shuffle=True)\n",
    "test_loader = torch.utils.data.DataLoader(dataset=test_data, batch_size=1, shuffle=False)\n"
   ]
  },
  {
   "cell_type": "code",
   "execution_count": 19,
   "id": "f1a0fdb9",
   "metadata": {
    "execution": {
     "iopub.execute_input": "2024-03-03T10:43:14.921150Z",
     "iopub.status.busy": "2024-03-03T10:43:14.920846Z",
     "iopub.status.idle": "2024-03-03T10:43:14.927881Z",
     "shell.execute_reply": "2024-03-03T10:43:14.926606Z"
    },
    "papermill": {
     "duration": 0.021291,
     "end_time": "2024-03-03T10:43:14.930712",
     "exception": false,
     "start_time": "2024-03-03T10:43:14.909421",
     "status": "completed"
    },
    "tags": []
   },
   "outputs": [
    {
     "data": {
      "text/plain": [
       "[[0.7334505391540922],\n",
       " [0.9639288706936986],\n",
       " [0.9904389077476907],\n",
       " [0.23836832180003165],\n",
       " [-0.20956092472101506],\n",
       " [0.4108487257585165],\n",
       " [-0.806316274849916],\n",
       " [-0.5188282397948782],\n",
       " [0.07074709874099994],\n",
       " [0.2910703953056517],\n",
       " [0.04724768956072323]]"
      ]
     },
     "execution_count": 19,
     "metadata": {},
     "output_type": "execute_result"
    }
   ],
   "source": [
    "import random\n",
    "l=[[random.uniform(-1,1)] for i in range(11)]\n",
    "l"
   ]
  },
  {
   "cell_type": "code",
   "execution_count": 20,
   "id": "497e9ffd",
   "metadata": {
    "execution": {
     "iopub.execute_input": "2024-03-03T10:43:14.954294Z",
     "iopub.status.busy": "2024-03-03T10:43:14.953775Z",
     "iopub.status.idle": "2024-03-03T10:43:14.960043Z",
     "shell.execute_reply": "2024-03-03T10:43:14.959077Z"
    },
    "papermill": {
     "duration": 0.020035,
     "end_time": "2024-03-03T10:43:14.961986",
     "exception": false,
     "start_time": "2024-03-03T10:43:14.941951",
     "status": "completed"
    },
    "tags": []
   },
   "outputs": [
    {
     "name": "stdout",
     "output_type": "stream",
     "text": [
      "cuda:0 True\n"
     ]
    }
   ],
   "source": [
    "# next(iter(test_loader)) \n",
    "tensor_shape = (11,1)\n",
    "hate_space_weights = torch.tensor(l).to(device).requires_grad_()\n",
    "not_hate_space_weights = torch.tensor(l).to(device).requires_grad_()\n",
    "\n",
    "print(hate_space_weights.device,not_hate_space_weights.is_leaf)"
   ]
  },
  {
   "cell_type": "code",
   "execution_count": 21,
   "id": "7a830437",
   "metadata": {
    "execution": {
     "iopub.execute_input": "2024-03-03T10:43:14.984307Z",
     "iopub.status.busy": "2024-03-03T10:43:14.984044Z",
     "iopub.status.idle": "2024-03-03T10:43:14.989372Z",
     "shell.execute_reply": "2024-03-03T10:43:14.988571Z"
    },
    "papermill": {
     "duration": 0.018513,
     "end_time": "2024-03-03T10:43:14.991171",
     "exception": false,
     "start_time": "2024-03-03T10:43:14.972658",
     "status": "completed"
    },
    "tags": []
   },
   "outputs": [
    {
     "data": {
      "text/plain": [
       "True"
      ]
     },
     "execution_count": 21,
     "metadata": {},
     "output_type": "execute_result"
    }
   ],
   "source": [
    "hate_space_weights.is_leaf"
   ]
  },
  {
   "cell_type": "code",
   "execution_count": 22,
   "id": "5cefd7a9",
   "metadata": {
    "execution": {
     "iopub.execute_input": "2024-03-03T10:43:15.014349Z",
     "iopub.status.busy": "2024-03-03T10:43:15.014080Z",
     "iopub.status.idle": "2024-03-03T10:43:15.023572Z",
     "shell.execute_reply": "2024-03-03T10:43:15.022701Z"
    },
    "papermill": {
     "duration": 0.023352,
     "end_time": "2024-03-03T10:43:15.025620",
     "exception": false,
     "start_time": "2024-03-03T10:43:15.002268",
     "status": "completed"
    },
    "tags": []
   },
   "outputs": [],
   "source": [
    "import torch.nn.functional as F\n",
    "\n",
    "class Model0(nn.Module):\n",
    "\n",
    "    def __init__(self, model, tokenizer):\n",
    "        super().__init__()\n",
    "        self.tokenizer = tokenizer\n",
    "        self.model = model\n",
    "\n",
    "    def forward(self, X):\n",
    "        inputs = self.tokenizer(X, return_tensors=\"pt\").to(device)\n",
    "        outputs = self.model(**inputs)\n",
    "        outputs = outputs.last_hidden_state.mean(1).transpose(0, 1)\n",
    "\n",
    "        col_norms = torch.norm(outputs, p=2, dim=0, keepdim=True)\n",
    "        outputs = outputs / col_norms\n",
    "        \n",
    "        Psk_hate = torch.matmul(torch.matmul(hate_space/torch.norm(hate_space,p=2, dim=0, keepdim=True),outputs).transpose(0, 1), hate_space_weights)\n",
    "        Psk_not_hate = torch.matmul(torch.matmul(not_hate_space/torch.norm(not_hate_space,p=2, dim=0, keepdim=True),outputs).transpose(0, 1), not_hate_space_weights)\n",
    "\n",
    "        # Construct the output tensor with requires_grad=True (assuming Psk_hate and Psk_not_hate have gradients)\n",
    "        output_tensor = torch.cat((Psk_hate, Psk_not_hate), dim=0).requires_grad_()\n",
    "\n",
    "        return output_tensor\n"
   ]
  },
  {
   "cell_type": "code",
   "execution_count": 23,
   "id": "77559aa1",
   "metadata": {
    "execution": {
     "iopub.execute_input": "2024-03-03T10:43:15.048646Z",
     "iopub.status.busy": "2024-03-03T10:43:15.048376Z",
     "iopub.status.idle": "2024-03-03T10:43:15.052251Z",
     "shell.execute_reply": "2024-03-03T10:43:15.051416Z"
    },
    "papermill": {
     "duration": 0.017552,
     "end_time": "2024-03-03T10:43:15.054060",
     "exception": false,
     "start_time": "2024-03-03T10:43:15.036508",
     "status": "completed"
    },
    "tags": []
   },
   "outputs": [],
   "source": [
    "model0 = Model0(model, tokenizer)\n",
    "\n",
    "# X, y = next(iter(train_loader))\n",
    "# Psk_hate, Psk_not_hate = model0(X)"
   ]
  },
  {
   "cell_type": "markdown",
   "id": "f757ac05",
   "metadata": {
    "papermill": {
     "duration": 0.010496,
     "end_time": "2024-03-03T10:43:15.075477",
     "exception": false,
     "start_time": "2024-03-03T10:43:15.064981",
     "status": "completed"
    },
    "tags": []
   },
   "source": [
    "# Semi-SSM"
   ]
  },
  {
   "cell_type": "code",
   "execution_count": 24,
   "id": "e25f0c11",
   "metadata": {
    "execution": {
     "iopub.execute_input": "2024-03-03T10:43:15.098144Z",
     "iopub.status.busy": "2024-03-03T10:43:15.097896Z",
     "iopub.status.idle": "2024-03-03T10:43:15.105461Z",
     "shell.execute_reply": "2024-03-03T10:43:15.104610Z"
    },
    "papermill": {
     "duration": 0.021137,
     "end_time": "2024-03-03T10:43:15.107455",
     "exception": false,
     "start_time": "2024-03-03T10:43:15.086318",
     "status": "completed"
    },
    "tags": []
   },
   "outputs": [],
   "source": [
    "def L_inter(spaces):\n",
    "    \n",
    "    means = [torch.mean(spaces[i]) for i in range(spaces.shape[0])]\n",
    "    \n",
    "    loss = torch.tensor(0.0, requires_grad=True)\n",
    "    \n",
    "    for k in range(len(means)):\n",
    "        cur = torch.tensor(0.0, requires_grad=True)\n",
    "        for l in range(len(means)):\n",
    "            if l == k:\n",
    "                continue\n",
    "            cur = cur + (1 / (1 - ((means[k] * means[l]))))\n",
    "        \n",
    "        loss = loss + cur\n",
    "    \n",
    "    return loss\n",
    "            \n",
    "            \n",
    "\n",
    "def L_intra(spaces):\n",
    "    loss=torch.tensor(0.0, requires_grad=True)\n",
    "    for k in range(len(spaces)):\n",
    "        loss=loss+1/torch.var(spaces[k], dim=0)\n",
    "    \n",
    "    return torch.sum(loss)/loss.shape[0]\n",
    "\n",
    "\n"
   ]
  },
  {
   "cell_type": "code",
   "execution_count": 25,
   "id": "9e8a4db9",
   "metadata": {
    "execution": {
     "iopub.execute_input": "2024-03-03T10:43:15.130445Z",
     "iopub.status.busy": "2024-03-03T10:43:15.130199Z",
     "iopub.status.idle": "2024-03-03T10:43:15.148953Z",
     "shell.execute_reply": "2024-03-03T10:43:15.148109Z"
    },
    "papermill": {
     "duration": 0.032402,
     "end_time": "2024-03-03T10:43:15.150840",
     "exception": false,
     "start_time": "2024-03-03T10:43:15.118438",
     "status": "completed"
    },
    "tags": []
   },
   "outputs": [
    {
     "data": {
      "text/plain": [
       "tensor(33.6994, grad_fn=<AddBackward0>)"
      ]
     },
     "execution_count": 25,
     "metadata": {},
     "output_type": "execute_result"
    }
   ],
   "source": [
    "L_inter(torch.concat((torch.tensor([[0.33, 0.54, 0.37], [0.72, 0.74, 0.31], [0.61, 0.26, 0.56]], dtype=torch.float32), \n",
    "       torch.tensor([[0.22, 0.32, 0.15], [0.12, -0.08, 0.45], [0.14, 0.28, -0.11]], dtype=torch.float32))))"
   ]
  },
  {
   "cell_type": "code",
   "execution_count": 26,
   "id": "312b15db",
   "metadata": {
    "execution": {
     "iopub.execute_input": "2024-03-03T10:43:15.174193Z",
     "iopub.status.busy": "2024-03-03T10:43:15.173930Z",
     "iopub.status.idle": "2024-03-03T10:43:15.177360Z",
     "shell.execute_reply": "2024-03-03T10:43:15.176540Z"
    },
    "papermill": {
     "duration": 0.017207,
     "end_time": "2024-03-03T10:43:15.179208",
     "exception": false,
     "start_time": "2024-03-03T10:43:15.162001",
     "status": "completed"
    },
    "tags": []
   },
   "outputs": [],
   "source": [
    "# temp = torch.tensor(10.3, requires_grad=True)\n",
    "\n",
    "# temp"
   ]
  },
  {
   "cell_type": "code",
   "execution_count": 27,
   "id": "c3237c65",
   "metadata": {
    "_kg_hide-input": true,
    "execution": {
     "iopub.execute_input": "2024-03-03T10:43:15.203082Z",
     "iopub.status.busy": "2024-03-03T10:43:15.202739Z",
     "iopub.status.idle": "2024-03-03T10:43:15.206557Z",
     "shell.execute_reply": "2024-03-03T10:43:15.205708Z"
    },
    "papermill": {
     "duration": 0.017852,
     "end_time": "2024-03-03T10:43:15.208530",
     "exception": false,
     "start_time": "2024-03-03T10:43:15.190678",
     "status": "completed"
    },
    "tags": []
   },
   "outputs": [],
   "source": [
    "# res = [temp, temp]\n",
    "\n",
    "# loss = 0\n",
    "\n",
    "# loss += res[0] * res[1]\n",
    "\n",
    "# loss"
   ]
  },
  {
   "cell_type": "code",
   "execution_count": 28,
   "id": "3d8785e1",
   "metadata": {
    "execution": {
     "iopub.execute_input": "2024-03-03T10:43:15.232568Z",
     "iopub.status.busy": "2024-03-03T10:43:15.232307Z",
     "iopub.status.idle": "2024-03-03T10:43:15.481237Z",
     "shell.execute_reply": "2024-03-03T10:43:15.479912Z"
    },
    "papermill": {
     "duration": 0.263215,
     "end_time": "2024-03-03T10:43:15.483314",
     "exception": false,
     "start_time": "2024-03-03T10:43:15.220099",
     "status": "completed"
    },
    "tags": []
   },
   "outputs": [
    {
     "name": "stdout",
     "output_type": "stream",
     "text": [
      "tensor([[ 0.8009,  0.2601,  0.2316,  ...,  0.0455,  0.0118, -0.0370],\n",
      "        [ 0.1845, -0.0866,  0.1542,  ..., -0.2302, -0.3558, -0.2348],\n",
      "        [ 0.6341,  0.0180, -0.3330,  ...,  0.1851, -0.3067, -0.4023],\n",
      "        ...,\n",
      "        [ 0.8014,  0.2637,  0.2895,  ...,  0.1221,  0.1728, -0.4732],\n",
      "        [ 0.5409,  0.4092, -0.2325,  ...,  0.1790, -0.2709, -0.0346],\n",
      "        [ 0.5508,  0.1983,  0.0521,  ...,  0.3905, -0.0753, -0.5880]],\n",
      "       device='cuda:0', requires_grad=True) tensor([[ 0.5933,  0.2685, -0.0267,  ..., -0.4845, -0.4192, -0.3698],\n",
      "        [ 0.2493,  0.1343, -0.1606,  ..., -0.1305, -0.3765, -0.3898],\n",
      "        [ 0.0551, -0.1996, -0.1785,  ..., -0.0520, -0.1908, -0.2057],\n",
      "        ...,\n",
      "        [ 0.2502, -0.2729, -0.2597,  ...,  0.1696, -0.5105, -0.0785],\n",
      "        [ 0.2900, -0.2058, -0.1541,  ..., -0.0185, -0.5686,  0.0864],\n",
      "        [ 0.2823, -0.0846, -0.1393,  ...,  0.1534, -0.2074, -0.2804]],\n",
      "       device='cuda:0', requires_grad=True)\n"
     ]
    }
   ],
   "source": [
    "print(hate_space,not_hate_space)"
   ]
  },
  {
   "cell_type": "code",
   "execution_count": 29,
   "id": "dac7ee21",
   "metadata": {
    "execution": {
     "iopub.execute_input": "2024-03-03T10:43:15.509191Z",
     "iopub.status.busy": "2024-03-03T10:43:15.508846Z",
     "iopub.status.idle": "2024-03-03T10:43:15.516657Z",
     "shell.execute_reply": "2024-03-03T10:43:15.515639Z"
    },
    "papermill": {
     "duration": 0.023372,
     "end_time": "2024-03-03T10:43:15.518759",
     "exception": false,
     "start_time": "2024-03-03T10:43:15.495387",
     "status": "completed"
    },
    "tags": []
   },
   "outputs": [
    {
     "name": "stdout",
     "output_type": "stream",
     "text": [
      "tensor([[ 0.7335],\n",
      "        [ 0.9639],\n",
      "        [ 0.9904],\n",
      "        [ 0.2384],\n",
      "        [-0.2096],\n",
      "        [ 0.4108],\n",
      "        [-0.8063],\n",
      "        [-0.5188],\n",
      "        [ 0.0707],\n",
      "        [ 0.2911],\n",
      "        [ 0.0472]], device='cuda:0', requires_grad=True) tensor([[ 0.7335],\n",
      "        [ 0.9639],\n",
      "        [ 0.9904],\n",
      "        [ 0.2384],\n",
      "        [-0.2096],\n",
      "        [ 0.4108],\n",
      "        [-0.8063],\n",
      "        [-0.5188],\n",
      "        [ 0.0707],\n",
      "        [ 0.2911],\n",
      "        [ 0.0472]], device='cuda:0', requires_grad=True)\n"
     ]
    }
   ],
   "source": [
    "print(hate_space_weights,not_hate_space_weights)"
   ]
  },
  {
   "cell_type": "code",
   "execution_count": 30,
   "id": "fd9ce4ac",
   "metadata": {
    "execution": {
     "iopub.execute_input": "2024-03-03T10:43:15.544712Z",
     "iopub.status.busy": "2024-03-03T10:43:15.544410Z",
     "iopub.status.idle": "2024-03-03T11:35:41.767171Z",
     "shell.execute_reply": "2024-03-03T11:35:41.766221Z"
    },
    "papermill": {
     "duration": 3146.251444,
     "end_time": "2024-03-03T11:35:41.782491",
     "exception": false,
     "start_time": "2024-03-03T10:43:15.531047",
     "status": "completed"
    },
    "tags": []
   },
   "outputs": [
    {
     "name": "stdout",
     "output_type": "stream",
     "text": [
      "True\n",
      "0\n",
      "2000\n",
      "4000\n",
      "6000\n",
      "Test Accuracy: 0.875\n",
      "Test Accuracy: 0.875\n",
      "0\n",
      "2000\n",
      "4000\n",
      "6000\n",
      "Test Accuracy: 0.8740000128746033\n",
      "Test Accuracy: 0.8740000128746033\n",
      "0\n",
      "2000\n",
      "4000\n",
      "6000\n",
      "Test Accuracy: 0.8859999775886536\n",
      "Test Accuracy: 0.8859999775886536\n"
     ]
    }
   ],
   "source": [
    "model0.to(device)\n",
    "# hate_space = hate_space.to(device)\n",
    "# not_hate_space = not_hate_space.to(device)\n",
    "# hate_space_weights = hate_space_weights.to(device)\n",
    "# not_hate_space_weights = not_hate_space_weights.to(device)\n",
    "print(hate_space.is_leaf)\n",
    "optimizer = torch.optim.Adam(params=[hate_space, not_hate_space, hate_space_weights, not_hate_space_weights], lr=0.01)\n",
    "model0.train()\n",
    "#criterion = nn.CrossEntropyLoss()\n",
    "model0.train()\n",
    "# with torch.inference_mode():\n",
    "cur=0.1\n",
    "prev=0\n",
    "pprev=0\n",
    "for _ in range(3) :\n",
    "    for i, batch in enumerate(train_loader):\n",
    "#         if i == 1:\n",
    "#             break\n",
    "        if i % 2000 == 0:\n",
    "            print(i)\n",
    "\n",
    "        x, Y = batch\n",
    "        loss = 0\n",
    "\n",
    "        for X, y in zip(x, Y):\n",
    "            y_preds = model0(X)\n",
    "#             print(y_preds)\n",
    "\n",
    "            # Use long instead of float for target labels\n",
    "            #print(hate_space.requires_grad)\n",
    "#             print(y)\n",
    "#             target = torch.tensor([y,1-y]).long().to(device)\n",
    "# #             print(target)\n",
    "#             loss += F.binary_cross_entropy_with_logits(y_preds.squeeze(), target.float())\n",
    "            loss+=F.cross_entropy(y_preds.view(1, -1).to(device), torch.tensor([y]).to(device))\n",
    "            #loss=torch.sum(y_preds)\n",
    "#             print(loss)\n",
    "        loss /= len(x)\n",
    "        loss += 0.7*L_inter(torch.cat((hate_space, not_hate_space))) + 0.5*L_intra(torch.stack([hate_space, not_hate_space]))\n",
    "            \n",
    "        optimizer.zero_grad()\n",
    "#         print(\"Before backward pass:\")\n",
    "#         print(\"hate_space.grad:\", hate_space.grad)\n",
    "#         print(\"not_hate_space.grad:\", not_hate_space.grad)\n",
    "        loss.backward()\n",
    "        optimizer.step()\n",
    "#         print(\"\\nAfter backward pass:\")\n",
    "#         print(\"hate_space.grad:\", hate_space.grad)\n",
    "#         print(\"not_hate_space.grad:\", not_hate_space.grad)\n",
    "#         print(not_hate_space_weights.grad)\n",
    "    correct = 0\n",
    "    total = 1000\n",
    "\n",
    "    true = []\n",
    "    preds = []\n",
    "\n",
    "    with torch.inference_mode():\n",
    "        for i, batch in enumerate(test_loader):\n",
    "            if i // 1000 == 1:\n",
    "                break\n",
    "            X, y = batch\n",
    "            Psk_hate, Psk_not_hate = model0(X)\n",
    "\n",
    "            y_predict = torch.argmax(torch.tensor([Psk_hate.mean().item(), Psk_not_hate.mean().item()]))\n",
    "\n",
    "            true.extend(y)\n",
    "            preds.append(y_predict)\n",
    "\n",
    "            curr = torch.eq(y_predict, y)\n",
    "\n",
    "            correct += torch.sum(curr)\n",
    "\n",
    "    print(f\"Test Accuracy: {correct/total}\")\n",
    "    pprev=prev\n",
    "    prev=cur\n",
    "    cur=correct/total\n",
    "    print(f\"Test Accuracy: {torch.sum(torch.eq(torch.tensor(true), torch.tensor(preds))) / total}\")  \n",
    "\n",
    "\n"
   ]
  },
  {
   "cell_type": "code",
   "execution_count": 31,
   "id": "78bc5264",
   "metadata": {
    "execution": {
     "iopub.execute_input": "2024-03-03T11:35:41.810980Z",
     "iopub.status.busy": "2024-03-03T11:35:41.810171Z",
     "iopub.status.idle": "2024-03-03T11:35:41.818782Z",
     "shell.execute_reply": "2024-03-03T11:35:41.817733Z"
    },
    "papermill": {
     "duration": 0.024688,
     "end_time": "2024-03-03T11:35:41.820638",
     "exception": false,
     "start_time": "2024-03-03T11:35:41.795950",
     "status": "completed"
    },
    "tags": []
   },
   "outputs": [
    {
     "name": "stdout",
     "output_type": "stream",
     "text": [
      "tensor([[ 0.7345],\n",
      "        [ 1.9713],\n",
      "        [ 1.9825],\n",
      "        [ 0.9015],\n",
      "        [-0.1902],\n",
      "        [ 0.6732],\n",
      "        [-2.2366],\n",
      "        [-0.5141],\n",
      "        [ 0.5536],\n",
      "        [ 1.1785],\n",
      "        [-0.0204]], device='cuda:0', requires_grad=True) tensor([[ 1.6272],\n",
      "        [ 1.7508],\n",
      "        [ 2.0449],\n",
      "        [ 0.0073],\n",
      "        [-0.9467],\n",
      "        [ 0.4874],\n",
      "        [-2.3485],\n",
      "        [-1.5678],\n",
      "        [-0.4271],\n",
      "        [ 0.5754],\n",
      "        [-0.4198]], device='cuda:0', requires_grad=True)\n"
     ]
    }
   ],
   "source": [
    "print(hate_space_weights,not_hate_space_weights)"
   ]
  },
  {
   "cell_type": "code",
   "execution_count": 32,
   "id": "71a8eacc",
   "metadata": {
    "execution": {
     "iopub.execute_input": "2024-03-03T11:35:41.847791Z",
     "iopub.status.busy": "2024-03-03T11:35:41.847498Z",
     "iopub.status.idle": "2024-03-03T11:35:41.856242Z",
     "shell.execute_reply": "2024-03-03T11:35:41.855280Z"
    },
    "papermill": {
     "duration": 0.024465,
     "end_time": "2024-03-03T11:35:41.858142",
     "exception": false,
     "start_time": "2024-03-03T11:35:41.833677",
     "status": "completed"
    },
    "tags": []
   },
   "outputs": [
    {
     "name": "stdout",
     "output_type": "stream",
     "text": [
      "tensor([[ 0.4803,  0.2057,  1.3476,  ..., -2.3622, -0.0763,  0.2768],\n",
      "        [-1.4151, -1.0532,  1.1992,  ..., -2.9778, -1.5113, -0.3248],\n",
      "        [-0.0334, -0.8115,  0.2044,  ..., -1.7865, -1.4128, -1.1949],\n",
      "        ...,\n",
      "        [ 0.6699,  0.6601,  1.9514,  ..., -0.6066,  0.6660, -2.6002],\n",
      "        [-2.3129,  0.7285, -0.5741,  ..., -1.2018, -3.2721,  0.2426],\n",
      "        [ 2.4585,  2.2479,  2.3060,  ...,  0.6918,  1.1279, -1.6171]],\n",
      "       device='cuda:0', requires_grad=True) tensor([[  2.6559,   1.8290,  -0.9458,  ...,   2.0247,  -1.5178,  -4.4388],\n",
      "        [  0.9405,   1.2038,  -1.4698,  ...,   3.7502,   4.9180,  -2.1707],\n",
      "        [  0.2732,  -1.2368,  -2.0090,  ...,   6.4301,   1.8691,   0.1994],\n",
      "        ...,\n",
      "        [-16.6772,  -2.1928,  -1.9449,  ...,  -2.6234,  -5.7503,  13.9322],\n",
      "        [ -0.7610,  -5.7348,  -0.5972,  ...,   5.6868,  -0.6098,   2.1769],\n",
      "        [-14.2699,  -5.2073,   5.6502,  ...,  -0.1315,   2.4860,  -5.7929]],\n",
      "       device='cuda:0', requires_grad=True)\n"
     ]
    }
   ],
   "source": [
    "print(hate_space,not_hate_space)"
   ]
  },
  {
   "cell_type": "code",
   "execution_count": 33,
   "id": "09cd373e",
   "metadata": {
    "execution": {
     "iopub.execute_input": "2024-03-03T11:35:41.885965Z",
     "iopub.status.busy": "2024-03-03T11:35:41.885559Z",
     "iopub.status.idle": "2024-03-03T11:35:41.891512Z",
     "shell.execute_reply": "2024-03-03T11:35:41.890736Z"
    },
    "papermill": {
     "duration": 0.022283,
     "end_time": "2024-03-03T11:35:41.893335",
     "exception": false,
     "start_time": "2024-03-03T11:35:41.871052",
     "status": "completed"
    },
    "tags": []
   },
   "outputs": [
    {
     "data": {
      "text/plain": [
       "torch.Size([22, 768])"
      ]
     },
     "execution_count": 33,
     "metadata": {},
     "output_type": "execute_result"
    }
   ],
   "source": [
    "torch.concat((hate_space, not_hate_space)).shape"
   ]
  },
  {
   "cell_type": "code",
   "execution_count": 34,
   "id": "3aa9ff4f",
   "metadata": {
    "execution": {
     "iopub.execute_input": "2024-03-03T11:35:41.920789Z",
     "iopub.status.busy": "2024-03-03T11:35:41.920514Z",
     "iopub.status.idle": "2024-03-03T11:36:30.740292Z",
     "shell.execute_reply": "2024-03-03T11:36:30.739369Z"
    },
    "papermill": {
     "duration": 48.849124,
     "end_time": "2024-03-03T11:36:30.755741",
     "exception": false,
     "start_time": "2024-03-03T11:35:41.906617",
     "status": "completed"
    },
    "tags": []
   },
   "outputs": [
    {
     "name": "stdout",
     "output_type": "stream",
     "text": [
      "Test Accuracy: 0.8882388472557068\n",
      "Test Accuracy: 0.8882388472557068\n"
     ]
    }
   ],
   "source": [
    "correct = 0\n",
    "total = len(y_test)\n",
    "\n",
    "true = []\n",
    "preds = []\n",
    "\n",
    "with torch.inference_mode():\n",
    "    for i, batch in enumerate(test_loader):\n",
    "        if i < 1000 == 0:\n",
    "            pass\n",
    "        X, y = batch\n",
    "        Psk_hate, Psk_not_hate = model0(X)\n",
    "\n",
    "        y_predict = torch.argmax(torch.tensor([Psk_hate.mean().item(), Psk_not_hate.mean().item()]))\n",
    "\n",
    "        true.extend(y)\n",
    "        preds.append(y_predict)\n",
    "\n",
    "        cur = torch.eq(y_predict, y)\n",
    "\n",
    "        correct += torch.sum(cur)\n",
    "\n",
    "print(f\"Test Accuracy: {correct/total}\")\n",
    "print(f\"Test Accuracy: {torch.sum(torch.eq(torch.tensor(true), torch.tensor(preds))) / total}\")       "
   ]
  },
  {
   "cell_type": "code",
   "execution_count": 35,
   "id": "edabd22d",
   "metadata": {
    "execution": {
     "iopub.execute_input": "2024-03-03T11:36:30.784098Z",
     "iopub.status.busy": "2024-03-03T11:36:30.783515Z",
     "iopub.status.idle": "2024-03-03T11:36:31.306499Z",
     "shell.execute_reply": "2024-03-03T11:36:31.305396Z"
    },
    "papermill": {
     "duration": 0.539559,
     "end_time": "2024-03-03T11:36:31.308838",
     "exception": false,
     "start_time": "2024-03-03T11:36:30.769279",
     "status": "completed"
    },
    "tags": []
   },
   "outputs": [
    {
     "name": "stdout",
     "output_type": "stream",
     "text": [
      "0.8361480613495106\n",
      "0.7236777389277389\n"
     ]
    }
   ],
   "source": [
    "from sklearn.metrics import precision_score, recall_score\n",
    "\n",
    "print(precision_score(y_test, preds, average='macro'))\n",
    "print(recall_score(y_test, preds, average='macro'))"
   ]
  }
 ],
 "metadata": {
  "kaggle": {
   "accelerator": "gpu",
   "dataSources": [
    {
     "datasetId": 4384787,
     "sourceId": 7528128,
     "sourceType": "datasetVersion"
    }
   ],
   "dockerImageVersionId": 30648,
   "isGpuEnabled": true,
   "isInternetEnabled": true,
   "language": "python",
   "sourceType": "notebook"
  },
  "kernelspec": {
   "display_name": "Python 3",
   "language": "python",
   "name": "python3"
  },
  "language_info": {
   "codemirror_mode": {
    "name": "ipython",
    "version": 3
   },
   "file_extension": ".py",
   "mimetype": "text/x-python",
   "name": "python",
   "nbconvert_exporter": "python",
   "pygments_lexer": "ipython3",
   "version": "3.10.13"
  },
  "papermill": {
   "default_parameters": {},
   "duration": 3217.744948,
   "end_time": "2024-03-03T11:36:33.623275",
   "environment_variables": {},
   "exception": null,
   "input_path": "__notebook__.ipynb",
   "output_path": "__notebook__.ipynb",
   "parameters": {},
   "start_time": "2024-03-03T10:42:55.878327",
   "version": "2.5.0"
  },
  "widgets": {
   "application/vnd.jupyter.widget-state+json": {
    "state": {
     "0ed0527b96ad46a39a0c38b91ed81843": {
      "model_module": "@jupyter-widgets/base",
      "model_module_version": "1.2.0",
      "model_name": "LayoutModel",
      "state": {
       "_model_module": "@jupyter-widgets/base",
       "_model_module_version": "1.2.0",
       "_model_name": "LayoutModel",
       "_view_count": null,
       "_view_module": "@jupyter-widgets/base",
       "_view_module_version": "1.2.0",
       "_view_name": "LayoutView",
       "align_content": null,
       "align_items": null,
       "align_self": null,
       "border": null,
       "bottom": null,
       "display": null,
       "flex": null,
       "flex_flow": null,
       "grid_area": null,
       "grid_auto_columns": null,
       "grid_auto_flow": null,
       "grid_auto_rows": null,
       "grid_column": null,
       "grid_gap": null,
       "grid_row": null,
       "grid_template_areas": null,
       "grid_template_columns": null,
       "grid_template_rows": null,
       "height": null,
       "justify_content": null,
       "justify_items": null,
       "left": null,
       "margin": null,
       "max_height": null,
       "max_width": null,
       "min_height": null,
       "min_width": null,
       "object_fit": null,
       "object_position": null,
       "order": null,
       "overflow": null,
       "overflow_x": null,
       "overflow_y": null,
       "padding": null,
       "right": null,
       "top": null,
       "visibility": null,
       "width": null
      }
     },
     "15efd558321e48de89e7d89b3a9e7350": {
      "model_module": "@jupyter-widgets/controls",
      "model_module_version": "1.5.0",
      "model_name": "DescriptionStyleModel",
      "state": {
       "_model_module": "@jupyter-widgets/controls",
       "_model_module_version": "1.5.0",
       "_model_name": "DescriptionStyleModel",
       "_view_count": null,
       "_view_module": "@jupyter-widgets/base",
       "_view_module_version": "1.2.0",
       "_view_name": "StyleView",
       "description_width": ""
      }
     },
     "17bafe0762c243f7977ef717bdaa030e": {
      "model_module": "@jupyter-widgets/controls",
      "model_module_version": "1.5.0",
      "model_name": "DescriptionStyleModel",
      "state": {
       "_model_module": "@jupyter-widgets/controls",
       "_model_module_version": "1.5.0",
       "_model_name": "DescriptionStyleModel",
       "_view_count": null,
       "_view_module": "@jupyter-widgets/base",
       "_view_module_version": "1.2.0",
       "_view_name": "StyleView",
       "description_width": ""
      }
     },
     "1a8b8aa4cb1149009e0d9e64b23fe914": {
      "model_module": "@jupyter-widgets/controls",
      "model_module_version": "1.5.0",
      "model_name": "HTMLModel",
      "state": {
       "_dom_classes": [],
       "_model_module": "@jupyter-widgets/controls",
       "_model_module_version": "1.5.0",
       "_model_name": "HTMLModel",
       "_view_count": null,
       "_view_module": "@jupyter-widgets/controls",
       "_view_module_version": "1.5.0",
       "_view_name": "HTMLView",
       "description": "",
       "description_tooltip": null,
       "layout": "IPY_MODEL_265539d8c2464e21a548788bbb025c15",
       "placeholder": "​",
       "style": "IPY_MODEL_62d5c8e13fd04b318bb6c7d6a37df8a0",
       "value": " 48.0/48.0 [00:00&lt;00:00, 4.03kB/s]"
      }
     },
     "21b7ad21b35941d1b11e9622c2166cbf": {
      "model_module": "@jupyter-widgets/base",
      "model_module_version": "1.2.0",
      "model_name": "LayoutModel",
      "state": {
       "_model_module": "@jupyter-widgets/base",
       "_model_module_version": "1.2.0",
       "_model_name": "LayoutModel",
       "_view_count": null,
       "_view_module": "@jupyter-widgets/base",
       "_view_module_version": "1.2.0",
       "_view_name": "LayoutView",
       "align_content": null,
       "align_items": null,
       "align_self": null,
       "border": null,
       "bottom": null,
       "display": null,
       "flex": null,
       "flex_flow": null,
       "grid_area": null,
       "grid_auto_columns": null,
       "grid_auto_flow": null,
       "grid_auto_rows": null,
       "grid_column": null,
       "grid_gap": null,
       "grid_row": null,
       "grid_template_areas": null,
       "grid_template_columns": null,
       "grid_template_rows": null,
       "height": null,
       "justify_content": null,
       "justify_items": null,
       "left": null,
       "margin": null,
       "max_height": null,
       "max_width": null,
       "min_height": null,
       "min_width": null,
       "object_fit": null,
       "object_position": null,
       "order": null,
       "overflow": null,
       "overflow_x": null,
       "overflow_y": null,
       "padding": null,
       "right": null,
       "top": null,
       "visibility": null,
       "width": null
      }
     },
     "265539d8c2464e21a548788bbb025c15": {
      "model_module": "@jupyter-widgets/base",
      "model_module_version": "1.2.0",
      "model_name": "LayoutModel",
      "state": {
       "_model_module": "@jupyter-widgets/base",
       "_model_module_version": "1.2.0",
       "_model_name": "LayoutModel",
       "_view_count": null,
       "_view_module": "@jupyter-widgets/base",
       "_view_module_version": "1.2.0",
       "_view_name": "LayoutView",
       "align_content": null,
       "align_items": null,
       "align_self": null,
       "border": null,
       "bottom": null,
       "display": null,
       "flex": null,
       "flex_flow": null,
       "grid_area": null,
       "grid_auto_columns": null,
       "grid_auto_flow": null,
       "grid_auto_rows": null,
       "grid_column": null,
       "grid_gap": null,
       "grid_row": null,
       "grid_template_areas": null,
       "grid_template_columns": null,
       "grid_template_rows": null,
       "height": null,
       "justify_content": null,
       "justify_items": null,
       "left": null,
       "margin": null,
       "max_height": null,
       "max_width": null,
       "min_height": null,
       "min_width": null,
       "object_fit": null,
       "object_position": null,
       "order": null,
       "overflow": null,
       "overflow_x": null,
       "overflow_y": null,
       "padding": null,
       "right": null,
       "top": null,
       "visibility": null,
       "width": null
      }
     },
     "2d9679badbc6424c90b6cbce6c5043bf": {
      "model_module": "@jupyter-widgets/controls",
      "model_module_version": "1.5.0",
      "model_name": "FloatProgressModel",
      "state": {
       "_dom_classes": [],
       "_model_module": "@jupyter-widgets/controls",
       "_model_module_version": "1.5.0",
       "_model_name": "FloatProgressModel",
       "_view_count": null,
       "_view_module": "@jupyter-widgets/controls",
       "_view_module_version": "1.5.0",
       "_view_name": "ProgressView",
       "bar_style": "success",
       "description": "",
       "description_tooltip": null,
       "layout": "IPY_MODEL_a6c51de194764d93b8a58858a646c47f",
       "max": 570.0,
       "min": 0.0,
       "orientation": "horizontal",
       "style": "IPY_MODEL_b2b61a5aa9964c9e96023c832af25423",
       "value": 570.0
      }
     },
     "35423bc13f7a4b0f9a379b5c8786a026": {
      "model_module": "@jupyter-widgets/controls",
      "model_module_version": "1.5.0",
      "model_name": "HBoxModel",
      "state": {
       "_dom_classes": [],
       "_model_module": "@jupyter-widgets/controls",
       "_model_module_version": "1.5.0",
       "_model_name": "HBoxModel",
       "_view_count": null,
       "_view_module": "@jupyter-widgets/controls",
       "_view_module_version": "1.5.0",
       "_view_name": "HBoxView",
       "box_style": "",
       "children": [
        "IPY_MODEL_653e1ac467d34b62a1ea7a78cd26e853",
        "IPY_MODEL_d54f864cbbce442f9989fdde53a6aea7",
        "IPY_MODEL_b6cadb682c674a45845b2f9bc38e67ec"
       ],
       "layout": "IPY_MODEL_abb757cc085e4ad5b38e2d4f99810ee9"
      }
     },
     "3a967f71bc1b4dc68ec6d7e9b1f92d79": {
      "model_module": "@jupyter-widgets/base",
      "model_module_version": "1.2.0",
      "model_name": "LayoutModel",
      "state": {
       "_model_module": "@jupyter-widgets/base",
       "_model_module_version": "1.2.0",
       "_model_name": "LayoutModel",
       "_view_count": null,
       "_view_module": "@jupyter-widgets/base",
       "_view_module_version": "1.2.0",
       "_view_name": "LayoutView",
       "align_content": null,
       "align_items": null,
       "align_self": null,
       "border": null,
       "bottom": null,
       "display": null,
       "flex": null,
       "flex_flow": null,
       "grid_area": null,
       "grid_auto_columns": null,
       "grid_auto_flow": null,
       "grid_auto_rows": null,
       "grid_column": null,
       "grid_gap": null,
       "grid_row": null,
       "grid_template_areas": null,
       "grid_template_columns": null,
       "grid_template_rows": null,
       "height": null,
       "justify_content": null,
       "justify_items": null,
       "left": null,
       "margin": null,
       "max_height": null,
       "max_width": null,
       "min_height": null,
       "min_width": null,
       "object_fit": null,
       "object_position": null,
       "order": null,
       "overflow": null,
       "overflow_x": null,
       "overflow_y": null,
       "padding": null,
       "right": null,
       "top": null,
       "visibility": null,
       "width": null
      }
     },
     "3c7b80ec56bf4f43a51d5e5d03cea860": {
      "model_module": "@jupyter-widgets/base",
      "model_module_version": "1.2.0",
      "model_name": "LayoutModel",
      "state": {
       "_model_module": "@jupyter-widgets/base",
       "_model_module_version": "1.2.0",
       "_model_name": "LayoutModel",
       "_view_count": null,
       "_view_module": "@jupyter-widgets/base",
       "_view_module_version": "1.2.0",
       "_view_name": "LayoutView",
       "align_content": null,
       "align_items": null,
       "align_self": null,
       "border": null,
       "bottom": null,
       "display": null,
       "flex": null,
       "flex_flow": null,
       "grid_area": null,
       "grid_auto_columns": null,
       "grid_auto_flow": null,
       "grid_auto_rows": null,
       "grid_column": null,
       "grid_gap": null,
       "grid_row": null,
       "grid_template_areas": null,
       "grid_template_columns": null,
       "grid_template_rows": null,
       "height": null,
       "justify_content": null,
       "justify_items": null,
       "left": null,
       "margin": null,
       "max_height": null,
       "max_width": null,
       "min_height": null,
       "min_width": null,
       "object_fit": null,
       "object_position": null,
       "order": null,
       "overflow": null,
       "overflow_x": null,
       "overflow_y": null,
       "padding": null,
       "right": null,
       "top": null,
       "visibility": null,
       "width": null
      }
     },
     "4860cb49628e451aa261431bb8db0c85": {
      "model_module": "@jupyter-widgets/controls",
      "model_module_version": "1.5.0",
      "model_name": "HBoxModel",
      "state": {
       "_dom_classes": [],
       "_model_module": "@jupyter-widgets/controls",
       "_model_module_version": "1.5.0",
       "_model_name": "HBoxModel",
       "_view_count": null,
       "_view_module": "@jupyter-widgets/controls",
       "_view_module_version": "1.5.0",
       "_view_name": "HBoxView",
       "box_style": "",
       "children": [
        "IPY_MODEL_f273da5356a94a7bb8355b72d1184d17",
        "IPY_MODEL_d50e9d8e2e094c6c92a7f22e4f40ed1c",
        "IPY_MODEL_7eb4b85184f244d184ed6cd4d1ec8d86"
       ],
       "layout": "IPY_MODEL_c35dbbac5fcb498391b2ccbed9d5aa59"
      }
     },
     "48f315823f1743af90ab21997583efdb": {
      "model_module": "@jupyter-widgets/base",
      "model_module_version": "1.2.0",
      "model_name": "LayoutModel",
      "state": {
       "_model_module": "@jupyter-widgets/base",
       "_model_module_version": "1.2.0",
       "_model_name": "LayoutModel",
       "_view_count": null,
       "_view_module": "@jupyter-widgets/base",
       "_view_module_version": "1.2.0",
       "_view_name": "LayoutView",
       "align_content": null,
       "align_items": null,
       "align_self": null,
       "border": null,
       "bottom": null,
       "display": null,
       "flex": null,
       "flex_flow": null,
       "grid_area": null,
       "grid_auto_columns": null,
       "grid_auto_flow": null,
       "grid_auto_rows": null,
       "grid_column": null,
       "grid_gap": null,
       "grid_row": null,
       "grid_template_areas": null,
       "grid_template_columns": null,
       "grid_template_rows": null,
       "height": null,
       "justify_content": null,
       "justify_items": null,
       "left": null,
       "margin": null,
       "max_height": null,
       "max_width": null,
       "min_height": null,
       "min_width": null,
       "object_fit": null,
       "object_position": null,
       "order": null,
       "overflow": null,
       "overflow_x": null,
       "overflow_y": null,
       "padding": null,
       "right": null,
       "top": null,
       "visibility": null,
       "width": null
      }
     },
     "49086980e3fe46eba8ca090763daf6af": {
      "model_module": "@jupyter-widgets/controls",
      "model_module_version": "1.5.0",
      "model_name": "HTMLModel",
      "state": {
       "_dom_classes": [],
       "_model_module": "@jupyter-widgets/controls",
       "_model_module_version": "1.5.0",
       "_model_name": "HTMLModel",
       "_view_count": null,
       "_view_module": "@jupyter-widgets/controls",
       "_view_module_version": "1.5.0",
       "_view_name": "HTMLView",
       "description": "",
       "description_tooltip": null,
       "layout": "IPY_MODEL_f6b931f7f85545b09d6851a6e8a8cfe8",
       "placeholder": "​",
       "style": "IPY_MODEL_bf4ab2f1676d4131b783ce17ced56081",
       "value": " 570/570 [00:00&lt;00:00, 46.0kB/s]"
      }
     },
     "568081a526cb48de8f6a52479ffb0016": {
      "model_module": "@jupyter-widgets/controls",
      "model_module_version": "1.5.0",
      "model_name": "HTMLModel",
      "state": {
       "_dom_classes": [],
       "_model_module": "@jupyter-widgets/controls",
       "_model_module_version": "1.5.0",
       "_model_name": "HTMLModel",
       "_view_count": null,
       "_view_module": "@jupyter-widgets/controls",
       "_view_module_version": "1.5.0",
       "_view_name": "HTMLView",
       "description": "",
       "description_tooltip": null,
       "layout": "IPY_MODEL_b4eded696a734fff966fed9b00188ad8",
       "placeholder": "​",
       "style": "IPY_MODEL_bbc5491d6f7a4e3dbcca0e9128583905",
       "value": "vocab.txt: 100%"
      }
     },
     "62d5c8e13fd04b318bb6c7d6a37df8a0": {
      "model_module": "@jupyter-widgets/controls",
      "model_module_version": "1.5.0",
      "model_name": "DescriptionStyleModel",
      "state": {
       "_model_module": "@jupyter-widgets/controls",
       "_model_module_version": "1.5.0",
       "_model_name": "DescriptionStyleModel",
       "_view_count": null,
       "_view_module": "@jupyter-widgets/base",
       "_view_module_version": "1.2.0",
       "_view_name": "StyleView",
       "description_width": ""
      }
     },
     "653e1ac467d34b62a1ea7a78cd26e853": {
      "model_module": "@jupyter-widgets/controls",
      "model_module_version": "1.5.0",
      "model_name": "HTMLModel",
      "state": {
       "_dom_classes": [],
       "_model_module": "@jupyter-widgets/controls",
       "_model_module_version": "1.5.0",
       "_model_name": "HTMLModel",
       "_view_count": null,
       "_view_module": "@jupyter-widgets/controls",
       "_view_module_version": "1.5.0",
       "_view_name": "HTMLView",
       "description": "",
       "description_tooltip": null,
       "layout": "IPY_MODEL_c8d2a8f54f7449ad94408123f3ef742f",
       "placeholder": "​",
       "style": "IPY_MODEL_811b662f7eb340c28b6e2ea00e2db514",
       "value": "tokenizer.json: 100%"
      }
     },
     "6554082698894775840ce58660646782": {
      "model_module": "@jupyter-widgets/controls",
      "model_module_version": "1.5.0",
      "model_name": "HBoxModel",
      "state": {
       "_dom_classes": [],
       "_model_module": "@jupyter-widgets/controls",
       "_model_module_version": "1.5.0",
       "_model_name": "HBoxModel",
       "_view_count": null,
       "_view_module": "@jupyter-widgets/controls",
       "_view_module_version": "1.5.0",
       "_view_name": "HBoxView",
       "box_style": "",
       "children": [
        "IPY_MODEL_eb5fbc0a276f4b0eb67b2b4b01212643",
        "IPY_MODEL_2d9679badbc6424c90b6cbce6c5043bf",
        "IPY_MODEL_49086980e3fe46eba8ca090763daf6af"
       ],
       "layout": "IPY_MODEL_3a967f71bc1b4dc68ec6d7e9b1f92d79"
      }
     },
     "69afe412c6b84d289822a88dc2aff79d": {
      "model_module": "@jupyter-widgets/controls",
      "model_module_version": "1.5.0",
      "model_name": "ProgressStyleModel",
      "state": {
       "_model_module": "@jupyter-widgets/controls",
       "_model_module_version": "1.5.0",
       "_model_name": "ProgressStyleModel",
       "_view_count": null,
       "_view_module": "@jupyter-widgets/base",
       "_view_module_version": "1.2.0",
       "_view_name": "StyleView",
       "bar_color": null,
       "description_width": ""
      }
     },
     "69c95648457141dc90e5a7316890a3da": {
      "model_module": "@jupyter-widgets/controls",
      "model_module_version": "1.5.0",
      "model_name": "ProgressStyleModel",
      "state": {
       "_model_module": "@jupyter-widgets/controls",
       "_model_module_version": "1.5.0",
       "_model_name": "ProgressStyleModel",
       "_view_count": null,
       "_view_module": "@jupyter-widgets/base",
       "_view_module_version": "1.2.0",
       "_view_name": "StyleView",
       "bar_color": null,
       "description_width": ""
      }
     },
     "6fb5cb32cc734fd48535c3c97aa5cad7": {
      "model_module": "@jupyter-widgets/base",
      "model_module_version": "1.2.0",
      "model_name": "LayoutModel",
      "state": {
       "_model_module": "@jupyter-widgets/base",
       "_model_module_version": "1.2.0",
       "_model_name": "LayoutModel",
       "_view_count": null,
       "_view_module": "@jupyter-widgets/base",
       "_view_module_version": "1.2.0",
       "_view_name": "LayoutView",
       "align_content": null,
       "align_items": null,
       "align_self": null,
       "border": null,
       "bottom": null,
       "display": null,
       "flex": null,
       "flex_flow": null,
       "grid_area": null,
       "grid_auto_columns": null,
       "grid_auto_flow": null,
       "grid_auto_rows": null,
       "grid_column": null,
       "grid_gap": null,
       "grid_row": null,
       "grid_template_areas": null,
       "grid_template_columns": null,
       "grid_template_rows": null,
       "height": null,
       "justify_content": null,
       "justify_items": null,
       "left": null,
       "margin": null,
       "max_height": null,
       "max_width": null,
       "min_height": null,
       "min_width": null,
       "object_fit": null,
       "object_position": null,
       "order": null,
       "overflow": null,
       "overflow_x": null,
       "overflow_y": null,
       "padding": null,
       "right": null,
       "top": null,
       "visibility": null,
       "width": null
      }
     },
     "71e152a593294bbfa2b6520a50bfe0c0": {
      "model_module": "@jupyter-widgets/controls",
      "model_module_version": "1.5.0",
      "model_name": "HTMLModel",
      "state": {
       "_dom_classes": [],
       "_model_module": "@jupyter-widgets/controls",
       "_model_module_version": "1.5.0",
       "_model_name": "HTMLModel",
       "_view_count": null,
       "_view_module": "@jupyter-widgets/controls",
       "_view_module_version": "1.5.0",
       "_view_name": "HTMLView",
       "description": "",
       "description_tooltip": null,
       "layout": "IPY_MODEL_6fb5cb32cc734fd48535c3c97aa5cad7",
       "placeholder": "​",
       "style": "IPY_MODEL_15efd558321e48de89e7d89b3a9e7350",
       "value": " 232k/232k [00:00&lt;00:00, 1.76MB/s]"
      }
     },
     "7a2b8cfd8ab44036a9fa9f6282f315dd": {
      "model_module": "@jupyter-widgets/controls",
      "model_module_version": "1.5.0",
      "model_name": "ProgressStyleModel",
      "state": {
       "_model_module": "@jupyter-widgets/controls",
       "_model_module_version": "1.5.0",
       "_model_name": "ProgressStyleModel",
       "_view_count": null,
       "_view_module": "@jupyter-widgets/base",
       "_view_module_version": "1.2.0",
       "_view_name": "StyleView",
       "bar_color": null,
       "description_width": ""
      }
     },
     "7e3b63f4f8d44b3c88ea5b007bca24b4": {
      "model_module": "@jupyter-widgets/controls",
      "model_module_version": "1.5.0",
      "model_name": "FloatProgressModel",
      "state": {
       "_dom_classes": [],
       "_model_module": "@jupyter-widgets/controls",
       "_model_module_version": "1.5.0",
       "_model_name": "FloatProgressModel",
       "_view_count": null,
       "_view_module": "@jupyter-widgets/controls",
       "_view_module_version": "1.5.0",
       "_view_name": "ProgressView",
       "bar_style": "success",
       "description": "",
       "description_tooltip": null,
       "layout": "IPY_MODEL_ff0722df5d0a4220be852aa717645603",
       "max": 231508.0,
       "min": 0.0,
       "orientation": "horizontal",
       "style": "IPY_MODEL_69afe412c6b84d289822a88dc2aff79d",
       "value": 231508.0
      }
     },
     "7eb4b85184f244d184ed6cd4d1ec8d86": {
      "model_module": "@jupyter-widgets/controls",
      "model_module_version": "1.5.0",
      "model_name": "HTMLModel",
      "state": {
       "_dom_classes": [],
       "_model_module": "@jupyter-widgets/controls",
       "_model_module_version": "1.5.0",
       "_model_name": "HTMLModel",
       "_view_count": null,
       "_view_module": "@jupyter-widgets/controls",
       "_view_module_version": "1.5.0",
       "_view_name": "HTMLView",
       "description": "",
       "description_tooltip": null,
       "layout": "IPY_MODEL_21b7ad21b35941d1b11e9622c2166cbf",
       "placeholder": "​",
       "style": "IPY_MODEL_17bafe0762c243f7977ef717bdaa030e",
       "value": " 440M/440M [00:01&lt;00:00, 304MB/s]"
      }
     },
     "811b662f7eb340c28b6e2ea00e2db514": {
      "model_module": "@jupyter-widgets/controls",
      "model_module_version": "1.5.0",
      "model_name": "DescriptionStyleModel",
      "state": {
       "_model_module": "@jupyter-widgets/controls",
       "_model_module_version": "1.5.0",
       "_model_name": "DescriptionStyleModel",
       "_view_count": null,
       "_view_module": "@jupyter-widgets/base",
       "_view_module_version": "1.2.0",
       "_view_name": "StyleView",
       "description_width": ""
      }
     },
     "828ab4787b924e2d82bfeecb6db2ff27": {
      "model_module": "@jupyter-widgets/base",
      "model_module_version": "1.2.0",
      "model_name": "LayoutModel",
      "state": {
       "_model_module": "@jupyter-widgets/base",
       "_model_module_version": "1.2.0",
       "_model_name": "LayoutModel",
       "_view_count": null,
       "_view_module": "@jupyter-widgets/base",
       "_view_module_version": "1.2.0",
       "_view_name": "LayoutView",
       "align_content": null,
       "align_items": null,
       "align_self": null,
       "border": null,
       "bottom": null,
       "display": null,
       "flex": null,
       "flex_flow": null,
       "grid_area": null,
       "grid_auto_columns": null,
       "grid_auto_flow": null,
       "grid_auto_rows": null,
       "grid_column": null,
       "grid_gap": null,
       "grid_row": null,
       "grid_template_areas": null,
       "grid_template_columns": null,
       "grid_template_rows": null,
       "height": null,
       "justify_content": null,
       "justify_items": null,
       "left": null,
       "margin": null,
       "max_height": null,
       "max_width": null,
       "min_height": null,
       "min_width": null,
       "object_fit": null,
       "object_position": null,
       "order": null,
       "overflow": null,
       "overflow_x": null,
       "overflow_y": null,
       "padding": null,
       "right": null,
       "top": null,
       "visibility": null,
       "width": null
      }
     },
     "84de7a7309514574960de9bc23b5a7e7": {
      "model_module": "@jupyter-widgets/controls",
      "model_module_version": "1.5.0",
      "model_name": "DescriptionStyleModel",
      "state": {
       "_model_module": "@jupyter-widgets/controls",
       "_model_module_version": "1.5.0",
       "_model_name": "DescriptionStyleModel",
       "_view_count": null,
       "_view_module": "@jupyter-widgets/base",
       "_view_module_version": "1.2.0",
       "_view_name": "StyleView",
       "description_width": ""
      }
     },
     "9b32cde1748943e5a9df817b3bfee5c9": {
      "model_module": "@jupyter-widgets/base",
      "model_module_version": "1.2.0",
      "model_name": "LayoutModel",
      "state": {
       "_model_module": "@jupyter-widgets/base",
       "_model_module_version": "1.2.0",
       "_model_name": "LayoutModel",
       "_view_count": null,
       "_view_module": "@jupyter-widgets/base",
       "_view_module_version": "1.2.0",
       "_view_name": "LayoutView",
       "align_content": null,
       "align_items": null,
       "align_self": null,
       "border": null,
       "bottom": null,
       "display": null,
       "flex": null,
       "flex_flow": null,
       "grid_area": null,
       "grid_auto_columns": null,
       "grid_auto_flow": null,
       "grid_auto_rows": null,
       "grid_column": null,
       "grid_gap": null,
       "grid_row": null,
       "grid_template_areas": null,
       "grid_template_columns": null,
       "grid_template_rows": null,
       "height": null,
       "justify_content": null,
       "justify_items": null,
       "left": null,
       "margin": null,
       "max_height": null,
       "max_width": null,
       "min_height": null,
       "min_width": null,
       "object_fit": null,
       "object_position": null,
       "order": null,
       "overflow": null,
       "overflow_x": null,
       "overflow_y": null,
       "padding": null,
       "right": null,
       "top": null,
       "visibility": null,
       "width": null
      }
     },
     "9bb56cf4ec1b4af6826e7eee16fbf601": {
      "model_module": "@jupyter-widgets/base",
      "model_module_version": "1.2.0",
      "model_name": "LayoutModel",
      "state": {
       "_model_module": "@jupyter-widgets/base",
       "_model_module_version": "1.2.0",
       "_model_name": "LayoutModel",
       "_view_count": null,
       "_view_module": "@jupyter-widgets/base",
       "_view_module_version": "1.2.0",
       "_view_name": "LayoutView",
       "align_content": null,
       "align_items": null,
       "align_self": null,
       "border": null,
       "bottom": null,
       "display": null,
       "flex": null,
       "flex_flow": null,
       "grid_area": null,
       "grid_auto_columns": null,
       "grid_auto_flow": null,
       "grid_auto_rows": null,
       "grid_column": null,
       "grid_gap": null,
       "grid_row": null,
       "grid_template_areas": null,
       "grid_template_columns": null,
       "grid_template_rows": null,
       "height": null,
       "justify_content": null,
       "justify_items": null,
       "left": null,
       "margin": null,
       "max_height": null,
       "max_width": null,
       "min_height": null,
       "min_width": null,
       "object_fit": null,
       "object_position": null,
       "order": null,
       "overflow": null,
       "overflow_x": null,
       "overflow_y": null,
       "padding": null,
       "right": null,
       "top": null,
       "visibility": null,
       "width": null
      }
     },
     "a4acfc83e12d4802bdd9a87541034b9a": {
      "model_module": "@jupyter-widgets/controls",
      "model_module_version": "1.5.0",
      "model_name": "DescriptionStyleModel",
      "state": {
       "_model_module": "@jupyter-widgets/controls",
       "_model_module_version": "1.5.0",
       "_model_name": "DescriptionStyleModel",
       "_view_count": null,
       "_view_module": "@jupyter-widgets/base",
       "_view_module_version": "1.2.0",
       "_view_name": "StyleView",
       "description_width": ""
      }
     },
     "a6c51de194764d93b8a58858a646c47f": {
      "model_module": "@jupyter-widgets/base",
      "model_module_version": "1.2.0",
      "model_name": "LayoutModel",
      "state": {
       "_model_module": "@jupyter-widgets/base",
       "_model_module_version": "1.2.0",
       "_model_name": "LayoutModel",
       "_view_count": null,
       "_view_module": "@jupyter-widgets/base",
       "_view_module_version": "1.2.0",
       "_view_name": "LayoutView",
       "align_content": null,
       "align_items": null,
       "align_self": null,
       "border": null,
       "bottom": null,
       "display": null,
       "flex": null,
       "flex_flow": null,
       "grid_area": null,
       "grid_auto_columns": null,
       "grid_auto_flow": null,
       "grid_auto_rows": null,
       "grid_column": null,
       "grid_gap": null,
       "grid_row": null,
       "grid_template_areas": null,
       "grid_template_columns": null,
       "grid_template_rows": null,
       "height": null,
       "justify_content": null,
       "justify_items": null,
       "left": null,
       "margin": null,
       "max_height": null,
       "max_width": null,
       "min_height": null,
       "min_width": null,
       "object_fit": null,
       "object_position": null,
       "order": null,
       "overflow": null,
       "overflow_x": null,
       "overflow_y": null,
       "padding": null,
       "right": null,
       "top": null,
       "visibility": null,
       "width": null
      }
     },
     "abb757cc085e4ad5b38e2d4f99810ee9": {
      "model_module": "@jupyter-widgets/base",
      "model_module_version": "1.2.0",
      "model_name": "LayoutModel",
      "state": {
       "_model_module": "@jupyter-widgets/base",
       "_model_module_version": "1.2.0",
       "_model_name": "LayoutModel",
       "_view_count": null,
       "_view_module": "@jupyter-widgets/base",
       "_view_module_version": "1.2.0",
       "_view_name": "LayoutView",
       "align_content": null,
       "align_items": null,
       "align_self": null,
       "border": null,
       "bottom": null,
       "display": null,
       "flex": null,
       "flex_flow": null,
       "grid_area": null,
       "grid_auto_columns": null,
       "grid_auto_flow": null,
       "grid_auto_rows": null,
       "grid_column": null,
       "grid_gap": null,
       "grid_row": null,
       "grid_template_areas": null,
       "grid_template_columns": null,
       "grid_template_rows": null,
       "height": null,
       "justify_content": null,
       "justify_items": null,
       "left": null,
       "margin": null,
       "max_height": null,
       "max_width": null,
       "min_height": null,
       "min_width": null,
       "object_fit": null,
       "object_position": null,
       "order": null,
       "overflow": null,
       "overflow_x": null,
       "overflow_y": null,
       "padding": null,
       "right": null,
       "top": null,
       "visibility": null,
       "width": null
      }
     },
     "ac8a41bec6ea4583a40b3efe6ec86c9f": {
      "model_module": "@jupyter-widgets/controls",
      "model_module_version": "1.5.0",
      "model_name": "DescriptionStyleModel",
      "state": {
       "_model_module": "@jupyter-widgets/controls",
       "_model_module_version": "1.5.0",
       "_model_name": "DescriptionStyleModel",
       "_view_count": null,
       "_view_module": "@jupyter-widgets/base",
       "_view_module_version": "1.2.0",
       "_view_name": "StyleView",
       "description_width": ""
      }
     },
     "b2b61a5aa9964c9e96023c832af25423": {
      "model_module": "@jupyter-widgets/controls",
      "model_module_version": "1.5.0",
      "model_name": "ProgressStyleModel",
      "state": {
       "_model_module": "@jupyter-widgets/controls",
       "_model_module_version": "1.5.0",
       "_model_name": "ProgressStyleModel",
       "_view_count": null,
       "_view_module": "@jupyter-widgets/base",
       "_view_module_version": "1.2.0",
       "_view_name": "StyleView",
       "bar_color": null,
       "description_width": ""
      }
     },
     "b4eded696a734fff966fed9b00188ad8": {
      "model_module": "@jupyter-widgets/base",
      "model_module_version": "1.2.0",
      "model_name": "LayoutModel",
      "state": {
       "_model_module": "@jupyter-widgets/base",
       "_model_module_version": "1.2.0",
       "_model_name": "LayoutModel",
       "_view_count": null,
       "_view_module": "@jupyter-widgets/base",
       "_view_module_version": "1.2.0",
       "_view_name": "LayoutView",
       "align_content": null,
       "align_items": null,
       "align_self": null,
       "border": null,
       "bottom": null,
       "display": null,
       "flex": null,
       "flex_flow": null,
       "grid_area": null,
       "grid_auto_columns": null,
       "grid_auto_flow": null,
       "grid_auto_rows": null,
       "grid_column": null,
       "grid_gap": null,
       "grid_row": null,
       "grid_template_areas": null,
       "grid_template_columns": null,
       "grid_template_rows": null,
       "height": null,
       "justify_content": null,
       "justify_items": null,
       "left": null,
       "margin": null,
       "max_height": null,
       "max_width": null,
       "min_height": null,
       "min_width": null,
       "object_fit": null,
       "object_position": null,
       "order": null,
       "overflow": null,
       "overflow_x": null,
       "overflow_y": null,
       "padding": null,
       "right": null,
       "top": null,
       "visibility": null,
       "width": null
      }
     },
     "b69e7e8c2c2e42e5b21366ba8fe7ad99": {
      "model_module": "@jupyter-widgets/controls",
      "model_module_version": "1.5.0",
      "model_name": "HTMLModel",
      "state": {
       "_dom_classes": [],
       "_model_module": "@jupyter-widgets/controls",
       "_model_module_version": "1.5.0",
       "_model_name": "HTMLModel",
       "_view_count": null,
       "_view_module": "@jupyter-widgets/controls",
       "_view_module_version": "1.5.0",
       "_view_name": "HTMLView",
       "description": "",
       "description_tooltip": null,
       "layout": "IPY_MODEL_db2aa947c3174169a2582ca52680fbff",
       "placeholder": "​",
       "style": "IPY_MODEL_84de7a7309514574960de9bc23b5a7e7",
       "value": "tokenizer_config.json: 100%"
      }
     },
     "b6cadb682c674a45845b2f9bc38e67ec": {
      "model_module": "@jupyter-widgets/controls",
      "model_module_version": "1.5.0",
      "model_name": "HTMLModel",
      "state": {
       "_dom_classes": [],
       "_model_module": "@jupyter-widgets/controls",
       "_model_module_version": "1.5.0",
       "_model_name": "HTMLModel",
       "_view_count": null,
       "_view_module": "@jupyter-widgets/controls",
       "_view_module_version": "1.5.0",
       "_view_name": "HTMLView",
       "description": "",
       "description_tooltip": null,
       "layout": "IPY_MODEL_3c7b80ec56bf4f43a51d5e5d03cea860",
       "placeholder": "​",
       "style": "IPY_MODEL_e2f1d80d904f4fcb89f98052d3f0c6cc",
       "value": " 466k/466k [00:00&lt;00:00, 28.0MB/s]"
      }
     },
     "bbc5491d6f7a4e3dbcca0e9128583905": {
      "model_module": "@jupyter-widgets/controls",
      "model_module_version": "1.5.0",
      "model_name": "DescriptionStyleModel",
      "state": {
       "_model_module": "@jupyter-widgets/controls",
       "_model_module_version": "1.5.0",
       "_model_name": "DescriptionStyleModel",
       "_view_count": null,
       "_view_module": "@jupyter-widgets/base",
       "_view_module_version": "1.2.0",
       "_view_name": "StyleView",
       "description_width": ""
      }
     },
     "bf4ab2f1676d4131b783ce17ced56081": {
      "model_module": "@jupyter-widgets/controls",
      "model_module_version": "1.5.0",
      "model_name": "DescriptionStyleModel",
      "state": {
       "_model_module": "@jupyter-widgets/controls",
       "_model_module_version": "1.5.0",
       "_model_name": "DescriptionStyleModel",
       "_view_count": null,
       "_view_module": "@jupyter-widgets/base",
       "_view_module_version": "1.2.0",
       "_view_name": "StyleView",
       "description_width": ""
      }
     },
     "c35dbbac5fcb498391b2ccbed9d5aa59": {
      "model_module": "@jupyter-widgets/base",
      "model_module_version": "1.2.0",
      "model_name": "LayoutModel",
      "state": {
       "_model_module": "@jupyter-widgets/base",
       "_model_module_version": "1.2.0",
       "_model_name": "LayoutModel",
       "_view_count": null,
       "_view_module": "@jupyter-widgets/base",
       "_view_module_version": "1.2.0",
       "_view_name": "LayoutView",
       "align_content": null,
       "align_items": null,
       "align_self": null,
       "border": null,
       "bottom": null,
       "display": null,
       "flex": null,
       "flex_flow": null,
       "grid_area": null,
       "grid_auto_columns": null,
       "grid_auto_flow": null,
       "grid_auto_rows": null,
       "grid_column": null,
       "grid_gap": null,
       "grid_row": null,
       "grid_template_areas": null,
       "grid_template_columns": null,
       "grid_template_rows": null,
       "height": null,
       "justify_content": null,
       "justify_items": null,
       "left": null,
       "margin": null,
       "max_height": null,
       "max_width": null,
       "min_height": null,
       "min_width": null,
       "object_fit": null,
       "object_position": null,
       "order": null,
       "overflow": null,
       "overflow_x": null,
       "overflow_y": null,
       "padding": null,
       "right": null,
       "top": null,
       "visibility": null,
       "width": null
      }
     },
     "c8886c03ed164947a341a411f5835052": {
      "model_module": "@jupyter-widgets/controls",
      "model_module_version": "1.5.0",
      "model_name": "ProgressStyleModel",
      "state": {
       "_model_module": "@jupyter-widgets/controls",
       "_model_module_version": "1.5.0",
       "_model_name": "ProgressStyleModel",
       "_view_count": null,
       "_view_module": "@jupyter-widgets/base",
       "_view_module_version": "1.2.0",
       "_view_name": "StyleView",
       "bar_color": null,
       "description_width": ""
      }
     },
     "c8d2a8f54f7449ad94408123f3ef742f": {
      "model_module": "@jupyter-widgets/base",
      "model_module_version": "1.2.0",
      "model_name": "LayoutModel",
      "state": {
       "_model_module": "@jupyter-widgets/base",
       "_model_module_version": "1.2.0",
       "_model_name": "LayoutModel",
       "_view_count": null,
       "_view_module": "@jupyter-widgets/base",
       "_view_module_version": "1.2.0",
       "_view_name": "LayoutView",
       "align_content": null,
       "align_items": null,
       "align_self": null,
       "border": null,
       "bottom": null,
       "display": null,
       "flex": null,
       "flex_flow": null,
       "grid_area": null,
       "grid_auto_columns": null,
       "grid_auto_flow": null,
       "grid_auto_rows": null,
       "grid_column": null,
       "grid_gap": null,
       "grid_row": null,
       "grid_template_areas": null,
       "grid_template_columns": null,
       "grid_template_rows": null,
       "height": null,
       "justify_content": null,
       "justify_items": null,
       "left": null,
       "margin": null,
       "max_height": null,
       "max_width": null,
       "min_height": null,
       "min_width": null,
       "object_fit": null,
       "object_position": null,
       "order": null,
       "overflow": null,
       "overflow_x": null,
       "overflow_y": null,
       "padding": null,
       "right": null,
       "top": null,
       "visibility": null,
       "width": null
      }
     },
     "ca881925033944e098ad91ed94bf98a4": {
      "model_module": "@jupyter-widgets/controls",
      "model_module_version": "1.5.0",
      "model_name": "HBoxModel",
      "state": {
       "_dom_classes": [],
       "_model_module": "@jupyter-widgets/controls",
       "_model_module_version": "1.5.0",
       "_model_name": "HBoxModel",
       "_view_count": null,
       "_view_module": "@jupyter-widgets/controls",
       "_view_module_version": "1.5.0",
       "_view_name": "HBoxView",
       "box_style": "",
       "children": [
        "IPY_MODEL_b69e7e8c2c2e42e5b21366ba8fe7ad99",
        "IPY_MODEL_cfffe635c5434c5dbff4403762ca9ea7",
        "IPY_MODEL_1a8b8aa4cb1149009e0d9e64b23fe914"
       ],
       "layout": "IPY_MODEL_f3d2937809e443ae8cd83f174bccd1af"
      }
     },
     "cfffe635c5434c5dbff4403762ca9ea7": {
      "model_module": "@jupyter-widgets/controls",
      "model_module_version": "1.5.0",
      "model_name": "FloatProgressModel",
      "state": {
       "_dom_classes": [],
       "_model_module": "@jupyter-widgets/controls",
       "_model_module_version": "1.5.0",
       "_model_name": "FloatProgressModel",
       "_view_count": null,
       "_view_module": "@jupyter-widgets/controls",
       "_view_module_version": "1.5.0",
       "_view_name": "ProgressView",
       "bar_style": "success",
       "description": "",
       "description_tooltip": null,
       "layout": "IPY_MODEL_0ed0527b96ad46a39a0c38b91ed81843",
       "max": 48.0,
       "min": 0.0,
       "orientation": "horizontal",
       "style": "IPY_MODEL_7a2b8cfd8ab44036a9fa9f6282f315dd",
       "value": 48.0
      }
     },
     "d50e9d8e2e094c6c92a7f22e4f40ed1c": {
      "model_module": "@jupyter-widgets/controls",
      "model_module_version": "1.5.0",
      "model_name": "FloatProgressModel",
      "state": {
       "_dom_classes": [],
       "_model_module": "@jupyter-widgets/controls",
       "_model_module_version": "1.5.0",
       "_model_name": "FloatProgressModel",
       "_view_count": null,
       "_view_module": "@jupyter-widgets/controls",
       "_view_module_version": "1.5.0",
       "_view_name": "ProgressView",
       "bar_style": "success",
       "description": "",
       "description_tooltip": null,
       "layout": "IPY_MODEL_9bb56cf4ec1b4af6826e7eee16fbf601",
       "max": 440449768.0,
       "min": 0.0,
       "orientation": "horizontal",
       "style": "IPY_MODEL_c8886c03ed164947a341a411f5835052",
       "value": 440449768.0
      }
     },
     "d54f864cbbce442f9989fdde53a6aea7": {
      "model_module": "@jupyter-widgets/controls",
      "model_module_version": "1.5.0",
      "model_name": "FloatProgressModel",
      "state": {
       "_dom_classes": [],
       "_model_module": "@jupyter-widgets/controls",
       "_model_module_version": "1.5.0",
       "_model_name": "FloatProgressModel",
       "_view_count": null,
       "_view_module": "@jupyter-widgets/controls",
       "_view_module_version": "1.5.0",
       "_view_name": "ProgressView",
       "bar_style": "success",
       "description": "",
       "description_tooltip": null,
       "layout": "IPY_MODEL_828ab4787b924e2d82bfeecb6db2ff27",
       "max": 466062.0,
       "min": 0.0,
       "orientation": "horizontal",
       "style": "IPY_MODEL_69c95648457141dc90e5a7316890a3da",
       "value": 466062.0
      }
     },
     "dae21b78737d481c9f233c11f7ebd405": {
      "model_module": "@jupyter-widgets/base",
      "model_module_version": "1.2.0",
      "model_name": "LayoutModel",
      "state": {
       "_model_module": "@jupyter-widgets/base",
       "_model_module_version": "1.2.0",
       "_model_name": "LayoutModel",
       "_view_count": null,
       "_view_module": "@jupyter-widgets/base",
       "_view_module_version": "1.2.0",
       "_view_name": "LayoutView",
       "align_content": null,
       "align_items": null,
       "align_self": null,
       "border": null,
       "bottom": null,
       "display": null,
       "flex": null,
       "flex_flow": null,
       "grid_area": null,
       "grid_auto_columns": null,
       "grid_auto_flow": null,
       "grid_auto_rows": null,
       "grid_column": null,
       "grid_gap": null,
       "grid_row": null,
       "grid_template_areas": null,
       "grid_template_columns": null,
       "grid_template_rows": null,
       "height": null,
       "justify_content": null,
       "justify_items": null,
       "left": null,
       "margin": null,
       "max_height": null,
       "max_width": null,
       "min_height": null,
       "min_width": null,
       "object_fit": null,
       "object_position": null,
       "order": null,
       "overflow": null,
       "overflow_x": null,
       "overflow_y": null,
       "padding": null,
       "right": null,
       "top": null,
       "visibility": null,
       "width": null
      }
     },
     "db2aa947c3174169a2582ca52680fbff": {
      "model_module": "@jupyter-widgets/base",
      "model_module_version": "1.2.0",
      "model_name": "LayoutModel",
      "state": {
       "_model_module": "@jupyter-widgets/base",
       "_model_module_version": "1.2.0",
       "_model_name": "LayoutModel",
       "_view_count": null,
       "_view_module": "@jupyter-widgets/base",
       "_view_module_version": "1.2.0",
       "_view_name": "LayoutView",
       "align_content": null,
       "align_items": null,
       "align_self": null,
       "border": null,
       "bottom": null,
       "display": null,
       "flex": null,
       "flex_flow": null,
       "grid_area": null,
       "grid_auto_columns": null,
       "grid_auto_flow": null,
       "grid_auto_rows": null,
       "grid_column": null,
       "grid_gap": null,
       "grid_row": null,
       "grid_template_areas": null,
       "grid_template_columns": null,
       "grid_template_rows": null,
       "height": null,
       "justify_content": null,
       "justify_items": null,
       "left": null,
       "margin": null,
       "max_height": null,
       "max_width": null,
       "min_height": null,
       "min_width": null,
       "object_fit": null,
       "object_position": null,
       "order": null,
       "overflow": null,
       "overflow_x": null,
       "overflow_y": null,
       "padding": null,
       "right": null,
       "top": null,
       "visibility": null,
       "width": null
      }
     },
     "e2f1d80d904f4fcb89f98052d3f0c6cc": {
      "model_module": "@jupyter-widgets/controls",
      "model_module_version": "1.5.0",
      "model_name": "DescriptionStyleModel",
      "state": {
       "_model_module": "@jupyter-widgets/controls",
       "_model_module_version": "1.5.0",
       "_model_name": "DescriptionStyleModel",
       "_view_count": null,
       "_view_module": "@jupyter-widgets/base",
       "_view_module_version": "1.2.0",
       "_view_name": "StyleView",
       "description_width": ""
      }
     },
     "eb5fbc0a276f4b0eb67b2b4b01212643": {
      "model_module": "@jupyter-widgets/controls",
      "model_module_version": "1.5.0",
      "model_name": "HTMLModel",
      "state": {
       "_dom_classes": [],
       "_model_module": "@jupyter-widgets/controls",
       "_model_module_version": "1.5.0",
       "_model_name": "HTMLModel",
       "_view_count": null,
       "_view_module": "@jupyter-widgets/controls",
       "_view_module_version": "1.5.0",
       "_view_name": "HTMLView",
       "description": "",
       "description_tooltip": null,
       "layout": "IPY_MODEL_48f315823f1743af90ab21997583efdb",
       "placeholder": "​",
       "style": "IPY_MODEL_ac8a41bec6ea4583a40b3efe6ec86c9f",
       "value": "config.json: 100%"
      }
     },
     "f273da5356a94a7bb8355b72d1184d17": {
      "model_module": "@jupyter-widgets/controls",
      "model_module_version": "1.5.0",
      "model_name": "HTMLModel",
      "state": {
       "_dom_classes": [],
       "_model_module": "@jupyter-widgets/controls",
       "_model_module_version": "1.5.0",
       "_model_name": "HTMLModel",
       "_view_count": null,
       "_view_module": "@jupyter-widgets/controls",
       "_view_module_version": "1.5.0",
       "_view_name": "HTMLView",
       "description": "",
       "description_tooltip": null,
       "layout": "IPY_MODEL_dae21b78737d481c9f233c11f7ebd405",
       "placeholder": "​",
       "style": "IPY_MODEL_a4acfc83e12d4802bdd9a87541034b9a",
       "value": "model.safetensors: 100%"
      }
     },
     "f3d2937809e443ae8cd83f174bccd1af": {
      "model_module": "@jupyter-widgets/base",
      "model_module_version": "1.2.0",
      "model_name": "LayoutModel",
      "state": {
       "_model_module": "@jupyter-widgets/base",
       "_model_module_version": "1.2.0",
       "_model_name": "LayoutModel",
       "_view_count": null,
       "_view_module": "@jupyter-widgets/base",
       "_view_module_version": "1.2.0",
       "_view_name": "LayoutView",
       "align_content": null,
       "align_items": null,
       "align_self": null,
       "border": null,
       "bottom": null,
       "display": null,
       "flex": null,
       "flex_flow": null,
       "grid_area": null,
       "grid_auto_columns": null,
       "grid_auto_flow": null,
       "grid_auto_rows": null,
       "grid_column": null,
       "grid_gap": null,
       "grid_row": null,
       "grid_template_areas": null,
       "grid_template_columns": null,
       "grid_template_rows": null,
       "height": null,
       "justify_content": null,
       "justify_items": null,
       "left": null,
       "margin": null,
       "max_height": null,
       "max_width": null,
       "min_height": null,
       "min_width": null,
       "object_fit": null,
       "object_position": null,
       "order": null,
       "overflow": null,
       "overflow_x": null,
       "overflow_y": null,
       "padding": null,
       "right": null,
       "top": null,
       "visibility": null,
       "width": null
      }
     },
     "f6b931f7f85545b09d6851a6e8a8cfe8": {
      "model_module": "@jupyter-widgets/base",
      "model_module_version": "1.2.0",
      "model_name": "LayoutModel",
      "state": {
       "_model_module": "@jupyter-widgets/base",
       "_model_module_version": "1.2.0",
       "_model_name": "LayoutModel",
       "_view_count": null,
       "_view_module": "@jupyter-widgets/base",
       "_view_module_version": "1.2.0",
       "_view_name": "LayoutView",
       "align_content": null,
       "align_items": null,
       "align_self": null,
       "border": null,
       "bottom": null,
       "display": null,
       "flex": null,
       "flex_flow": null,
       "grid_area": null,
       "grid_auto_columns": null,
       "grid_auto_flow": null,
       "grid_auto_rows": null,
       "grid_column": null,
       "grid_gap": null,
       "grid_row": null,
       "grid_template_areas": null,
       "grid_template_columns": null,
       "grid_template_rows": null,
       "height": null,
       "justify_content": null,
       "justify_items": null,
       "left": null,
       "margin": null,
       "max_height": null,
       "max_width": null,
       "min_height": null,
       "min_width": null,
       "object_fit": null,
       "object_position": null,
       "order": null,
       "overflow": null,
       "overflow_x": null,
       "overflow_y": null,
       "padding": null,
       "right": null,
       "top": null,
       "visibility": null,
       "width": null
      }
     },
     "f73ea1cafb4b4eec870e985cc4942c01": {
      "model_module": "@jupyter-widgets/controls",
      "model_module_version": "1.5.0",
      "model_name": "HBoxModel",
      "state": {
       "_dom_classes": [],
       "_model_module": "@jupyter-widgets/controls",
       "_model_module_version": "1.5.0",
       "_model_name": "HBoxModel",
       "_view_count": null,
       "_view_module": "@jupyter-widgets/controls",
       "_view_module_version": "1.5.0",
       "_view_name": "HBoxView",
       "box_style": "",
       "children": [
        "IPY_MODEL_568081a526cb48de8f6a52479ffb0016",
        "IPY_MODEL_7e3b63f4f8d44b3c88ea5b007bca24b4",
        "IPY_MODEL_71e152a593294bbfa2b6520a50bfe0c0"
       ],
       "layout": "IPY_MODEL_9b32cde1748943e5a9df817b3bfee5c9"
      }
     },
     "ff0722df5d0a4220be852aa717645603": {
      "model_module": "@jupyter-widgets/base",
      "model_module_version": "1.2.0",
      "model_name": "LayoutModel",
      "state": {
       "_model_module": "@jupyter-widgets/base",
       "_model_module_version": "1.2.0",
       "_model_name": "LayoutModel",
       "_view_count": null,
       "_view_module": "@jupyter-widgets/base",
       "_view_module_version": "1.2.0",
       "_view_name": "LayoutView",
       "align_content": null,
       "align_items": null,
       "align_self": null,
       "border": null,
       "bottom": null,
       "display": null,
       "flex": null,
       "flex_flow": null,
       "grid_area": null,
       "grid_auto_columns": null,
       "grid_auto_flow": null,
       "grid_auto_rows": null,
       "grid_column": null,
       "grid_gap": null,
       "grid_row": null,
       "grid_template_areas": null,
       "grid_template_columns": null,
       "grid_template_rows": null,
       "height": null,
       "justify_content": null,
       "justify_items": null,
       "left": null,
       "margin": null,
       "max_height": null,
       "max_width": null,
       "min_height": null,
       "min_width": null,
       "object_fit": null,
       "object_position": null,
       "order": null,
       "overflow": null,
       "overflow_x": null,
       "overflow_y": null,
       "padding": null,
       "right": null,
       "top": null,
       "visibility": null,
       "width": null
      }
     }
    },
    "version_major": 2,
    "version_minor": 0
   }
  }
 },
 "nbformat": 4,
 "nbformat_minor": 5
}
