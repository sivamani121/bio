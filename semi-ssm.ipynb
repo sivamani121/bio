{
 "cells": [
  {
   "cell_type": "code",
   "execution_count": 1,
   "id": "875c6138",
   "metadata": {
    "execution": {
     "iopub.execute_input": "2024-03-02T20:42:10.795445Z",
     "iopub.status.busy": "2024-03-02T20:42:10.795085Z",
     "iopub.status.idle": "2024-03-02T20:42:10.799612Z",
     "shell.execute_reply": "2024-03-02T20:42:10.798891Z"
    },
    "papermill": {
     "duration": 0.017685,
     "end_time": "2024-03-02T20:42:10.801458",
     "exception": false,
     "start_time": "2024-03-02T20:42:10.783773",
     "status": "completed"
    },
    "tags": []
   },
   "outputs": [],
   "source": [
    "# !pip install torch"
   ]
  },
  {
   "cell_type": "code",
   "execution_count": 2,
   "id": "14e6934c",
   "metadata": {
    "_cell_guid": "b1076dfc-b9ad-4769-8c92-a6c4dae69d19",
    "_uuid": "8f2839f25d086af736a60e9eeb907d3b93b6e0e5",
    "execution": {
     "iopub.execute_input": "2024-03-02T20:42:10.821147Z",
     "iopub.status.busy": "2024-03-02T20:42:10.820883Z",
     "iopub.status.idle": "2024-03-02T20:42:14.452457Z",
     "shell.execute_reply": "2024-03-02T20:42:14.451475Z"
    },
    "papermill": {
     "duration": 3.643932,
     "end_time": "2024-03-02T20:42:14.454779",
     "exception": false,
     "start_time": "2024-03-02T20:42:10.810847",
     "status": "completed"
    },
    "tags": []
   },
   "outputs": [],
   "source": [
    "# Regular imports\n",
    "import matplotlib.pyplot as plt\n",
    "import torch\n",
    "\n",
    "from torch import nn\n",
    "import numpy as np \n"
   ]
  },
  {
   "cell_type": "code",
   "execution_count": 3,
   "id": "e86fc09f",
   "metadata": {
    "execution": {
     "iopub.execute_input": "2024-03-02T20:42:14.474956Z",
     "iopub.status.busy": "2024-03-02T20:42:14.474579Z",
     "iopub.status.idle": "2024-03-02T20:42:14.532007Z",
     "shell.execute_reply": "2024-03-02T20:42:14.531188Z"
    },
    "papermill": {
     "duration": 0.069755,
     "end_time": "2024-03-02T20:42:14.534051",
     "exception": false,
     "start_time": "2024-03-02T20:42:14.464296",
     "status": "completed"
    },
    "tags": []
   },
   "outputs": [
    {
     "data": {
      "text/plain": [
       "'cuda'"
      ]
     },
     "execution_count": 3,
     "metadata": {},
     "output_type": "execute_result"
    }
   ],
   "source": [
    "device = \"cuda\" if torch.cuda.is_available() else \"cpu\"\n",
    "device\n",
    "\n",
    "#os.environ['CUDA_LAUNCH_BLOCKING'] = '1'\n"
   ]
  },
  {
   "cell_type": "code",
   "execution_count": 4,
   "id": "36dbbd9e",
   "metadata": {
    "execution": {
     "iopub.execute_input": "2024-03-02T20:42:14.554493Z",
     "iopub.status.busy": "2024-03-02T20:42:14.553916Z",
     "iopub.status.idle": "2024-03-02T20:42:14.558034Z",
     "shell.execute_reply": "2024-03-02T20:42:14.557261Z"
    },
    "papermill": {
     "duration": 0.016383,
     "end_time": "2024-03-02T20:42:14.559954",
     "exception": false,
     "start_time": "2024-03-02T20:42:14.543571",
     "status": "completed"
    },
    "tags": []
   },
   "outputs": [],
   "source": [
    "import os\n",
    "os.environ[\"TORCH_USE_CUDA_DSA\"] = \"1\"\n",
    "\n",
    "# Import PyTorch and other libraries\n",
    "\n",
    "\n"
   ]
  },
  {
   "cell_type": "code",
   "execution_count": 5,
   "id": "5619e6e7",
   "metadata": {
    "execution": {
     "iopub.execute_input": "2024-03-02T20:42:14.580329Z",
     "iopub.status.busy": "2024-03-02T20:42:14.579766Z",
     "iopub.status.idle": "2024-03-02T20:42:14.583424Z",
     "shell.execute_reply": "2024-03-02T20:42:14.582618Z"
    },
    "papermill": {
     "duration": 0.015577,
     "end_time": "2024-03-02T20:42:14.585279",
     "exception": false,
     "start_time": "2024-03-02T20:42:14.569702",
     "status": "completed"
    },
    "tags": []
   },
   "outputs": [],
   "source": [
    "data_path = \"/kaggle/input/majortry6/labeled_data.csv\""
   ]
  },
  {
   "cell_type": "code",
   "execution_count": 6,
   "id": "7b7c6cf8",
   "metadata": {
    "execution": {
     "iopub.execute_input": "2024-03-02T20:42:14.605569Z",
     "iopub.status.busy": "2024-03-02T20:42:14.604858Z",
     "iopub.status.idle": "2024-03-02T20:42:15.524149Z",
     "shell.execute_reply": "2024-03-02T20:42:15.523207Z"
    },
    "papermill": {
     "duration": 0.931968,
     "end_time": "2024-03-02T20:42:15.526673",
     "exception": false,
     "start_time": "2024-03-02T20:42:14.594705",
     "status": "completed"
    },
    "tags": []
   },
   "outputs": [
    {
     "name": "stdout",
     "output_type": "stream",
     "text": [
      "Index(['Unnamed: 0', 'count', 'hate_speech', 'offensive_language', 'neither',\n",
      "       'class', 'tweet'],\n",
      "      dtype='object')\n"
     ]
    }
   ],
   "source": [
    "import numpy as np\n",
    "import pickle\n",
    "import pandas as pd\n",
    "pd.options.mode.copy_on_write = True\n",
    "\n",
    "data = pd.read_csv(data_path)\n",
    "df = pd.DataFrame(data)\n",
    "print(df.columns)\n",
    "df.columns = ['Unnamed: 0', 'count', 'hate_speech', 'offensive_language', 'neither',\n",
    "       'classk', 'tweet']"
   ]
  },
  {
   "cell_type": "code",
   "execution_count": 7,
   "id": "26db0a9e",
   "metadata": {
    "execution": {
     "iopub.execute_input": "2024-03-02T20:42:15.552492Z",
     "iopub.status.busy": "2024-03-02T20:42:15.552074Z",
     "iopub.status.idle": "2024-03-02T20:42:15.567775Z",
     "shell.execute_reply": "2024-03-02T20:42:15.566881Z"
    },
    "papermill": {
     "duration": 0.028587,
     "end_time": "2024-03-02T20:42:15.569785",
     "exception": false,
     "start_time": "2024-03-02T20:42:15.541198",
     "status": "completed"
    },
    "tags": []
   },
   "outputs": [],
   "source": [
    "df[\"classk\"] = df[\"classk\"].map({2:1, 1:0, 0:0}) \n",
    "# label = 0 = hate\n",
    "# label = 1 = not_hate"
   ]
  },
  {
   "cell_type": "code",
   "execution_count": 8,
   "id": "cec5366e",
   "metadata": {
    "execution": {
     "iopub.execute_input": "2024-03-02T20:42:15.590144Z",
     "iopub.status.busy": "2024-03-02T20:42:15.589547Z",
     "iopub.status.idle": "2024-03-02T20:42:15.731026Z",
     "shell.execute_reply": "2024-03-02T20:42:15.730194Z"
    },
    "papermill": {
     "duration": 0.154224,
     "end_time": "2024-03-02T20:42:15.733539",
     "exception": false,
     "start_time": "2024-03-02T20:42:15.579315",
     "status": "completed"
    },
    "tags": []
   },
   "outputs": [],
   "source": [
    "tweets = df.tweet\n",
    "res = []\n",
    "\n",
    "for i in range(len(tweets)):\n",
    "    splitt = tweets[i].split(\":\")\n",
    "    if len(splitt) == 1:\n",
    "        res.append(splitt[0])\n",
    "    else:\n",
    "        res.append(splitt[-1])\n",
    "        \n",
    "tweets = res\n",
    "\n",
    "# print(tweets)"
   ]
  },
  {
   "cell_type": "code",
   "execution_count": 9,
   "id": "1aa6c3de",
   "metadata": {
    "execution": {
     "iopub.execute_input": "2024-03-02T20:42:15.755299Z",
     "iopub.status.busy": "2024-03-02T20:42:15.754743Z",
     "iopub.status.idle": "2024-03-02T20:42:15.759683Z",
     "shell.execute_reply": "2024-03-02T20:42:15.758759Z"
    },
    "papermill": {
     "duration": 0.017821,
     "end_time": "2024-03-02T20:42:15.761630",
     "exception": false,
     "start_time": "2024-03-02T20:42:15.743809",
     "status": "completed"
    },
    "tags": []
   },
   "outputs": [],
   "source": [
    "hate_words = ['Moist', 'Cunt', 'Panties', 'Fuck', 'Hate', 'Nigger', 'Pussy', 'Ass', 'Motherfucker', 'Bitch', 'Damn']\n",
    "not_hate_words = ['Love', 'Peace', 'Kindness', 'Happiness', 'Respect', 'Friendship',\n",
    "'Appreciation', 'Hope', 'Encouragement', 'Support', 'Caring']"
   ]
  },
  {
   "cell_type": "code",
   "execution_count": 10,
   "id": "b8308a94",
   "metadata": {
    "execution": {
     "iopub.execute_input": "2024-03-02T20:42:15.783828Z",
     "iopub.status.busy": "2024-03-02T20:42:15.783066Z",
     "iopub.status.idle": "2024-03-02T20:42:20.790436Z",
     "shell.execute_reply": "2024-03-02T20:42:20.789435Z"
    },
    "papermill": {
     "duration": 5.020393,
     "end_time": "2024-03-02T20:42:20.792586",
     "exception": false,
     "start_time": "2024-03-02T20:42:15.772193",
     "status": "completed"
    },
    "tags": []
   },
   "outputs": [
    {
     "data": {
      "application/vnd.jupyter.widget-view+json": {
       "model_id": "59266c63a92145f7b429fd7e10d726c7",
       "version_major": 2,
       "version_minor": 0
      },
      "text/plain": [
       "tokenizer_config.json:   0%|          | 0.00/48.0 [00:00<?, ?B/s]"
      ]
     },
     "metadata": {},
     "output_type": "display_data"
    },
    {
     "data": {
      "application/vnd.jupyter.widget-view+json": {
       "model_id": "a38cb5226e4e4c4daa074be335008a75",
       "version_major": 2,
       "version_minor": 0
      },
      "text/plain": [
       "config.json:   0%|          | 0.00/570 [00:00<?, ?B/s]"
      ]
     },
     "metadata": {},
     "output_type": "display_data"
    },
    {
     "data": {
      "application/vnd.jupyter.widget-view+json": {
       "model_id": "ca2d032f856a45c7902d994e205cc16b",
       "version_major": 2,
       "version_minor": 0
      },
      "text/plain": [
       "vocab.txt:   0%|          | 0.00/232k [00:00<?, ?B/s]"
      ]
     },
     "metadata": {},
     "output_type": "display_data"
    },
    {
     "data": {
      "application/vnd.jupyter.widget-view+json": {
       "model_id": "604c0626e83c4ea8906a65dce0ab27cc",
       "version_major": 2,
       "version_minor": 0
      },
      "text/plain": [
       "tokenizer.json:   0%|          | 0.00/466k [00:00<?, ?B/s]"
      ]
     },
     "metadata": {},
     "output_type": "display_data"
    },
    {
     "data": {
      "text/plain": [
       "{'input_ids': [101, 1045, 2293, 20421, 102], 'token_type_ids': [0, 0, 0, 0, 0], 'attention_mask': [1, 1, 1, 1, 1]}"
      ]
     },
     "execution_count": 10,
     "metadata": {},
     "output_type": "execute_result"
    }
   ],
   "source": [
    "\n",
    "from transformers import AutoTokenizer\n",
    "from transformers import BertModel\n",
    "\n",
    "tokenizer = AutoTokenizer.from_pretrained(\"bert-base-uncased\")\n",
    "\n",
    "tokenizer(\"I love Pokemon\")\n",
    "# # tokenizer.decode(tokenizer(\"I love Pokemon\")['input_ids'])\n",
    "# from transformers import BertTokenizer, BertForSequenceClassification\n",
    "# import torch\n",
    "# from torch.utils.data import DataLoader, TensorDataset\n",
    "\n",
    "# # Load pre-trained model and tokenizer\n",
    "# model = BertForSequenceClassification.from_pretrained('bert-base-uncased', num_labels=num_classes)\n",
    "# tokenizer = BertTokenizer.from_pretrained('bert-base-uncased')\n",
    "\n",
    "# # Tokenize and prepare data\n",
    "# input_texts = [\"your input sentences\"]\n",
    "# labels = [0, 1, ...]  # corresponding labels\n",
    "\n",
    "# tokenized_inputs = tokenizer(input_texts, truncation=True, padding=True, return_tensors=\"pt\")\n",
    "\n",
    "# # Create DataLoader\n",
    "# dataset = TensorDataset(tokenized_inputs['input_ids'], tokenized_inputs['attention_mask'], torch.tensor(labels))\n",
    "# dataloader = DataLoader(dataset, batch_size=batch_size, shuffle=True)\n",
    "\n",
    "# # Set up optimizer and loss function\n",
    "# optimizer = torch.optim.AdamW(model.parameters(), lr=learning_rate)\n",
    "# loss_fn = torch.nn.CrossEntropyLoss()\n",
    "\n",
    "# # Fine-tuning loop\n",
    "# for epoch in range(num_epochs):\n",
    "#     for batch in dataloader:\n",
    "#         inputs, attention_mask, target = batch\n",
    "#         outputs = model(inputs, attention_mask=attention_mask)\n",
    "#         loss = loss_fn(outputs.logits, target)\n",
    "        \n",
    "#         optimizer.zero_grad()\n",
    "#         loss.backward()\n",
    "#         optimizer.step()\n",
    "\n",
    "# # Evaluate on a test set\n",
    "# # (Prepare the test set similarly and use model.eval() before inference)\n"
   ]
  },
  {
   "cell_type": "code",
   "execution_count": 11,
   "id": "0331adea",
   "metadata": {
    "execution": {
     "iopub.execute_input": "2024-03-02T20:42:20.814800Z",
     "iopub.status.busy": "2024-03-02T20:42:20.814332Z",
     "iopub.status.idle": "2024-03-02T20:42:23.584388Z",
     "shell.execute_reply": "2024-03-02T20:42:23.582911Z"
    },
    "papermill": {
     "duration": 2.784609,
     "end_time": "2024-03-02T20:42:23.587818",
     "exception": false,
     "start_time": "2024-03-02T20:42:20.803209",
     "status": "completed"
    },
    "tags": []
   },
   "outputs": [
    {
     "data": {
      "application/vnd.jupyter.widget-view+json": {
       "model_id": "fdfeadba49524d9382d5c15f47fb18ab",
       "version_major": 2,
       "version_minor": 0
      },
      "text/plain": [
       "model.safetensors:   0%|          | 0.00/440M [00:00<?, ?B/s]"
      ]
     },
     "metadata": {},
     "output_type": "display_data"
    },
    {
     "name": "stdout",
     "output_type": "stream",
     "text": [
      "{'input_ids': tensor([[  101,  7592,  2026,  3899,  2003, 10140,   102]]), 'token_type_ids': tensor([[0, 0, 0, 0, 0, 0, 0]]), 'attention_mask': tensor([[1, 1, 1, 1, 1, 1, 1]])}\n",
      "7\n",
      "768\n",
      "768\n"
     ]
    }
   ],
   "source": [
    "model = BertModel.from_pretrained(\"bert-base-uncased\")\n",
    "\n",
    "inputs = tokenizer(\"Hello my dog is cute\", return_tensors=\"pt\")\n",
    "print(inputs)\n",
    "\n",
    "outputs = model(**inputs)\n",
    "\n",
    "print(len(outputs.last_hidden_state[0])) # => no. of tokens + [CLS] + [SEP]\n",
    "print(len(outputs.last_hidden_state[0][1])) # => hidden dim size\n",
    "print(len(outputs.last_hidden_state[0][2])) # => hidden dim size"
   ]
  },
  {
   "cell_type": "code",
   "execution_count": 12,
   "id": "ebec4d02",
   "metadata": {
    "execution": {
     "iopub.execute_input": "2024-03-02T20:42:23.617560Z",
     "iopub.status.busy": "2024-03-02T20:42:23.617201Z",
     "iopub.status.idle": "2024-03-02T20:42:24.606225Z",
     "shell.execute_reply": "2024-03-02T20:42:24.604874Z"
    },
    "papermill": {
     "duration": 1.005434,
     "end_time": "2024-03-02T20:42:24.609071",
     "exception": false,
     "start_time": "2024-03-02T20:42:23.603637",
     "status": "completed"
    },
    "tags": []
   },
   "outputs": [
    {
     "data": {
      "text/plain": [
       "torch.float32"
      ]
     },
     "execution_count": 12,
     "metadata": {},
     "output_type": "execute_result"
    }
   ],
   "source": [
    "temp = []\n",
    "model = BertModel.from_pretrained(\"bert-base-uncased\")\n",
    "\n",
    "for word in hate_words:\n",
    "    inputs = tokenizer(word, return_tensors=\"pt\")\n",
    "#     print(inputs)\n",
    "    outputs = model(**inputs)\n",
    "    outputs = torch.mean(outputs.last_hidden_state[0][1:len(outputs.last_hidden_state[0])], dim=0)\n",
    "    temp.append(outputs.tolist())\n",
    "\n",
    "# temp = temp[1:]\n",
    "# print(hate_space)\n",
    "# print(len(temp)) # => no. of words = no. of rows\n",
    "# print(len(temp[0])) # => no. of columns in each row = embedding vector size\n",
    "\n",
    "# hate_space = temp.clone().detach().requires_grad_(True)\n",
    "hate_space =torch.tensor(temp).to(device).requires_grad_()\n",
    "\n",
    "hate_space.is_leaf\n",
    "hate_space.dtype\n",
    "# hate_space\n",
    "# hate_space.requires_grad"
   ]
  },
  {
   "cell_type": "code",
   "execution_count": 13,
   "id": "4faee901",
   "metadata": {
    "execution": {
     "iopub.execute_input": "2024-03-02T20:42:24.644538Z",
     "iopub.status.busy": "2024-03-02T20:42:24.643643Z",
     "iopub.status.idle": "2024-03-02T20:42:25.492242Z",
     "shell.execute_reply": "2024-03-02T20:42:25.491242Z"
    },
    "papermill": {
     "duration": 0.871413,
     "end_time": "2024-03-02T20:42:25.494404",
     "exception": false,
     "start_time": "2024-03-02T20:42:24.622991",
     "status": "completed"
    },
    "tags": []
   },
   "outputs": [
    {
     "name": "stdout",
     "output_type": "stream",
     "text": [
      "True\n"
     ]
    }
   ],
   "source": [
    "temp = []\n",
    "model = BertModel.from_pretrained(\"bert-base-uncased\")\n",
    "\n",
    "# with torch.no_grad():\n",
    "for word in not_hate_words:\n",
    "    inputs = tokenizer(word, return_tensors=\"pt\")\n",
    "#     print(inputs)\n",
    "    outputs = model(**inputs)\n",
    "    outputs = torch.mean(outputs.last_hidden_state[0][1:len(outputs.last_hidden_state[0])], dim=0)\n",
    "    temp.append(outputs.tolist())\n",
    "\n",
    "# temp = temp[1:]\n",
    "# print(hate_space)\n",
    "# print(len(temp)) # => no. of words = no. of rows\n",
    "# print(len(temp[0])) # => no. of columns in each row = embedding vector size\n",
    "\n",
    "\n",
    "not_hate_space = torch.tensor(temp).to(device).requires_grad_()\n",
    "\n",
    "print(not_hate_space.is_leaf)\n",
    "\n",
    "# not_hate_space\n",
    "# not_hate_space.requires_grad"
   ]
  },
  {
   "cell_type": "code",
   "execution_count": 14,
   "id": "1d044579",
   "metadata": {
    "execution": {
     "iopub.execute_input": "2024-03-02T20:42:25.518322Z",
     "iopub.status.busy": "2024-03-02T20:42:25.517993Z",
     "iopub.status.idle": "2024-03-02T20:42:25.530096Z",
     "shell.execute_reply": "2024-03-02T20:42:25.529186Z"
    },
    "papermill": {
     "duration": 0.025902,
     "end_time": "2024-03-02T20:42:25.532333",
     "exception": false,
     "start_time": "2024-03-02T20:42:25.506431",
     "status": "completed"
    },
    "tags": []
   },
   "outputs": [
    {
     "name": "stdout",
     "output_type": "stream",
     "text": [
      "torch.Size([4, 768, 23])\n"
     ]
    },
    {
     "data": {
      "text/plain": [
       "torch.Size([4, 11, 23])"
      ]
     },
     "execution_count": 14,
     "metadata": {},
     "output_type": "execute_result"
    }
   ],
   "source": [
    "# Trial matmul\n",
    "\n",
    "t1 = torch.randn(11, 768)\n",
    "t2 = torch.randn(4, 23, 768)\n",
    "\n",
    "print(torch.transpose(t2, 1, 2).shape)\n",
    "\n",
    "torch.matmul(t1, torch.transpose(t2, 1, 2)).shape"
   ]
  },
  {
   "cell_type": "code",
   "execution_count": 15,
   "id": "0e427865",
   "metadata": {
    "execution": {
     "iopub.execute_input": "2024-03-02T20:42:25.558919Z",
     "iopub.status.busy": "2024-03-02T20:42:25.558142Z",
     "iopub.status.idle": "2024-03-02T20:42:25.563072Z",
     "shell.execute_reply": "2024-03-02T20:42:25.562220Z"
    },
    "papermill": {
     "duration": 0.021239,
     "end_time": "2024-03-02T20:42:25.565613",
     "exception": false,
     "start_time": "2024-03-02T20:42:25.544374",
     "status": "completed"
    },
    "tags": []
   },
   "outputs": [
    {
     "name": "stdout",
     "output_type": "stream",
     "text": [
      "hate_space.grad: None\n",
      "not_hate_space.grad: None\n"
     ]
    }
   ],
   "source": [
    "print(\"hate_space.grad:\", hate_space.grad)\n",
    "print(\"not_hate_space.grad:\", not_hate_space.grad)"
   ]
  },
  {
   "cell_type": "code",
   "execution_count": 16,
   "id": "dc8aa6d6",
   "metadata": {
    "execution": {
     "iopub.execute_input": "2024-03-02T20:42:25.590929Z",
     "iopub.status.busy": "2024-03-02T20:42:25.590590Z",
     "iopub.status.idle": "2024-03-02T20:42:25.596871Z",
     "shell.execute_reply": "2024-03-02T20:42:25.596002Z"
    },
    "papermill": {
     "duration": 0.021045,
     "end_time": "2024-03-02T20:42:25.598794",
     "exception": false,
     "start_time": "2024-03-02T20:42:25.577749",
     "status": "completed"
    },
    "tags": []
   },
   "outputs": [],
   "source": [
    "class Custom_Dataset(torch.utils.data.Dataset):\n",
    "    \n",
    "    def __init__(self, data, labels):\n",
    "        self.data = data\n",
    "        self.labels = labels\n",
    "        \n",
    "    def __getitem__(self, index: int) -> (torch.Tensor, int): # => (X, y)\n",
    "        \n",
    "        X = self.data[index]\n",
    "        y = self.labels[index]\n",
    "\n",
    "        return (X, y)\n",
    "    \n",
    "    \n",
    "    def __len__(self) -> int:\n",
    "        \n",
    "        return len(self.data)"
   ]
  },
  {
   "cell_type": "code",
   "execution_count": 17,
   "id": "54e94328",
   "metadata": {
    "execution": {
     "iopub.execute_input": "2024-03-02T20:42:25.623462Z",
     "iopub.status.busy": "2024-03-02T20:42:25.622566Z",
     "iopub.status.idle": "2024-03-02T20:42:26.737960Z",
     "shell.execute_reply": "2024-03-02T20:42:26.736878Z"
    },
    "papermill": {
     "duration": 1.130072,
     "end_time": "2024-03-02T20:42:26.739937",
     "exception": false,
     "start_time": "2024-03-02T20:42:25.609865",
     "status": "completed"
    },
    "tags": []
   },
   "outputs": [
    {
     "name": "stdout",
     "output_type": "stream",
     "text": [
      "19826 19826\n",
      "4957 4957\n"
     ]
    }
   ],
   "source": [
    "from sklearn.model_selection import train_test_split\n",
    "\n",
    "X_train, X_test, y_train, y_test = train_test_split(tweets, list(df.classk), test_size=0.2, shuffle=True)\n",
    "\n",
    "print(len(X_train), len(y_train))\n",
    "print(len(X_test), len(y_test))"
   ]
  },
  {
   "cell_type": "code",
   "execution_count": 18,
   "id": "b595a0d7",
   "metadata": {
    "execution": {
     "iopub.execute_input": "2024-03-02T20:42:26.763502Z",
     "iopub.status.busy": "2024-03-02T20:42:26.762992Z",
     "iopub.status.idle": "2024-03-02T20:42:26.768523Z",
     "shell.execute_reply": "2024-03-02T20:42:26.767679Z"
    },
    "papermill": {
     "duration": 0.019268,
     "end_time": "2024-03-02T20:42:26.770348",
     "exception": false,
     "start_time": "2024-03-02T20:42:26.751080",
     "status": "completed"
    },
    "tags": []
   },
   "outputs": [],
   "source": [
    "train_data = Custom_Dataset(data=X_train, labels=y_train)\n",
    "test_data = Custom_Dataset(data=X_test, labels=y_test)\n",
    "\n",
    "train_loader = torch.utils.data.DataLoader(dataset=train_data, batch_size=3, shuffle=True)\n",
    "test_loader = torch.utils.data.DataLoader(dataset=test_data, batch_size=1, shuffle=False)\n"
   ]
  },
  {
   "cell_type": "code",
   "execution_count": 19,
   "id": "1b43ab68",
   "metadata": {
    "execution": {
     "iopub.execute_input": "2024-03-02T20:42:26.793464Z",
     "iopub.status.busy": "2024-03-02T20:42:26.793130Z",
     "iopub.status.idle": "2024-03-02T20:42:26.799570Z",
     "shell.execute_reply": "2024-03-02T20:42:26.798705Z"
    },
    "papermill": {
     "duration": 0.020156,
     "end_time": "2024-03-02T20:42:26.801516",
     "exception": false,
     "start_time": "2024-03-02T20:42:26.781360",
     "status": "completed"
    },
    "tags": []
   },
   "outputs": [
    {
     "data": {
      "text/plain": [
       "[[0.536788003352408],\n",
       " [0.02247606182456985],\n",
       " [0.766621639831577],\n",
       " [-0.6232426616176117],\n",
       " [0.48791487035319836],\n",
       " [-0.06260294790170495],\n",
       " [0.15285452936165034],\n",
       " [-0.33400641656113783],\n",
       " [-0.7557834736689137],\n",
       " [-0.7133771460254767],\n",
       " [0.6064210389058633]]"
      ]
     },
     "execution_count": 19,
     "metadata": {},
     "output_type": "execute_result"
    }
   ],
   "source": [
    "import random\n",
    "l=[[random.uniform(-1,1)] for i in range(11)]\n",
    "l"
   ]
  },
  {
   "cell_type": "code",
   "execution_count": 20,
   "id": "1c8cf294",
   "metadata": {
    "execution": {
     "iopub.execute_input": "2024-03-02T20:42:26.825319Z",
     "iopub.status.busy": "2024-03-02T20:42:26.824688Z",
     "iopub.status.idle": "2024-03-02T20:42:26.830913Z",
     "shell.execute_reply": "2024-03-02T20:42:26.829892Z"
    },
    "papermill": {
     "duration": 0.020212,
     "end_time": "2024-03-02T20:42:26.832886",
     "exception": false,
     "start_time": "2024-03-02T20:42:26.812674",
     "status": "completed"
    },
    "tags": []
   },
   "outputs": [
    {
     "name": "stdout",
     "output_type": "stream",
     "text": [
      "cuda:0 True\n"
     ]
    }
   ],
   "source": [
    "# next(iter(test_loader)) \n",
    "tensor_shape = (11,1)\n",
    "hate_space_weights = torch.tensor(l).to(device).requires_grad_()\n",
    "not_hate_space_weights = torch.tensor(l).to(device).requires_grad_()\n",
    "\n",
    "print(hate_space_weights.device,not_hate_space_weights.is_leaf)"
   ]
  },
  {
   "cell_type": "code",
   "execution_count": 21,
   "id": "d86fd36e",
   "metadata": {
    "execution": {
     "iopub.execute_input": "2024-03-02T20:42:26.856856Z",
     "iopub.status.busy": "2024-03-02T20:42:26.856596Z",
     "iopub.status.idle": "2024-03-02T20:42:26.861902Z",
     "shell.execute_reply": "2024-03-02T20:42:26.861120Z"
    },
    "papermill": {
     "duration": 0.019424,
     "end_time": "2024-03-02T20:42:26.863806",
     "exception": false,
     "start_time": "2024-03-02T20:42:26.844382",
     "status": "completed"
    },
    "tags": []
   },
   "outputs": [
    {
     "data": {
      "text/plain": [
       "True"
      ]
     },
     "execution_count": 21,
     "metadata": {},
     "output_type": "execute_result"
    }
   ],
   "source": [
    "hate_space_weights.is_leaf"
   ]
  },
  {
   "cell_type": "code",
   "execution_count": 22,
   "id": "5c7f24ba",
   "metadata": {
    "execution": {
     "iopub.execute_input": "2024-03-02T20:42:26.887445Z",
     "iopub.status.busy": "2024-03-02T20:42:26.887146Z",
     "iopub.status.idle": "2024-03-02T20:42:26.896664Z",
     "shell.execute_reply": "2024-03-02T20:42:26.895842Z"
    },
    "papermill": {
     "duration": 0.023552,
     "end_time": "2024-03-02T20:42:26.898590",
     "exception": false,
     "start_time": "2024-03-02T20:42:26.875038",
     "status": "completed"
    },
    "tags": []
   },
   "outputs": [],
   "source": [
    "import torch.nn.functional as F\n",
    "\n",
    "class Model0(nn.Module):\n",
    "\n",
    "    def __init__(self, model, tokenizer):\n",
    "        super().__init__()\n",
    "        self.tokenizer = tokenizer\n",
    "        self.model = model\n",
    "\n",
    "    def forward(self, X):\n",
    "        inputs = self.tokenizer(X, return_tensors=\"pt\").to(device)\n",
    "        outputs = self.model(**inputs)\n",
    "        outputs = outputs.last_hidden_state.mean(1).transpose(0, 1)\n",
    "\n",
    "        col_norms = torch.norm(outputs, p=2, dim=0, keepdim=True)\n",
    "        outputs = outputs / col_norms\n",
    "        \n",
    "        Psk_hate = torch.matmul(torch.matmul(hate_space/torch.norm(hate_space,p=2, dim=0, keepdim=True),outputs).transpose(0, 1), hate_space_weights)\n",
    "        Psk_not_hate = torch.matmul(torch.matmul(not_hate_space/torch.norm(not_hate_space,p=2, dim=0, keepdim=True),outputs).transpose(0, 1), not_hate_space_weights)\n",
    "\n",
    "        # Construct the output tensor with requires_grad=True (assuming Psk_hate and Psk_not_hate have gradients)\n",
    "        output_tensor = torch.cat((Psk_hate, Psk_not_hate), dim=0).requires_grad_()\n",
    "\n",
    "        return output_tensor\n"
   ]
  },
  {
   "cell_type": "code",
   "execution_count": 23,
   "id": "33c4a7b5",
   "metadata": {
    "execution": {
     "iopub.execute_input": "2024-03-02T20:42:26.922137Z",
     "iopub.status.busy": "2024-03-02T20:42:26.921878Z",
     "iopub.status.idle": "2024-03-02T20:42:26.925924Z",
     "shell.execute_reply": "2024-03-02T20:42:26.925201Z"
    },
    "papermill": {
     "duration": 0.018026,
     "end_time": "2024-03-02T20:42:26.927853",
     "exception": false,
     "start_time": "2024-03-02T20:42:26.909827",
     "status": "completed"
    },
    "tags": []
   },
   "outputs": [],
   "source": [
    "model0 = Model0(model, tokenizer)\n",
    "\n",
    "# X, y = next(iter(train_loader))\n",
    "# Psk_hate, Psk_not_hate = model0(X)"
   ]
  },
  {
   "cell_type": "markdown",
   "id": "caacaed3",
   "metadata": {
    "papermill": {
     "duration": 0.011061,
     "end_time": "2024-03-02T20:42:26.950872",
     "exception": false,
     "start_time": "2024-03-02T20:42:26.939811",
     "status": "completed"
    },
    "tags": []
   },
   "source": [
    "# Semi-SSM"
   ]
  },
  {
   "cell_type": "code",
   "execution_count": 24,
   "id": "e9fd62db",
   "metadata": {
    "execution": {
     "iopub.execute_input": "2024-03-02T20:42:26.974695Z",
     "iopub.status.busy": "2024-03-02T20:42:26.974385Z",
     "iopub.status.idle": "2024-03-02T20:42:26.982070Z",
     "shell.execute_reply": "2024-03-02T20:42:26.981265Z"
    },
    "papermill": {
     "duration": 0.021845,
     "end_time": "2024-03-02T20:42:26.983954",
     "exception": false,
     "start_time": "2024-03-02T20:42:26.962109",
     "status": "completed"
    },
    "tags": []
   },
   "outputs": [],
   "source": [
    "def L_inter(spaces):\n",
    "    \n",
    "    means = [torch.mean(spaces[i]) for i in range(spaces.shape[0])]\n",
    "    \n",
    "    loss = torch.tensor(0.0, requires_grad=True)\n",
    "    \n",
    "    for k in range(len(means)):\n",
    "        cur = torch.tensor(0.0, requires_grad=True)\n",
    "        for l in range(len(means)):\n",
    "            if l == k:\n",
    "                continue\n",
    "            cur = cur + (1 / (1 - ((means[k] * means[l]))))\n",
    "        \n",
    "        loss = loss + cur\n",
    "    \n",
    "    return loss\n",
    "            \n",
    "            \n",
    "\n",
    "def L_intra(spaces):\n",
    "    loss=torch.tensor(0.0, requires_grad=True)\n",
    "    for k in range(len(spaces)):\n",
    "        loss=loss+1/torch.var(spaces[k], dim=0)\n",
    "    \n",
    "    return torch.sum(loss)/loss.shape[0]\n",
    "\n",
    "\n"
   ]
  },
  {
   "cell_type": "code",
   "execution_count": 25,
   "id": "87246249",
   "metadata": {
    "execution": {
     "iopub.execute_input": "2024-03-02T20:42:27.007883Z",
     "iopub.status.busy": "2024-03-02T20:42:27.007589Z",
     "iopub.status.idle": "2024-03-02T20:42:27.026148Z",
     "shell.execute_reply": "2024-03-02T20:42:27.025282Z"
    },
    "papermill": {
     "duration": 0.032583,
     "end_time": "2024-03-02T20:42:27.028027",
     "exception": false,
     "start_time": "2024-03-02T20:42:26.995444",
     "status": "completed"
    },
    "tags": []
   },
   "outputs": [
    {
     "data": {
      "text/plain": [
       "tensor(33.6994, grad_fn=<AddBackward0>)"
      ]
     },
     "execution_count": 25,
     "metadata": {},
     "output_type": "execute_result"
    }
   ],
   "source": [
    "L_inter(torch.concat((torch.tensor([[0.33, 0.54, 0.37], [0.72, 0.74, 0.31], [0.61, 0.26, 0.56]], dtype=torch.float32), \n",
    "       torch.tensor([[0.22, 0.32, 0.15], [0.12, -0.08, 0.45], [0.14, 0.28, -0.11]], dtype=torch.float32))))"
   ]
  },
  {
   "cell_type": "code",
   "execution_count": 26,
   "id": "e6a0777a",
   "metadata": {
    "execution": {
     "iopub.execute_input": "2024-03-02T20:42:27.052402Z",
     "iopub.status.busy": "2024-03-02T20:42:27.052072Z",
     "iopub.status.idle": "2024-03-02T20:42:27.055880Z",
     "shell.execute_reply": "2024-03-02T20:42:27.055069Z"
    },
    "papermill": {
     "duration": 0.018028,
     "end_time": "2024-03-02T20:42:27.057743",
     "exception": false,
     "start_time": "2024-03-02T20:42:27.039715",
     "status": "completed"
    },
    "tags": []
   },
   "outputs": [],
   "source": [
    "# temp = torch.tensor(10.3, requires_grad=True)\n",
    "\n",
    "# temp"
   ]
  },
  {
   "cell_type": "code",
   "execution_count": 27,
   "id": "e0b96756",
   "metadata": {
    "_kg_hide-input": true,
    "execution": {
     "iopub.execute_input": "2024-03-02T20:42:27.081743Z",
     "iopub.status.busy": "2024-03-02T20:42:27.081461Z",
     "iopub.status.idle": "2024-03-02T20:42:27.084950Z",
     "shell.execute_reply": "2024-03-02T20:42:27.084109Z"
    },
    "papermill": {
     "duration": 0.017695,
     "end_time": "2024-03-02T20:42:27.086871",
     "exception": false,
     "start_time": "2024-03-02T20:42:27.069176",
     "status": "completed"
    },
    "tags": []
   },
   "outputs": [],
   "source": [
    "# res = [temp, temp]\n",
    "\n",
    "# loss = 0\n",
    "\n",
    "# loss += res[0] * res[1]\n",
    "\n",
    "# loss"
   ]
  },
  {
   "cell_type": "code",
   "execution_count": 28,
   "id": "0b1deac1",
   "metadata": {
    "execution": {
     "iopub.execute_input": "2024-03-02T20:42:27.112300Z",
     "iopub.status.busy": "2024-03-02T20:42:27.111985Z",
     "iopub.status.idle": "2024-03-02T20:42:27.329146Z",
     "shell.execute_reply": "2024-03-02T20:42:27.328225Z"
    },
    "papermill": {
     "duration": 0.231878,
     "end_time": "2024-03-02T20:42:27.331390",
     "exception": false,
     "start_time": "2024-03-02T20:42:27.099512",
     "status": "completed"
    },
    "tags": []
   },
   "outputs": [
    {
     "name": "stdout",
     "output_type": "stream",
     "text": [
      "tensor([[ 0.8009,  0.2601,  0.2316,  ...,  0.0455,  0.0118, -0.0370],\n",
      "        [ 0.1845, -0.0866,  0.1542,  ..., -0.2302, -0.3558, -0.2348],\n",
      "        [ 0.6341,  0.0180, -0.3330,  ...,  0.1851, -0.3067, -0.4023],\n",
      "        ...,\n",
      "        [ 0.8014,  0.2637,  0.2895,  ...,  0.1221,  0.1728, -0.4732],\n",
      "        [ 0.5409,  0.4092, -0.2325,  ...,  0.1790, -0.2709, -0.0346],\n",
      "        [ 0.5508,  0.1983,  0.0521,  ...,  0.3905, -0.0753, -0.5880]],\n",
      "       device='cuda:0', requires_grad=True) tensor([[ 0.5933,  0.2685, -0.0267,  ..., -0.4845, -0.4192, -0.3698],\n",
      "        [ 0.2493,  0.1343, -0.1606,  ..., -0.1305, -0.3765, -0.3898],\n",
      "        [ 0.0551, -0.1996, -0.1785,  ..., -0.0520, -0.1908, -0.2057],\n",
      "        ...,\n",
      "        [ 0.2502, -0.2729, -0.2597,  ...,  0.1696, -0.5105, -0.0785],\n",
      "        [ 0.2900, -0.2058, -0.1541,  ..., -0.0185, -0.5686,  0.0864],\n",
      "        [ 0.2823, -0.0846, -0.1393,  ...,  0.1534, -0.2074, -0.2804]],\n",
      "       device='cuda:0', requires_grad=True)\n"
     ]
    }
   ],
   "source": [
    "print(hate_space,not_hate_space)"
   ]
  },
  {
   "cell_type": "code",
   "execution_count": 29,
   "id": "4012e006",
   "metadata": {
    "execution": {
     "iopub.execute_input": "2024-03-02T20:42:27.356734Z",
     "iopub.status.busy": "2024-03-02T20:42:27.356425Z",
     "iopub.status.idle": "2024-03-02T20:42:27.364017Z",
     "shell.execute_reply": "2024-03-02T20:42:27.362946Z"
    },
    "papermill": {
     "duration": 0.022617,
     "end_time": "2024-03-02T20:42:27.365979",
     "exception": false,
     "start_time": "2024-03-02T20:42:27.343362",
     "status": "completed"
    },
    "tags": []
   },
   "outputs": [
    {
     "name": "stdout",
     "output_type": "stream",
     "text": [
      "tensor([[ 0.5368],\n",
      "        [ 0.0225],\n",
      "        [ 0.7666],\n",
      "        [-0.6232],\n",
      "        [ 0.4879],\n",
      "        [-0.0626],\n",
      "        [ 0.1529],\n",
      "        [-0.3340],\n",
      "        [-0.7558],\n",
      "        [-0.7134],\n",
      "        [ 0.6064]], device='cuda:0', requires_grad=True) tensor([[ 0.5368],\n",
      "        [ 0.0225],\n",
      "        [ 0.7666],\n",
      "        [-0.6232],\n",
      "        [ 0.4879],\n",
      "        [-0.0626],\n",
      "        [ 0.1529],\n",
      "        [-0.3340],\n",
      "        [-0.7558],\n",
      "        [-0.7134],\n",
      "        [ 0.6064]], device='cuda:0', requires_grad=True)\n"
     ]
    }
   ],
   "source": [
    "print(hate_space_weights,not_hate_space_weights)"
   ]
  },
  {
   "cell_type": "code",
   "execution_count": 30,
   "id": "741f87be",
   "metadata": {
    "execution": {
     "iopub.execute_input": "2024-03-02T20:42:27.390702Z",
     "iopub.status.busy": "2024-03-02T20:42:27.390412Z",
     "iopub.status.idle": "2024-03-02T22:39:18.688099Z",
     "shell.execute_reply": "2024-03-02T22:39:18.687112Z"
    },
    "papermill": {
     "duration": 7011.312864,
     "end_time": "2024-03-02T22:39:18.690592",
     "exception": false,
     "start_time": "2024-03-02T20:42:27.377728",
     "status": "completed"
    },
    "tags": []
   },
   "outputs": [
    {
     "name": "stdout",
     "output_type": "stream",
     "text": [
      "True\n",
      "0\n",
      "500\n",
      "1000\n",
      "1500\n",
      "2000\n",
      "2500\n",
      "3000\n",
      "3500\n",
      "4000\n",
      "4500\n",
      "5000\n",
      "5500\n",
      "6000\n",
      "6500\n",
      "0\n",
      "500\n",
      "1000\n",
      "1500\n",
      "2000\n",
      "2500\n",
      "3000\n",
      "3500\n",
      "4000\n",
      "4500\n",
      "5000\n",
      "5500\n",
      "6000\n",
      "6500\n",
      "0\n",
      "500\n",
      "1000\n",
      "1500\n",
      "2000\n",
      "2500\n",
      "3000\n",
      "3500\n",
      "4000\n",
      "4500\n",
      "5000\n",
      "5500\n",
      "6000\n",
      "6500\n",
      "0\n",
      "500\n",
      "1000\n",
      "1500\n",
      "2000\n",
      "2500\n",
      "3000\n",
      "3500\n",
      "4000\n",
      "4500\n",
      "5000\n",
      "5500\n",
      "6000\n",
      "6500\n",
      "0\n",
      "500\n",
      "1000\n",
      "1500\n",
      "2000\n",
      "2500\n",
      "3000\n",
      "3500\n",
      "4000\n",
      "4500\n",
      "5000\n",
      "5500\n",
      "6000\n",
      "6500\n",
      "0\n",
      "500\n",
      "1000\n",
      "1500\n",
      "2000\n",
      "2500\n",
      "3000\n",
      "3500\n",
      "4000\n",
      "4500\n",
      "5000\n",
      "5500\n",
      "6000\n",
      "6500\n",
      "0\n",
      "500\n",
      "1000\n",
      "1500\n",
      "2000\n",
      "2500\n",
      "3000\n",
      "3500\n",
      "4000\n",
      "4500\n",
      "5000\n",
      "5500\n",
      "6000\n",
      "6500\n"
     ]
    }
   ],
   "source": [
    "model0.to(device)\n",
    "# hate_space = hate_space.to(device)\n",
    "# not_hate_space = not_hate_space.to(device)\n",
    "# hate_space_weights = hate_space_weights.to(device)\n",
    "# not_hate_space_weights = not_hate_space_weights.to(device)\n",
    "print(hate_space.is_leaf)\n",
    "optimizer = torch.optim.Adam(params=[hate_space, not_hate_space, hate_space_weights, not_hate_space_weights], lr=0.01)\n",
    "model0.train()\n",
    "#criterion = nn.CrossEntropyLoss()\n",
    "model0.train()\n",
    "# with torch.inference_mode():\n",
    "for _ in range(7):\n",
    "    for i, batch in enumerate(train_loader):\n",
    "#         if i == 1:\n",
    "#             break\n",
    "        if i % 500 == 0:\n",
    "            print(i)\n",
    "\n",
    "        x, Y = batch\n",
    "        loss = 0\n",
    "\n",
    "        for X, y in zip(x, Y):\n",
    "            y_preds = model0(X)\n",
    "#             print(y_preds)\n",
    "\n",
    "            # Use long instead of float for target labels\n",
    "            #print(hate_space.requires_grad)\n",
    "#             print(y)\n",
    "#             target = torch.tensor([y,1-y]).long().to(device)\n",
    "# #             print(target)\n",
    "#             loss += F.binary_cross_entropy_with_logits(y_preds.squeeze(), target.float())\n",
    "            loss+=F.cross_entropy(y_preds.view(1, -1).to(device), torch.tensor([y]).to(device))\n",
    "            #loss=torch.sum(y_preds)\n",
    "#             print(loss)\n",
    "        loss /= len(x)\n",
    "        loss += 0.7*L_inter(torch.cat((hate_space, not_hate_space))) + 0.5*L_intra(torch.stack([hate_space, not_hate_space]))\n",
    "            \n",
    "        optimizer.zero_grad()\n",
    "#         print(\"Before backward pass:\")\n",
    "#         print(\"hate_space.grad:\", hate_space.grad)\n",
    "#         print(\"not_hate_space.grad:\", not_hate_space.grad)\n",
    "        loss.backward()\n",
    "        optimizer.step()\n",
    "#         print(\"\\nAfter backward pass:\")\n",
    "#         print(\"hate_space.grad:\", hate_space.grad)\n",
    "#         print(\"not_hate_space.grad:\", not_hate_space.grad)\n",
    "#         print(not_hate_space_weights.grad)\n",
    "\n",
    "\n"
   ]
  },
  {
   "cell_type": "code",
   "execution_count": 31,
   "id": "acb9de55",
   "metadata": {
    "execution": {
     "iopub.execute_input": "2024-03-02T22:39:18.729793Z",
     "iopub.status.busy": "2024-03-02T22:39:18.729507Z",
     "iopub.status.idle": "2024-03-02T22:39:18.737602Z",
     "shell.execute_reply": "2024-03-02T22:39:18.736624Z"
    },
    "papermill": {
     "duration": 0.029707,
     "end_time": "2024-03-02T22:39:18.739485",
     "exception": false,
     "start_time": "2024-03-02T22:39:18.709778",
     "status": "completed"
    },
    "tags": []
   },
   "outputs": [
    {
     "name": "stdout",
     "output_type": "stream",
     "text": [
      "tensor([[ 0.2184],\n",
      "        [ 0.4417],\n",
      "        [ 0.3443],\n",
      "        [ 0.0212],\n",
      "        [ 0.3267],\n",
      "        [-0.1519],\n",
      "        [-0.6596],\n",
      "        [-0.1515],\n",
      "        [ 0.0162],\n",
      "        [-0.5619],\n",
      "        [ 0.4082]], device='cuda:0', requires_grad=True) tensor([[ 1.2166],\n",
      "        [ 0.1021],\n",
      "        [ 2.1462],\n",
      "        [-2.3334],\n",
      "        [ 0.9624],\n",
      "        [ 0.5618],\n",
      "        [ 0.9135],\n",
      "        [-0.0469],\n",
      "        [-1.9235],\n",
      "        [-2.0891],\n",
      "        [ 1.4256]], device='cuda:0', requires_grad=True)\n"
     ]
    }
   ],
   "source": [
    "print(hate_space_weights,not_hate_space_weights)"
   ]
  },
  {
   "cell_type": "code",
   "execution_count": 32,
   "id": "733f8768",
   "metadata": {
    "execution": {
     "iopub.execute_input": "2024-03-02T22:39:18.778913Z",
     "iopub.status.busy": "2024-03-02T22:39:18.778628Z",
     "iopub.status.idle": "2024-03-02T22:39:18.787919Z",
     "shell.execute_reply": "2024-03-02T22:39:18.786944Z"
    },
    "papermill": {
     "duration": 0.03142,
     "end_time": "2024-03-02T22:39:18.789892",
     "exception": false,
     "start_time": "2024-03-02T22:39:18.758472",
     "status": "completed"
    },
    "tags": []
   },
   "outputs": [
    {
     "name": "stdout",
     "output_type": "stream",
     "text": [
      "tensor([[ 1.4342,  0.6575,  2.0962,  ..., -1.1940, -0.2945,  0.2111],\n",
      "        [-1.9795, -2.7136,  2.4999,  ..., -1.3110, -4.0037,  0.2744],\n",
      "        [ 0.6824, -0.3327,  0.9927,  ..., -0.6694, -1.5495, -1.2297],\n",
      "        ...,\n",
      "        [ 1.6663,  0.4299, -0.0920,  ...,  1.2879,  1.6692, -0.4507],\n",
      "        [-0.4982,  1.2775, -3.4238,  ...,  2.3730,  0.0772,  0.9298],\n",
      "        [ 0.6440,  0.4243,  2.2190,  ...,  0.0584, -0.7224, -1.7364]],\n",
      "       device='cuda:0', requires_grad=True) tensor([[  1.5891,   2.0313,  -4.1331,  ...,   0.3269,   1.2781,  -2.9916],\n",
      "        [-11.3057,  13.6961,   1.4590,  ...,  -5.6035, -16.7323, -12.1034],\n",
      "        [ -0.9088,  -0.2398, -10.9882,  ...,   4.1281,   3.8383,  -0.1686],\n",
      "        ...,\n",
      "        [  0.0645,  -1.5408,   2.0283,  ...,  -1.1262,  -2.9968,   0.8009],\n",
      "        [  0.0351,  -1.5549,   6.0622,  ...,  -3.5864,  -2.7884,   1.3702],\n",
      "        [ -0.3182,  -0.1464,  -2.4753,  ...,  11.6709,   4.7004,  -2.5208]],\n",
      "       device='cuda:0', requires_grad=True)\n"
     ]
    }
   ],
   "source": [
    "print(hate_space,not_hate_space)"
   ]
  },
  {
   "cell_type": "code",
   "execution_count": 33,
   "id": "d391293e",
   "metadata": {
    "execution": {
     "iopub.execute_input": "2024-03-02T22:39:18.829197Z",
     "iopub.status.busy": "2024-03-02T22:39:18.828930Z",
     "iopub.status.idle": "2024-03-02T22:39:18.834636Z",
     "shell.execute_reply": "2024-03-02T22:39:18.833871Z"
    },
    "papermill": {
     "duration": 0.027537,
     "end_time": "2024-03-02T22:39:18.836502",
     "exception": false,
     "start_time": "2024-03-02T22:39:18.808965",
     "status": "completed"
    },
    "tags": []
   },
   "outputs": [
    {
     "data": {
      "text/plain": [
       "torch.Size([22, 768])"
      ]
     },
     "execution_count": 33,
     "metadata": {},
     "output_type": "execute_result"
    }
   ],
   "source": [
    "torch.concat((hate_space, not_hate_space)).shape"
   ]
  },
  {
   "cell_type": "code",
   "execution_count": 34,
   "id": "aac88540",
   "metadata": {
    "execution": {
     "iopub.execute_input": "2024-03-02T22:39:18.876136Z",
     "iopub.status.busy": "2024-03-02T22:39:18.875880Z",
     "iopub.status.idle": "2024-03-02T22:40:05.919210Z",
     "shell.execute_reply": "2024-03-02T22:40:05.918049Z"
    },
    "papermill": {
     "duration": 47.065481,
     "end_time": "2024-03-02T22:40:05.921312",
     "exception": false,
     "start_time": "2024-03-02T22:39:18.855831",
     "status": "completed"
    },
    "tags": []
   },
   "outputs": [
    {
     "name": "stdout",
     "output_type": "stream",
     "text": [
      "0\n",
      "1000\n",
      "2000\n",
      "3000\n",
      "4000\n",
      "Test Accuracy: 0.8731087446212769\n",
      "Test Accuracy: 0.8731087446212769\n"
     ]
    }
   ],
   "source": [
    "correct = 0\n",
    "total = len(y_test)\n",
    "\n",
    "true = []\n",
    "preds = []\n",
    "\n",
    "with torch.inference_mode():\n",
    "    for i, batch in enumerate(test_loader):\n",
    "        if i % 1000 == 0:\n",
    "            print(i)\n",
    "        X, y = batch\n",
    "        Psk_hate, Psk_not_hate = model0(X)\n",
    "\n",
    "        y_predict = torch.argmax(torch.tensor([Psk_hate.mean().item(), Psk_not_hate.mean().item()]))\n",
    "\n",
    "        true.extend(y)\n",
    "        preds.append(y_predict)\n",
    "\n",
    "        cur = torch.eq(y_predict, y)\n",
    "\n",
    "        correct += torch.sum(cur)\n",
    "\n",
    "print(f\"Test Accuracy: {correct/total}\")\n",
    "print(f\"Test Accuracy: {torch.sum(torch.eq(torch.tensor(true), torch.tensor(preds))) / total}\")       "
   ]
  },
  {
   "cell_type": "code",
   "execution_count": 35,
   "id": "29b898ae",
   "metadata": {
    "execution": {
     "iopub.execute_input": "2024-03-02T22:40:05.963275Z",
     "iopub.status.busy": "2024-03-02T22:40:05.962948Z",
     "iopub.status.idle": "2024-03-02T22:40:06.480872Z",
     "shell.execute_reply": "2024-03-02T22:40:06.479967Z"
    },
    "papermill": {
     "duration": 0.541181,
     "end_time": "2024-03-02T22:40:06.483171",
     "exception": false,
     "start_time": "2024-03-02T22:40:05.941990",
     "status": "completed"
    },
    "tags": []
   },
   "outputs": [
    {
     "name": "stdout",
     "output_type": "stream",
     "text": [
      "0.7682538420200873\n",
      "0.808759438699185\n"
     ]
    }
   ],
   "source": [
    "from sklearn.metrics import precision_score, recall_score\n",
    "\n",
    "print(precision_score(y_test, preds, average='macro'))\n",
    "print(recall_score(y_test, preds, average='macro'))"
   ]
  }
 ],
 "metadata": {
  "kaggle": {
   "accelerator": "gpu",
   "dataSources": [
    {
     "datasetId": 4384787,
     "sourceId": 7528128,
     "sourceType": "datasetVersion"
    }
   ],
   "dockerImageVersionId": 30648,
   "isGpuEnabled": true,
   "isInternetEnabled": true,
   "language": "python",
   "sourceType": "notebook"
  },
  "kernelspec": {
   "display_name": "Python 3",
   "language": "python",
   "name": "python3"
  },
  "language_info": {
   "codemirror_mode": {
    "name": "ipython",
    "version": 3
   },
   "file_extension": ".py",
   "mimetype": "text/x-python",
   "name": "python",
   "nbconvert_exporter": "python",
   "pygments_lexer": "ipython3",
   "version": "3.10.13"
  },
  "papermill": {
   "default_parameters": {},
   "duration": 7081.212533,
   "end_time": "2024-03-02T22:40:09.255828",
   "environment_variables": {},
   "exception": null,
   "input_path": "__notebook__.ipynb",
   "output_path": "__notebook__.ipynb",
   "parameters": {},
   "start_time": "2024-03-02T20:42:08.043295",
   "version": "2.5.0"
  },
  "widgets": {
   "application/vnd.jupyter.widget-state+json": {
    "state": {
     "0490881157c549469e8dccc20d9d9bf1": {
      "model_module": "@jupyter-widgets/controls",
      "model_module_version": "1.5.0",
      "model_name": "DescriptionStyleModel",
      "state": {
       "_model_module": "@jupyter-widgets/controls",
       "_model_module_version": "1.5.0",
       "_model_name": "DescriptionStyleModel",
       "_view_count": null,
       "_view_module": "@jupyter-widgets/base",
       "_view_module_version": "1.2.0",
       "_view_name": "StyleView",
       "description_width": ""
      }
     },
     "08822328e1964780ac9ff3893b01533c": {
      "model_module": "@jupyter-widgets/base",
      "model_module_version": "1.2.0",
      "model_name": "LayoutModel",
      "state": {
       "_model_module": "@jupyter-widgets/base",
       "_model_module_version": "1.2.0",
       "_model_name": "LayoutModel",
       "_view_count": null,
       "_view_module": "@jupyter-widgets/base",
       "_view_module_version": "1.2.0",
       "_view_name": "LayoutView",
       "align_content": null,
       "align_items": null,
       "align_self": null,
       "border": null,
       "bottom": null,
       "display": null,
       "flex": null,
       "flex_flow": null,
       "grid_area": null,
       "grid_auto_columns": null,
       "grid_auto_flow": null,
       "grid_auto_rows": null,
       "grid_column": null,
       "grid_gap": null,
       "grid_row": null,
       "grid_template_areas": null,
       "grid_template_columns": null,
       "grid_template_rows": null,
       "height": null,
       "justify_content": null,
       "justify_items": null,
       "left": null,
       "margin": null,
       "max_height": null,
       "max_width": null,
       "min_height": null,
       "min_width": null,
       "object_fit": null,
       "object_position": null,
       "order": null,
       "overflow": null,
       "overflow_x": null,
       "overflow_y": null,
       "padding": null,
       "right": null,
       "top": null,
       "visibility": null,
       "width": null
      }
     },
     "0eafde0d18474147af9e716f3acc68bf": {
      "model_module": "@jupyter-widgets/base",
      "model_module_version": "1.2.0",
      "model_name": "LayoutModel",
      "state": {
       "_model_module": "@jupyter-widgets/base",
       "_model_module_version": "1.2.0",
       "_model_name": "LayoutModel",
       "_view_count": null,
       "_view_module": "@jupyter-widgets/base",
       "_view_module_version": "1.2.0",
       "_view_name": "LayoutView",
       "align_content": null,
       "align_items": null,
       "align_self": null,
       "border": null,
       "bottom": null,
       "display": null,
       "flex": null,
       "flex_flow": null,
       "grid_area": null,
       "grid_auto_columns": null,
       "grid_auto_flow": null,
       "grid_auto_rows": null,
       "grid_column": null,
       "grid_gap": null,
       "grid_row": null,
       "grid_template_areas": null,
       "grid_template_columns": null,
       "grid_template_rows": null,
       "height": null,
       "justify_content": null,
       "justify_items": null,
       "left": null,
       "margin": null,
       "max_height": null,
       "max_width": null,
       "min_height": null,
       "min_width": null,
       "object_fit": null,
       "object_position": null,
       "order": null,
       "overflow": null,
       "overflow_x": null,
       "overflow_y": null,
       "padding": null,
       "right": null,
       "top": null,
       "visibility": null,
       "width": null
      }
     },
     "129a85c39bde4504813cf25a7a36c5f6": {
      "model_module": "@jupyter-widgets/controls",
      "model_module_version": "1.5.0",
      "model_name": "ProgressStyleModel",
      "state": {
       "_model_module": "@jupyter-widgets/controls",
       "_model_module_version": "1.5.0",
       "_model_name": "ProgressStyleModel",
       "_view_count": null,
       "_view_module": "@jupyter-widgets/base",
       "_view_module_version": "1.2.0",
       "_view_name": "StyleView",
       "bar_color": null,
       "description_width": ""
      }
     },
     "13c4d20e972a44d9b5ffc85d2d77debb": {
      "model_module": "@jupyter-widgets/base",
      "model_module_version": "1.2.0",
      "model_name": "LayoutModel",
      "state": {
       "_model_module": "@jupyter-widgets/base",
       "_model_module_version": "1.2.0",
       "_model_name": "LayoutModel",
       "_view_count": null,
       "_view_module": "@jupyter-widgets/base",
       "_view_module_version": "1.2.0",
       "_view_name": "LayoutView",
       "align_content": null,
       "align_items": null,
       "align_self": null,
       "border": null,
       "bottom": null,
       "display": null,
       "flex": null,
       "flex_flow": null,
       "grid_area": null,
       "grid_auto_columns": null,
       "grid_auto_flow": null,
       "grid_auto_rows": null,
       "grid_column": null,
       "grid_gap": null,
       "grid_row": null,
       "grid_template_areas": null,
       "grid_template_columns": null,
       "grid_template_rows": null,
       "height": null,
       "justify_content": null,
       "justify_items": null,
       "left": null,
       "margin": null,
       "max_height": null,
       "max_width": null,
       "min_height": null,
       "min_width": null,
       "object_fit": null,
       "object_position": null,
       "order": null,
       "overflow": null,
       "overflow_x": null,
       "overflow_y": null,
       "padding": null,
       "right": null,
       "top": null,
       "visibility": null,
       "width": null
      }
     },
     "1a50a8ae0a864b979f335e17aabc4d61": {
      "model_module": "@jupyter-widgets/base",
      "model_module_version": "1.2.0",
      "model_name": "LayoutModel",
      "state": {
       "_model_module": "@jupyter-widgets/base",
       "_model_module_version": "1.2.0",
       "_model_name": "LayoutModel",
       "_view_count": null,
       "_view_module": "@jupyter-widgets/base",
       "_view_module_version": "1.2.0",
       "_view_name": "LayoutView",
       "align_content": null,
       "align_items": null,
       "align_self": null,
       "border": null,
       "bottom": null,
       "display": null,
       "flex": null,
       "flex_flow": null,
       "grid_area": null,
       "grid_auto_columns": null,
       "grid_auto_flow": null,
       "grid_auto_rows": null,
       "grid_column": null,
       "grid_gap": null,
       "grid_row": null,
       "grid_template_areas": null,
       "grid_template_columns": null,
       "grid_template_rows": null,
       "height": null,
       "justify_content": null,
       "justify_items": null,
       "left": null,
       "margin": null,
       "max_height": null,
       "max_width": null,
       "min_height": null,
       "min_width": null,
       "object_fit": null,
       "object_position": null,
       "order": null,
       "overflow": null,
       "overflow_x": null,
       "overflow_y": null,
       "padding": null,
       "right": null,
       "top": null,
       "visibility": null,
       "width": null
      }
     },
     "1d136e636a8041e7867105137f1cd639": {
      "model_module": "@jupyter-widgets/base",
      "model_module_version": "1.2.0",
      "model_name": "LayoutModel",
      "state": {
       "_model_module": "@jupyter-widgets/base",
       "_model_module_version": "1.2.0",
       "_model_name": "LayoutModel",
       "_view_count": null,
       "_view_module": "@jupyter-widgets/base",
       "_view_module_version": "1.2.0",
       "_view_name": "LayoutView",
       "align_content": null,
       "align_items": null,
       "align_self": null,
       "border": null,
       "bottom": null,
       "display": null,
       "flex": null,
       "flex_flow": null,
       "grid_area": null,
       "grid_auto_columns": null,
       "grid_auto_flow": null,
       "grid_auto_rows": null,
       "grid_column": null,
       "grid_gap": null,
       "grid_row": null,
       "grid_template_areas": null,
       "grid_template_columns": null,
       "grid_template_rows": null,
       "height": null,
       "justify_content": null,
       "justify_items": null,
       "left": null,
       "margin": null,
       "max_height": null,
       "max_width": null,
       "min_height": null,
       "min_width": null,
       "object_fit": null,
       "object_position": null,
       "order": null,
       "overflow": null,
       "overflow_x": null,
       "overflow_y": null,
       "padding": null,
       "right": null,
       "top": null,
       "visibility": null,
       "width": null
      }
     },
     "1d91241f3b944d8dbe10d52de8be626f": {
      "model_module": "@jupyter-widgets/base",
      "model_module_version": "1.2.0",
      "model_name": "LayoutModel",
      "state": {
       "_model_module": "@jupyter-widgets/base",
       "_model_module_version": "1.2.0",
       "_model_name": "LayoutModel",
       "_view_count": null,
       "_view_module": "@jupyter-widgets/base",
       "_view_module_version": "1.2.0",
       "_view_name": "LayoutView",
       "align_content": null,
       "align_items": null,
       "align_self": null,
       "border": null,
       "bottom": null,
       "display": null,
       "flex": null,
       "flex_flow": null,
       "grid_area": null,
       "grid_auto_columns": null,
       "grid_auto_flow": null,
       "grid_auto_rows": null,
       "grid_column": null,
       "grid_gap": null,
       "grid_row": null,
       "grid_template_areas": null,
       "grid_template_columns": null,
       "grid_template_rows": null,
       "height": null,
       "justify_content": null,
       "justify_items": null,
       "left": null,
       "margin": null,
       "max_height": null,
       "max_width": null,
       "min_height": null,
       "min_width": null,
       "object_fit": null,
       "object_position": null,
       "order": null,
       "overflow": null,
       "overflow_x": null,
       "overflow_y": null,
       "padding": null,
       "right": null,
       "top": null,
       "visibility": null,
       "width": null
      }
     },
     "1eea475be35548f19c78820d82030306": {
      "model_module": "@jupyter-widgets/controls",
      "model_module_version": "1.5.0",
      "model_name": "DescriptionStyleModel",
      "state": {
       "_model_module": "@jupyter-widgets/controls",
       "_model_module_version": "1.5.0",
       "_model_name": "DescriptionStyleModel",
       "_view_count": null,
       "_view_module": "@jupyter-widgets/base",
       "_view_module_version": "1.2.0",
       "_view_name": "StyleView",
       "description_width": ""
      }
     },
     "2a4d8264870e465ea0a1a3584f2eadb2": {
      "model_module": "@jupyter-widgets/controls",
      "model_module_version": "1.5.0",
      "model_name": "DescriptionStyleModel",
      "state": {
       "_model_module": "@jupyter-widgets/controls",
       "_model_module_version": "1.5.0",
       "_model_name": "DescriptionStyleModel",
       "_view_count": null,
       "_view_module": "@jupyter-widgets/base",
       "_view_module_version": "1.2.0",
       "_view_name": "StyleView",
       "description_width": ""
      }
     },
     "2ae126c8d5544657b6c7bdd3281f1bee": {
      "model_module": "@jupyter-widgets/controls",
      "model_module_version": "1.5.0",
      "model_name": "ProgressStyleModel",
      "state": {
       "_model_module": "@jupyter-widgets/controls",
       "_model_module_version": "1.5.0",
       "_model_name": "ProgressStyleModel",
       "_view_count": null,
       "_view_module": "@jupyter-widgets/base",
       "_view_module_version": "1.2.0",
       "_view_name": "StyleView",
       "bar_color": null,
       "description_width": ""
      }
     },
     "317cb1280b2346c387ee4cdc305575ca": {
      "model_module": "@jupyter-widgets/base",
      "model_module_version": "1.2.0",
      "model_name": "LayoutModel",
      "state": {
       "_model_module": "@jupyter-widgets/base",
       "_model_module_version": "1.2.0",
       "_model_name": "LayoutModel",
       "_view_count": null,
       "_view_module": "@jupyter-widgets/base",
       "_view_module_version": "1.2.0",
       "_view_name": "LayoutView",
       "align_content": null,
       "align_items": null,
       "align_self": null,
       "border": null,
       "bottom": null,
       "display": null,
       "flex": null,
       "flex_flow": null,
       "grid_area": null,
       "grid_auto_columns": null,
       "grid_auto_flow": null,
       "grid_auto_rows": null,
       "grid_column": null,
       "grid_gap": null,
       "grid_row": null,
       "grid_template_areas": null,
       "grid_template_columns": null,
       "grid_template_rows": null,
       "height": null,
       "justify_content": null,
       "justify_items": null,
       "left": null,
       "margin": null,
       "max_height": null,
       "max_width": null,
       "min_height": null,
       "min_width": null,
       "object_fit": null,
       "object_position": null,
       "order": null,
       "overflow": null,
       "overflow_x": null,
       "overflow_y": null,
       "padding": null,
       "right": null,
       "top": null,
       "visibility": null,
       "width": null
      }
     },
     "3907924981a24a928687c5322414887c": {
      "model_module": "@jupyter-widgets/controls",
      "model_module_version": "1.5.0",
      "model_name": "DescriptionStyleModel",
      "state": {
       "_model_module": "@jupyter-widgets/controls",
       "_model_module_version": "1.5.0",
       "_model_name": "DescriptionStyleModel",
       "_view_count": null,
       "_view_module": "@jupyter-widgets/base",
       "_view_module_version": "1.2.0",
       "_view_name": "StyleView",
       "description_width": ""
      }
     },
     "3cf329d4690c4ffaa1c2d16f2a4c0b99": {
      "model_module": "@jupyter-widgets/base",
      "model_module_version": "1.2.0",
      "model_name": "LayoutModel",
      "state": {
       "_model_module": "@jupyter-widgets/base",
       "_model_module_version": "1.2.0",
       "_model_name": "LayoutModel",
       "_view_count": null,
       "_view_module": "@jupyter-widgets/base",
       "_view_module_version": "1.2.0",
       "_view_name": "LayoutView",
       "align_content": null,
       "align_items": null,
       "align_self": null,
       "border": null,
       "bottom": null,
       "display": null,
       "flex": null,
       "flex_flow": null,
       "grid_area": null,
       "grid_auto_columns": null,
       "grid_auto_flow": null,
       "grid_auto_rows": null,
       "grid_column": null,
       "grid_gap": null,
       "grid_row": null,
       "grid_template_areas": null,
       "grid_template_columns": null,
       "grid_template_rows": null,
       "height": null,
       "justify_content": null,
       "justify_items": null,
       "left": null,
       "margin": null,
       "max_height": null,
       "max_width": null,
       "min_height": null,
       "min_width": null,
       "object_fit": null,
       "object_position": null,
       "order": null,
       "overflow": null,
       "overflow_x": null,
       "overflow_y": null,
       "padding": null,
       "right": null,
       "top": null,
       "visibility": null,
       "width": null
      }
     },
     "437b3254e0fb43fbad9099ee8f05cd17": {
      "model_module": "@jupyter-widgets/controls",
      "model_module_version": "1.5.0",
      "model_name": "ProgressStyleModel",
      "state": {
       "_model_module": "@jupyter-widgets/controls",
       "_model_module_version": "1.5.0",
       "_model_name": "ProgressStyleModel",
       "_view_count": null,
       "_view_module": "@jupyter-widgets/base",
       "_view_module_version": "1.2.0",
       "_view_name": "StyleView",
       "bar_color": null,
       "description_width": ""
      }
     },
     "4482bff81e9d4f2da87d8576b0701554": {
      "model_module": "@jupyter-widgets/controls",
      "model_module_version": "1.5.0",
      "model_name": "HTMLModel",
      "state": {
       "_dom_classes": [],
       "_model_module": "@jupyter-widgets/controls",
       "_model_module_version": "1.5.0",
       "_model_name": "HTMLModel",
       "_view_count": null,
       "_view_module": "@jupyter-widgets/controls",
       "_view_module_version": "1.5.0",
       "_view_name": "HTMLView",
       "description": "",
       "description_tooltip": null,
       "layout": "IPY_MODEL_bf891a73f37f4f57ae860903e972f898",
       "placeholder": "​",
       "style": "IPY_MODEL_f4fccce92cd446a9ace55192ea76aad0",
       "value": " 466k/466k [00:00&lt;00:00, 2.39MB/s]"
      }
     },
     "4be3fd4061e7491a8e49da40d96d1172": {
      "model_module": "@jupyter-widgets/controls",
      "model_module_version": "1.5.0",
      "model_name": "HTMLModel",
      "state": {
       "_dom_classes": [],
       "_model_module": "@jupyter-widgets/controls",
       "_model_module_version": "1.5.0",
       "_model_name": "HTMLModel",
       "_view_count": null,
       "_view_module": "@jupyter-widgets/controls",
       "_view_module_version": "1.5.0",
       "_view_name": "HTMLView",
       "description": "",
       "description_tooltip": null,
       "layout": "IPY_MODEL_13c4d20e972a44d9b5ffc85d2d77debb",
       "placeholder": "​",
       "style": "IPY_MODEL_2a4d8264870e465ea0a1a3584f2eadb2",
       "value": "vocab.txt: 100%"
      }
     },
     "4ce558fd857449e99423e06906773fe0": {
      "model_module": "@jupyter-widgets/base",
      "model_module_version": "1.2.0",
      "model_name": "LayoutModel",
      "state": {
       "_model_module": "@jupyter-widgets/base",
       "_model_module_version": "1.2.0",
       "_model_name": "LayoutModel",
       "_view_count": null,
       "_view_module": "@jupyter-widgets/base",
       "_view_module_version": "1.2.0",
       "_view_name": "LayoutView",
       "align_content": null,
       "align_items": null,
       "align_self": null,
       "border": null,
       "bottom": null,
       "display": null,
       "flex": null,
       "flex_flow": null,
       "grid_area": null,
       "grid_auto_columns": null,
       "grid_auto_flow": null,
       "grid_auto_rows": null,
       "grid_column": null,
       "grid_gap": null,
       "grid_row": null,
       "grid_template_areas": null,
       "grid_template_columns": null,
       "grid_template_rows": null,
       "height": null,
       "justify_content": null,
       "justify_items": null,
       "left": null,
       "margin": null,
       "max_height": null,
       "max_width": null,
       "min_height": null,
       "min_width": null,
       "object_fit": null,
       "object_position": null,
       "order": null,
       "overflow": null,
       "overflow_x": null,
       "overflow_y": null,
       "padding": null,
       "right": null,
       "top": null,
       "visibility": null,
       "width": null
      }
     },
     "54a1b16ed7e14ed295181d4511c1bfe6": {
      "model_module": "@jupyter-widgets/controls",
      "model_module_version": "1.5.0",
      "model_name": "HTMLModel",
      "state": {
       "_dom_classes": [],
       "_model_module": "@jupyter-widgets/controls",
       "_model_module_version": "1.5.0",
       "_model_name": "HTMLModel",
       "_view_count": null,
       "_view_module": "@jupyter-widgets/controls",
       "_view_module_version": "1.5.0",
       "_view_name": "HTMLView",
       "description": "",
       "description_tooltip": null,
       "layout": "IPY_MODEL_7eeeb7cd4a8c4248862c542fc7cad208",
       "placeholder": "​",
       "style": "IPY_MODEL_3907924981a24a928687c5322414887c",
       "value": "config.json: 100%"
      }
     },
     "58f38bd228384f27aafed7fde8b1dd1b": {
      "model_module": "@jupyter-widgets/base",
      "model_module_version": "1.2.0",
      "model_name": "LayoutModel",
      "state": {
       "_model_module": "@jupyter-widgets/base",
       "_model_module_version": "1.2.0",
       "_model_name": "LayoutModel",
       "_view_count": null,
       "_view_module": "@jupyter-widgets/base",
       "_view_module_version": "1.2.0",
       "_view_name": "LayoutView",
       "align_content": null,
       "align_items": null,
       "align_self": null,
       "border": null,
       "bottom": null,
       "display": null,
       "flex": null,
       "flex_flow": null,
       "grid_area": null,
       "grid_auto_columns": null,
       "grid_auto_flow": null,
       "grid_auto_rows": null,
       "grid_column": null,
       "grid_gap": null,
       "grid_row": null,
       "grid_template_areas": null,
       "grid_template_columns": null,
       "grid_template_rows": null,
       "height": null,
       "justify_content": null,
       "justify_items": null,
       "left": null,
       "margin": null,
       "max_height": null,
       "max_width": null,
       "min_height": null,
       "min_width": null,
       "object_fit": null,
       "object_position": null,
       "order": null,
       "overflow": null,
       "overflow_x": null,
       "overflow_y": null,
       "padding": null,
       "right": null,
       "top": null,
       "visibility": null,
       "width": null
      }
     },
     "59266c63a92145f7b429fd7e10d726c7": {
      "model_module": "@jupyter-widgets/controls",
      "model_module_version": "1.5.0",
      "model_name": "HBoxModel",
      "state": {
       "_dom_classes": [],
       "_model_module": "@jupyter-widgets/controls",
       "_model_module_version": "1.5.0",
       "_model_name": "HBoxModel",
       "_view_count": null,
       "_view_module": "@jupyter-widgets/controls",
       "_view_module_version": "1.5.0",
       "_view_name": "HBoxView",
       "box_style": "",
       "children": [
        "IPY_MODEL_7cefd07e27fa4259ace5a3072b703fb2",
        "IPY_MODEL_f64530ac35264b55bcce8c3bb74d0f03",
        "IPY_MODEL_f23d7d57ded34383a21ff7f1fc418b15"
       ],
       "layout": "IPY_MODEL_f9c545fcad96433595ca372231d63d61"
      }
     },
     "59326fff7dcb4a8cbd162d9aeeb7ea27": {
      "model_module": "@jupyter-widgets/base",
      "model_module_version": "1.2.0",
      "model_name": "LayoutModel",
      "state": {
       "_model_module": "@jupyter-widgets/base",
       "_model_module_version": "1.2.0",
       "_model_name": "LayoutModel",
       "_view_count": null,
       "_view_module": "@jupyter-widgets/base",
       "_view_module_version": "1.2.0",
       "_view_name": "LayoutView",
       "align_content": null,
       "align_items": null,
       "align_self": null,
       "border": null,
       "bottom": null,
       "display": null,
       "flex": null,
       "flex_flow": null,
       "grid_area": null,
       "grid_auto_columns": null,
       "grid_auto_flow": null,
       "grid_auto_rows": null,
       "grid_column": null,
       "grid_gap": null,
       "grid_row": null,
       "grid_template_areas": null,
       "grid_template_columns": null,
       "grid_template_rows": null,
       "height": null,
       "justify_content": null,
       "justify_items": null,
       "left": null,
       "margin": null,
       "max_height": null,
       "max_width": null,
       "min_height": null,
       "min_width": null,
       "object_fit": null,
       "object_position": null,
       "order": null,
       "overflow": null,
       "overflow_x": null,
       "overflow_y": null,
       "padding": null,
       "right": null,
       "top": null,
       "visibility": null,
       "width": null
      }
     },
     "59eb2095a6b44a05b70990d3a78f565d": {
      "model_module": "@jupyter-widgets/controls",
      "model_module_version": "1.5.0",
      "model_name": "DescriptionStyleModel",
      "state": {
       "_model_module": "@jupyter-widgets/controls",
       "_model_module_version": "1.5.0",
       "_model_name": "DescriptionStyleModel",
       "_view_count": null,
       "_view_module": "@jupyter-widgets/base",
       "_view_module_version": "1.2.0",
       "_view_name": "StyleView",
       "description_width": ""
      }
     },
     "604c0626e83c4ea8906a65dce0ab27cc": {
      "model_module": "@jupyter-widgets/controls",
      "model_module_version": "1.5.0",
      "model_name": "HBoxModel",
      "state": {
       "_dom_classes": [],
       "_model_module": "@jupyter-widgets/controls",
       "_model_module_version": "1.5.0",
       "_model_name": "HBoxModel",
       "_view_count": null,
       "_view_module": "@jupyter-widgets/controls",
       "_view_module_version": "1.5.0",
       "_view_name": "HBoxView",
       "box_style": "",
       "children": [
        "IPY_MODEL_d0c9db8af32b49578d7bc1cbd1e1893f",
        "IPY_MODEL_a2bd5d4728cd44faa84e09b0ff715056",
        "IPY_MODEL_4482bff81e9d4f2da87d8576b0701554"
       ],
       "layout": "IPY_MODEL_0eafde0d18474147af9e716f3acc68bf"
      }
     },
     "6156184f75e24fef9f5bf9ca95025be5": {
      "model_module": "@jupyter-widgets/controls",
      "model_module_version": "1.5.0",
      "model_name": "ProgressStyleModel",
      "state": {
       "_model_module": "@jupyter-widgets/controls",
       "_model_module_version": "1.5.0",
       "_model_name": "ProgressStyleModel",
       "_view_count": null,
       "_view_module": "@jupyter-widgets/base",
       "_view_module_version": "1.2.0",
       "_view_name": "StyleView",
       "bar_color": null,
       "description_width": ""
      }
     },
     "641be09ba8da481eaf842f6748ce5fd9": {
      "model_module": "@jupyter-widgets/controls",
      "model_module_version": "1.5.0",
      "model_name": "DescriptionStyleModel",
      "state": {
       "_model_module": "@jupyter-widgets/controls",
       "_model_module_version": "1.5.0",
       "_model_name": "DescriptionStyleModel",
       "_view_count": null,
       "_view_module": "@jupyter-widgets/base",
       "_view_module_version": "1.2.0",
       "_view_name": "StyleView",
       "description_width": ""
      }
     },
     "657a62044fb049f2967d40ba18da5336": {
      "model_module": "@jupyter-widgets/base",
      "model_module_version": "1.2.0",
      "model_name": "LayoutModel",
      "state": {
       "_model_module": "@jupyter-widgets/base",
       "_model_module_version": "1.2.0",
       "_model_name": "LayoutModel",
       "_view_count": null,
       "_view_module": "@jupyter-widgets/base",
       "_view_module_version": "1.2.0",
       "_view_name": "LayoutView",
       "align_content": null,
       "align_items": null,
       "align_self": null,
       "border": null,
       "bottom": null,
       "display": null,
       "flex": null,
       "flex_flow": null,
       "grid_area": null,
       "grid_auto_columns": null,
       "grid_auto_flow": null,
       "grid_auto_rows": null,
       "grid_column": null,
       "grid_gap": null,
       "grid_row": null,
       "grid_template_areas": null,
       "grid_template_columns": null,
       "grid_template_rows": null,
       "height": null,
       "justify_content": null,
       "justify_items": null,
       "left": null,
       "margin": null,
       "max_height": null,
       "max_width": null,
       "min_height": null,
       "min_width": null,
       "object_fit": null,
       "object_position": null,
       "order": null,
       "overflow": null,
       "overflow_x": null,
       "overflow_y": null,
       "padding": null,
       "right": null,
       "top": null,
       "visibility": null,
       "width": null
      }
     },
     "672db4e5d0bf4cc3b244842f0ead09f6": {
      "model_module": "@jupyter-widgets/base",
      "model_module_version": "1.2.0",
      "model_name": "LayoutModel",
      "state": {
       "_model_module": "@jupyter-widgets/base",
       "_model_module_version": "1.2.0",
       "_model_name": "LayoutModel",
       "_view_count": null,
       "_view_module": "@jupyter-widgets/base",
       "_view_module_version": "1.2.0",
       "_view_name": "LayoutView",
       "align_content": null,
       "align_items": null,
       "align_self": null,
       "border": null,
       "bottom": null,
       "display": null,
       "flex": null,
       "flex_flow": null,
       "grid_area": null,
       "grid_auto_columns": null,
       "grid_auto_flow": null,
       "grid_auto_rows": null,
       "grid_column": null,
       "grid_gap": null,
       "grid_row": null,
       "grid_template_areas": null,
       "grid_template_columns": null,
       "grid_template_rows": null,
       "height": null,
       "justify_content": null,
       "justify_items": null,
       "left": null,
       "margin": null,
       "max_height": null,
       "max_width": null,
       "min_height": null,
       "min_width": null,
       "object_fit": null,
       "object_position": null,
       "order": null,
       "overflow": null,
       "overflow_x": null,
       "overflow_y": null,
       "padding": null,
       "right": null,
       "top": null,
       "visibility": null,
       "width": null
      }
     },
     "6dc433506cda455f985179c3117d16bd": {
      "model_module": "@jupyter-widgets/controls",
      "model_module_version": "1.5.0",
      "model_name": "DescriptionStyleModel",
      "state": {
       "_model_module": "@jupyter-widgets/controls",
       "_model_module_version": "1.5.0",
       "_model_name": "DescriptionStyleModel",
       "_view_count": null,
       "_view_module": "@jupyter-widgets/base",
       "_view_module_version": "1.2.0",
       "_view_name": "StyleView",
       "description_width": ""
      }
     },
     "7cefd07e27fa4259ace5a3072b703fb2": {
      "model_module": "@jupyter-widgets/controls",
      "model_module_version": "1.5.0",
      "model_name": "HTMLModel",
      "state": {
       "_dom_classes": [],
       "_model_module": "@jupyter-widgets/controls",
       "_model_module_version": "1.5.0",
       "_model_name": "HTMLModel",
       "_view_count": null,
       "_view_module": "@jupyter-widgets/controls",
       "_view_module_version": "1.5.0",
       "_view_name": "HTMLView",
       "description": "",
       "description_tooltip": null,
       "layout": "IPY_MODEL_317cb1280b2346c387ee4cdc305575ca",
       "placeholder": "​",
       "style": "IPY_MODEL_1eea475be35548f19c78820d82030306",
       "value": "tokenizer_config.json: 100%"
      }
     },
     "7eeeb7cd4a8c4248862c542fc7cad208": {
      "model_module": "@jupyter-widgets/base",
      "model_module_version": "1.2.0",
      "model_name": "LayoutModel",
      "state": {
       "_model_module": "@jupyter-widgets/base",
       "_model_module_version": "1.2.0",
       "_model_name": "LayoutModel",
       "_view_count": null,
       "_view_module": "@jupyter-widgets/base",
       "_view_module_version": "1.2.0",
       "_view_name": "LayoutView",
       "align_content": null,
       "align_items": null,
       "align_self": null,
       "border": null,
       "bottom": null,
       "display": null,
       "flex": null,
       "flex_flow": null,
       "grid_area": null,
       "grid_auto_columns": null,
       "grid_auto_flow": null,
       "grid_auto_rows": null,
       "grid_column": null,
       "grid_gap": null,
       "grid_row": null,
       "grid_template_areas": null,
       "grid_template_columns": null,
       "grid_template_rows": null,
       "height": null,
       "justify_content": null,
       "justify_items": null,
       "left": null,
       "margin": null,
       "max_height": null,
       "max_width": null,
       "min_height": null,
       "min_width": null,
       "object_fit": null,
       "object_position": null,
       "order": null,
       "overflow": null,
       "overflow_x": null,
       "overflow_y": null,
       "padding": null,
       "right": null,
       "top": null,
       "visibility": null,
       "width": null
      }
     },
     "a2bd5d4728cd44faa84e09b0ff715056": {
      "model_module": "@jupyter-widgets/controls",
      "model_module_version": "1.5.0",
      "model_name": "FloatProgressModel",
      "state": {
       "_dom_classes": [],
       "_model_module": "@jupyter-widgets/controls",
       "_model_module_version": "1.5.0",
       "_model_name": "FloatProgressModel",
       "_view_count": null,
       "_view_module": "@jupyter-widgets/controls",
       "_view_module_version": "1.5.0",
       "_view_name": "ProgressView",
       "bar_style": "success",
       "description": "",
       "description_tooltip": null,
       "layout": "IPY_MODEL_08822328e1964780ac9ff3893b01533c",
       "max": 466062.0,
       "min": 0.0,
       "orientation": "horizontal",
       "style": "IPY_MODEL_437b3254e0fb43fbad9099ee8f05cd17",
       "value": 466062.0
      }
     },
     "a38cb5226e4e4c4daa074be335008a75": {
      "model_module": "@jupyter-widgets/controls",
      "model_module_version": "1.5.0",
      "model_name": "HBoxModel",
      "state": {
       "_dom_classes": [],
       "_model_module": "@jupyter-widgets/controls",
       "_model_module_version": "1.5.0",
       "_model_name": "HBoxModel",
       "_view_count": null,
       "_view_module": "@jupyter-widgets/controls",
       "_view_module_version": "1.5.0",
       "_view_name": "HBoxView",
       "box_style": "",
       "children": [
        "IPY_MODEL_54a1b16ed7e14ed295181d4511c1bfe6",
        "IPY_MODEL_ca31924eeb6244e6859ea8be85fb7fed",
        "IPY_MODEL_b6b64d0eaddb4576844877f370647dd3"
       ],
       "layout": "IPY_MODEL_a91eecf283e84a559f81eb80e09d5e7a"
      }
     },
     "a91eecf283e84a559f81eb80e09d5e7a": {
      "model_module": "@jupyter-widgets/base",
      "model_module_version": "1.2.0",
      "model_name": "LayoutModel",
      "state": {
       "_model_module": "@jupyter-widgets/base",
       "_model_module_version": "1.2.0",
       "_model_name": "LayoutModel",
       "_view_count": null,
       "_view_module": "@jupyter-widgets/base",
       "_view_module_version": "1.2.0",
       "_view_name": "LayoutView",
       "align_content": null,
       "align_items": null,
       "align_self": null,
       "border": null,
       "bottom": null,
       "display": null,
       "flex": null,
       "flex_flow": null,
       "grid_area": null,
       "grid_auto_columns": null,
       "grid_auto_flow": null,
       "grid_auto_rows": null,
       "grid_column": null,
       "grid_gap": null,
       "grid_row": null,
       "grid_template_areas": null,
       "grid_template_columns": null,
       "grid_template_rows": null,
       "height": null,
       "justify_content": null,
       "justify_items": null,
       "left": null,
       "margin": null,
       "max_height": null,
       "max_width": null,
       "min_height": null,
       "min_width": null,
       "object_fit": null,
       "object_position": null,
       "order": null,
       "overflow": null,
       "overflow_x": null,
       "overflow_y": null,
       "padding": null,
       "right": null,
       "top": null,
       "visibility": null,
       "width": null
      }
     },
     "b6b64d0eaddb4576844877f370647dd3": {
      "model_module": "@jupyter-widgets/controls",
      "model_module_version": "1.5.0",
      "model_name": "HTMLModel",
      "state": {
       "_dom_classes": [],
       "_model_module": "@jupyter-widgets/controls",
       "_model_module_version": "1.5.0",
       "_model_name": "HTMLModel",
       "_view_count": null,
       "_view_module": "@jupyter-widgets/controls",
       "_view_module_version": "1.5.0",
       "_view_name": "HTMLView",
       "description": "",
       "description_tooltip": null,
       "layout": "IPY_MODEL_1d91241f3b944d8dbe10d52de8be626f",
       "placeholder": "​",
       "style": "IPY_MODEL_641be09ba8da481eaf842f6748ce5fd9",
       "value": " 570/570 [00:00&lt;00:00, 46.4kB/s]"
      }
     },
     "b6e125ceb0924a58add158cec328df7c": {
      "model_module": "@jupyter-widgets/base",
      "model_module_version": "1.2.0",
      "model_name": "LayoutModel",
      "state": {
       "_model_module": "@jupyter-widgets/base",
       "_model_module_version": "1.2.0",
       "_model_name": "LayoutModel",
       "_view_count": null,
       "_view_module": "@jupyter-widgets/base",
       "_view_module_version": "1.2.0",
       "_view_name": "LayoutView",
       "align_content": null,
       "align_items": null,
       "align_self": null,
       "border": null,
       "bottom": null,
       "display": null,
       "flex": null,
       "flex_flow": null,
       "grid_area": null,
       "grid_auto_columns": null,
       "grid_auto_flow": null,
       "grid_auto_rows": null,
       "grid_column": null,
       "grid_gap": null,
       "grid_row": null,
       "grid_template_areas": null,
       "grid_template_columns": null,
       "grid_template_rows": null,
       "height": null,
       "justify_content": null,
       "justify_items": null,
       "left": null,
       "margin": null,
       "max_height": null,
       "max_width": null,
       "min_height": null,
       "min_width": null,
       "object_fit": null,
       "object_position": null,
       "order": null,
       "overflow": null,
       "overflow_x": null,
       "overflow_y": null,
       "padding": null,
       "right": null,
       "top": null,
       "visibility": null,
       "width": null
      }
     },
     "b7bcba7ead5548928f22c2bc16df76e8": {
      "model_module": "@jupyter-widgets/base",
      "model_module_version": "1.2.0",
      "model_name": "LayoutModel",
      "state": {
       "_model_module": "@jupyter-widgets/base",
       "_model_module_version": "1.2.0",
       "_model_name": "LayoutModel",
       "_view_count": null,
       "_view_module": "@jupyter-widgets/base",
       "_view_module_version": "1.2.0",
       "_view_name": "LayoutView",
       "align_content": null,
       "align_items": null,
       "align_self": null,
       "border": null,
       "bottom": null,
       "display": null,
       "flex": null,
       "flex_flow": null,
       "grid_area": null,
       "grid_auto_columns": null,
       "grid_auto_flow": null,
       "grid_auto_rows": null,
       "grid_column": null,
       "grid_gap": null,
       "grid_row": null,
       "grid_template_areas": null,
       "grid_template_columns": null,
       "grid_template_rows": null,
       "height": null,
       "justify_content": null,
       "justify_items": null,
       "left": null,
       "margin": null,
       "max_height": null,
       "max_width": null,
       "min_height": null,
       "min_width": null,
       "object_fit": null,
       "object_position": null,
       "order": null,
       "overflow": null,
       "overflow_x": null,
       "overflow_y": null,
       "padding": null,
       "right": null,
       "top": null,
       "visibility": null,
       "width": null
      }
     },
     "bf36d2f1a2f14c7dae6412340cf3f768": {
      "model_module": "@jupyter-widgets/controls",
      "model_module_version": "1.5.0",
      "model_name": "DescriptionStyleModel",
      "state": {
       "_model_module": "@jupyter-widgets/controls",
       "_model_module_version": "1.5.0",
       "_model_name": "DescriptionStyleModel",
       "_view_count": null,
       "_view_module": "@jupyter-widgets/base",
       "_view_module_version": "1.2.0",
       "_view_name": "StyleView",
       "description_width": ""
      }
     },
     "bf891a73f37f4f57ae860903e972f898": {
      "model_module": "@jupyter-widgets/base",
      "model_module_version": "1.2.0",
      "model_name": "LayoutModel",
      "state": {
       "_model_module": "@jupyter-widgets/base",
       "_model_module_version": "1.2.0",
       "_model_name": "LayoutModel",
       "_view_count": null,
       "_view_module": "@jupyter-widgets/base",
       "_view_module_version": "1.2.0",
       "_view_name": "LayoutView",
       "align_content": null,
       "align_items": null,
       "align_self": null,
       "border": null,
       "bottom": null,
       "display": null,
       "flex": null,
       "flex_flow": null,
       "grid_area": null,
       "grid_auto_columns": null,
       "grid_auto_flow": null,
       "grid_auto_rows": null,
       "grid_column": null,
       "grid_gap": null,
       "grid_row": null,
       "grid_template_areas": null,
       "grid_template_columns": null,
       "grid_template_rows": null,
       "height": null,
       "justify_content": null,
       "justify_items": null,
       "left": null,
       "margin": null,
       "max_height": null,
       "max_width": null,
       "min_height": null,
       "min_width": null,
       "object_fit": null,
       "object_position": null,
       "order": null,
       "overflow": null,
       "overflow_x": null,
       "overflow_y": null,
       "padding": null,
       "right": null,
       "top": null,
       "visibility": null,
       "width": null
      }
     },
     "ca2d032f856a45c7902d994e205cc16b": {
      "model_module": "@jupyter-widgets/controls",
      "model_module_version": "1.5.0",
      "model_name": "HBoxModel",
      "state": {
       "_dom_classes": [],
       "_model_module": "@jupyter-widgets/controls",
       "_model_module_version": "1.5.0",
       "_model_name": "HBoxModel",
       "_view_count": null,
       "_view_module": "@jupyter-widgets/controls",
       "_view_module_version": "1.5.0",
       "_view_name": "HBoxView",
       "box_style": "",
       "children": [
        "IPY_MODEL_4be3fd4061e7491a8e49da40d96d1172",
        "IPY_MODEL_d48accceedc64c41ab95d193c07a4c61",
        "IPY_MODEL_e3e05ffb4ee4462499efbbb3312b0da7"
       ],
       "layout": "IPY_MODEL_58f38bd228384f27aafed7fde8b1dd1b"
      }
     },
     "ca2da8debe684617830bf0a0a274d4f2": {
      "model_module": "@jupyter-widgets/controls",
      "model_module_version": "1.5.0",
      "model_name": "DescriptionStyleModel",
      "state": {
       "_model_module": "@jupyter-widgets/controls",
       "_model_module_version": "1.5.0",
       "_model_name": "DescriptionStyleModel",
       "_view_count": null,
       "_view_module": "@jupyter-widgets/base",
       "_view_module_version": "1.2.0",
       "_view_name": "StyleView",
       "description_width": ""
      }
     },
     "ca31924eeb6244e6859ea8be85fb7fed": {
      "model_module": "@jupyter-widgets/controls",
      "model_module_version": "1.5.0",
      "model_name": "FloatProgressModel",
      "state": {
       "_dom_classes": [],
       "_model_module": "@jupyter-widgets/controls",
       "_model_module_version": "1.5.0",
       "_model_name": "FloatProgressModel",
       "_view_count": null,
       "_view_module": "@jupyter-widgets/controls",
       "_view_module_version": "1.5.0",
       "_view_name": "ProgressView",
       "bar_style": "success",
       "description": "",
       "description_tooltip": null,
       "layout": "IPY_MODEL_672db4e5d0bf4cc3b244842f0ead09f6",
       "max": 570.0,
       "min": 0.0,
       "orientation": "horizontal",
       "style": "IPY_MODEL_de735ab12d804f979fe65ef2dc127b92",
       "value": 570.0
      }
     },
     "cd041e58ccc7439fb28109d4b6a98521": {
      "model_module": "@jupyter-widgets/controls",
      "model_module_version": "1.5.0",
      "model_name": "HTMLModel",
      "state": {
       "_dom_classes": [],
       "_model_module": "@jupyter-widgets/controls",
       "_model_module_version": "1.5.0",
       "_model_name": "HTMLModel",
       "_view_count": null,
       "_view_module": "@jupyter-widgets/controls",
       "_view_module_version": "1.5.0",
       "_view_name": "HTMLView",
       "description": "",
       "description_tooltip": null,
       "layout": "IPY_MODEL_f39818d055904666bb4d416bd0af5bb9",
       "placeholder": "​",
       "style": "IPY_MODEL_bf36d2f1a2f14c7dae6412340cf3f768",
       "value": " 440M/440M [00:01&lt;00:00, 299MB/s]"
      }
     },
     "d0c9db8af32b49578d7bc1cbd1e1893f": {
      "model_module": "@jupyter-widgets/controls",
      "model_module_version": "1.5.0",
      "model_name": "HTMLModel",
      "state": {
       "_dom_classes": [],
       "_model_module": "@jupyter-widgets/controls",
       "_model_module_version": "1.5.0",
       "_model_name": "HTMLModel",
       "_view_count": null,
       "_view_module": "@jupyter-widgets/controls",
       "_view_module_version": "1.5.0",
       "_view_name": "HTMLView",
       "description": "",
       "description_tooltip": null,
       "layout": "IPY_MODEL_b7bcba7ead5548928f22c2bc16df76e8",
       "placeholder": "​",
       "style": "IPY_MODEL_6dc433506cda455f985179c3117d16bd",
       "value": "tokenizer.json: 100%"
      }
     },
     "d48accceedc64c41ab95d193c07a4c61": {
      "model_module": "@jupyter-widgets/controls",
      "model_module_version": "1.5.0",
      "model_name": "FloatProgressModel",
      "state": {
       "_dom_classes": [],
       "_model_module": "@jupyter-widgets/controls",
       "_model_module_version": "1.5.0",
       "_model_name": "FloatProgressModel",
       "_view_count": null,
       "_view_module": "@jupyter-widgets/controls",
       "_view_module_version": "1.5.0",
       "_view_name": "ProgressView",
       "bar_style": "success",
       "description": "",
       "description_tooltip": null,
       "layout": "IPY_MODEL_59326fff7dcb4a8cbd162d9aeeb7ea27",
       "max": 231508.0,
       "min": 0.0,
       "orientation": "horizontal",
       "style": "IPY_MODEL_6156184f75e24fef9f5bf9ca95025be5",
       "value": 231508.0
      }
     },
     "d5dfd91972cc44eca16fdea7388995e1": {
      "model_module": "@jupyter-widgets/controls",
      "model_module_version": "1.5.0",
      "model_name": "FloatProgressModel",
      "state": {
       "_dom_classes": [],
       "_model_module": "@jupyter-widgets/controls",
       "_model_module_version": "1.5.0",
       "_model_name": "FloatProgressModel",
       "_view_count": null,
       "_view_module": "@jupyter-widgets/controls",
       "_view_module_version": "1.5.0",
       "_view_name": "ProgressView",
       "bar_style": "success",
       "description": "",
       "description_tooltip": null,
       "layout": "IPY_MODEL_4ce558fd857449e99423e06906773fe0",
       "max": 440449768.0,
       "min": 0.0,
       "orientation": "horizontal",
       "style": "IPY_MODEL_2ae126c8d5544657b6c7bdd3281f1bee",
       "value": 440449768.0
      }
     },
     "d8610b76b35343dca1914c21bd728a95": {
      "model_module": "@jupyter-widgets/controls",
      "model_module_version": "1.5.0",
      "model_name": "HTMLModel",
      "state": {
       "_dom_classes": [],
       "_model_module": "@jupyter-widgets/controls",
       "_model_module_version": "1.5.0",
       "_model_name": "HTMLModel",
       "_view_count": null,
       "_view_module": "@jupyter-widgets/controls",
       "_view_module_version": "1.5.0",
       "_view_name": "HTMLView",
       "description": "",
       "description_tooltip": null,
       "layout": "IPY_MODEL_1a50a8ae0a864b979f335e17aabc4d61",
       "placeholder": "​",
       "style": "IPY_MODEL_59eb2095a6b44a05b70990d3a78f565d",
       "value": "model.safetensors: 100%"
      }
     },
     "de735ab12d804f979fe65ef2dc127b92": {
      "model_module": "@jupyter-widgets/controls",
      "model_module_version": "1.5.0",
      "model_name": "ProgressStyleModel",
      "state": {
       "_model_module": "@jupyter-widgets/controls",
       "_model_module_version": "1.5.0",
       "_model_name": "ProgressStyleModel",
       "_view_count": null,
       "_view_module": "@jupyter-widgets/base",
       "_view_module_version": "1.2.0",
       "_view_name": "StyleView",
       "bar_color": null,
       "description_width": ""
      }
     },
     "e3e05ffb4ee4462499efbbb3312b0da7": {
      "model_module": "@jupyter-widgets/controls",
      "model_module_version": "1.5.0",
      "model_name": "HTMLModel",
      "state": {
       "_dom_classes": [],
       "_model_module": "@jupyter-widgets/controls",
       "_model_module_version": "1.5.0",
       "_model_name": "HTMLModel",
       "_view_count": null,
       "_view_module": "@jupyter-widgets/controls",
       "_view_module_version": "1.5.0",
       "_view_name": "HTMLView",
       "description": "",
       "description_tooltip": null,
       "layout": "IPY_MODEL_3cf329d4690c4ffaa1c2d16f2a4c0b99",
       "placeholder": "​",
       "style": "IPY_MODEL_0490881157c549469e8dccc20d9d9bf1",
       "value": " 232k/232k [00:00&lt;00:00, 3.86MB/s]"
      }
     },
     "f23d7d57ded34383a21ff7f1fc418b15": {
      "model_module": "@jupyter-widgets/controls",
      "model_module_version": "1.5.0",
      "model_name": "HTMLModel",
      "state": {
       "_dom_classes": [],
       "_model_module": "@jupyter-widgets/controls",
       "_model_module_version": "1.5.0",
       "_model_name": "HTMLModel",
       "_view_count": null,
       "_view_module": "@jupyter-widgets/controls",
       "_view_module_version": "1.5.0",
       "_view_name": "HTMLView",
       "description": "",
       "description_tooltip": null,
       "layout": "IPY_MODEL_1d136e636a8041e7867105137f1cd639",
       "placeholder": "​",
       "style": "IPY_MODEL_ca2da8debe684617830bf0a0a274d4f2",
       "value": " 48.0/48.0 [00:00&lt;00:00, 3.72kB/s]"
      }
     },
     "f39818d055904666bb4d416bd0af5bb9": {
      "model_module": "@jupyter-widgets/base",
      "model_module_version": "1.2.0",
      "model_name": "LayoutModel",
      "state": {
       "_model_module": "@jupyter-widgets/base",
       "_model_module_version": "1.2.0",
       "_model_name": "LayoutModel",
       "_view_count": null,
       "_view_module": "@jupyter-widgets/base",
       "_view_module_version": "1.2.0",
       "_view_name": "LayoutView",
       "align_content": null,
       "align_items": null,
       "align_self": null,
       "border": null,
       "bottom": null,
       "display": null,
       "flex": null,
       "flex_flow": null,
       "grid_area": null,
       "grid_auto_columns": null,
       "grid_auto_flow": null,
       "grid_auto_rows": null,
       "grid_column": null,
       "grid_gap": null,
       "grid_row": null,
       "grid_template_areas": null,
       "grid_template_columns": null,
       "grid_template_rows": null,
       "height": null,
       "justify_content": null,
       "justify_items": null,
       "left": null,
       "margin": null,
       "max_height": null,
       "max_width": null,
       "min_height": null,
       "min_width": null,
       "object_fit": null,
       "object_position": null,
       "order": null,
       "overflow": null,
       "overflow_x": null,
       "overflow_y": null,
       "padding": null,
       "right": null,
       "top": null,
       "visibility": null,
       "width": null
      }
     },
     "f4fccce92cd446a9ace55192ea76aad0": {
      "model_module": "@jupyter-widgets/controls",
      "model_module_version": "1.5.0",
      "model_name": "DescriptionStyleModel",
      "state": {
       "_model_module": "@jupyter-widgets/controls",
       "_model_module_version": "1.5.0",
       "_model_name": "DescriptionStyleModel",
       "_view_count": null,
       "_view_module": "@jupyter-widgets/base",
       "_view_module_version": "1.2.0",
       "_view_name": "StyleView",
       "description_width": ""
      }
     },
     "f64530ac35264b55bcce8c3bb74d0f03": {
      "model_module": "@jupyter-widgets/controls",
      "model_module_version": "1.5.0",
      "model_name": "FloatProgressModel",
      "state": {
       "_dom_classes": [],
       "_model_module": "@jupyter-widgets/controls",
       "_model_module_version": "1.5.0",
       "_model_name": "FloatProgressModel",
       "_view_count": null,
       "_view_module": "@jupyter-widgets/controls",
       "_view_module_version": "1.5.0",
       "_view_name": "ProgressView",
       "bar_style": "success",
       "description": "",
       "description_tooltip": null,
       "layout": "IPY_MODEL_657a62044fb049f2967d40ba18da5336",
       "max": 48.0,
       "min": 0.0,
       "orientation": "horizontal",
       "style": "IPY_MODEL_129a85c39bde4504813cf25a7a36c5f6",
       "value": 48.0
      }
     },
     "f9c545fcad96433595ca372231d63d61": {
      "model_module": "@jupyter-widgets/base",
      "model_module_version": "1.2.0",
      "model_name": "LayoutModel",
      "state": {
       "_model_module": "@jupyter-widgets/base",
       "_model_module_version": "1.2.0",
       "_model_name": "LayoutModel",
       "_view_count": null,
       "_view_module": "@jupyter-widgets/base",
       "_view_module_version": "1.2.0",
       "_view_name": "LayoutView",
       "align_content": null,
       "align_items": null,
       "align_self": null,
       "border": null,
       "bottom": null,
       "display": null,
       "flex": null,
       "flex_flow": null,
       "grid_area": null,
       "grid_auto_columns": null,
       "grid_auto_flow": null,
       "grid_auto_rows": null,
       "grid_column": null,
       "grid_gap": null,
       "grid_row": null,
       "grid_template_areas": null,
       "grid_template_columns": null,
       "grid_template_rows": null,
       "height": null,
       "justify_content": null,
       "justify_items": null,
       "left": null,
       "margin": null,
       "max_height": null,
       "max_width": null,
       "min_height": null,
       "min_width": null,
       "object_fit": null,
       "object_position": null,
       "order": null,
       "overflow": null,
       "overflow_x": null,
       "overflow_y": null,
       "padding": null,
       "right": null,
       "top": null,
       "visibility": null,
       "width": null
      }
     },
     "fdfeadba49524d9382d5c15f47fb18ab": {
      "model_module": "@jupyter-widgets/controls",
      "model_module_version": "1.5.0",
      "model_name": "HBoxModel",
      "state": {
       "_dom_classes": [],
       "_model_module": "@jupyter-widgets/controls",
       "_model_module_version": "1.5.0",
       "_model_name": "HBoxModel",
       "_view_count": null,
       "_view_module": "@jupyter-widgets/controls",
       "_view_module_version": "1.5.0",
       "_view_name": "HBoxView",
       "box_style": "",
       "children": [
        "IPY_MODEL_d8610b76b35343dca1914c21bd728a95",
        "IPY_MODEL_d5dfd91972cc44eca16fdea7388995e1",
        "IPY_MODEL_cd041e58ccc7439fb28109d4b6a98521"
       ],
       "layout": "IPY_MODEL_b6e125ceb0924a58add158cec328df7c"
      }
     }
    },
    "version_major": 2,
    "version_minor": 0
   }
  }
 },
 "nbformat": 4,
 "nbformat_minor": 5
}
